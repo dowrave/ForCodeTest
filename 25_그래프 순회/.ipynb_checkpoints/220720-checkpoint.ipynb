{
 "cells": [
  {
   "cell_type": "markdown",
   "id": "0d935ffa-b216-49d6-adbc-30eed2e7fd17",
   "metadata": {},
   "source": [
    "# 7576번 : 토마토\n",
    "- 시작점이 여러 개인 경우가 추가된 문제\n",
    "    - bfs를 시작하기 전에 dq에 시작점을 모조리 담는 방법을 쓸 수 있음\n",
    "    - 헷갈린 곳 : 날짜를 어떻게 세줄까.. 였는데 <b>이전 지점 값에 +1</b> 해주면 되는 거였다.\n"
   ]
  },
  {
   "cell_type": "code",
   "execution_count": 35,
   "id": "5dee3061-19e0-4e74-8b20-1e52c5002b79",
   "metadata": {},
   "outputs": [
    {
     "name": "stdout",
     "output_type": "stream",
     "text": [
      "14\n"
     ]
    }
   ],
   "source": [
    "import sys\n",
    "from collections import deque\n",
    "sys.stdin = open('test.txt', 'r')\n",
    "input = sys.stdin.readline\n",
    "n, m = map(int, input().rstrip().split())\n",
    "\n",
    "graph = []\n",
    "for _ in range(m):\n",
    "    graph.append(list(map(int, input().rstrip().split())))\n",
    "\n",
    "moves = [(1, 0), (-1, 0), (0, 1), (0, -1)]\n",
    "dq = deque()\n",
    "\n",
    "def bfs(graph):\n",
    "    global days\n",
    "    # 1. 현재 그래프에서 모든 1이라는 점을 dq에 담음\n",
    "    for i in range(m):\n",
    "        for j in range(n):\n",
    "            if graph[i][j] == 1:\n",
    "                dq.append((i, j))\n",
    "\n",
    "    \n",
    "    # 2. bfs 구현\n",
    "    while dq:\n",
    "\n",
    "        a, b = dq.popleft()\n",
    "        for move in moves:\n",
    "            da = a + move[0]\n",
    "            db = b + move[1]\n",
    "            \n",
    "            if 0 <= da < m and 0 <= db < n: \n",
    "                if graph[da][db] == -1:\n",
    "                    continue\n",
    "                \n",
    "                if graph[da][db] == 0:\n",
    "                    dq.append((da, db))\n",
    "                    graph[da][db] = graph[a][b] + 1\n",
    "                    \n",
    "    # 3. 마지막 탐색\n",
    "    loop = True\n",
    "    max_val = 0\n",
    "    \n",
    "    for i in graph:\n",
    "        for j in i:\n",
    "            if j > max_val:\n",
    "                max_val = j\n",
    "            if j == 0:\n",
    "                loop = False\n",
    "                break\n",
    "        if loop == False:\n",
    "            break\n",
    "    \n",
    "    if loop == False:\n",
    "        print(-1)\n",
    "    else:\n",
    "        print(max_val - 1)\n",
    "        \n",
    "        \n",
    "    \n",
    "bfs(graph)\n",
    "\n",
    "# 탐색을 마쳤을 때 0이 남아있다면 모두 탐색하지 못한 거니까 -1 반환\n",
    "# 아니라면 최댓값 - 1\n"
   ]
  },
  {
   "cell_type": "code",
   "execution_count": 36,
   "id": "db755947-b24c-4d2b-b535-acd98d6ec111",
   "metadata": {},
   "outputs": [
    {
     "name": "stdout",
     "output_type": "stream",
     "text": [
      "14\n"
     ]
    }
   ],
   "source": [
    "bfs(graph)"
   ]
  },
  {
   "cell_type": "markdown",
   "id": "2f8471a8-87e4-43a2-9db1-1954bcd39383",
   "metadata": {},
   "source": [
    "# 7569 : 토마토\n",
    "- 위 문제의 3차원 버전\n",
    "- 주어진 3개의 숫자 차원을 리스트로 구현할 때 어떻게 들어가는 지 잘 생각하자\n",
    "    - 사실 보통 `가로 세로 높이`로 주어진다면 인덱싱할 때는 `높이 세로 가로` 순으로 들어감\n",
    "    - 뒤집는다 라고 생각하면 편하다."
   ]
  },
  {
   "cell_type": "code",
   "execution_count": 69,
   "id": "0e28500a-cd86-447a-80ec-ee724a8c6eb8",
   "metadata": {},
   "outputs": [],
   "source": [
    "import sys\n",
    "from collections import deque\n",
    "sys.stdin = open('test.txt', 'r')\n",
    "input = sys.stdin.readline\n",
    "n, m, h = map(int, input().rstrip().split())\n",
    "\n",
    "graph = []\n",
    "a = []\n",
    "\n",
    "for _ in range(h):\n",
    "    for _ in range(m):\n",
    "        a.append(list(map(int, input().rstrip().split())))\n",
    "    graph.append(a)\n",
    "    a = []\n",
    "    \n",
    "moves = [(1, 0, 0), (0, 1, 0), (0, 0, 1), (-1, 0, 0), (0, -1, 0), (0, 0, -1)]\n",
    "dq = deque()\n",
    "\n",
    "def bfs(graph):\n",
    "    \n",
    "    # 1. 최초 1값들 dq에 넣기\n",
    "    for i in range(h):\n",
    "        for j in range(m):\n",
    "            for k in range(n):\n",
    "                if graph[i][j][k] == 1:\n",
    "                    dq.append((i, j, k))\n",
    "                    \n",
    "    # 2. bfs\n",
    "    while dq:\n",
    "        a, b, c = dq.popleft()\n",
    "        for move in moves:\n",
    "            da = a + move[0]\n",
    "            db = b + move[1]\n",
    "            dc = c + move[2]\n",
    "            if 0 <= da < h and 0 <= db < m and 0 <= dc < n:\n",
    "                if graph[da][db][dc] == -1:\n",
    "                    continue\n",
    "                elif graph[da][db][dc] == 0:\n",
    "                    dq.append((da, db, dc))\n",
    "                    graph[da][db][dc] = graph[a][b][c] + 1\n",
    "\n",
    "    # 3. 마지막 검사\n",
    "    zero = False\n",
    "    max_val = 0\n",
    "    for i in graph:\n",
    "        for j in i:\n",
    "            for k in j:\n",
    "                if k > max_val:\n",
    "                    max_val = k\n",
    "                if k == 0:\n",
    "                    zero = True\n",
    "                    break\n",
    "            if zero == True:\n",
    "                break\n",
    "        if zero == True:\n",
    "            print(-1)\n",
    "            break\n",
    "    \n",
    "    if zero == False:\n",
    "        return print(max_val - 1)\n",
    "                "
   ]
  },
  {
   "cell_type": "code",
   "execution_count": 70,
   "id": "83cf4626-ee32-450c-befb-4e4fa209970d",
   "metadata": {},
   "outputs": [
    {
     "name": "stdout",
     "output_type": "stream",
     "text": [
      "0\n"
     ]
    }
   ],
   "source": [
    "bfs(graph)"
   ]
  },
  {
   "cell_type": "code",
   "execution_count": 71,
   "id": "ddc37bee-cbae-4a3f-b4fc-a65efc13fb57",
   "metadata": {},
   "outputs": [
    {
     "name": "stdout",
     "output_type": "stream",
     "text": [
      "[[[1, 1, 1, 1], [1, 1, 1, 1], [1, 1, 1, 1]], [[1, 1, 1, 1], [-1, -1, -1, -1], [1, 1, 1, -1]]]\n"
     ]
    }
   ],
   "source": [
    "print(graph)"
   ]
  },
  {
   "cell_type": "markdown",
   "id": "e349843f-41ce-4891-90b6-7ade43d97ca3",
   "metadata": {},
   "source": [
    "# 1697번 : 숨바꼭질\n",
    "- n, k는 0부터 10만까지\n",
    "- 움직이는 경우의 수는 1초마다 -1, +1, *2 이다\n",
    "- 몇 초만에 찾을 수 있을까요?\n",
    "\n",
    "### 메모리 초과 다루기\n",
    "1. 현재 a[0] 값이 목표값보다 큰 경우 : -1밖에 들어갈 게 없으니 +1, *2 연산을 빼줌\n",
    "2. +1과 -1이 계속 반복될 수 있겠다\n",
    "    - 별도의 temp를 만들긴 했는데 이건 아닌 거 같고..\n",
    "    - 답을 한번 봐야 할 듯"
   ]
  },
  {
   "cell_type": "code",
   "execution_count": null,
   "id": "156ddbdc-95a9-4cba-92cd-44042da49ed4",
   "metadata": {},
   "outputs": [],
   "source": [
    "import sys\n",
    "from collections import deque\n",
    "sys.stdin = open('test.txt', 'r')\n",
    "input = sys.stdin.readline\n",
    "n, k = map(int, input().split())\n",
    "dq = deque()\n",
    "\n",
    "\n",
    "def bfs(now, target):\n",
    "    \n",
    "    # 1. dq에 데이터 넣기\n",
    "    dq.append((now, 0))\n",
    "    \n",
    "    # 2. bfs \n",
    "\n",
    "    while dq:\n",
    "        a = dq.popleft()\n",
    "        \n",
    "        temp = [i[0] for i in dq]\n",
    "        if a[0] > target: \n",
    "            if a[0] - 1 == target:\n",
    "                return print(a[1] + 1)\n",
    "            if a[0] - 1 not in temp:\n",
    "                dq.append((a[0] - 1, a[1] + 1))\n",
    "\n",
    "        else: \n",
    "            \n",
    "            if a[0] + 1 == target or 2*a[0] == target or a[0] - 1 == target:\n",
    "                return print(a[1] + 1)\n",
    "            \n",
    "            # 새로 추가할 값이 이미 dq 내에 있음 & 그 깊이도 이번에 추가할 값보다 작다면 재낌\n",
    "\n",
    "            if a[0] + 1 not in temp and a[0] + 1 <= 100000:\n",
    "                dq.append((a[0] + 1, a[1] + 1))\n",
    "            if a[0] - 1 not in temp and a[0] - 1 >= 0:\n",
    "                dq.append((a[0] - 1, a[1] + 1))\n",
    "            if 2*a[0] not in temp:\n",
    "                dq.append((2*a[0], a[1] + 1))\n",
    "\n",
    "bfs(n, k)"
   ]
  },
  {
   "cell_type": "markdown",
   "id": "325c83ca-8535-4c6e-b8ee-fbb3dcc7c369",
   "metadata": {},
   "source": [
    "### 답 아이디어 참고로 직접 구현해봄\n",
    "- BFS는 방문 리스트를 구현해야 하는데, 이전 문제에서는 방문 리스트를 그래프 위에 구현하는 방식이었다\n",
    "- 이 경우 0부터 10만까지 겹치는 값이 없기 떄문에 별도의 리스트를 이용해 방문 리스트를 구현할 수 있다\n",
    "- 내가 너무 복잡하게 생각하는 거 같음"
   ]
  },
  {
   "cell_type": "code",
   "execution_count": 144,
   "id": "0609c463-2819-44eb-8ee0-f5ea2406e462",
   "metadata": {},
   "outputs": [
    {
     "name": "stdout",
     "output_type": "stream",
     "text": [
      "4\n"
     ]
    }
   ],
   "source": [
    "import sys\n",
    "from collections import deque\n",
    "sys.stdin = open('test.txt', 'r')\n",
    "input = sys.stdin.readline\n",
    "\n",
    "n, k = map(int, input().split())\n",
    "dq = deque()\n",
    "visited = [0] * (int(1e5) + 1)\n",
    "\n",
    "def bfs(n, k):\n",
    "    dq.append(n)\n",
    "    visited[n] = 0\n",
    "    \n",
    "    while dq:\n",
    "        a = dq.popleft()\n",
    "        \n",
    "        if a == k:\n",
    "            return print(visited[a])\n",
    "        for i in [a-1, a+1, a*2]:\n",
    "            if 0 <= i <= int(1e5) and visited[i] == 0:\n",
    "                dq.append(i)\n",
    "                visited[i] = visited[a] + 1\n",
    "                \n",
    "\n",
    "\n",
    "bfs(n, k)"
   ]
  },
  {
   "cell_type": "markdown",
   "id": "57c312c5-cd6c-4a62-a6c9-5e6ccb65327c",
   "metadata": {},
   "source": [
    "# 7562 : 나이트의 이동"
   ]
  },
  {
   "cell_type": "code",
   "execution_count": 150,
   "id": "b64b912b-5235-4c0d-ab61-6e7b89f0bbfb",
   "metadata": {},
   "outputs": [
    {
     "name": "stdout",
     "output_type": "stream",
     "text": [
      "5\n",
      "28\n",
      "0\n"
     ]
    }
   ],
   "source": [
    "import sys\n",
    "from collections import deque\n",
    "sys.stdin = open('test.txt', 'r')\n",
    "input = sys.stdin.readline\n",
    "\n",
    "t = int(input())\n",
    "moves = [(1, 2), (-1, 2), (-1, -2), (1, -2), (2, 1), (2, -1), (-2, 1), (-2, -1)]\n",
    "\n",
    "\n",
    "def bfs(now, target, n):\n",
    "\n",
    "    dq = deque()\n",
    "    graph = [[-1] * n for _ in range(n)]\n",
    "    dq.append(now)\n",
    "    graph[now[0]][now[1]] = 0\n",
    "    \n",
    "    while dq:\n",
    "        a = dq.popleft()\n",
    "        \n",
    "        for move in moves:\n",
    "            di = a[0] + move[0]\n",
    "            dj = a[1] + move[1]\n",
    "            if 0 <= di < n and 0 <= dj < n and graph[di][dj] == -1:\n",
    "                dq.append((di, dj))\n",
    "                graph[di][dj] = graph[a[0]][a[1]] + 1\n",
    "                \n",
    "            if (di, dj) == target:\n",
    "                return print(graph[di][dj])\n",
    "    \n",
    "    \n",
    "for _ in range(t):\n",
    "    i = int(input())\n",
    "    now = tuple(map(int, input().split()))\n",
    "    target = tuple(map(int, input().split()))\n",
    "    bfs(now, target, i)\n",
    "    "
   ]
  },
  {
   "cell_type": "markdown",
   "id": "883839d6-9534-4989-a176-40ed67a06d89",
   "metadata": {},
   "source": [
    "## 16928번 : 뱀과 사다리 게임"
   ]
  },
  {
   "cell_type": "code",
   "execution_count": 165,
   "id": "94886e80-0104-44c2-a48f-f700b237110c",
   "metadata": {},
   "outputs": [
    {
     "name": "stdout",
     "output_type": "stream",
     "text": [
      "3\n"
     ]
    }
   ],
   "source": [
    "import sys\n",
    "from collections import deque\n",
    "sys.stdin = open('test.txt', 'r')\n",
    "input = sys.stdin.readline\n",
    "\n",
    "TOTAL = 100\n",
    "moves = [i for i in range(1, 7)]\n",
    "forced_move = [i for i in range(TOTAL + 1)]\n",
    "visited = [0 for _ in range(TOTAL + 1)]\n",
    "\n",
    "\n",
    "n, m = map(int, input().split())\n",
    "for _ in range(n + m):\n",
    "    left, right = map(int, input().split())\n",
    "    forced_move[left] = right\n",
    "\n",
    "dq = deque()\n",
    "    \n",
    "def bfs():\n",
    "    \n",
    "    dq.append(1)\n",
    "    \n",
    "    while dq:\n",
    "        a = dq.popleft()\n",
    "        for move in moves:\n",
    "            da = forced_move[a + move] # 사다리 & 뱀이 동시에 오는 곳이 없기 때문에 이런 식으로 해도 될 것 같음\n",
    "            if visited[da] == 0:\n",
    "                visited[da] = visited[a] + 1\n",
    "                dq.append(da)\n",
    "\n",
    "            if da == 100:\n",
    "                return print(visited[da])\n",
    "\n",
    "bfs()"
   ]
  },
  {
   "cell_type": "markdown",
   "id": "a17b3056-816e-4c2d-97a8-957a328ee8a8",
   "metadata": {},
   "source": [
    "# 2206 : 벽 부수고 탈출하기\n",
    "- n * m 의 행렬\n",
    "    - 0 은 벽이 있고 1은 벽이 없다\n",
    "    - 벽은 1개까지 부술 수 있다\n",
    "- (1,1) 부터 (n,m)까지의 최소 거리를 측정\n",
    "    - 최소 거리 = 지나온 칸의 경로 수 (0칸이어도 1)\n",
    "   "
   ]
  },
  {
   "cell_type": "code",
   "execution_count": 255,
   "id": "f921486c-dc49-4017-93df-533b37af38ae",
   "metadata": {},
   "outputs": [
    {
     "name": "stdout",
     "output_type": "stream",
     "text": [
      "deque([(1, 0, False), (0, 1, True)])\n",
      "deque([(0, 1, True), (2, 0, False)])\n",
      "deque([(2, 0, False), (1, 1, False), (0, 2, False)])\n",
      "deque([(1, 1, False), (0, 2, False), (3, 0, False), (2, 1, False)])\n",
      "deque([(0, 2, False), (3, 0, False), (2, 1, False), (1, 2, False)])\n",
      "deque([(3, 0, False), (2, 1, False), (1, 2, False), (0, 3, False)])\n",
      "deque([(2, 1, False), (1, 2, False), (0, 3, False), (4, 0, False)])\n",
      "deque([(1, 2, False), (0, 3, False), (4, 0, False)])\n",
      "deque([(0, 3, False), (4, 0, False), (1, 3, False)])\n",
      "deque([(4, 0, False), (1, 3, False), (0, 4, False)])\n",
      "deque([(1, 3, False), (0, 4, False), (4, 1, False)])\n",
      "deque([(0, 4, False), (4, 1, False), (1, 4, False)])\n",
      "deque([(4, 1, False), (1, 4, False)])\n",
      "deque([(1, 4, False), (4, 2, False)])\n",
      "deque([(4, 2, False), (2, 4, False)])\n",
      "deque([(2, 4, False), (3, 2, False), (4, 3, False)])\n",
      "deque([(3, 2, False), (4, 3, False)])\n",
      "deque([(4, 3, False)])\n",
      "deque([(4, 4, False)])\n",
      "9\n"
     ]
    }
   ],
   "source": [
    "import sys\n",
    "sys.stdin = open('test.txt', 'r')\n",
    "from collections import deque\n",
    "input = sys.stdin.readline\n",
    "\n",
    "n, m = map(int, input().split())\n",
    "graph = [list(map(int, list(input().rstrip()))) for _ in range(n)]\n",
    "for i in range(n):\n",
    "    for j in range(m):\n",
    "        if graph[i][j] == 1:\n",
    "            graph[i][j] = -1\n",
    "    \n",
    "moves = [(1, 0), (-1, 0), (0, 1), (0, -1)]\n",
    "dq = deque()\n",
    "\n",
    "def bfs(start):\n",
    "\n",
    "    dq.append(start)\n",
    "    graph[start[0]][start[1]] = 1\n",
    "\n",
    "    while dq:\n",
    "        i, j, k = dq.popleft()\n",
    "        \n",
    "        if i == n-1 and j == m-1:\n",
    "            return print(graph[i][j])\n",
    "\n",
    "\n",
    "        for move in moves:\n",
    "            di, dj = i + move[0], j + move[1]\n",
    "            dk = k \n",
    "            if 0 <= di < n and 0 <= dj < m:\n",
    "                \n",
    "                if dk == True and graph[di][dj] == -1:\n",
    "                    graph[di][dj] = 0\n",
    "                    dk = False\n",
    "\n",
    "                if graph[di][dj] == 0:\n",
    "                    dq.append((di, dj, dk))\n",
    "                    graph[di][dj] = graph[i][j] + 1\n",
    "        \n",
    "        print(dq)\n",
    "        \n",
    "    return print(-1)\n",
    "\n",
    "    \n",
    "bfs((0, 0, True))\n",
    "\n"
   ]
  },
  {
   "cell_type": "code",
   "execution_count": 252,
   "id": "9961f8b5-fd34-4a94-a1d4-44983d573ac9",
   "metadata": {},
   "outputs": [
    {
     "name": "stdout",
     "output_type": "stream",
     "text": [
      "[1, 2, -1, 0, 0]\n",
      "[2, -1, 0, 0, 0]\n",
      "[3, 4, -1, -1, 0]\n",
      "[4, -1, 8, -1, -1]\n",
      "[5, 6, 7, 8, 9]\n"
     ]
    }
   ],
   "source": [
    "for i in graph:\n",
    "    print(i)"
   ]
  },
  {
   "cell_type": "markdown",
   "id": "3b02cbf3-b301-40f3-bc09-3844069afc05",
   "metadata": {},
   "source": [
    "## 그냥 아래꺼 복붙해서 제출함 - 왜 22%에서 틀렸는지는 모르겠음\n",
    "- 검색해서 붙여넣기 한 거는 다 참이 뜨는디..\n",
    "## 방문 리스트를 3차원으로 구현함\n",
    "- 결국 똑같은 얘기인 것 같은데(w는 안 부쉈으면 0, 부쉈으면 1)..\n",
    "- 몰?루\n"
   ]
  },
  {
   "cell_type": "code",
   "execution_count": 248,
   "id": "c5ddbb38-5eaa-4fc7-9d54-454b9ce738f8",
   "metadata": {},
   "outputs": [
    {
     "ename": "ValueError",
     "evalue": "not enough values to unpack (expected 2, got 0)",
     "output_type": "error",
     "traceback": [
      "\u001b[1;31m---------------------------------------------------------------------------\u001b[0m",
      "\u001b[1;31mValueError\u001b[0m                                Traceback (most recent call last)",
      "\u001b[1;32m<ipython-input-248-eb64b09f59e1>\u001b[0m in \u001b[0;36m<module>\u001b[1;34m\u001b[0m\n\u001b[0;32m      3\u001b[0m \u001b[1;33m\u001b[0m\u001b[0m\n\u001b[0;32m      4\u001b[0m \u001b[0minput\u001b[0m \u001b[1;33m=\u001b[0m \u001b[0msys\u001b[0m\u001b[1;33m.\u001b[0m\u001b[0mstdin\u001b[0m\u001b[1;33m.\u001b[0m\u001b[0mreadline\u001b[0m\u001b[1;33m\u001b[0m\u001b[1;33m\u001b[0m\u001b[0m\n\u001b[1;32m----> 5\u001b[1;33m \u001b[0mn\u001b[0m\u001b[1;33m,\u001b[0m \u001b[0mm\u001b[0m \u001b[1;33m=\u001b[0m \u001b[0mmap\u001b[0m\u001b[1;33m(\u001b[0m\u001b[0mint\u001b[0m\u001b[1;33m,\u001b[0m \u001b[0minput\u001b[0m\u001b[1;33m(\u001b[0m\u001b[1;33m)\u001b[0m\u001b[1;33m.\u001b[0m\u001b[0msplit\u001b[0m\u001b[1;33m(\u001b[0m\u001b[1;33m)\u001b[0m\u001b[1;33m)\u001b[0m\u001b[1;33m\u001b[0m\u001b[1;33m\u001b[0m\u001b[0m\n\u001b[0m\u001b[0;32m      6\u001b[0m \u001b[0mgraph\u001b[0m \u001b[1;33m=\u001b[0m \u001b[1;33m[\u001b[0m\u001b[1;33m]\u001b[0m\u001b[1;33m\u001b[0m\u001b[1;33m\u001b[0m\u001b[0m\n\u001b[0;32m      7\u001b[0m \u001b[1;32mfor\u001b[0m \u001b[0m_\u001b[0m \u001b[1;32min\u001b[0m \u001b[0mrange\u001b[0m\u001b[1;33m(\u001b[0m\u001b[0mn\u001b[0m\u001b[1;33m)\u001b[0m\u001b[1;33m:\u001b[0m\u001b[1;33m\u001b[0m\u001b[1;33m\u001b[0m\u001b[0m\n",
      "\u001b[1;31mValueError\u001b[0m: not enough values to unpack (expected 2, got 0)"
     ]
    }
   ],
   "source": [
    "import sys\n",
    "from collections import deque\n",
    "\n",
    "input = sys.stdin.readline\n",
    "n, m = map(int, input().split())\n",
    "graph = []\n",
    "for _ in range(n):\n",
    "    row = list(str(input().rstrip()))\n",
    "    graph.append(list(map(int, row)))\n",
    "\n",
    "# 3차원 배열 사용 -> visited[x][y][z], z = 0 or 1로 기록\n",
    "# z = 0이면 벽을 뚫지 않고 간 경우, z = 1이면 벽을 뚫고 간 경우\n",
    "moves = [\n",
    "    [1, 0],\n",
    "    [-1, 0],\n",
    "    [0, 1],\n",
    "    [0, -1]\n",
    "]\n",
    "visited = [[[0] * 2 for _ in range(m)] for _ in range(n)]\n",
    "\n",
    "def bfs():\n",
    "    q = deque()\n",
    "    q.append([0, 0, 0])\n",
    "    visited[0][0][0] = 1\n",
    "\n",
    "    while q:\n",
    "        x, y, w = q.popleft()\n",
    "        \n",
    "        # 목표지점 도달 시 해당 위치까지의 거리 리턴\n",
    "        if x == n - 1 and y == m - 1:\n",
    "            return visited[x][y][w]\n",
    "\n",
    "        for move in moves:\n",
    "            nx, ny = x + move[0], y + move[1]\n",
    "\n",
    "            if 0 <= nx < n and 0 <= ny < m:\n",
    "                # 현재 위치로 이동할 수 있고, 아직 방문하지 않았다면\n",
    "                if graph[nx][ny] == 0 and visited[nx][ny][w] == 0:\n",
    "                    visited[nx][ny][w] = visited[x][y][w] + 1\n",
    "                    q.append([nx, ny, w])\n",
    "                \n",
    "                # 현재 위치가 벽이고, 벽을 아직 부수지 않았다면\n",
    "                elif graph[nx][ny] == 1 and w == 0:\n",
    "                    visited[nx][ny][w + 1] = visited[x][y][w] + 1\n",
    "                    q.append([nx, ny, w + 1])\n",
    "    \n",
    "    # 목표지점까지 도달하지 못한다면 -1 리턴\n",
    "    return -1\n",
    "\n",
    "print(bfs())"
   ]
  },
  {
   "cell_type": "code",
   "execution_count": null,
   "id": "c39aa86a-76f4-4b82-84de-57985472afb6",
   "metadata": {},
   "outputs": [],
   "source": []
  }
 ],
 "metadata": {
  "kernelspec": {
   "display_name": "Python 3",
   "language": "python",
   "name": "python3"
  },
  "language_info": {
   "codemirror_mode": {
    "name": "ipython",
    "version": 3
   },
   "file_extension": ".py",
   "mimetype": "text/x-python",
   "name": "python",
   "nbconvert_exporter": "python",
   "pygments_lexer": "ipython3",
   "version": "3.8.8"
  }
 },
 "nbformat": 4,
 "nbformat_minor": 5
}
