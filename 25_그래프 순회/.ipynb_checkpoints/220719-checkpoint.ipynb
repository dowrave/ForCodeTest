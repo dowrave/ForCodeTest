{
 "cells": [
  {
   "cell_type": "markdown",
   "id": "573c3147-fa2d-4438-8705-ecf2c89a144f",
   "metadata": {},
   "source": [
    "# 24479 : 알고리즘 수업 - 깊이 우선 탐색\n",
    "```\n",
    "dfs(V, E, R) {  # V : 정점 집합, E : 간선 집합, R : 시작 정점\n",
    "    visited[R] <- YES;  # 시작 정점 R을 방문 했다고 표시한다.\n",
    "    for each x ∈ E(R)  # E(R) : 정점 R의 인접 정점 집합.(정점 번호를 오름차순으로 방문한다)\n",
    "        if (visited[x] = NO) then dfs(V, E, x);\n",
    "}\n",
    "```"
   ]
  },
  {
   "cell_type": "code",
   "execution_count": 33,
   "id": "d0f305f5-1d17-45cc-a257-f3641f4cbc7b",
   "metadata": {},
   "outputs": [
    {
     "name": "stdout",
     "output_type": "stream",
     "text": [
      "1\n",
      "2\n",
      "3\n",
      "4\n",
      "0\n"
     ]
    }
   ],
   "source": [
    "import sys\n",
    "sys.stdin = open('test.txt', 'r')\n",
    "input = sys.stdin.readline\n",
    "\n",
    "n, m, r = map(int, input().rstrip().split())\n",
    "\n",
    "# graph = [[0] * (n+1) for _ in range(n+1)]\n",
    "\n",
    "# 1. 방문 리스트만 따로 만듦 : 2차원 리스트이긴 한데 필요한 것만 구현해놓음\n",
    "graph = [[] for i in range(n+1)]\n",
    "\n",
    "\n",
    "visited = [0] * (n+1) \n",
    "for _ in range(m):\n",
    "    a, b = map(int, input().rstrip().split())\n",
    "#     graph[i][j], graph[j][i] = 1, 1 \n",
    "    graph[a].append(b)\n",
    "    graph[b].append(a)\n",
    "\n",
    "# for i in graph:\n",
    "#     print(i)\n",
    "\n",
    "def dfs(start, count):\n",
    "    \n",
    "    visited[start] = count\n",
    "    \n",
    "    graph[start].sort() # 인풋이 랜덤하니까\n",
    "    \n",
    "    # 반복 조건 : graph[start]는 방문 중인 노드와 인접한 노드 리스트를 오름차순으로 정렬한 것\n",
    "    for i in graph[start]:\n",
    "        if visited[i] == 0 :\n",
    "            dfs(i, count+1)\n",
    "\n",
    "dfs(r, 1)\n",
    "            \n",
    "for i in visited[1:]:\n",
    "    print(i)\n"
   ]
  },
  {
   "cell_type": "markdown",
   "id": "9ff3d20b-baf5-4dbf-88fc-2d0edcd58ebf",
   "metadata": {},
   "source": [
    "## 오 메모리 초과 뜸\n"
   ]
  },
  {
   "cell_type": "code",
   "execution_count": null,
   "id": "c8d868dd-d5c3-4832-aa3d-508dd1da9d75",
   "metadata": {},
   "outputs": [],
   "source": [
    "import sys\n",
    "sys.setrecursionlimit(10**9)\n",
    "input = sys.stdin.readline\n",
    "\n",
    "n, m, r = map(int, input().split())\n",
    "graph = [[] for _ in range(n + 1)]\n",
    "visited = [0] * (n + 1)\n",
    "count = 1\n",
    "\n",
    "for _ in range(m):\n",
    "    a, b = map(int, input().split())\n",
    "    graph[a].append(b)\n",
    "    graph[b].append(a)\n",
    "\n",
    "def dfs(v):\n",
    "    global count\n",
    "    visited[v] = count\n",
    "    graph[v].sort()\n",
    "    for g in graph[v]:\n",
    "        if visited[g] == 0:\n",
    "            count += 1\n",
    "            dfs(g)\n",
    "\n",
    "dfs(r)\n",
    "\n",
    "for i in range(1, n + 1):\n",
    "    print(visited[i])"
   ]
  },
  {
   "cell_type": "code",
   "execution_count": 57,
   "id": "60e5ed1e-cd1a-4fda-8174-9a1f081c12f2",
   "metadata": {},
   "outputs": [
    {
     "name": "stdout",
     "output_type": "stream",
     "text": [
      "deque([2, 4])\n",
      "deque([2, 2, 3])\n",
      "deque([2, 2, 2])\n",
      "deque([2, 2])\n",
      "deque([2])\n",
      "deque([])\n",
      "[0, 1, 6, 3, 2, 0]\n"
     ]
    }
   ],
   "source": [
    "# 재귀 없이 스택으로 구현해보자 - 그냥 재귀로 가자..\n",
    "import sys\n",
    "from collections import deque\n",
    "sys.stdin = open('test.txt', 'r')\n",
    "input = sys.stdin.readline\n",
    "n, m, r = map(int, input().split())\n",
    "graph = [[] for _ in range(n + 1)]\n",
    "visited = [0] * (n + 1)\n",
    "count = 1\n",
    "dq = deque()\n",
    "\n",
    "for _ in range(m):\n",
    "    a, b = map(int, input().split())\n",
    "    graph[a].append(b)\n",
    "    graph[b].append(a)\n",
    "\n",
    "def dfs(v):\n",
    "    \n",
    "    global count\n",
    "\n",
    "    dq.append(v)\n",
    "    \n",
    "    while dq:\n",
    "        a = dq.pop()\n",
    "        visited[a] = count\n",
    "        count += 1\n",
    "        \n",
    "        graph[a].sort()\n",
    "        \n",
    "        for i in graph[a]:\n",
    "            if visited[i] == 0:\n",
    "                dq.append(i)\n",
    "        print(dq)\n",
    "dfs(1)\n",
    "\n",
    "print(visited)"
   ]
  },
  {
   "cell_type": "markdown",
   "id": "03eba7bb-b592-47bb-855a-b878bc154b5b",
   "metadata": {},
   "source": [
    "# 24480 : 내림차순으로 ㄱ"
   ]
  },
  {
   "cell_type": "code",
   "execution_count": 35,
   "id": "498f1fab-1d52-4e23-8333-df37445e373f",
   "metadata": {},
   "outputs": [
    {
     "name": "stdout",
     "output_type": "stream",
     "text": [
      "1\n",
      "4\n",
      "3\n",
      "2\n",
      "0\n"
     ]
    }
   ],
   "source": [
    "import sys\n",
    "sys.stdin = open('test.txt', 'r')\n",
    "sys.setrecursionlimit(10**9)\n",
    "input = sys.stdin.readline\n",
    "\n",
    "n, m, r = map(int, input().split())\n",
    "graph = [[] for _ in range(n + 1)]\n",
    "visited = [0] * (n + 1)\n",
    "count = 1\n",
    "\n",
    "for _ in range(m):\n",
    "    a, b = map(int, input().split())\n",
    "    graph[a].append(b)\n",
    "    graph[b].append(a)\n",
    "\n",
    "def dfs(v):\n",
    "    global count\n",
    "    visited[v] = count\n",
    "    graph[v].sort(reverse = True) # 이거만 바꿔주면 된다\n",
    "    for g in graph[v]:\n",
    "        if visited[g] == 0:\n",
    "            count += 1\n",
    "            dfs(g)\n",
    "\n",
    "dfs(r)\n",
    "\n",
    "for i in range(1, n + 1):\n",
    "    print(visited[i])"
   ]
  },
  {
   "cell_type": "markdown",
   "id": "82314e5d-7c16-4957-af0b-0c1d1be5317c",
   "metadata": {},
   "source": [
    "# 24444 : BFS(너비 우선 탐색)\n",
    "```\n",
    "bfs(V, E, R) {  # V : 정점 집합, E : 간선 집합, R : 시작 정점\n",
    "    for each v ∈ V - {R}\n",
    "        visited[v] <- NO;\n",
    "    visited[R] <- YES;  # 시작 정점 R을 방문 했다고 표시한다.\n",
    "    enqueue(Q, R);  # 큐 맨 뒤에 시작 정점 R을 추가한다.\n",
    "    while (Q ≠ ∅) {\n",
    "        u <- dequeue(Q);  # 큐 맨 앞쪽의 요소를 삭제한다.\n",
    "        for each v ∈ E(u)  # E(u) : 정점 u의 인접 정점 집합.(정점 번호를 오름차순으로 방문한다)\n",
    "            if (visited[v] = NO) then {\n",
    "                visited[v] <- YES;  # 정점 v를 방문 했다고 표시한다.\n",
    "                enqueue(Q, v);  # 큐 맨 뒤에 정점 v를 추가한다.\n",
    "            }\n",
    "    }\n",
    "}\n",
    "```"
   ]
  },
  {
   "cell_type": "code",
   "execution_count": 49,
   "id": "6c761fc9-5650-4ad0-b6f9-601e838686cf",
   "metadata": {},
   "outputs": [
    {
     "name": "stdout",
     "output_type": "stream",
     "text": [
      "1\n",
      "2\n",
      "4\n",
      "3\n",
      "0\n"
     ]
    }
   ],
   "source": [
    "import sys\n",
    "from collections import deque\n",
    "sys.stdin = open('test.txt', 'r')\n",
    "input = sys.stdin.readline\n",
    "\n",
    "n, m, r = map(int, input().rstrip().split())\n",
    "visited = [0] * (n + 1)\n",
    "\n",
    "graph = [[] for _ in range(n+1)]\n",
    "for i in range(m):\n",
    "    a, b = map(int, input().split())\n",
    "    graph[a].append(b)\n",
    "    graph[b].append(a)\n",
    "\n",
    "# for i in graph:\n",
    "#     print(i)\n",
    "    \n",
    "dq = deque([])\n",
    "count = 1\n",
    "\n",
    "def bfs(start):\n",
    "    global count\n",
    "    \n",
    "    visited[start] = count\n",
    "    count += 1\n",
    "\n",
    "    dq.append(start)\n",
    "    \n",
    "    while dq:\n",
    "        a = dq.popleft()\n",
    "        graph[a].sort()\n",
    "        for i in graph[a]:\n",
    "            if visited[i] == False:\n",
    "#                 bfs(i)\n",
    "                visited[i] = count\n",
    "                count += 1\n",
    "                dq.append(i)\n",
    "\n",
    "bfs(r)\n",
    "\n",
    "for i in visited[1:]:\n",
    "    print(i)"
   ]
  },
  {
   "cell_type": "markdown",
   "id": "0afb8b67-a587-45a3-9c79-67861d45b86e",
   "metadata": {},
   "source": [
    "# 2606 : 바이러스\n",
    "- 어떤 컴퓨터가 바이러스에 걸렸을 때 해당 컴퓨터와 연결된 모든 컴퓨터는 바이러스에 걸린다\n",
    "- 1번 컴퓨터가 바이러스에 걸렸을 때 바이러스에 걸리는 컴퓨터 수?"
   ]
  },
  {
   "cell_type": "code",
   "execution_count": null,
   "id": "463b5e08-aa81-4120-8ac2-38db1a9b519e",
   "metadata": {},
   "outputs": [],
   "source": [
    "import sys\n",
    "from collections import deque\n",
    "sys.stdin = open('test.txt', 'r')\n",
    "input = sys.stdin.readline\n",
    "\n",
    "n = int(input())\n",
    "m = int(input())\n",
    "visited = [0] * (n+1)\n",
    "graph = [[] for _ in range(n+1)]\n",
    "for i in range(m):\n",
    "    a, b = map(int, input().rstrip().split())\n",
    "    graph[a].append(b)\n",
    "    graph[b].append(a)\n",
    "\n",
    "# dfs, bfs 다 써보자\n",
    "def dfs(start):\n",
    "    \n",
    "    visited[start] = 1\n",
    "    \n",
    "    for i in graph[start]:\n",
    "        if visited[i] == False:\n",
    "            dfs(i)\n",
    "\n",
    "dfs(1)\n",
    "print(sum(visited) - 1)"
   ]
  },
  {
   "cell_type": "code",
   "execution_count": 65,
   "id": "232482a5-3b93-44ab-8a7f-90354622dd6b",
   "metadata": {},
   "outputs": [
    {
     "name": "stdout",
     "output_type": "stream",
     "text": [
      "[0, 1, 1, 1, 0, 1, 1, 0]\n"
     ]
    }
   ],
   "source": [
    "# bfs로 구현하기\n",
    "visited_bfs = [0] * (n+1)\n",
    "dq = deque()\n",
    "\n",
    "def bfs(start):\n",
    "    \n",
    "    dq.append(start)\n",
    "    visited_bfs[start] = 1\n",
    "    \n",
    "    while dq:\n",
    "        now = dq.popleft()\n",
    "\n",
    "        for i in graph[now]:\n",
    "            if visited_bfs[i] == 0:\n",
    "                dq.append(i)\n",
    "                visited_bfs[i] = 1 # 추가하는 과정에서 방문 표시를 안하면 되돌아올 가능성이 있음\n",
    "bfs(1)\n",
    "print(sum(visited_bfs) - 1)"
   ]
  },
  {
   "cell_type": "markdown",
   "id": "72d18d28-e908-42c7-8066-5851b68fdfe5",
   "metadata": {},
   "source": [
    "# 1260번 : DFS와 BFS\n",
    "- DFS 탐색 결과와 BFS 탐색 결과를 출력하는 프로그램을 작성하시오\n",
    "- 방문할 수 있는 정점이 여러개라면 작은 것부터 방문, 방문할 수 있는 점이 없다면 종료한다.\n"
   ]
  },
  {
   "cell_type": "code",
   "execution_count": 102,
   "id": "858db129-4412-40b0-850f-f84d11cb051f",
   "metadata": {},
   "outputs": [
    {
     "name": "stdout",
     "output_type": "stream",
     "text": [
      "3 1 2 5 4\n",
      "3 1 4 2 5\n"
     ]
    }
   ],
   "source": [
    "import sys\n",
    "from collections import deque\n",
    "sys.setrecursionlimit(10**8)\n",
    "sys.stdin = open('test.txt', 'r')\n",
    "input = sys.stdin.readline\n",
    "\n",
    "n, m, v = map(int, input().split())\n",
    "\n",
    "graph = [[] for _ in range(n+1)]\n",
    "for _ in range(m):\n",
    "    a, b = map(int, input().split())\n",
    "    graph[a].append(b)\n",
    "    graph[b].append(a)\n",
    "\n",
    "for i in graph:\n",
    "    i.sort()\n",
    "    \n",
    "dfs_visited = [0] * (n + 1)\n",
    "dfs_lst = []\n",
    "def dfs(start):\n",
    "\n",
    "    dfs_visited[start] = 1\n",
    "    dfs_lst.append(str(start))\n",
    "    \n",
    "    for i in graph[start]:\n",
    "        if dfs_visited[i] == 0:\n",
    "            dfs(i)\n",
    "\n",
    "bfs_visited = [0] * (n + 1)\n",
    "dq = deque()\n",
    "bfs_lst = []\n",
    "def bfs(start):\n",
    "\n",
    "    dq.append(start)\n",
    "    bfs_visited[start] = 1\n",
    "    \n",
    "    while dq:\n",
    "        now = dq.popleft()\n",
    "        bfs_lst.append(str(now))\n",
    "        for i in graph[now]:\n",
    "            if bfs_visited[i] == 0:\n",
    "                dq.append(i)\n",
    "                bfs_visited[i] = 1\n",
    "                \n",
    "dfs(v)\n",
    "bfs(v)\n",
    "print(\" \".join(dfs_lst))\n",
    "print(\" \".join(bfs_lst))"
   ]
  },
  {
   "cell_type": "markdown",
   "id": "037e3893-4274-4a63-8d39-f2871aad407d",
   "metadata": {},
   "source": [
    "### BFS에서 방문 표시할 때 pop할 때 하지 말고 append할 때 하자!\n",
    "- dq에 넣을 때 바로 탐색하는 게 아니라서, pop할 때 방문 표시를 하면 중복으로 들어갈 가능성이 생기기 때문임"
   ]
  },
  {
   "cell_type": "markdown",
   "id": "cd51a954-a530-49b7-b21f-72aa75dff866",
   "metadata": {},
   "source": [
    "# 2667번 : 단지 번호 붙이기\n",
    "- 0은 집이 없음, 1은 집이 있음\n",
    "- 붙어있는 집들은 단지가 됨\n",
    "- 첫번째 줄에는 총 단지의 수를,\n",
    "- 2번째 줄부터는 각 단지당 몇 개의 집이 있는지를 출력하는 프로그램을 작성하시오"
   ]
  },
  {
   "cell_type": "code",
   "execution_count": 137,
   "id": "aff34a82-779f-4b93-a50b-8c5adc6ec3e7",
   "metadata": {},
   "outputs": [
    {
     "name": "stdout",
     "output_type": "stream",
     "text": [
      "3\n",
      "7\n",
      "8\n",
      "9\n"
     ]
    }
   ],
   "source": [
    "import sys\n",
    "from collections import deque\n",
    "sys.setrecursionlimit(10**8)\n",
    "sys.stdin = open('test.txt', 'r')\n",
    "input = sys.stdin.readline\n",
    "\n",
    "n = int(input())\n",
    "field = [input().rstrip() for _ in range(n)]\n",
    "visited = [[0] * n for _ in range(n)]\n",
    "moves = [(1, 0), (0, 1), (-1, 0), (0, -1)]\n",
    "params = 1\n",
    "count_lst = [0]\n",
    "count = 0\n",
    "\n",
    "def dfs(i, j, group):\n",
    "    \n",
    "    global count\n",
    "    \n",
    "    if int(field[i][j]):\n",
    "        visited[i][j] = group\n",
    "        count += 1\n",
    "    \n",
    "    for move in moves:\n",
    "        di = i + move[0]\n",
    "        dj = j + move[1]\n",
    "        if 0 <= di < n and 0 <= dj < n and int(field[di][dj]) and visited[di][dj] == 0:\n",
    "            dfs(di, dj, group)\n",
    "\n",
    "for i in range(n):\n",
    "    for j in range(n):\n",
    "\n",
    "        if int(field[i][j]) and visited[i][j] == 0:\n",
    "\n",
    "            dfs(i, j, params)\n",
    "            count_lst.append(count)\n",
    "            count = 0\n",
    "            params += 1\n",
    "\n",
    "# 사실 단지 인덱스 순서는 중요한 게 아님\n",
    "# 적은 집 수가 더 낮은 인덱스를 가지도록 정렬함\n",
    "# 엌ㅋㅋ\n",
    "count_lst.sort()\n",
    "count_lst[0] = len(count_lst[1:])\n",
    "for i in count_lst:\n",
    "    print(i)"
   ]
  },
  {
   "cell_type": "markdown",
   "id": "691520b8-6290-448d-8856-a8ecb06fac1d",
   "metadata": {},
   "source": [
    "### BFS도 가능하다고 한다"
   ]
  },
  {
   "cell_type": "code",
   "execution_count": 138,
   "id": "8658463b-3d85-48c3-950d-f0e0a44739c6",
   "metadata": {},
   "outputs": [
    {
     "ename": "ValueError",
     "evalue": "invalid literal for int() with base 10: ''",
     "output_type": "error",
     "traceback": [
      "\u001b[1;31m---------------------------------------------------------------------------\u001b[0m",
      "\u001b[1;31mValueError\u001b[0m                                Traceback (most recent call last)",
      "\u001b[1;32m<ipython-input-138-0eeb24ea9c3f>\u001b[0m in \u001b[0;36m<module>\u001b[1;34m\u001b[0m\n\u001b[0;32m     32\u001b[0m \u001b[1;33m\u001b[0m\u001b[0m\n\u001b[0;32m     33\u001b[0m \u001b[1;33m\u001b[0m\u001b[0m\n\u001b[1;32m---> 34\u001b[1;33m \u001b[0mn\u001b[0m \u001b[1;33m=\u001b[0m \u001b[0mint\u001b[0m\u001b[1;33m(\u001b[0m\u001b[0minput\u001b[0m\u001b[1;33m(\u001b[0m\u001b[1;33m)\u001b[0m\u001b[1;33m)\u001b[0m\u001b[1;33m\u001b[0m\u001b[1;33m\u001b[0m\u001b[0m\n\u001b[0m\u001b[0;32m     35\u001b[0m \u001b[0mgraph\u001b[0m \u001b[1;33m=\u001b[0m \u001b[1;33m[\u001b[0m\u001b[1;33m]\u001b[0m\u001b[1;33m\u001b[0m\u001b[1;33m\u001b[0m\u001b[0m\n\u001b[0;32m     36\u001b[0m \u001b[1;32mfor\u001b[0m \u001b[0mi\u001b[0m \u001b[1;32min\u001b[0m \u001b[0mrange\u001b[0m\u001b[1;33m(\u001b[0m\u001b[0mn\u001b[0m\u001b[1;33m)\u001b[0m\u001b[1;33m:\u001b[0m\u001b[1;33m\u001b[0m\u001b[1;33m\u001b[0m\u001b[0m\n",
      "\u001b[1;31mValueError\u001b[0m: invalid literal for int() with base 10: ''"
     ]
    }
   ],
   "source": [
    "from collections import deque\n",
    "\n",
    "dx = [0, 0, 1, -1]\n",
    "dy = [1, -1, 0, 0]\n",
    "\n",
    "# 1일 때 함수가 실행됨\n",
    "def bfs(graph, a, b):\n",
    "    n = len(graph)\n",
    "    queue = deque()\n",
    "    queue.append((a, b))\n",
    "    # 0으로 값을 바꾸는 이유는 다시 방문하지 않게 하기 위함임\n",
    "    # 우리가 구해야 할 건 각 그룹의 갯수이기 때문에 위치 정보는 한 번 썼으면 다시 못 쓰게 할 수 있음\n",
    "    # 이게 좋은 점은, 굳이 2개의 2차원 리스트를 만들 필요가 없다는 거임\n",
    "    graph[a][b] = 0\n",
    "    count = 1\n",
    "\n",
    "    while queue:\n",
    "        # BFS는 pop하면서 실행\n",
    "        x, y = queue.popleft()\n",
    "        \n",
    "        for i in range(4): # 4가지 방향에 대해\n",
    "            nx = x + dx[i]\n",
    "            ny = y + dy[i]\n",
    "            if nx < 0 or nx >= n or ny < 0 or ny >= n: # 범위\n",
    "                continue\n",
    "            if graph[nx][ny] == 1:\n",
    "                graph[nx][ny] = 0\n",
    "                \n",
    "                queue.append((nx, ny))\n",
    "                count += 1\n",
    "    return count\n",
    "\n",
    "\n",
    "n = int(input())\n",
    "graph = []\n",
    "for i in range(n):\n",
    "    graph.append(list(map(int, input())))\n",
    "\n",
    "cnt = []\n",
    "for i in range(n):\n",
    "    for j in range(n):\n",
    "        if graph[i][j] == 1:\n",
    "            cnt.append(bfs(graph, i, j))\n",
    "\n",
    "cnt.sort()\n",
    "print(len(cnt))\n",
    "for i in range(len(cnt)):\n",
    "    print(cnt[i])"
   ]
  },
  {
   "cell_type": "markdown",
   "id": "74f6e288-3f84-4924-9ff5-a38a4f03bb78",
   "metadata": {},
   "source": [
    "# 1012번 : 유기농 배추\n",
    "- 위랑 완전히 똑같은 문제임\n",
    "- 4방향으로 이동할 수 있을 때 몇 개의 그룹을 만들 수 있냐는 문제임"
   ]
  },
  {
   "cell_type": "code",
   "execution_count": 155,
   "id": "d99bcb32-b5b0-4a19-bec6-67897c45b468",
   "metadata": {},
   "outputs": [
    {
     "name": "stdout",
     "output_type": "stream",
     "text": [
      "5\n",
      "1\n"
     ]
    }
   ],
   "source": [
    "import sys\n",
    "from collections import deque\n",
    "sys.stdin = open('test.txt', 'r')\n",
    "sys.setrecursionlimit(10**8)\n",
    "input = sys.stdin.readline\n",
    "\n",
    "moves = [(1, 0), (-1, 0), (0, 1), (0, -1)]\n",
    "\n",
    "def dfs(graph, i, j):\n",
    "    if graph[i][j]:\n",
    "        graph[i][j] = 0\n",
    "        for move in moves:\n",
    "            di = i + move[0]\n",
    "            dj = j + move[1]\n",
    "            \n",
    "            if 0<=di<n and 0<=dj<m and graph[di][dj]:\n",
    "                dfs(graph, di, dj)\n",
    "\n",
    "t = int(input())\n",
    "\n",
    "for _ in range(t):\n",
    "    m,n,k = map(int, input().split())\n",
    "    count = 0 \n",
    "    \n",
    "    # 그래프 그리기\n",
    "    graph = [[0] * m for _ in range(n)]\n",
    "    for _ in range(k):\n",
    "        y, x = map(int, input().split())\n",
    "        graph[x][y] = 1\n",
    "\n",
    "    for i in range(n):\n",
    "        for j in range(m):\n",
    "            if graph[i][j]:\n",
    "                dfs(graph, i, j)\n",
    "                count += 1\n",
    "\n",
    "    print(count)"
   ]
  },
  {
   "cell_type": "markdown",
   "id": "4d128e78-feb8-4739-9632-ba84c374da3f",
   "metadata": {},
   "source": [
    "## 2178번 : 미로 탐색\n",
    "- 어떤 미로가 주어졌을 때, (1,1)에서 (n,m)의 위치로 이동하는 데 지나야 하는 최소 칸 수?\n",
    "- <b> BFS는 각 정점을 최단 경로로 방문한다고 한다 </b>\n",
    "- 엌ㅋㅋ 귀찮아서 걍 복붙함"
   ]
  },
  {
   "cell_type": "code",
   "execution_count": 205,
   "id": "bd74aafe-574b-4633-b43c-6a3de7e979b0",
   "metadata": {
    "tags": []
   },
   "outputs": [
    {
     "name": "stdout",
     "output_type": "stream",
     "text": [
      "14\n"
     ]
    }
   ],
   "source": [
    "import sys\n",
    "from collections import deque\n",
    "sys.stdin = open('test.txt', 'r')\n",
    "sys.setrecursionlimit(10**8)\n",
    "input = sys.stdin.readline\n",
    "\n",
    "n, m = map(int, input().rstrip().split())\n",
    "graph = []\n",
    "visited = []\n",
    "for _ in range(n):\n",
    "    graph.append(list(map(int, list(input().rstrip())))) # 사용하기 편하게 하기 위해 그냥 int화\n",
    "\n",
    "dq = deque()\n",
    "moves = [(1,0), (-1,0), (0,1), (0,-1)]\n",
    "\n",
    "def bfs(i, j):\n",
    "    distance = 2\n",
    "    if graph[i][j]:\n",
    "        dq.append((i, j))\n",
    "        visited.append((i, j))\n",
    "        while dq:\n",
    "            # 임시 방편으로 switch를 설정하겠음 : 주위에 경로가 있다면 거리를 +1하게끔\n",
    "            switch = False\n",
    "            cur = dq.popleft()\n",
    "            \n",
    "            # 아 (0,5) 문이 돌아갈 때 거리가 +1 된 거구나!\n",
    "            # 근데 이걸 어떻게 처리해줄까가 문제구만\n",
    "            for move in moves:\n",
    "                di = cur[0] + move[0]\n",
    "                dj = cur[1] + move[1]\n",
    "                if 0 <= di < n and 0 <= dj < m and graph[di][dj] and (di, dj) not in visited:\n",
    "                    switch = True\n",
    "                    dq.append((di, dj))\n",
    "                    visited.append((di, dj))\n",
    "                    graph[di][dj] = distance\n",
    "            if switch == True:\n",
    "                distance += 1\n",
    "                \n",
    "\n",
    "bfs(0, 0)\n",
    "print(graph[-1][-1])"
   ]
  },
  {
   "cell_type": "code",
   "execution_count": 206,
   "id": "97062af5-30a7-451c-af1c-7c720e0a7b5b",
   "metadata": {},
   "outputs": [
    {
     "ename": "ValueError",
     "evalue": "not enough values to unpack (expected 2, got 0)",
     "output_type": "error",
     "traceback": [
      "\u001b[1;31m---------------------------------------------------------------------------\u001b[0m",
      "\u001b[1;31mValueError\u001b[0m                                Traceback (most recent call last)",
      "\u001b[1;32m<ipython-input-206-47f7d75d1da9>\u001b[0m in \u001b[0;36m<module>\u001b[1;34m\u001b[0m\n\u001b[0;32m      1\u001b[0m \u001b[1;32mfrom\u001b[0m \u001b[0mcollections\u001b[0m \u001b[1;32mimport\u001b[0m \u001b[0mdeque\u001b[0m\u001b[1;33m\u001b[0m\u001b[1;33m\u001b[0m\u001b[0m\n\u001b[0;32m      2\u001b[0m \u001b[1;33m\u001b[0m\u001b[0m\n\u001b[1;32m----> 3\u001b[1;33m \u001b[0mN\u001b[0m\u001b[1;33m,\u001b[0m \u001b[0mM\u001b[0m \u001b[1;33m=\u001b[0m \u001b[0mmap\u001b[0m\u001b[1;33m(\u001b[0m\u001b[0mint\u001b[0m\u001b[1;33m,\u001b[0m \u001b[0minput\u001b[0m\u001b[1;33m(\u001b[0m\u001b[1;33m)\u001b[0m\u001b[1;33m.\u001b[0m\u001b[0msplit\u001b[0m\u001b[1;33m(\u001b[0m\u001b[1;33m)\u001b[0m\u001b[1;33m)\u001b[0m\u001b[1;33m\u001b[0m\u001b[1;33m\u001b[0m\u001b[0m\n\u001b[0m\u001b[0;32m      4\u001b[0m \u001b[1;33m\u001b[0m\u001b[0m\n\u001b[0;32m      5\u001b[0m \u001b[0mgraph\u001b[0m \u001b[1;33m=\u001b[0m \u001b[1;33m[\u001b[0m\u001b[1;33m]\u001b[0m\u001b[1;33m\u001b[0m\u001b[1;33m\u001b[0m\u001b[0m\n",
      "\u001b[1;31mValueError\u001b[0m: not enough values to unpack (expected 2, got 0)"
     ]
    }
   ],
   "source": [
    "from collections import deque\n",
    "\n",
    "N, M = map(int, input().split())\n",
    "\n",
    "graph = []\n",
    "\n",
    "for _ in range(N):\n",
    "  graph.append(list(map(int, input())))\n",
    "\n",
    "# 너비 우선 탐색\n",
    "def bfs(x, y):\n",
    "  # 이동할 네 가지 방향 정의 (상, 하, 좌, 우)\n",
    "  dx = [-1, 1, 0, 0] \n",
    "  dy = [0, 0, -1, 1]\n",
    "\n",
    "  # deque 생성\n",
    "  queue = deque()\n",
    "  queue.append((x, y))\n",
    "\n",
    "  while queue:\n",
    "    x, y = queue.popleft()\n",
    "    \n",
    "    # 현재 위치에서 4가지 방향으로 위치 확인\n",
    "    for i in range(4):\n",
    "      nx = x + dx[i]\n",
    "      ny = y + dy[i]\n",
    "\n",
    "      # 위치가 벗어나면 안되기 때문에 조건 추가\n",
    "      if nx < 0 or nx >= N or ny < 0 or ny >= M:\n",
    "        continue\n",
    "      \n",
    "      # 벽이므로 진행 불가\n",
    "      if graph[nx][ny] == 0:\n",
    "        continue\n",
    "      \n",
    "      # 벽이 아니므로 이동\n",
    "      if graph[nx][ny] == 1:\n",
    "        graph[nx][ny] = graph[x][y] + 1\n",
    "        queue.append((nx, ny))\n",
    "  \n",
    "  # 마지막 값에서 카운트 값을 뽑는다.\n",
    "  return graph[N-1][M-1]\n",
    "\n",
    "print(bfs(0, 0))\n"
   ]
  },
  {
   "cell_type": "code",
   "execution_count": 182,
   "id": "b9ffcb2d-b4e4-4cc4-b0ce-95562c2c3593",
   "metadata": {},
   "outputs": [
    {
     "name": "stdout",
     "output_type": "stream",
     "text": [
      "[(0, 0), (1, 0), (2, 0), (3, 0), (3, 1), (3, 2), (2, 2), (1, 2), (0, 2), (0, 3), (0, 4), (1, 4), (0, 5), (2, 4), (3, 4), (2, 5), (3, 5)]\n"
     ]
    }
   ],
   "source": [
    "print(visited)"
   ]
  },
  {
   "cell_type": "code",
   "execution_count": null,
   "id": "050ffdbd-a25b-4761-b695-6c0ea3478520",
   "metadata": {},
   "outputs": [],
   "source": []
  }
 ],
 "metadata": {
  "kernelspec": {
   "display_name": "Python 3",
   "language": "python",
   "name": "python3"
  },
  "language_info": {
   "codemirror_mode": {
    "name": "ipython",
    "version": 3
   },
   "file_extension": ".py",
   "mimetype": "text/x-python",
   "name": "python",
   "nbconvert_exporter": "python",
   "pygments_lexer": "ipython3",
   "version": "3.8.8"
  }
 },
 "nbformat": 4,
 "nbformat_minor": 5
}
