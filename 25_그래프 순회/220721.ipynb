{
 "cells": [
  {
   "cell_type": "markdown",
   "id": "12827432-8150-469d-93b5-d9ffda0d675d",
   "metadata": {},
   "source": [
    "## 1707번 : 이분 그래프\n",
    "- 정점의 집합을 둘로 나눌 때, 각 집합에 속한 정점끼리 이웃하지 않으면 그게 이분 그래프이다\n",
    "- 즉 `예제 1(3개, 1 3 / 2 3)` 는 `{1, 2}`와 `{3}`으로 나누면 각 집합은 이웃하지 않기 때문에 이분 그래프임"
   ]
  },
  {
   "cell_type": "markdown",
   "id": "7b184cf3-80a6-4d9c-84a2-516dc8a24960",
   "metadata": {},
   "source": [
    "### 50%에서 틀렸습니다\n",
    "- 생각나는 거는 시작점 : 내 그래프는 시작점이 1로 고정임\n",
    "- 반례로 ` 1 / 2 3 4 `를 들 수 있다(1은 이웃 x, 2,3,4는 서로 이웃)\n",
    "    - 1은 bfs를 시작할 수 없으므로, 탐색 자체가 불가능함\n",
    "    \n",
    "#### 개선\n",
    "- 이를 위해 그래프를 그릴 때 가장 첫 번째로 들어가는 edge의 앞쪽 인덱스를 시작 인덱스로 지정함\n",
    "\n",
    "#### 그래도 틀렸습니다 뜸\n",
    "- bfs 탐색을 끝까지 진행시켜 봄\n",
    "\n",
    "## 뜯어본 결과\n",
    "### 1.\n",
    "- <b>그래프의 모든 점</b>에 대해 돌렸을 때 두 종류로 분류가 되어야 함\n",
    "- 만약 어떤 점에 대해서는 그런 케이스가 나오지 않았다면 이는 이분 그래프라고 볼 수 없게 되는 듯\n",
    "\n",
    "### 2.\n",
    "- 모든 점에 대해 반복문을 돌리지만, <b>이미 방문한 적 있다면 bfs를 또 수행할 필요는 없음!</b> (이미 그 점을 경유하는 경로가 체크되었기 때문)\n",
    "- 그렇다면 False가 뜨는 경우는 어떤 케이스일까?를 생각해봐야 함\n",
    "    - 생각하면 <b>엣지로 이어진 경로끼리 이분이 되지 않는다면 False가 뜬다</b>\n",
    "    - 결국 <b>끊어진 그래프들 각각이 이분이 되냐 안되냐만 보면 된다</b>\n",
    "    - 왜? 끊어진 그래프들은 이미 이어지지 않으니까 얘네끼리의 관계를 체크할 필요는 없음\n",
    "    \n",
    "## 궁금증 - 왜 틀렸습니다!가 떴는가?\n",
    "- 아마 visited를 반복문 밖에 둬서 그런 것 같음\n",
    "    - 그러면 초기화가 안되니까 이미 있는 값이랑 충돌이 일어날 가능성이 생김\n",
    "    - 실제로 visited를 계속 반복문마다 초기화해주면 실행되지 않을까? 했는데 처음으로 틀렸습니다 가 아니라 <b>시간 초과</b> 가 떴음\n",
    "    "
   ]
  },
  {
   "cell_type": "code",
   "execution_count": 45,
   "id": "3eefb215-abfe-42df-8e86-e43858692715",
   "metadata": {},
   "outputs": [
    {
     "name": "stdout",
     "output_type": "stream",
     "text": [
      "YES\n",
      "NO\n"
     ]
    }
   ],
   "source": [
    "import sys\n",
    "from collections import deque\n",
    "sys.stdin = open('test.txt', 'r')\n",
    "input = sys.stdin.readline\n",
    "\n",
    "def bfs(v):\n",
    "    \n",
    "    # 1. 모든 점에 대해 돌리지만, visited 자체가 갱신될 필요는 없음 \n",
    "    # 즉 어떤 점에서 체크된 경로를 굳이 또 bfs할 필요는 없다는 얘기임\n",
    "    # 그러나 모든 경로를 찾기 위해선 연결되지 않은 지점들도 있을 것이기 때문에 모든 점에 대해 반복문을 돌려야 함\n",
    "    condition = True\n",
    "    dq = deque()\n",
    "    visited = [0] * (v+1)\n",
    "    \n",
    "    for k in range(1, v+1): \n",
    "        \n",
    "        if visited[k] == 0: # 방문한 적 있으면 다음 점으로 그냥 넘어감\n",
    "            dq.append(k)\n",
    "            visited[k] = 1\n",
    "\n",
    "            while dq:\n",
    "                a = dq.popleft()\n",
    "\n",
    "                for j in graph[a]: \n",
    "\n",
    "                    # 방문한 적 없다면\n",
    "                    if visited[j] == 0:         \n",
    "                        visited[j] = (-1) * visited[a]\n",
    "                        dq.append(j)\n",
    "\n",
    "                    # 방문한 적 있음 + 이번에 pop된 클래스와 동일함\n",
    "                    elif visited[j] == visited[a]: \n",
    "                        condition = False\n",
    "                        # 중간에 리턴해서 while문을 깨면 안됨 : 그렇게 하고 싶다면 dq 재선언해야 함(데이터가 남기 때문)\n",
    "\n",
    "    return print(\"YES\" if condition else \"NO\")\n",
    "\n",
    "t = int(input())\n",
    "for _ in range(t):\n",
    "    v, e = map(int, input().split())\n",
    "    \n",
    "    graph = [[] for _ in range(v+1)]\n",
    "    for _ in range(e):\n",
    "        a, b = map(int, input().split())\n",
    "            \n",
    "        graph[a].append(b)\n",
    "        graph[b].append(a)\n",
    "        \n",
    "    bfs(v)\n",
    "\n",
    "    \n",
    "        \n",
    "    "
   ]
  },
  {
   "cell_type": "markdown",
   "id": "e3591091-7b14-463a-bb45-50e136b6d8bf",
   "metadata": {},
   "source": [
    "#### 내꺼랑 논리 차이가 없어 보이는데 얘는 되고 내껀 안된다 뜯어보자"
   ]
  },
  {
   "cell_type": "code",
   "execution_count": 42,
   "id": "0c4f82dd-ec5a-494b-ac8f-ddb440fe57b9",
   "metadata": {},
   "outputs": [
    {
     "ename": "ValueError",
     "evalue": "invalid literal for int() with base 10: ''",
     "output_type": "error",
     "traceback": [
      "\u001b[1;31m---------------------------------------------------------------------------\u001b[0m",
      "\u001b[1;31mValueError\u001b[0m                                Traceback (most recent call last)",
      "\u001b[1;32m<ipython-input-42-fa78581a0490>\u001b[0m in \u001b[0;36m<module>\u001b[1;34m\u001b[0m\n\u001b[0;32m      5\u001b[0m \u001b[0minput\u001b[0m \u001b[1;33m=\u001b[0m \u001b[0msys\u001b[0m\u001b[1;33m.\u001b[0m\u001b[0mstdin\u001b[0m\u001b[1;33m.\u001b[0m\u001b[0mreadline\u001b[0m\u001b[1;33m\u001b[0m\u001b[1;33m\u001b[0m\u001b[0m\n\u001b[0;32m      6\u001b[0m \u001b[1;33m\u001b[0m\u001b[0m\n\u001b[1;32m----> 7\u001b[1;33m \u001b[1;32mfor\u001b[0m \u001b[0m_\u001b[0m \u001b[1;32min\u001b[0m \u001b[0mrange\u001b[0m\u001b[1;33m(\u001b[0m\u001b[0mint\u001b[0m\u001b[1;33m(\u001b[0m\u001b[0minput\u001b[0m\u001b[1;33m(\u001b[0m\u001b[1;33m)\u001b[0m\u001b[1;33m)\u001b[0m\u001b[1;33m)\u001b[0m\u001b[1;33m:\u001b[0m\u001b[1;33m\u001b[0m\u001b[1;33m\u001b[0m\u001b[0m\n\u001b[0m\u001b[0;32m      8\u001b[0m     \u001b[0mV\u001b[0m\u001b[1;33m,\u001b[0m \u001b[0mE\u001b[0m \u001b[1;33m=\u001b[0m \u001b[0mmap\u001b[0m\u001b[1;33m(\u001b[0m\u001b[0mint\u001b[0m\u001b[1;33m,\u001b[0m \u001b[0minput\u001b[0m\u001b[1;33m(\u001b[0m\u001b[1;33m)\u001b[0m\u001b[1;33m.\u001b[0m\u001b[0msplit\u001b[0m\u001b[1;33m(\u001b[0m\u001b[1;33m)\u001b[0m\u001b[1;33m)\u001b[0m\u001b[1;33m\u001b[0m\u001b[1;33m\u001b[0m\u001b[0m\n\u001b[0;32m      9\u001b[0m     \u001b[0mgraph\u001b[0m \u001b[1;33m=\u001b[0m \u001b[1;33m[\u001b[0m\u001b[1;33m[\u001b[0m\u001b[1;33m]\u001b[0m \u001b[1;32mfor\u001b[0m \u001b[0mi\u001b[0m \u001b[1;32min\u001b[0m \u001b[0mrange\u001b[0m\u001b[1;33m(\u001b[0m\u001b[0mV\u001b[0m\u001b[1;33m+\u001b[0m\u001b[1;36m1\u001b[0m\u001b[1;33m)\u001b[0m\u001b[1;33m]\u001b[0m \u001b[1;31m# 빈 그래프 생성\u001b[0m\u001b[1;33m\u001b[0m\u001b[1;33m\u001b[0m\u001b[0m\n",
      "\u001b[1;31mValueError\u001b[0m: invalid literal for int() with base 10: ''"
     ]
    }
   ],
   "source": [
    "### bfs\n",
    "import collections\n",
    "import sys\n",
    "sys.setrecursionlimit(10 ** 6)\n",
    "input = sys.stdin.readline\n",
    "\n",
    "for _ in range(int(input())):\n",
    "    V, E = map(int, input().split())\n",
    "    graph = [[] for i in range(V+1)] # 빈 그래프 생성\n",
    "    visited = [0] * (V+1) # 방문한 정점 체크\n",
    "\n",
    "    for _ in range(E):\n",
    "        a,b = map(int, input().split())\n",
    "        graph[a].append(b) # 무방향 그래프\n",
    "        graph[b].append(a) # 무방향 그래프\n",
    "\n",
    "\n",
    "    q = collections.deque()\n",
    "    group = 1\n",
    "    bipatite = True\n",
    "    for i in range(1, V+1):\n",
    "        if visited[i] == 0: # 방문하지 않은 정점이면 bfs 수행\n",
    "            q.append(i)\n",
    "            visited[i] = group\n",
    "            while q:\n",
    "                v = q.popleft()\n",
    "                for w in graph[v]:\n",
    "                    if visited[w] == 0: # 방문하지 않은 정점이면 큐에 삽입\n",
    "                        q.append(w)\n",
    "                        visited[w] = -1 * visited[v] # 현재 노드와 다른 그룹 지정\n",
    "                    elif visited[v] == visited[w]: # 이미 방문한 경우, 동일한 그룹에 속하면 False\n",
    "                        bipatite = False\n",
    "\n",
    "    print('YES' if bipatite else 'NO')"
   ]
  },
  {
   "cell_type": "markdown",
   "id": "e5cffbee-0ef5-4181-9b43-b44ed0629f8a",
   "metadata": {},
   "source": [
    "#### 궁금"
   ]
  },
  {
   "cell_type": "code",
   "execution_count": 46,
   "id": "be5d7478-d49a-4048-bee5-d46a936f1aca",
   "metadata": {},
   "outputs": [
    {
     "name": "stdout",
     "output_type": "stream",
     "text": [
      "YES\n",
      "NO\n"
     ]
    }
   ],
   "source": [
    "import sys\n",
    "from collections import deque\n",
    "sys.stdin = open('test.txt', 'r')\n",
    "input = sys.stdin.readline\n",
    "\n",
    "def bfs(v):\n",
    "\n",
    "    condition = True\n",
    "    dq = deque()\n",
    "    \n",
    "    for k in range(1, v+1): \n",
    "        visited = [0] * (v+1)\n",
    "        \n",
    "#         if visited[k] == 0: # 방문한 적 있으면 다음 점으로 그냥 넘어감\n",
    "        dq.append(k)\n",
    "        visited[k] = 1\n",
    "\n",
    "        while dq:\n",
    "            a = dq.popleft()\n",
    "\n",
    "            for j in graph[a]: \n",
    "\n",
    "                # 방문한 적 없다면\n",
    "                if visited[j] == 0:         \n",
    "                    visited[j] = (-1) * visited[a]\n",
    "                    dq.append(j)\n",
    "\n",
    "                # 방문한 적 있음 + 이번에 pop된 클래스와 동일함\n",
    "                elif visited[j] == visited[a]: \n",
    "                    condition = False\n",
    "                    # 중간에 리턴해서 while문을 깨면 안됨 : 그렇게 하고 싶다면 dq 재선언해야 함(데이터가 남기 때문)\n",
    "\n",
    "    return print(\"YES\" if condition else \"NO\")\n",
    "\n",
    "t = int(input())\n",
    "for _ in range(t):\n",
    "    v, e = map(int, input().split())\n",
    "    \n",
    "    graph = [[] for _ in range(v+1)]\n",
    "    for _ in range(e):\n",
    "        a, b = map(int, input().split())\n",
    "            \n",
    "        graph[a].append(b)\n",
    "        graph[b].append(a)\n",
    "        \n",
    "    bfs(v)\n",
    "\n",
    "    \n",
    "        \n",
    "    "
   ]
  },
  {
   "cell_type": "markdown",
   "id": "11949b19-e168-4c72-b217-8045fdf9c345",
   "metadata": {},
   "source": [
    "# 요약\n",
    "1. 그래프의 모든 점에 대해 탐색할 것\n",
    "2. 방문 리스트를 초기화하지 않는다. 대신 방문한 적이 있다면 코드를 실행하지 않고 다음으로 넘어가면 됨"
   ]
  },
  {
   "cell_type": "markdown",
   "id": "c207ce2a-45aa-4fc5-8197-0ad3dd7125bc",
   "metadata": {},
   "source": [
    "----------------------"
   ]
  },
  {
   "cell_type": "markdown",
   "id": "a537621e-4bba-4598-b083-dffc12f7ae58",
   "metadata": {},
   "source": [
    "# 2206 : 벽 부수고 탈출하기 복습\n",
    "- 이게 왜 틀렸습니다가 뜰까?\n",
    "- 오 반례 찾음 : 지도를 수정하기 때문에 발생하는 문제로 보임(벽이 없어지니까)\n"
   ]
  },
  {
   "cell_type": "code",
   "execution_count": 171,
   "id": "b87193f4-51d9-475f-a82e-d98e0e8794df",
   "metadata": {},
   "outputs": [
    {
     "name": "stdout",
     "output_type": "stream",
     "text": [
      "-1\n",
      "[1, 2, 3, 4]\n",
      "[2, 3, 4, 5]\n",
      "[3, 4, 5, -1]\n",
      "[4, 5, 6, -1]\n",
      "[-1, -1, -1, 0]\n",
      "[0, 0, 0, 0]\n"
     ]
    }
   ],
   "source": [
    "# 반례 발견\n",
    "import sys\n",
    "from collections import deque\n",
    "sys.stdin = open('test.txt', 'r')\n",
    "input = sys.stdin.readline\n",
    "n, m = map(int, input().split())\n",
    "\n",
    "graph = []\n",
    "\n",
    "for _ in range(n):\n",
    "    graph.append(list(map(lambda x : -int(x), input().rstrip() ) ) )\n",
    "\n",
    "dq = deque()\n",
    "moves = [(1,0), (-1,0), (0,1), (0, -1)]\n",
    "\n",
    "def bfs(graph):\n",
    "    \n",
    "    point = (0, 0, True)\n",
    "    graph[0][0] = 1\n",
    "    dq.append(point)\n",
    "    \n",
    "    while dq:\n",
    "        a, b, chance = dq.popleft()\n",
    "        \n",
    "        if a == n-1 and b == m-1:\n",
    "            return print(graph[n-1][m-1])\n",
    "        \n",
    "        for move in moves:\n",
    "            da = a + move[0]\n",
    "            db = b + move[1]\n",
    "            \n",
    "            if 0 <= da < n and 0 <= db < m:\n",
    "                \n",
    "                # 방문할 점이 벽이고, chance 값이 있다\n",
    "                if graph[da][db] == -1 and chance:\n",
    "                    graph[da][db] = graph[a][b] + 1\n",
    "                    new_chance = False\n",
    "                    dq.append((da, db, new_chance))\n",
    "                \n",
    "                elif graph[da][db] == 0: # 나는 그래프 위에 1 이상의 값이 있으면 방문했다라고 쳤잖음?\n",
    "                    graph[da][db] = graph[a][b] + 1\n",
    "                    dq.append((da, db, chance))\n",
    "    \n",
    "    return print(-1)\n",
    "\n",
    "bfs(graph)\n",
    "for i in graph:\n",
    "    print(i)"
   ]
  },
  {
   "cell_type": "markdown",
   "id": "157ec338-5863-44be-9cb1-af8a5bcfcb60",
   "metadata": {},
   "source": [
    "- <b>그렇다면 방문 그래프를 하나 더 만들어서(2차원으로) 구현해보면 어떨까?</b>\n",
    "    - 아래 코드는 <b>메모리 초과</b>가 떴다. : 벽을 만났을 때 벽 부수는 기회가 유지되질 않음;"
   ]
  },
  {
   "cell_type": "code",
   "execution_count": 170,
   "id": "402853db-7e5d-489b-8647-12ae8dd6f973",
   "metadata": {},
   "outputs": [
    {
     "name": "stdout",
     "output_type": "stream",
     "text": [
      "9\n"
     ]
    }
   ],
   "source": [
    "import sys\n",
    "from collections import deque\n",
    "sys.stdin = open('test.txt', 'r')\n",
    "input = sys.stdin.readline\n",
    "n, m = map(int, input().split())\n",
    "\n",
    "graph = []\n",
    "\n",
    "for _ in range(n):\n",
    "    graph.append(list(map(int, input().rstrip())))\n",
    "                          \n",
    "visited = [[[0] *2 for _ in range(m)]  for _ in range(n)]\n",
    "\n",
    "dq = deque()\n",
    "moves = [(1,0), (-1,0), (0,1), (0, -1)]\n",
    "\n",
    "def bfs(graph):\n",
    "    \n",
    "    point = (0, 0, 0)\n",
    "    visited[0][0][0] = 1\n",
    "    dq.append(point)\n",
    "    \n",
    "    while dq:\n",
    "        a, b, chance = dq.popleft()\n",
    "        \n",
    "        if a == n-1 and b == m-1:\n",
    "            return print(visited[n-1][m-1][chance])\n",
    "        \n",
    "        for move in moves:\n",
    "            da = a + move[0]\n",
    "            db = b + move[1]\n",
    "            \n",
    "            if 0 <= da < n and 0 <= db < m:\n",
    "                \n",
    "                # 방문할 점이 벽이고, chance 값이 있다\n",
    "                if graph[da][db] == 1 and chance == 0:\n",
    "                    visited[da][db][1] = visited[a][b][chance] + 1\n",
    "                    dq.append((da, db, 1))\n",
    "                \n",
    "                elif graph[da][db] == 0 and visited[da][db][chance] == 0:\n",
    "                    visited[da][db][chance] = visited[a][b][chance] + 1\n",
    "                    dq.append((da, db, chance))\n",
    "        \n",
    "    return print(-1)\n",
    "\n",
    "bfs(graph)"
   ]
  },
  {
   "cell_type": "code",
   "execution_count": 168,
   "id": "004825c0-e689-4c7e-a120-adcb6bb1d36c",
   "metadata": {},
   "outputs": [
    {
     "name": "stdout",
     "output_type": "stream",
     "text": [
      "[[1, 3], [0, 4], [0, 3], [0, 4]]\n",
      "[[2, 4], [3, 3], [0, 6], [0, 5]]\n",
      "[[0, 7], [4, 4], [5, 5], [0, 6]]\n",
      "[[6, 4], [5, 5], [6, 6], [0, 7]]\n",
      "[[0, 7], [0, 6], [0, 7], [0, 8]]\n",
      "[[0, 8], [0, 7], [0, 8], [0, 9]]\n"
     ]
    }
   ],
   "source": [
    "for i in visited:\n",
    "    print(i)"
   ]
  },
  {
   "cell_type": "markdown",
   "id": "e8a079af-394c-4e94-b740-e9c38a89d2ce",
   "metadata": {},
   "source": [
    "### 일단 찾아보면 대부분 그래프 자체를 3차원으로 구현한 경우가 많다\n",
    "- 나는 그냥 있는 그래프 위에 경로를 바로 구현했는데, 이게 먹히지 않는 경우도 있나보다"
   ]
  },
  {
   "cell_type": "code",
   "execution_count": 159,
   "id": "993ec2b0-9d76-4a9b-8b01-6dddd58476e2",
   "metadata": {},
   "outputs": [
    {
     "name": "stdout",
     "output_type": "stream",
     "text": [
      "9\n"
     ]
    }
   ],
   "source": [
    "import sys\n",
    "from collections import deque\n",
    "sys.stdin = open('test.txt', 'r')\n",
    "input = sys.stdin.readline\n",
    "n, m = map(int, input().split())\n",
    "\n",
    "graph = []\n",
    "\n",
    "for _ in range(n):\n",
    "    graph.append(list(map(int, input().rstrip() ) ) )\n",
    "\n",
    "visited = [[[0]*2 for _ in range(m)] for _ in range(n)] # n,m 행렬의 각 element를 원소 2개로 구성함 : (벽 뚫었는가, 방문값)\n",
    "\n",
    "moves = [(1,0), (-1,0), (0,1), (0, -1)]\n",
    "\n",
    "def bfs_3d(graph):\n",
    "    dq = deque()\n",
    "    point = (0, 0, 0)\n",
    "    visited[0][0][0] = 1 # [a][b] = [x,y]라고 할때 [a][b][0] = 1 -> 즉 visited[a][b] = (1, 0)\n",
    "    dq.append(point)\n",
    "    \n",
    "    while dq:\n",
    "        a, b, chance = dq.popleft() # 왼쪽 값(0)은 벽을 뚫지 않았을 때, 오른쪽 값은 벽을 뚫었을 때의 값임\n",
    "        \n",
    "        if a == n-1 and b == m-1:\n",
    "            return print(visited[n-1][m-1][chance])\n",
    "        \n",
    "        for move in moves:\n",
    "            da = a + move[0]\n",
    "            db = b + move[1]\n",
    "            \n",
    "            if 0 <= da < n and 0 <= db < m:\n",
    "                \n",
    "                # 방문할 점이 벽이고, chance 값이 있다\n",
    "                if graph[da][db] == 1 and chance == 0:\n",
    "                    visited[da][db][1] = visited[a][b][chance] + 1 # 값을 원래는 왼쪽에 유지하지만 벽을 뚫으면 오른쪽으로 옮김\n",
    "                    dq.append((da, db, 1))\n",
    "                \n",
    "                elif graph[da][db] == 0 and visited[da][db][chance] == 0:\n",
    "                    visited[da][db][chance] = visited[a][b][chance] + 1\n",
    "                    dq.append((da, db, chance))\n",
    "    \n",
    "    return print(-1)\n",
    "\n",
    "bfs_3d(graph)"
   ]
  },
  {
   "cell_type": "code",
   "execution_count": 160,
   "id": "35c031c3-8672-4e8c-acd6-3efeed2babe6",
   "metadata": {},
   "outputs": [
    {
     "name": "stdout",
     "output_type": "stream",
     "text": [
      "[[1, 3], [0, 4], [0, 3], [0, 4]]\n",
      "[[2, 4], [3, 3], [0, 6], [0, 5]]\n",
      "[[0, 7], [4, 4], [5, 5], [0, 6]]\n",
      "[[6, 4], [5, 5], [6, 6], [0, 9]]\n",
      "[[7, 5], [6, 6], [7, 7], [8, 8]]\n",
      "[[8, 6], [7, 7], [8, 8], [9, 9]]\n"
     ]
    }
   ],
   "source": [
    "for i in visited:\n",
    "    print(i)"
   ]
  },
  {
   "cell_type": "code",
   "execution_count": null,
   "id": "c5161bae-49d2-4538-bf3b-d1cd7b5b60bf",
   "metadata": {},
   "outputs": [],
   "source": []
  }
 ],
 "metadata": {
  "kernelspec": {
   "display_name": "Python 3",
   "language": "python",
   "name": "python3"
  },
  "language_info": {
   "codemirror_mode": {
    "name": "ipython",
    "version": 3
   },
   "file_extension": ".py",
   "mimetype": "text/x-python",
   "name": "python",
   "nbconvert_exporter": "python",
   "pygments_lexer": "ipython3",
   "version": "3.8.8"
  }
 },
 "nbformat": 4,
 "nbformat_minor": 5
}
