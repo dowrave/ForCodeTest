{
 "cells": [
  {
   "cell_type": "markdown",
   "id": "b4fca38b-6f9e-4687-8dec-5447af6a38d8",
   "metadata": {},
   "source": [
    "## 10815번\n",
    "- 시간 초과가 엄청 뜬다. map함수를 써봐도 뜸. -> 이건 헬프를 봐야겠다. 몰?루겠네요"
   ]
  },
  {
   "cell_type": "code",
   "execution_count": 40,
   "id": "8f2edd94-d231-47bf-95b6-d4f0a623eae0",
   "metadata": {},
   "outputs": [
    {
     "name": "stdout",
     "output_type": "stream",
     "text": [
      "1 0 0 1 1 0 0 1\n"
     ]
    }
   ],
   "source": [
    "import sys\n",
    "sys.stdin = open('test.txt', 'r')\n",
    "\n",
    "N = int(sys.stdin.readline().rstrip('\\n'))\n",
    "numbers = set(map(int, sys.stdin.readline().rstrip('\\n').split()))\n",
    "M = int(sys.stdin.readline().rstrip('\\n'))\n",
    "\n",
    "# cards = list(map(int, sys.stdin.readline().rstrip('\\n').split()))\n",
    "\n",
    "def map_cards(i):\n",
    "    if i in numbers:\n",
    "        return \"1\"\n",
    "    else:\n",
    "        return \"0\"\n",
    "    \n",
    "print(\" \".join (map(map_cards, map(int, sys.stdin.readline().rstrip('\\n').split()))))"
   ]
  },
  {
   "cell_type": "markdown",
   "id": "5eeafc63-f1b1-486f-9b8e-93fa39d5c4c7",
   "metadata": {},
   "source": [
    "### 방법 1. set을 써본다.\n",
    "- 놀랍게도 numbers 객체를 list -> set으로 바꿨는데 맞음(메모리 105MB, 시간 484ms)\n"
   ]
  },
  {
   "cell_type": "markdown",
   "id": "90701ea0-0974-428e-bdfd-f1f46028d7fa",
   "metadata": {},
   "source": [
    "### 방법 2. 이진 탐색을 이용한다\n",
    "- 1. cards 리스트를 오름차순 정렬함\n",
    "- 2. 이진 탐색을 이용함\n",
    "    - 0. left = 0, right = n-1 로 정의 , mid는 (n-1) / 2\n",
    "    - 1. 리스트의 가운데 값이 찾는 값이면 return 1\n",
    "    - 2. 가운데 값이 찾고자 하는 값보다 크면 right를 (n - 1) / 2 - 1로, 작다면 left를 (n - 1) / 2 + 1 로 정의함\n",
    "    - 위 1, 2 단계를 left <= right 인 조건으로 while문을 돌려준다\n",
    "#### 이진 탐색 결과 2588ms가 떴음 - set이 효과가 생각보다 굉장히 좋다!"
   ]
  },
  {
   "cell_type": "code",
   "execution_count": null,
   "id": "4b920973-b375-405a-9430-cdf1f1764fc2",
   "metadata": {},
   "outputs": [],
   "source": [
    "def binary_search(num):\n",
    "    l = 0\n",
    "    r = n-1\n",
    "    while l <= r :\n",
    "        mid = (l+r)//2\n",
    "        if a[mid] == num :\n",
    "            return 1\n",
    "        elif a[mid] > num :\n",
    "            r = mid - 1\n",
    "            # 반 줄여주기 1\n",
    "        else:\n",
    "            l = mid + 1\n",
    "            # 반 줄여주기 2\n",
    "    return 0\n",
    "\n",
    "input()\n",
    "for num in list(map(int, input().split())):\n",
    "    print(binary_search(num), end = ' ')"
   ]
  },
  {
   "cell_type": "markdown",
   "id": "a4990c36-c081-424b-baa9-855a955fcc5b",
   "metadata": {},
   "source": [
    "## 잠깐 정리 : Set의 활용도\n",
    "1. <b>속도 향상</b> - 알다시피 list보다 set의 속도가 훨씬 빠른데, 이 정도로 유의미하게 날 줄은 몰랐다.\n",
    "2. 집합 연산 : `리스트 - 리스트`라는 연산이 불가능한 건 직접 해봐서 알 거임\n",
    "- 집합 연산은 `&`(교집합), `|`(합집합), `-`(차집합), `^`(대칭 차집합 : 합집합 - 교집합) 이 있다"
   ]
  },
  {
   "cell_type": "markdown",
   "id": "d1473808-a49f-411c-9c7d-5909159dd29d",
   "metadata": {},
   "source": [
    "## 14425번\n",
    "- 다소 ez하게 풀었다\n",
    "- set은 신인가?"
   ]
  },
  {
   "cell_type": "code",
   "execution_count": 48,
   "id": "aca53336-2e18-4eb5-826c-0d217396a160",
   "metadata": {},
   "outputs": [],
   "source": [
    "import sys\n",
    "sys.stdin = open('test.txt', 'r')\n",
    "N, M = map(int, sys.stdin.readline().rstrip('\\n').split(' '))\n"
   ]
  },
  {
   "cell_type": "code",
   "execution_count": 49,
   "id": "7e5e1b29-72e6-4040-bab6-b1ae3621cc2d",
   "metadata": {},
   "outputs": [
    {
     "name": "stdout",
     "output_type": "stream",
     "text": [
      "baekjoon\n",
      "codeplus\n",
      "codeminus\n",
      "startlink\n",
      "starlink\n",
      "sundaycoding\n",
      "codingsh\n",
      "codinghs\n",
      "sondaycoding\n",
      "startrink\n",
      "icerink\n",
      "4\n"
     ]
    }
   ],
   "source": [
    "S = [] # set은 변경할 수 없다\n",
    "# 즉 리스트로 만들되 사용할 땐 set으로 쓰자\n",
    "for _ in range(N):\n",
    "    i = sys.stdin.readline().rstrip('\\n')\n",
    "    S.append(i)\n",
    "S = set(S) # 적용 O - 160ms\n",
    "           # 적용 X - 3796ms ㅁㅊ\n",
    "\n",
    "count = 0\n",
    "for _ in range(M):\n",
    "    j = sys.stdin.readline().rstrip('\\n')\n",
    "    if j in S:\n",
    "        count += 1\n",
    "print(count)"
   ]
  },
  {
   "cell_type": "markdown",
   "id": "92d34c6c-ef1d-49f9-85fe-e600322c3f07",
   "metadata": {},
   "source": [
    "## 1620번\n",
    "- `()`은 튜플, `{}`은 집합이다. \n",
    "- set은 인덱스를 이용할 수 없다.\n",
    "- 이름이 들어오면 숫자를, 숫자가 들어오면 이름을 출력해야 함\n",
    "- 일단 dict 2개를 쓰는 방법을 생각하긴 함, 나중의 편의성을 생각해서 코드를 짜는 습관도 필요할 것 같다. 정답!"
   ]
  },
  {
   "cell_type": "code",
   "execution_count": 154,
   "id": "2568530e-9f73-4a34-bd4e-cb3ed9ee84e2",
   "metadata": {},
   "outputs": [],
   "source": [
    "import sys\n",
    "sys.stdin = open('test.txt', 'r')\n",
    "N, M = map(int, sys.stdin.readline().rstrip('\\n').split(' '))\n"
   ]
  },
  {
   "cell_type": "code",
   "execution_count": 155,
   "id": "494bbb7c-c0db-4e65-9726-ff4d726c9153",
   "metadata": {},
   "outputs": [],
   "source": [
    "# 쥐어짜내서 생각해보면 이런 게 가능하긴 하다:\n",
    "# 번호 -> 이름 접근하는 dict와 이름 -> 번호 접근하는 dict 2개를 만들 수 있을 거임\n",
    "dict1 = {} # 번호 -> 이름\n",
    "dict2 = {} # 이름 -> 번호\n",
    "\n",
    "for idx, _ in enumerate(range(N)):\n",
    "    value = sys.stdin.readline().rstrip('\\n').lstrip('\\n')\n",
    "    dict1[str(idx + 1)] = value\n",
    "    dict2[value] = str(idx + 1)\n"
   ]
  },
  {
   "cell_type": "code",
   "execution_count": 156,
   "id": "0deec69c-c837-4993-8084-573f5a2bf769",
   "metadata": {},
   "outputs": [
    {
     "name": "stdout",
     "output_type": "stream",
     "text": [
      "Pikachu\n",
      "26\n",
      "Venusaur\n",
      "16\n",
      "14\n"
     ]
    }
   ],
   "source": [
    "for j in range(M):\n",
    "    value = sys.stdin.readline().rstrip('\\n')\n",
    "    # 왜 Pikachu가 1번 조건을 못 타는가? - str이니까 바보야!\n",
    "    if value in dict1:\n",
    "        print(dict1[value])\n",
    "    elif value in dict2:\n",
    "        print(dict2[value])"
   ]
  },
  {
   "cell_type": "markdown",
   "id": "68da638d-162a-44e4-a28f-c31d311745bc",
   "metadata": {},
   "source": [
    "## 10816번 : 숫자 카드 2\n",
    "- 왜 틀렸다고 나올까?\n",
    "- 일단 dict 유형은 `해쉬 자료구조`의 구현이라고 한다\n",
    "- `리스트에 어떤 값이 몇개 있는지 dict로 알려주는 알고리즘` 자체는 파이썬에 이미 구현되어 있다 : `Collections` 라이브러리 - `Counter` 함수\n"
   ]
  },
  {
   "cell_type": "code",
   "execution_count": 213,
   "id": "fa942a90-dbc1-4488-9f58-1bd57298b12c",
   "metadata": {},
   "outputs": [],
   "source": [
    "import sys\n",
    "sys.stdin = open('test.txt', 'r')\n",
    "N = int(sys.stdin.readline().rstrip('\\n'))\n",
    "have = map(int, sys.stdin.readline().rstrip('\\n').split(' '))\n",
    "M = int(sys.stdin.readline().rstrip('\\n'))\n",
    "reference = map(int, sys.stdin.readline().split(' '))\n",
    "\n",
    "# 순서 때문에 dict는 반복문으로 만들어준다\n",
    "# 레퍼런스를 먼저 봄 : 레퍼런스의 각 값은 0으로 해서 넣음 - 근데 이건 틀렸다고 나옴. 왤까?\n",
    "temp_dict = {}\n",
    "for i in reference:\n",
    "    ref_dict[i] = 0\n",
    "# 자료가 몇 개 있는지 살펴봄 -> key 값이 이미 있다면 +1 해줌\n",
    "for i in have:\n",
    "    if i in ref_dict:\n",
    "        ref_dict[i] += 1\n",
    "\n",
    "print(\" \".join(map(str, ref_dict.values())))"
   ]
  },
  {
   "cell_type": "code",
   "execution_count": 220,
   "id": "40934008-a831-4275-8f92-038e9837cf7a",
   "metadata": {},
   "outputs": [
    {
     "name": "stdout",
     "output_type": "stream",
     "text": [
      "3 0 0 1 2 0 0 2\n"
     ]
    }
   ],
   "source": [
    "# 순서 때문에 dict는 반복문으로 만들어준다\n",
    "temp_dict = {}\n",
    "for i in reference:\n",
    "    ref_dict[i] = 0\n",
    "for i in have:\n",
    "    if i in ref_dict:\n",
    "        ref_dict[i] += 1\n",
    "\n",
    "print(\" \".join(map(str, ref_dict.values())))"
   ]
  },
  {
   "cell_type": "code",
   "execution_count": 208,
   "id": "8a8d684b-8828-402e-ad0e-ddeb0fde7f5d",
   "metadata": {},
   "outputs": [
    {
     "name": "stdout",
     "output_type": "stream",
     "text": [
      "3 0 0 1 2 0 0 2\n"
     ]
    }
   ],
   "source": []
  },
  {
   "cell_type": "code",
   "execution_count": 219,
   "id": "ac534346-2357-4134-9587-0020ff3d1712",
   "metadata": {},
   "outputs": [
    {
     "name": "stdout",
     "output_type": "stream",
     "text": [
      "3 0 0 1 2 0 0 2\n"
     ]
    }
   ],
   "source": [
    "# 복붙 - 맞음. 근데 내 꺼는 틀렸습니다가 뜨는데 근본적으로 뭔 차이임?\n",
    "from sys import stdin\n",
    "stdin = open('test.txt', 'r')\n",
    "_ = stdin.readline()\n",
    "N = map(int,stdin.readline().split())\n",
    "_ = stdin.readline()\n",
    "M = map(int,stdin.readline().split())\n",
    "hashmap = {}\n",
    "for n in N:\n",
    "    if n in hashmap:\n",
    "        hashmap[n] += 1\n",
    "    else:\n",
    "        hashmap[n] = 1\n",
    "\n",
    "print(' '.join(str(hashmap[m]) if m in hashmap else '0' for m in M))"
   ]
  },
  {
   "cell_type": "code",
   "execution_count": null,
   "id": "0fda0f66-5b8c-4d0f-9f53-ad634eb14979",
   "metadata": {},
   "outputs": [],
   "source": []
  }
 ],
 "metadata": {
  "kernelspec": {
   "display_name": "Python 3",
   "language": "python",
   "name": "python3"
  },
  "language_info": {
   "codemirror_mode": {
    "name": "ipython",
    "version": 3
   },
   "file_extension": ".py",
   "mimetype": "text/x-python",
   "name": "python",
   "nbconvert_exporter": "python",
   "pygments_lexer": "ipython3",
   "version": "3.8.8"
  }
 },
 "nbformat": 4,
 "nbformat_minor": 5
}
