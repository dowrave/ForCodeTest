{
 "cells": [
  {
   "cell_type": "markdown",
   "id": "87fb88c2-367d-4878-ad0c-730310adda80",
   "metadata": {},
   "source": [
    "## 1764번\n",
    "- 듣보잡과 보잡이 있을 때 교집합을 구하시오"
   ]
  },
  {
   "cell_type": "code",
   "execution_count": 8,
   "id": "69466e9f-e08e-4a0c-a940-f599d01a38d3",
   "metadata": {},
   "outputs": [
    {
     "name": "stdout",
     "output_type": "stream",
     "text": [
      "2\n",
      "baesangwook\n",
      "ohhenrie\n"
     ]
    }
   ],
   "source": [
    "import sys\n",
    "sys.stdin = open('test.txt', 'r')\n",
    "N, M = map(int, sys.stdin.readline().rstrip('\\n').split())\n",
    "\n",
    "dbj = set([sys.stdin.readline().rstrip('\\n') for _ in range(N)])\n",
    "bj = set([sys.stdin.readline().rstrip('\\n') for _ in range(M)])\n",
    "\n",
    "solution = list(dbj&bj)\n",
    "solution.sort()\n",
    "\n",
    "print(len(solution))\n",
    "print('\\n'.join((solution)))"
   ]
  },
  {
   "cell_type": "markdown",
   "id": "2a68a751-2e07-4f6e-bccd-53e764e03260",
   "metadata": {},
   "source": [
    "## 1269번\n",
    "- 대칭 차집합 : 합집합 - 교집합\n",
    "- 파이썬에선 `^`로 가능"
   ]
  },
  {
   "cell_type": "code",
   "execution_count": 15,
   "id": "54163a81-4590-42aa-86e3-ca75e231d512",
   "metadata": {},
   "outputs": [
    {
     "name": "stdout",
     "output_type": "stream",
     "text": [
      "4\n",
      "{1, 3, 5, 6}\n",
      "{1, 3, 5, 6}\n"
     ]
    }
   ],
   "source": [
    "import sys\n",
    "sys.stdin = open('test.txt', 'r')\n",
    "sys.stdin.readline()\n",
    "A = set(map(int, sys.stdin.readline().rstrip('\\n').split()))\n",
    "B = set(map(int, sys.stdin.readline().split()))\n",
    "\n",
    "# 1. 파이썬의 ^ 오퍼레이터 이용\n",
    "print(len(A^B))\n",
    "# 2. 대칭 차집합 정의로 구하기\n",
    "print((A-B) | (B-A))\n",
    "print((A|B)-(A&B))"
   ]
  },
  {
   "cell_type": "markdown",
   "id": "46867105-0934-4624-ae71-2214f05f3140",
   "metadata": {},
   "source": [
    "## 11478번\n",
    "- 문자열 S가 있을 때 서로 다른 문자열의 개수를 구하는 프로그램을 작성하시오\n",
    "- 아니 `rstrip` 안넣어서 틀렸습니다가 나오네\n",
    "- 검색해서 찾아봐도 다 고만고만함"
   ]
  },
  {
   "cell_type": "code",
   "execution_count": 33,
   "id": "060c1ad3-3eb7-4ea3-bc92-eea9ac529739",
   "metadata": {},
   "outputs": [
    {
     "name": "stdout",
     "output_type": "stream",
     "text": [
      "19\n"
     ]
    }
   ],
   "source": [
    "import sys\n",
    "sys.stdin = open('test.txt', 'r')\n",
    "S = sys.stdin.readline().rstrip('\\n')\n",
    "\n",
    "lst = []\n",
    "# 이중 for문이라 거시기하긴 한데\n",
    "for i in range(len(S)):\n",
    "    for j in range(i, len(S)):\n",
    "        lst.append(S[i:j+1])\n",
    "print(len(set(lst)))\n"
   ]
  },
  {
   "cell_type": "code",
   "execution_count": 26,
   "id": "f9d8df01-f8a0-49d1-b718-648540bdfb5a",
   "metadata": {},
   "outputs": [
    {
     "data": {
      "text/plain": [
       "12"
      ]
     },
     "execution_count": 26,
     "metadata": {},
     "output_type": "execute_result"
    }
   ],
   "source": []
  },
  {
   "cell_type": "code",
   "execution_count": null,
   "id": "c7fbef71-eb08-4f35-9841-ea05b47aee09",
   "metadata": {},
   "outputs": [],
   "source": []
  }
 ],
 "metadata": {
  "kernelspec": {
   "display_name": "Python 3",
   "language": "python",
   "name": "python3"
  },
  "language_info": {
   "codemirror_mode": {
    "name": "ipython",
    "version": 3
   },
   "file_extension": ".py",
   "mimetype": "text/x-python",
   "name": "python",
   "nbconvert_exporter": "python",
   "pygments_lexer": "ipython3",
   "version": "3.8.8"
  }
 },
 "nbformat": 4,
 "nbformat_minor": 5
}
