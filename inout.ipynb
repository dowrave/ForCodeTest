{
 "cells": [
  {
   "cell_type": "markdown",
   "id": "0d65c7b1-f4ca-4644-b0a6-c58ab9388602",
   "metadata": {},
   "source": [
    "# 코테 데이터 입력"
   ]
  },
  {
   "cell_type": "markdown",
   "id": "15afb8c8-bd38-4d93-9406-c645a6c38e75",
   "metadata": {},
   "source": [
    "- 코테만의 약속인 것 같음. 원래 input 함수는 터미널에서 실행되는 건데 코테에서는 어떤 데이터들을 자동으로 입력해주는 느낌?\n",
    "- 근데 `int(input())`은 몰?루겠네요\n",
    "    - 얘는 파일을 읽어오는 애가 아니잖아\n"
   ]
  },
  {
   "cell_type": "code",
   "execution_count": 44,
   "id": "e3b358eb-5a74-4ba2-8ac8-e7cb0ef96bd1",
   "metadata": {},
   "outputs": [],
   "source": [
    "import sys\n",
    "sys.stdin = open(\"input.txt\", \"r\") \n",
    "########################################### sys.stdin은 기본 지정되어 있다고 봐야 함\n",
    "\n",
    "input = sys.stdin.readline() # 읽어온 파일을 1줄씩 읽는 코드임 - 기본 : string\n",
    "input_lst = list(map(int, input.split(' '))) # string.split(' ') : 띄어쓰기를 기준으로 string을 나눠줍니다"
   ]
  },
  {
   "cell_type": "code",
   "execution_count": 45,
   "id": "f76a336d-f93d-4338-bd6f-3968838e8ea9",
   "metadata": {},
   "outputs": [
    {
     "name": "stdout",
     "output_type": "stream",
     "text": [
      "2 6 10\n"
     ]
    }
   ],
   "source": [
    "# 리스트를 a, b, c로 받을 수 있는가? -> 받을 수 있다. \n",
    "a, b, c= list(map(int, input.split(' ')))\n",
    "print(a, b, c)"
   ]
  },
  {
   "cell_type": "markdown",
   "id": "d550935b-0da2-4017-b5e0-8194b683efe0",
   "metadata": {},
   "source": [
    "## 입력 데이터가 여러 줄일 수 있겠죠?"
   ]
  },
  {
   "cell_type": "code",
   "execution_count": 56,
   "id": "5b8a040a-865d-4015-b4de-97bffccb7722",
   "metadata": {},
   "outputs": [
    {
     "name": "stdout",
     "output_type": "stream",
     "text": [
      "[323, 256, 512]\n"
     ]
    }
   ],
   "source": [
    "# sys.stdin.close() # 연 파일은 꼭 닫아줍시다!\n",
    "\n",
    "sys.stdin = open(\"input2.txt\", \"r\")\n",
    "\n",
    "# print(sys.stdin.readlines()) # 여러 번 호출하면 작동 안함\n",
    "# print(sys.stdin.readlines())\n",
    "\n",
    "# \\n이 있을 떄 int 씌우면 지울 수 있는가 -> 지울 수 있다\n",
    "print(list(map(int, sys.stdin.readlines())))"
   ]
  },
  {
   "cell_type": "markdown",
   "id": "99b3bafa-a343-487e-a825-b0ad6ad8f16b",
   "metadata": {},
   "source": [
    "## 에러 케이스 테스트\n",
    "- 백준 10950"
   ]
  },
  {
   "cell_type": "code",
   "execution_count": 60,
   "id": "dcb7df95-d928-435d-a089-0bd0c01b92d8",
   "metadata": {},
   "outputs": [
    {
     "data": {
      "text/plain": [
       "['5\\n', '1 1\\n', '2 3\\n', '3 4\\n', '9 8\\n', '5 2']"
      ]
     },
     "execution_count": 60,
     "metadata": {},
     "output_type": "execute_result"
    }
   ],
   "source": [
    "sys.stdin.close()\n",
    "\n",
    "sys.stdin = open(\"test.txt\", \"r\")\n",
    "\n",
    "# 2번째 줄부터는 1 1 이런식으로 들어가니까 그냥 하면 안됨\n",
    "\n",
    "lst = sys.stdin.readlines()\n",
    "lst"
   ]
  },
  {
   "cell_type": "code",
   "execution_count": 65,
   "id": "61ec4def-8c16-488b-8563-e483a8651e92",
   "metadata": {},
   "outputs": [
    {
     "name": "stdout",
     "output_type": "stream",
     "text": [
      "2\n",
      "5\n",
      "7\n",
      "17\n",
      "7\n"
     ]
    }
   ],
   "source": [
    "T = int(lst[0])\n",
    "for i in range(T):\n",
    "    a, b =map(int, lst[i + 1].split(\" \"))\n",
    "    print(a + b) "
   ]
  },
  {
   "cell_type": "markdown",
   "id": "bfb56d1e-e92c-46ad-889d-5f2f23fa89a2",
   "metadata": {},
   "source": [
    "### Underscore에 대해"
   ]
  },
  {
   "cell_type": "code",
   "execution_count": 70,
   "id": "a67789c9-b9e6-4c52-a2e4-9fa138beaf5d",
   "metadata": {},
   "outputs": [],
   "source": [
    "# 변수 지정할 때 위처럼만 쓰자. 아래처럼 쓰면 이상하게 나옴(이전 변수가 나오는 거 같음)\n",
    "_ = a\n",
    "a = _"
   ]
  },
  {
   "cell_type": "code",
   "execution_count": 72,
   "id": "2466669f-9b29-48d8-9c1c-ce1031ffcc25",
   "metadata": {},
   "outputs": [
    {
     "name": "stdout",
     "output_type": "stream",
     "text": [
      "       *\n",
      "      **\n",
      "     ***\n",
      "    ****\n",
      "   *****\n"
     ]
    }
   ],
   "source": [
    "N = 5\n",
    "for i in range(N):\n",
    "    print(\" \" * (N - i + 1), \"*\" * (i + 1))"
   ]
  },
  {
   "cell_type": "code",
   "execution_count": 100,
   "id": "19becf71-dd89-43ca-ae6f-f422bae9d4ce",
   "metadata": {},
   "outputs": [
    {
     "ename": "KeyboardInterrupt",
     "evalue": "",
     "output_type": "error",
     "traceback": [
      "\u001b[1;31m---------------------------------------------------------------------------\u001b[0m",
      "\u001b[1;31mKeyboardInterrupt\u001b[0m                         Traceback (most recent call last)",
      "\u001b[1;32m<ipython-input-100-847e61f1a7f1>\u001b[0m in \u001b[0;36m<module>\u001b[1;34m\u001b[0m\n\u001b[0;32m      4\u001b[0m \u001b[1;33m\u001b[0m\u001b[0m\n\u001b[0;32m      5\u001b[0m \u001b[1;32mwhile\u001b[0m \u001b[0ma\u001b[0m \u001b[1;33m!=\u001b[0m \u001b[0mnn\u001b[0m\u001b[1;33m:\u001b[0m\u001b[1;33m\u001b[0m\u001b[1;33m\u001b[0m\u001b[0m\n\u001b[1;32m----> 6\u001b[1;33m     \u001b[0mnn\u001b[0m \u001b[1;33m=\u001b[0m \u001b[0ma\u001b[0m\u001b[1;33m\u001b[0m\u001b[1;33m\u001b[0m\u001b[0m\n\u001b[0m\u001b[0;32m      7\u001b[0m     \u001b[0mten\u001b[0m \u001b[1;33m=\u001b[0m \u001b[0mnn\u001b[0m \u001b[1;33m//\u001b[0m \u001b[1;36m10\u001b[0m\u001b[1;33m\u001b[0m\u001b[1;33m\u001b[0m\u001b[0m\n\u001b[0;32m      8\u001b[0m     \u001b[0mone\u001b[0m \u001b[1;33m=\u001b[0m \u001b[0mnn\u001b[0m \u001b[1;33m%\u001b[0m \u001b[1;36m10\u001b[0m\u001b[1;33m\u001b[0m\u001b[1;33m\u001b[0m\u001b[0m\n",
      "\u001b[1;31mKeyboardInterrupt\u001b[0m: "
     ]
    }
   ],
   "source": [
    "# a = 26\n",
    "# i = 0\n",
    "# nn = 0\n",
    "\n",
    "# while문에 내부 반복되는 변수를 넣기 번거로움\n",
    "# while a != nn:\n",
    "#     nn = a\n",
    "#     ten = nn // 10\n",
    "#     one = nn % 10\n",
    "#     nn = ten + one\n",
    "#     nn = one * 10 + nn\n",
    "\n",
    "#     i += 1\n",
    "\n",
    "# 그러면 그냥 이렇게 하자\n",
    "print(i)"
   ]
  },
  {
   "cell_type": "code",
   "execution_count": 106,
   "id": "338040a3-dde6-4780-924a-ba842f6ef042",
   "metadata": {},
   "outputs": [
    {
     "name": "stdout",
     "output_type": "stream",
     "text": [
      "4\n"
     ]
    }
   ],
   "source": [
    "a = 26\n",
    "i = 0\n",
    "new_a = a\n",
    "\n",
    "while True:\n",
    "    ten = new_a // 10\n",
    "    one = new_a % 10\n",
    "    new_a = ten + one\n",
    "    new_a = one * 10 + new_a % 10\n",
    "    i += 1\n",
    "    if a == new_a:\n",
    "        break\n",
    "print(i)"
   ]
  },
  {
   "cell_type": "code",
   "execution_count": 98,
   "id": "dfc3eeab-19eb-40f0-a9f5-cf2ff337934b",
   "metadata": {},
   "outputs": [
    {
     "data": {
      "text/plain": [
       "0"
      ]
     },
     "execution_count": 98,
     "metadata": {},
     "output_type": "execute_result"
    }
   ],
   "source": []
  },
  {
   "cell_type": "code",
   "execution_count": null,
   "id": "879b49f0-29cd-41af-a404-bfcf9296fe8b",
   "metadata": {},
   "outputs": [],
   "source": []
  }
 ],
 "metadata": {
  "kernelspec": {
   "display_name": "Python 3",
   "language": "python",
   "name": "python3"
  },
  "language_info": {
   "codemirror_mode": {
    "name": "ipython",
    "version": 3
   },
   "file_extension": ".py",
   "mimetype": "text/x-python",
   "name": "python",
   "nbconvert_exporter": "python",
   "pygments_lexer": "ipython3",
   "version": "3.8.8"
  }
 },
 "nbformat": 4,
 "nbformat_minor": 5
}
