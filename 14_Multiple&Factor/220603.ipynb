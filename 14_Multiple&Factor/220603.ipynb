{
 "cells": [
  {
   "cell_type": "markdown",
   "id": "8ba2e7f7-6407-43d7-b5ad-79c746528bf1",
   "metadata": {},
   "source": [
    "## 5086번\n",
    "- 일단 배수, 약수 개념은 %로 구현이 가능함"
   ]
  },
  {
   "cell_type": "code",
   "execution_count": 11,
   "id": "828ad956-4368-48a9-bd11-f284c8320b08",
   "metadata": {},
   "outputs": [],
   "source": [
    "import sys\n",
    "sys.stdin = open('test.txt', 'r')"
   ]
  },
  {
   "cell_type": "code",
   "execution_count": 12,
   "id": "45a2c95a-05cd-4c12-958d-75e919084af2",
   "metadata": {},
   "outputs": [
    {
     "name": "stdout",
     "output_type": "stream",
     "text": [
      "factor\n",
      "multiple\n",
      "neither\n"
     ]
    }
   ],
   "source": [
    "while True:\n",
    "    A, B = map(int, sys.stdin.readline().rstrip('\\n').split())\n",
    "    if A == 0 and B == 0:\n",
    "        break\n",
    "    if B % A == 0:\n",
    "        print(\"factor\")\n",
    "    elif A % B == 0 :\n",
    "        print(\"multiple\")\n",
    "    else:\n",
    "        print(\"neither\")"
   ]
  },
  {
   "cell_type": "markdown",
   "id": "6e0e6419-d67e-42cf-a5f2-3e4d2bff7291",
   "metadata": {},
   "source": [
    "## 1037번\n",
    "- 1과 N 자기 자신을 제외한 진짜 약수들을 줬을 때 N값을 구하시오"
   ]
  },
  {
   "cell_type": "code",
   "execution_count": 57,
   "id": "3f6aa05a-1b2d-482a-adad-607da12cb3af",
   "metadata": {},
   "outputs": [],
   "source": [
    "import sys\n",
    "sys.stdin = open('test.txt', 'r')"
   ]
  },
  {
   "cell_type": "code",
   "execution_count": 58,
   "id": "4960b492-2110-4ab2-a4b8-7657d4e8211f",
   "metadata": {},
   "outputs": [
    {
     "name": "stdout",
     "output_type": "stream",
     "text": [
      "14\n",
      "185192\n"
     ]
    }
   ],
   "source": [
    "N = int(sys.stdin.readline().rstrip('\\n'))\n",
    "print(N)\n",
    "M = map(int, sys.stdin.readline().rstrip('\\n').split())\n",
    "M = list(M)\n",
    "# map 상태에서는 min, max 적용 못하나보다? max() arg is an empty sequence 에러가 뜸\n",
    "if len(M) == 1:\n",
    "    print(M[0] * M[0])\n",
    "else:\n",
    "    print(min(M) * max(M))"
   ]
  },
  {
   "cell_type": "markdown",
   "id": "bf76303c-6573-40e7-92ff-f45c67d559d4",
   "metadata": {},
   "source": [
    "## 2609번 - 최대공약수, 최소공배수\n",
    "- 프로그래머스의 그 문제\n",
    "- 직접 들이받아보고, `유클리드 호제법`에 대해 알아보자"
   ]
  },
  {
   "cell_type": "code",
   "execution_count": 76,
   "id": "83b322ff-0c36-464e-be5b-59c59edb0e47",
   "metadata": {},
   "outputs": [],
   "source": [
    "import sys\n",
    "sys.stdin = open('test.txt', 'r')\n",
    "\n",
    "M, N = map(int, sys.stdin.readline().rstrip('\\n').split(' '))\n"
   ]
  },
  {
   "cell_type": "code",
   "execution_count": 77,
   "id": "6aae7be7-dac9-4e73-9542-a59120069b53",
   "metadata": {},
   "outputs": [
    {
     "data": {
      "text/plain": [
       "([1, 2, 3, 4, 6, 8, 12, 24], [1, 2, 3, 6, 9, 18])"
      ]
     },
     "execution_count": 77,
     "metadata": {},
     "output_type": "execute_result"
    }
   ],
   "source": [
    "# M의 약수 리스트 얻기\n",
    "def factors(M):\n",
    "    lst = [1]\n",
    "    for i in range(2, M//2 + 1):\n",
    "        if M % i == 0:\n",
    "            lst.append(i)\n",
    "    lst.append(M)\n",
    "    \n",
    "    return lst\n",
    "\n",
    "factors(M), factors(N)\n",
    "        "
   ]
  },
  {
   "cell_type": "code",
   "execution_count": 81,
   "id": "b17716b7-ec5f-4314-8c86-c3e3788454be",
   "metadata": {},
   "outputs": [
    {
     "name": "stdout",
     "output_type": "stream",
     "text": [
      "6\n",
      "72\n"
     ]
    }
   ],
   "source": [
    "# 최대 공약수 \n",
    "max_factor = max(set(factors(M)) & set(factors(N)))\n",
    "\n",
    "# 약수 리스트에서 최소공배수 구하기\n",
    "# 일단 최소공배수는 무조건 약수 집합에서 가장 큰 놈보다 큼 -> 근데 이건 결국 M, N 중 하나잖아?\n",
    "smallest_min_multiple = max(M, N)\n",
    "\n",
    "# 최소 공배수\n",
    "out_break = False\n",
    "for i in factors(M):\n",
    "    for j in factors(N):\n",
    "        A = i * j\n",
    "        if A >= smallest_min_multiple and A % M == 0 and A % N == 0:\n",
    "            out_break = True\n",
    "            min_multiple = A\n",
    "            break\n",
    "    if out_break == True:\n",
    "        break\n",
    "print(max_factor)\n",
    "print(min_multiple)"
   ]
  },
  {
   "cell_type": "markdown",
   "id": "84fd016f-f7ec-4fb4-ba13-b63d61819b3b",
   "metadata": {},
   "source": [
    "### 유클리드 호제법\n",
    "- O(nlogn)이라고 하는 듯?"
   ]
  },
  {
   "cell_type": "code",
   "execution_count": 91,
   "id": "77a03ff9-6f5f-4985-b3f1-672eaa8af841",
   "metadata": {},
   "outputs": [],
   "source": [
    "def euclidian(a, b):\n",
    "    \"\"\"\n",
    "    while 조건식에 관해 :\n",
    "    나머지가 0이 되더라도 반복문 자체는 돌아가므로 b, r값은 a, b값이 된다.\n",
    "    따라서 조건식과 return 값 모두 b, r을 쓰지 않고 a, b를 사용함.\n",
    "    \"\"\"\n",
    "    while b != 0: \n",
    "        r = a % b \n",
    "        a = b \n",
    "        b = r\n",
    "    return a "
   ]
  },
  {
   "cell_type": "code",
   "execution_count": 93,
   "id": "ead0de45-211c-4107-9e1d-de016d0a8f8c",
   "metadata": {},
   "outputs": [],
   "source": [
    "gce = euclidian(18, 24) # Greatest Common Divisor\n",
    "lcm = 18 * 24 / gce # Least Common Multiple"
   ]
  },
  {
   "cell_type": "code",
   "execution_count": 94,
   "id": "ba3fbbbe-f029-4adb-82f0-c19f6a61f34d",
   "metadata": {},
   "outputs": [
    {
     "data": {
      "text/plain": [
       "72.0"
      ]
     },
     "execution_count": 94,
     "metadata": {},
     "output_type": "execute_result"
    }
   ],
   "source": [
    "lcm"
   ]
  },
  {
   "cell_type": "code",
   "execution_count": 97,
   "id": "4b55d183-331e-4224-886b-ff84f8efc7da",
   "metadata": {},
   "outputs": [
    {
     "name": "stdout",
     "output_type": "stream",
     "text": [
      "6\n",
      "72\n"
     ]
    }
   ],
   "source": [
    "import sys\n",
    "sys.stdin = open('test.txt', 'r')\n",
    "M,N = map(int, sys.stdin.readline().rstrip('\\n').split())\n",
    "\n",
    "def euclidian(a, b):\n",
    "\n",
    "    while b != 0: \n",
    "        r = a % b \n",
    "        a = b \n",
    "        b = r\n",
    "    return a \n",
    "\n",
    "gce = euclidian(M, N)\n",
    "lcm = M * N // gce\n",
    "\n",
    "print(gce)\n",
    "print(lcm)"
   ]
  },
  {
   "cell_type": "markdown",
   "id": "80bd3815-5e59-46fa-abc5-528604405663",
   "metadata": {},
   "source": [
    "## 1934번"
   ]
  },
  {
   "cell_type": "code",
   "execution_count": 109,
   "id": "5f3c108e-da6d-46cd-b8fd-a304465af299",
   "metadata": {},
   "outputs": [
    {
     "name": "stdout",
     "output_type": "stream",
     "text": [
      "45000\n",
      "30\n",
      "221\n"
     ]
    }
   ],
   "source": [
    "import sys\n",
    "sys.stdin = open('test.txt', 'r')\n",
    "T = int(sys.stdin.readline().rstrip('\\n'))\n",
    "\n",
    "def gce_func(a, b):\n",
    "    while b != 0:\n",
    "        r = a % b\n",
    "        a = b\n",
    "        b = r\n",
    "    return a\n",
    "\n",
    "for _ in range(T):\n",
    "    A, B = map(int, sys.stdin.readline().rstrip('\\n').split())\n",
    "    if A < B:\n",
    "        B, A = A, B\n",
    "    gce = gce_func(A, B)\n",
    "    lcm = (A * B) // gce\n",
    "    print(lcm)"
   ]
  },
  {
   "cell_type": "code",
   "execution_count": 157,
   "id": "7bb04723-aaa5-44dc-9ee6-d940dd85ccb7",
   "metadata": {},
   "outputs": [],
   "source": [
    "# 참고 : math 라이브러리에는 gce, lcm 구하는 함수가 있음"
   ]
  },
  {
   "cell_type": "markdown",
   "id": "aa66cd03-c90a-448f-9d70-2c548b8cdad9",
   "metadata": {},
   "source": [
    "## 2981번\n",
    "- 주어진 숫자들을 어떤 수(a)로 나눴을 때 나머지가 모두 같음\n",
    "- 이 a들을 출력하시오"
   ]
  },
  {
   "cell_type": "code",
   "execution_count": 241,
   "id": "6706a77e-a22c-4bf0-9413-4588c8c62a3e",
   "metadata": {},
   "outputs": [],
   "source": [
    "import sys\n",
    "sys.stdin = open('test.txt', 'r')\n",
    "N = int(sys.stdin.readline().rstrip('\\n'))\n",
    "lst = []\n",
    "for i in range(N):\n",
    "    lst.append(int(sys.stdin.readline().rstrip('\\n')))\n",
    "lst.sort()"
   ]
  },
  {
   "cell_type": "markdown",
   "id": "a5810c38-dfbb-4981-96bb-747eb3b9f481",
   "metadata": {},
   "source": [
    "### 몰?루겠어서 찾아봄\n",
    "- 모든 수는 A*B + r로 나타낼 수 있음\n",
    "- 즉 어떤 두 수의 차 연산 결과는 나머지가 0임 (r끼리 빼지기 때문에)\n",
    "- 정렬 후 인접한 인덱스를 빼면 가장 작은 간격이 무조건 나옴\n",
    "- 그 가장 작은 간격과 그것보다 하나 큰 간격의 최대공약수를 구하면 얼추 맞을 것"
   ]
  },
  {
   "cell_type": "code",
   "execution_count": 282,
   "id": "4ecd2fca-9926-4039-a94f-9fb67cc5235c",
   "metadata": {},
   "outputs": [
    {
     "name": "stdout",
     "output_type": "stream",
     "text": [
      "3\n"
     ]
    }
   ],
   "source": [
    "import sys\n",
    "sys.stdin = open('test.txt', 'r')\n",
    "N = int(sys.stdin.readline().rstrip('\\n'))\n",
    "lst = []\n",
    "\n",
    "def euclidian(a, b):\n",
    "    if a == 0 or b == 0:\n",
    "        return 0\n",
    "    elif a < b:\n",
    "        a, b = b, a\n",
    "    while b != 0:\n",
    "        r = a % b\n",
    "        a = b\n",
    "        b = r\n",
    "    return a\n",
    "\n",
    "# 추가함 - gcd를 갱신해나가는 방식으로\n",
    "\n",
    "for i in range(N):\n",
    "    lst.append(int(sys.stdin.readline().rstrip('\\n')))\n",
    "\n",
    "    if i == 0 :\n",
    "        continue\n",
    "    elif i == 1:\n",
    "        gcd = abs(lst[1] - lst[0])\n",
    "    else:\n",
    "        gcd = euclidian(gcd, abs(lst[i] - lst[i - 1]))\n",
    "\n",
    "\n",
    "# gcd의 약수 출력\n",
    "\n",
    "def find_divisor(n):\n",
    "    boundary = int(n ** (1/2) + 1)\n",
    "    lst = []\n",
    "    for i in range(2, boundary):\n",
    "        if n % i == 0:\n",
    "            lst.append(i)\n",
    "            lst.append(n // i)\n",
    "    lst.append(n) \n",
    "\n",
    "    lst = list(set(lst)) # 중복 가능성 대비 \n",
    "    lst.sort() # 오름차순 정렬\n",
    "    lst = list(map(str, lst))\n",
    "    \n",
    "    return lst\n",
    "\n",
    "print(\" \".join(find_divisor(gcd)))"
   ]
  },
  {
   "cell_type": "code",
   "execution_count": null,
   "id": "f4d44cd4-f99c-48bb-94cd-813fbcfaf42e",
   "metadata": {},
   "outputs": [],
   "source": [
    "if len(sub_lst) == 1:\n",
    "    gcd = sub_lst[0]\n",
    "else:\n",
    "    gcd = euclidian(sub_lst[0], sub_lst[1])\n",
    "\n",
    "\n"
   ]
  },
  {
   "cell_type": "markdown",
   "id": "95922b24-0118-48db-89ad-9a02be3fa26d",
   "metadata": {},
   "source": [
    "- 이게 정답지인데..\n",
    "1. 위 반복문에서 왜 i = 0 일때 작동함? s[0] - s[-1]에서 걸릴 거 같은데 -> s[0-1]이 작동함 ㅋㅋ\n",
    "2. `math.gcd`는 `argument`들이 들어오는대로 받아줌\n"
   ]
  },
  {
   "cell_type": "code",
   "execution_count": 231,
   "id": "4ba3f4c0-36cf-4f2d-bc6c-7fffa9b8a75a",
   "metadata": {},
   "outputs": [
    {
     "name": "stdin",
     "output_type": "stream",
     "text": [
      " \n"
     ]
    },
    {
     "ename": "ValueError",
     "evalue": "invalid literal for int() with base 10: ''",
     "output_type": "error",
     "traceback": [
      "\u001b[1;31m---------------------------------------------------------------------------\u001b[0m",
      "\u001b[1;31mValueError\u001b[0m                                Traceback (most recent call last)",
      "\u001b[1;32m<ipython-input-231-8212d18d7599>\u001b[0m in \u001b[0;36m<module>\u001b[1;34m\u001b[0m\n\u001b[0;32m      1\u001b[0m \u001b[1;32mimport\u001b[0m \u001b[0mmath\u001b[0m\u001b[1;33m\u001b[0m\u001b[1;33m\u001b[0m\u001b[0m\n\u001b[1;32m----> 2\u001b[1;33m \u001b[0mt\u001b[0m \u001b[1;33m=\u001b[0m \u001b[0mint\u001b[0m\u001b[1;33m(\u001b[0m\u001b[0minput\u001b[0m\u001b[1;33m(\u001b[0m\u001b[1;33m)\u001b[0m\u001b[1;33m)\u001b[0m\u001b[1;33m\u001b[0m\u001b[1;33m\u001b[0m\u001b[0m\n\u001b[0m\u001b[0;32m      3\u001b[0m \u001b[0ms\u001b[0m \u001b[1;33m=\u001b[0m \u001b[1;33m[\u001b[0m\u001b[1;33m]\u001b[0m\u001b[1;33m\u001b[0m\u001b[1;33m\u001b[0m\u001b[0m\n\u001b[0;32m      4\u001b[0m \u001b[0ma\u001b[0m \u001b[1;33m=\u001b[0m \u001b[1;33m[\u001b[0m\u001b[1;33m]\u001b[0m\u001b[1;33m\u001b[0m\u001b[1;33m\u001b[0m\u001b[0m\n\u001b[0;32m      5\u001b[0m \u001b[0mgcd\u001b[0m \u001b[1;33m=\u001b[0m \u001b[1;36m0\u001b[0m\u001b[1;33m\u001b[0m\u001b[1;33m\u001b[0m\u001b[0m\n",
      "\u001b[1;31mValueError\u001b[0m: invalid literal for int() with base 10: ''"
     ]
    }
   ],
   "source": [
    "import math\n",
    "t = int(input())\n",
    "s = []\n",
    "a = []\n",
    "gcd = 0\n",
    "for i in range(t):\n",
    "    s.append(int(input()))\n",
    "    if i == 1:\n",
    "        gcd = abs(s[1] - s[0])\n",
    "    gcd = math.gcd(abs(s[i] - s[i - 1]), gcd) # i = 0 일 때도 작동함 : i-1은 -1이니까 자기 자신을 빼는 거임\n",
    "                                              # 그래서 처음 반복문에서 gcd값은 0이 들어감. 0으로 초기화하기도 했고.\n",
    "        \n",
    "\n",
    "# 여기는 알겠는데 위에가 이해가 안됨\n",
    "gcd_a = int(gcd ** 0.5)\n",
    "for i in range(2, gcd_a + 1):\n",
    "    if gcd % i == 0:\n",
    "        a.append(i)\n",
    "        a.append(gcd // i)\n",
    "a.append(gcd)\n",
    "a = list(set(a))\n",
    "a.sort()\n",
    "\n",
    "for i in a:\n",
    "    print(i, end = ' ')"
   ]
  },
  {
   "cell_type": "markdown",
   "id": "507884d8-36f4-4803-8ccf-1ff9ab1ed77a",
   "metadata": {},
   "source": [
    "# 3036번"
   ]
  },
  {
   "cell_type": "code",
   "execution_count": 288,
   "id": "223b6f75-495d-40f8-8bcf-4fa81efb5764",
   "metadata": {},
   "outputs": [
    {
     "name": "stdout",
     "output_type": "stream",
     "text": [
      "300/1\n",
      "300/1\n",
      "1/1\n"
     ]
    }
   ],
   "source": [
    "import sys\n",
    "\n",
    "\n",
    "sys.stdin = open('test.txt', 'r')\n",
    "sys.stdin.readline()\n",
    "circles = list(map(int, sys.stdin.readline().split(\" \")))\n",
    "\n",
    "def find_gcd(a, b):\n",
    "    while b != 0:\n",
    "        r = a % b\n",
    "        a = b\n",
    "        b = r\n",
    "    return a\n",
    "\n",
    "standard = circles[0]\n",
    "for i in circles[1:]:\n",
    "    # 어떻게 기약분수 형태로 나타낼까? - 각 숫자를 최대공약수로 나눈 몫임\n",
    "    gcd = find_gcd(standard, i)\n",
    "    print(f\"{standard // gcd}/{i//gcd}\")\n",
    "    \n"
   ]
  },
  {
   "cell_type": "markdown",
   "id": "97cb6aff-c6ed-4970-9ec6-62a137915994",
   "metadata": {},
   "source": [
    "## 11050번\n",
    "- 이항계수 구하기\n",
    "- nCr == (n  r)"
   ]
  },
  {
   "cell_type": "code",
   "execution_count": 301,
   "id": "32383093-4516-486d-86c9-9a4ce79fcf93",
   "metadata": {},
   "outputs": [],
   "source": [
    "# 팩토리얼로 다 할 수 있지 않음?\n",
    "def factorial(a):\n",
    "    if a == 0:\n",
    "        a = 1\n",
    "    else:\n",
    "        a *= factorial(a-1)\n",
    "    return a\n",
    "\n",
    "def combination(n, r):\n",
    "    return int(factorial(n) / factorial(n-r) / factorial(r))"
   ]
  },
  {
   "cell_type": "code",
   "execution_count": 302,
   "id": "6804906b-a6dd-4976-9c69-0e9d5708b351",
   "metadata": {},
   "outputs": [
    {
     "name": "stdout",
     "output_type": "stream",
     "text": [
      "10\n"
     ]
    }
   ],
   "source": [
    "# 분자는 n팩을 n-r팩으로 나눈거고\n",
    "# 분모는 r팩인거고\n",
    "import sys\n",
    "sys.stdin = open('test.txt', 'r')\n",
    "\n",
    "n, r= map(int, sys.stdin.readline().rstrip('\\n').split(' '))\n",
    "print(combination(n, r) % 10007)"
   ]
  },
  {
   "cell_type": "markdown",
   "id": "4b9c632e-8d5d-4f98-82da-071bd336b672",
   "metadata": {},
   "source": [
    "## 11051번\n",
    "- 이항계수를 10007로 나눈 나머지를 구하시오"
   ]
  },
  {
   "cell_type": "code",
   "execution_count": null,
   "id": "fc6364f4-5165-4e58-b53d-6010e9090c01",
   "metadata": {},
   "outputs": [],
   "source": [
    "# 파이썬은 동적 계획법에 그다지 해당이 없지 않앗나 싶으요 <- 알못 ㅈㄹㄴ \n",
    "# 리스트 자체가 다이나믹함\n"
   ]
  }
 ],
 "metadata": {
  "kernelspec": {
   "display_name": "Python 3",
   "language": "python",
   "name": "python3"
  },
  "language_info": {
   "codemirror_mode": {
    "name": "ipython",
    "version": 3
   },
   "file_extension": ".py",
   "mimetype": "text/x-python",
   "name": "python",
   "nbconvert_exporter": "python",
   "pygments_lexer": "ipython3",
   "version": "3.8.8"
  }
 },
 "nbformat": 4,
 "nbformat_minor": 5
}
