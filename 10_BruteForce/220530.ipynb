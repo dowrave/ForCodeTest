{
 "cells": [
  {
   "cell_type": "code",
   "execution_count": 59,
   "id": "d0e43e9f-7ef7-4015-9966-a73440abbdd2",
   "metadata": {},
   "outputs": [],
   "source": [
    "import sys\n",
    "\n",
    "sys.stdin = open('test.txt', 'r')"
   ]
  },
  {
   "cell_type": "markdown",
   "id": "530d4d86-60ec-4cbc-ae16-80e40d5b5fda",
   "metadata": {},
   "source": [
    "## 2798번 : 블랙잭\n",
    "- 조건 1. 첫 줄에는 카드의 개수 N(`3~10`), M(`10~300000`)이 주어진다.\n",
    "- 조건 2. 둘째 줄에는 카드에 쓰여있는 숫자들이 있으며 이 중 3개의 합이 M을 넘지 않는 최대의 수를 구하는 게 문제"
   ]
  },
  {
   "cell_type": "code",
   "execution_count": 60,
   "id": "f74b6e88-1100-46ad-bbb1-cf0f02616d2d",
   "metadata": {},
   "outputs": [
    {
     "name": "stdout",
     "output_type": "stream",
     "text": [
      "10 500 [93, 181, 245, 214, 315, 36, 185, 138, 216, 295]\n"
     ]
    }
   ],
   "source": [
    "inputs = sys.stdin.readlines()\n",
    "N, M = list(map(int, inputs[0].split(\" \")))\n",
    "lst = list(map(int, inputs[1].split(\" \")))\n",
    "print(N, M, lst)"
   ]
  },
  {
   "cell_type": "code",
   "execution_count": 64,
   "id": "07d40207-ae7c-4f4a-8491-0dcb9b10248e",
   "metadata": {
    "tags": []
   },
   "outputs": [
    {
     "name": "stdout",
     "output_type": "stream",
     "text": [
      "497\n"
     ]
    }
   ],
   "source": [
    "lst = sorted(lst)\n",
    "a, b, c= 0, 1, 2\n",
    "i = 0\n",
    "abs_lst = []\n",
    "# sum_lst = lst[a] + lst[b] + lst[c] # 와 이거 반복문 안에서 c값 변화 반영이 안되네?\n",
    "\n",
    "while a <= len(lst) - 3:\n",
    "    if M >= lst[a] + lst[b] + lst[c]:\n",
    "        abs_lst.append(M- (lst[a] + lst[b] + lst[c]))\n",
    "#     print(a, b, c, lst[a] + lst[b] + lst[c])\n",
    "\n",
    "\n",
    "    if b == len(lst) - 2 and c == len(lst) - 1:\n",
    "        a = a + 1\n",
    "        b = a + 1\n",
    "        c = a + 2\n",
    "\n",
    "            \n",
    "        \n",
    "    elif c == len(lst) - 1:\n",
    "        b = b + 1\n",
    "        c = b + 1\n",
    "\n",
    "        \n",
    "    else:\n",
    "        c += 1\n",
    "print(M - min(abs_lst))"
   ]
  },
  {
   "cell_type": "markdown",
   "id": "a3498ec3-afa9-4514-81ce-4eebb9f991bf",
   "metadata": {},
   "source": [
    "## 2231번 : 분해합\n",
    "- 분해합 : 자연수 N에 대해, N과 N을 이루는 각 자리수의 합을 의미한다\n",
    "    - 어떤 자연수 M의 분해합이 N인 경우 M은 N의 생성자다\n",
    "    - 예를들어 `245`의 분해합은 `256`이며, 이 때 `245`는 `256`의 `생성자`라고 한다. 생성자가 없는 경우도 있고 여러 개인 경우도 있다.\n",
    "\n",
    "#### 문제 : 자연수 N에 대해 N의 가장 작은 생성자를 구해내는 포로그램을 작성하시오\n",
    "- 생성자가 없다면 0을 출력하자"
   ]
  },
  {
   "cell_type": "code",
   "execution_count": 91,
   "id": "4245d9fc-bac8-48ca-a9d9-3c93a26df66f",
   "metadata": {},
   "outputs": [],
   "source": [
    "import sys\n",
    "sys.stdin = open('test.txt', 'r')\n",
    "\n",
    "N = int(sys.stdin.readline())"
   ]
  },
  {
   "cell_type": "code",
   "execution_count": 162,
   "id": "b77885f1-de9c-4844-aa45-1841e63752da",
   "metadata": {
    "tags": []
   },
   "outputs": [
    {
     "name": "stdout",
     "output_type": "stream",
     "text": [
      "[1, 2, 4, 8, 16, 23, 28, 38, 49, 62, 70, 77, 91, 101, 103, 107, 115, 122, 127, 137, 148, 161, 169, 185, 199]\n",
      "[3, 6, 12, 15, 21, 24, 30, 33, 39, 51, 57, 69, 84, 96, 111, 114, 120, 123, 129, 141, 147, 159, 174, 186, 201, 204, 210, 213]\n",
      "[5, 10, 11, 13, 17, 25, 32, 37, 47, 58, 71, 79, 95, 109, 119, 130, 134, 142, 149, 163, 173, 184, 197, 214]\n",
      "[7, 14, 19, 29, 40, 44, 52, 59, 73, 83, 94, 107, 115, 122, 127, 137, 148, 161, 169, 185, 199]\n",
      "[9, 18, 27, 36, 45, 54, 63, 72, 81, 90, 99, 117, 126, 135, 144, 153, 162, 171, 180, 189, 207, 216]\n",
      "9\n"
     ]
    }
   ],
   "source": [
    "# 재귀함수 쓸 수 있나?\n",
    "N = 216\n",
    "\n",
    "def IofDivsum(inputs):\n",
    "    \n",
    "    if inputs > N:\n",
    "        print(lst)\n",
    "        return lst\n",
    "\n",
    "    else: \n",
    "        lst.append(inputs)\n",
    "        divsum = inputs\n",
    "\n",
    "        while inputs > 0 :\n",
    "            divsum += inputs % 10\n",
    "            inputs = inputs // 10\n",
    "\n",
    "        return IofDivsum(divsum)# 처음에 return을 안넣으니까 인덱스가 없다는 오류가 났음\n",
    "                                # 와 이게 return이냐 아니냐가 차이 많이 난다\n",
    "\n",
    "numbers = [i for i in range(1, N)]\n",
    "\n",
    "for i in numbers:\n",
    "    lst = []\n",
    "    lst = IofDivsum(i)\n",
    "    for j in lst:\n",
    "        if j in numbers and i != j:\n",
    "            numbers.remove(j)\n",
    "    if N in lst:\n",
    "        print(lst[0])\n",
    "        break\n",
    "    "
   ]
  },
  {
   "cell_type": "code",
   "execution_count": 168,
   "id": "194be908-a9fb-4101-82bf-e15c5153484f",
   "metadata": {},
   "outputs": [
    {
     "data": {
      "text/plain": [
       "[3, 2, 5]"
      ]
     },
     "execution_count": 168,
     "metadata": {},
     "output_type": "execute_result"
    }
   ],
   "source": [
    "# 이야 문제를 완전히 잘못 이해했는데?\n",
    "# 어떤 숫자가 있으면 그거의 생성자만 구하면 됨 - 즉 생성자의 생성자를 구하는 문제가 아님!!!!\n",
    "# 어떤 수 N이 주어졌다고 해보자 - 얘를 풀어해치면 이렇게 됨\n",
    "lst = []\n",
    "a = 325\n",
    "while a > 0:\n",
    "    lst.append(a%10)\n",
    "    a = a // 10\n",
    "lst[::-1]\n",
    "# 이 값이 탐색할 범위는 a - 1 ~ 18 + 3임 (a[0] + 9 * a[1:]부터 자릿수)\n",
    "# 이를 리스트의 길이와 관련해서 나타내보자\n",
    "for i in range(a - (a[0] + 9 * (len(lst) - 1)), a - 1):\n",
    "    '''대충 i를 분해합한 게 i값과 같나요?'''\n",
    "    '''그렇다면 리스트에 append할게요'''\n",
    "    '''그다음 가장 작은 값 구하면 됨'''"
   ]
  },
  {
   "cell_type": "code",
   "execution_count": 209,
   "id": "1f442860-ffb6-4d25-91d3-1171592af3df",
   "metadata": {},
   "outputs": [
    {
     "name": "stdout",
     "output_type": "stream",
     "text": [
      "196 215\n"
     ]
    }
   ],
   "source": [
    "# 분해합 구하기\n",
    "def find_divsum(n):\n",
    "    divsum = n\n",
    "    while n > 0:\n",
    "        divsum += n % 10\n",
    "        n = n // 10\n",
    "    return divsum\n",
    "\n",
    "def find_range(n):\n",
    "    lst = []\n",
    "    temp_value = n\n",
    "    while temp_value>0:\n",
    "        lst.append(temp_value%10)\n",
    "        temp_value = temp_value//10\n",
    "    lst = lst[::-1]\n",
    "    min_range = n - lst[0] - 9 * (len(lst) - 1)\n",
    "    max_range = n - 1\n",
    "    return min_range, max_range\n",
    "\n",
    "n = 216\n",
    "\n",
    "m, M = find_range(n)\n",
    "print(m, M)"
   ]
  },
  {
   "cell_type": "code",
   "execution_count": 211,
   "id": "a3291100-5c42-44fb-b130-59c77d81eed5",
   "metadata": {},
   "outputs": [
    {
     "name": "stdout",
     "output_type": "stream",
     "text": [
      "198\n"
     ]
    }
   ],
   "source": [
    "solution = []\n",
    "\n",
    "for i in range(m, M + 1):\n",
    "    if find_divsum(i) == n:\n",
    "        solution.append(i)\n",
    "    \n",
    "if solution == [];\n",
    "    print(0)\n",
    "else:\n",
    "    print(min(solution))"
   ]
  },
  {
   "cell_type": "markdown",
   "id": "d1166eb9-62fb-4278-94b7-d5ba1fb8ab67",
   "metadata": {},
   "source": [
    "### 7568번\n",
    "- 몸무게 x, 키 y -> 덩치 (x, y)\n",
    "- 두 사람(x,y) , (p,q)이 있을때 (x>p) & (y>q)일 때 더 크다고 할 수 있음\n",
    "- 둘 다 크지 않다면, 누구도 상대보다 더 크다고 할 수 없다\n",
    "- 등수는 자신보다 더 큰 덩치인 사람의 수로 결정된다\n",
    "- 학생 N명의 몸무게, 키가 담긴 입력을 읽어 각 사람의 덩치 등수를 출력하자"
   ]
  },
  {
   "cell_type": "code",
   "execution_count": 360,
   "id": "d1408486-71a8-46a1-9e6f-066bb3090999",
   "metadata": {},
   "outputs": [
    {
     "name": "stdout",
     "output_type": "stream",
     "text": [
      "[['BBBBBBBBBBBBBBBBBBBBBBB'], ['BBBBBBBBBBBBBBBBBBBBBBB'], ['BBBBBBBBBBBBBBBBBBBBBBB'], ['BBBBBBBBBBBBBBBBBBBBBBB'], ['BBBBBBBBBBBBBBBBBBBBBBB'], ['BBBBBBBBBBBBBBBBBBBBBBB'], ['BBBBBBBBBBBBBBBBBBBBBBB'], ['BBBBBBBBBBBBBBBBBBBBBBB'], ['BBBBBBBBBBBBBBBBBBBBBBW']]\n"
     ]
    }
   ],
   "source": [
    "sys.stdin = open('test.txt', 'r')\n",
    "inputs = sys.stdin.readlines()\n",
    "N = list(map(int, inputs[0].rstrip('\\n').split(\" \")))\n",
    "lst = []\n",
    "for i in inputs[1:]:\n",
    "    small_lst = i.rstrip('\\n').split(' ')\n",
    "    lst.append(small_lst)\n",
    "print(lst)"
   ]
  },
  {
   "cell_type": "code",
   "execution_count": 362,
   "id": "57f9e05c-eeec-462e-b0e3-94210fb533ce",
   "metadata": {},
   "outputs": [
    {
     "ename": "TypeError",
     "evalue": "can't multiply sequence by non-int of type 'list'",
     "output_type": "error",
     "traceback": [
      "\u001b[1;31m---------------------------------------------------------------------------\u001b[0m",
      "\u001b[1;31mTypeError\u001b[0m                                 Traceback (most recent call last)",
      "\u001b[1;32m<ipython-input-362-61745bb6f703>\u001b[0m in \u001b[0;36m<module>\u001b[1;34m\u001b[0m\n\u001b[1;32m----> 1\u001b[1;33m \u001b[0mb\u001b[0m \u001b[1;33m=\u001b[0m \u001b[1;33m[\u001b[0m\u001b[1;36m1\u001b[0m\u001b[1;33m]\u001b[0m \u001b[1;33m*\u001b[0m \u001b[0mN\u001b[0m\u001b[1;33m\u001b[0m\u001b[1;33m\u001b[0m\u001b[0m\n\u001b[0m\u001b[0;32m      2\u001b[0m \u001b[1;33m\u001b[0m\u001b[0m\n\u001b[0;32m      3\u001b[0m \u001b[1;32mfor\u001b[0m \u001b[0mi\u001b[0m \u001b[1;32min\u001b[0m \u001b[0mrange\u001b[0m\u001b[1;33m(\u001b[0m\u001b[0mN\u001b[0m\u001b[1;33m)\u001b[0m\u001b[1;33m:\u001b[0m\u001b[1;33m\u001b[0m\u001b[1;33m\u001b[0m\u001b[0m\n\u001b[0;32m      4\u001b[0m     \u001b[1;32mfor\u001b[0m \u001b[0mj\u001b[0m \u001b[1;32min\u001b[0m \u001b[0mrange\u001b[0m\u001b[1;33m(\u001b[0m\u001b[0mN\u001b[0m\u001b[1;33m)\u001b[0m\u001b[1;33m:\u001b[0m\u001b[1;33m\u001b[0m\u001b[1;33m\u001b[0m\u001b[0m\n\u001b[0;32m      5\u001b[0m         \u001b[1;32mif\u001b[0m \u001b[0mi\u001b[0m \u001b[1;33m==\u001b[0m \u001b[0mj\u001b[0m\u001b[1;33m:\u001b[0m\u001b[1;33m\u001b[0m\u001b[1;33m\u001b[0m\u001b[0m\n",
      "\u001b[1;31mTypeError\u001b[0m: can't multiply sequence by non-int of type 'list'"
     ]
    }
   ],
   "source": [
    "b = [1] * N\n",
    "\n",
    "for i in range(N):\n",
    "    for j in range(N):\n",
    "        if i == j:\n",
    "            continue\n",
    "        elif lst[i][0] > lst[j][0] and lst[i][1] > lst[j][1]:\n",
    "            b[j] += 1 "
   ]
  },
  {
   "cell_type": "code",
   "execution_count": 282,
   "id": "d806ba89-eba2-4d56-8ff0-355307d2450c",
   "metadata": {},
   "outputs": [
    {
     "name": "stdout",
     "output_type": "stream",
     "text": [
      "2 2 1 2 5\n"
     ]
    }
   ],
   "source": [
    "print(\" \".join(map(str , b)))"
   ]
  },
  {
   "cell_type": "markdown",
   "id": "be8f43e8-441f-419c-b70d-a524badf0612",
   "metadata": {},
   "source": [
    "## 1018번 : 체스판 다시 칠하기"
   ]
  },
  {
   "cell_type": "code",
   "execution_count": 363,
   "id": "51c0a37d-f725-4a16-94a8-9638e437b2c3",
   "metadata": {},
   "outputs": [],
   "source": [
    "sys.stdin = open('test.txt', 'r')\n",
    "inputs = sys.stdin.readlines()\n",
    "M, N = list(map(int, inputs[0].rstrip(\"\\n\").split(\" \")))\n",
    "boards = inputs[1:]"
   ]
  },
  {
   "cell_type": "code",
   "execution_count": 364,
   "id": "0589adce-92b4-45f3-b03b-b5773eb11822",
   "metadata": {},
   "outputs": [],
   "source": [
    "new_boards = []\n",
    "for i in boards:\n",
    "    new_boards.append(i.rstrip('\\n'))"
   ]
  },
  {
   "cell_type": "code",
   "execution_count": 365,
   "id": "c275081c-2a29-4356-90b0-e7e04fbb85d6",
   "metadata": {},
   "outputs": [
    {
     "name": "stdout",
     "output_type": "stream",
     "text": [
      "['BBBBBBBBBBBBBBBBBBBBBBB', 'BBBBBBBBBBBBBBBBBBBBBBB', 'BBBBBBBBBBBBBBBBBBBBBBB', 'BBBBBBBBBBBBBBBBBBBBBBB', 'BBBBBBBBBBBBBBBBBBBBBBB', 'BBBBBBBBBBBBBBBBBBBBBBB', 'BBBBBBBBBBBBBBBBBBBBBBB', 'BBBBBBBBBBBBBBBBBBBBBBB', 'BBBBBBBBBBBBBBBBBBBBBBW']\n",
      "B B\n"
     ]
    }
   ],
   "source": [
    "print(new_boards)\n",
    "print(new_boards[3][2], new_boards[3][3])"
   ]
  },
  {
   "cell_type": "code",
   "execution_count": 370,
   "id": "918113d2-4b37-42c0-afbd-aea91c179246",
   "metadata": {},
   "outputs": [
    {
     "name": "stdout",
     "output_type": "stream",
     "text": [
      "35\n"
     ]
    }
   ],
   "source": [
    "# 8*8 영역의 첫 지점을 잡고 거기서부터 탐색하는 반복문을 짜보자\n",
    "# M * N 이라고 했으니까 가로 길이가 M, 세로 길이가 N\n",
    "# 1. 리스트 단위로(y축) 움직이는 첫 지점 좌표 : M - 7\n",
    "# 2. 가로 단위 : 마찬가지로 N - 8 + 1 = N - 7\n",
    "# 3. 첫 지점이 정해졌다면 8*8 단위에 대한 검사를 해야 함 \n",
    "    # 검사 내용은 i,j와 i, j+1이 같으면 에러 카운트를 +1 함\n",
    "    # 추가로 바로 위쪽의 값과 같은지도 비교해야 함\n",
    "\n",
    "err_cnt_lst = []\n",
    "for m in range(0, M - 7):\n",
    "    for n in range(0, N - 7):\n",
    "        error_counts = 0\n",
    "        for h in range(0, 7): # 모든 x축에 대해 실행해야 함 : 가운데 간격이 있으면 안됨 - 근데 이럼 중복이 생기잖음?\n",
    "            for w in range(0, 7, 2): # 0 2 4 6\n",
    "                # 조건식 구현 - elif문을 타면 조건식 하나만 체크하고 넘어가버림 \n",
    "                if new_boards[m + h][n + w] == new_boards[m + h][n + w + 1]:\n",
    "#                     print((m+h, n+w), new_boards[m+h][n+w], new_boards[m+h][n+w+1]) # 잘 잡아냄\n",
    "                    error_counts += 1\n",
    "\n",
    "            # 이건 바깥에서 돌려줘야 함! 안그러면 중첩 생김\n",
    "            if new_boards[m + h][n + w] == new_boards[m + h + 1][n + w]:\n",
    "#                     print((m+h, n+w), new_boards[m+h][n+w], new_boards[m+h+1][n+w]) # 이거도 잘 잡아냄\n",
    "                error_counts += 1\n",
    "        \n",
    "        err_cnt_lst.append(error_counts)\n",
    "                    \n",
    "print(min(err_cnt_lst))"
   ]
  },
  {
   "cell_type": "code",
   "execution_count": 367,
   "id": "3d056daf-4070-4179-9bd6-9fece2bce6fd",
   "metadata": {},
   "outputs": [
    {
     "data": {
      "text/plain": [
       "[56,\n",
       " 56,\n",
       " 56,\n",
       " 56,\n",
       " 56,\n",
       " 56,\n",
       " 56,\n",
       " 56,\n",
       " 56,\n",
       " 56,\n",
       " 56,\n",
       " 56,\n",
       " 56,\n",
       " 56,\n",
       " 56,\n",
       " 56,\n",
       " 56,\n",
       " 56,\n",
       " 56,\n",
       " 56,\n",
       " 56,\n",
       " 56,\n",
       " 56,\n",
       " 56,\n",
       " 56,\n",
       " 56,\n",
       " 56,\n",
       " 56,\n",
       " 56,\n",
       " 56,\n",
       " 56,\n",
       " 56]"
      ]
     },
     "execution_count": 367,
     "metadata": {},
     "output_type": "execute_result"
    }
   ],
   "source": [
    "err_cnt_lst"
   ]
  },
  {
   "cell_type": "code",
   "execution_count": null,
   "id": "79481f91-b845-44d3-b695-cf2dd025fe6b",
   "metadata": {},
   "outputs": [],
   "source": []
  }
 ],
 "metadata": {
  "kernelspec": {
   "display_name": "Python 3",
   "language": "python",
   "name": "python3"
  },
  "language_info": {
   "codemirror_mode": {
    "name": "ipython",
    "version": 3
   },
   "file_extension": ".py",
   "mimetype": "text/x-python",
   "name": "python",
   "nbconvert_exporter": "python",
   "pygments_lexer": "ipython3",
   "version": "3.8.8"
  }
 },
 "nbformat": 4,
 "nbformat_minor": 5
}
