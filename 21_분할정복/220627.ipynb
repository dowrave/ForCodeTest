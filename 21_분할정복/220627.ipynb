{
 "cells": [
  {
   "cell_type": "markdown",
   "id": "d9a79576-debb-4677-aa9f-8cf2772f3a93",
   "metadata": {},
   "source": [
    "## 2630 : 색종이 만들기"
   ]
  },
  {
   "cell_type": "code",
   "execution_count": 2,
   "id": "7817f79c-072b-437f-a70d-3c0198782bbf",
   "metadata": {},
   "outputs": [
    {
     "name": "stdout",
     "output_type": "stream",
     "text": [
      "[1, 1, 0, 0, 0, 0, 1, 1]\n",
      "[1, 1, 0, 0, 0, 0, 1, 1]\n",
      "[0, 0, 0, 0, 1, 1, 0, 0]\n",
      "[0, 0, 0, 0, 1, 1, 0, 0]\n",
      "[1, 0, 0, 0, 1, 1, 1, 1]\n",
      "[0, 1, 0, 0, 1, 1, 1, 1]\n",
      "[0, 0, 1, 1, 1, 1, 1, 1]\n",
      "[0, 0, 1, 1, 1, 1, 1, 1]\n"
     ]
    }
   ],
   "source": [
    "import sys\n",
    "sys.stdin = open('test.txt', 'r')\n",
    "input = sys.stdin.readline\n",
    "\n",
    "N = int(input())\n",
    "\n",
    "lst = []\n",
    "for i in range(N):\n",
    "    lst.append(list(map(int, input().rstrip().split())))\n",
    "    \n",
    "# for i in lst:\n",
    "#     print(i)\n",
    "\n",
    "# "
   ]
  },
  {
   "cell_type": "markdown",
   "id": "9a8ba472-e5be-4be0-b089-0c2aa66fcc2e",
   "metadata": {},
   "source": [
    "### 각 리스트에 대한 검사를 어떻게 해야 하지?에서 막혔음\n",
    "- 검색해보니 <b>어떤 인덱스 하나를 찍어서 색을 지정하고, 나머지 인덱스 중 그것과 다른 값을 가지면 찢어</b>야 하는 거\n",
    "- 색깔 지정하는 테크닉 빼면 다 직접 구현함. 뿌-듯"
   ]
  },
  {
   "cell_type": "code",
   "execution_count": 49,
   "id": "a6e4b878-b2e9-49ff-abe3-1f2fe40569c0",
   "metadata": {},
   "outputs": [],
   "source": [
    "def divd_paper(start_x, start_y, last_x, last_y):\n",
    "\n",
    "    color = lst[start_x][start_y]\n",
    "    mid_x = (start_x + last_x) // 2\n",
    "    mid_y = (start_y + last_y) // 2\n",
    "    length = last_x - start_x\n",
    "    \n",
    "    if length == 1:\n",
    "        color_lst[color] += 1\n",
    "        return\n",
    "    \n",
    "    for i in range(start_x, last_x):\n",
    "        for j in range(start_y, last_y):\n",
    "            if lst[i][j] != color:\n",
    "                return (divd_paper(start_x, start_y, mid_x, mid_y), \n",
    "                        divd_paper(mid_x, start_y, last_x, mid_y),\n",
    "                        divd_paper(start_x,  mid_y, mid_x, last_y), \n",
    "                        divd_paper(mid_x,  mid_y, last_x, last_y))\n",
    "    \n",
    "    color_lst[color] += 1\n",
    "    return\n",
    "    # 위 반복문과 조건문을 빠져나왔다면 전체가 같은 색이라는 뜻임"
   ]
  },
  {
   "cell_type": "code",
   "execution_count": 50,
   "id": "95908e19-4589-4e03-bf18-e48ccdd1d403",
   "metadata": {},
   "outputs": [
    {
     "ename": "TypeError",
     "evalue": "list indices must be integers or slices, not str",
     "output_type": "error",
     "traceback": [
      "\u001b[1;31m---------------------------------------------------------------------------\u001b[0m",
      "\u001b[1;31mTypeError\u001b[0m                                 Traceback (most recent call last)",
      "\u001b[1;32m<ipython-input-50-4857a8936966>\u001b[0m in \u001b[0;36m<module>\u001b[1;34m\u001b[0m\n\u001b[0;32m      1\u001b[0m \u001b[0mcolor_lst\u001b[0m \u001b[1;33m=\u001b[0m \u001b[1;33m[\u001b[0m\u001b[1;36m0\u001b[0m\u001b[1;33m,\u001b[0m \u001b[1;36m0\u001b[0m\u001b[1;33m]\u001b[0m\u001b[1;33m\u001b[0m\u001b[1;33m\u001b[0m\u001b[0m\n\u001b[1;32m----> 2\u001b[1;33m \u001b[0mdivd_paper\u001b[0m\u001b[1;33m(\u001b[0m\u001b[1;36m0\u001b[0m\u001b[1;33m,\u001b[0m \u001b[1;36m0\u001b[0m\u001b[1;33m,\u001b[0m \u001b[0mN\u001b[0m\u001b[1;33m,\u001b[0m \u001b[0mN\u001b[0m\u001b[1;33m)\u001b[0m\u001b[1;33m\u001b[0m\u001b[1;33m\u001b[0m\u001b[0m\n\u001b[0m\u001b[0;32m      3\u001b[0m \u001b[0mprint\u001b[0m\u001b[1;33m(\u001b[0m\u001b[0mcolor_lst\u001b[0m\u001b[1;33m)\u001b[0m\u001b[1;33m\u001b[0m\u001b[1;33m\u001b[0m\u001b[0m\n",
      "\u001b[1;32m<ipython-input-49-acdeaa73d562>\u001b[0m in \u001b[0;36mdivd_paper\u001b[1;34m(start_x, start_y, last_x, last_y)\u001b[0m\n\u001b[0;32m     13\u001b[0m         \u001b[1;32mfor\u001b[0m \u001b[0mj\u001b[0m \u001b[1;32min\u001b[0m \u001b[0mrange\u001b[0m\u001b[1;33m(\u001b[0m\u001b[0mstart_y\u001b[0m\u001b[1;33m,\u001b[0m \u001b[0mlast_y\u001b[0m\u001b[1;33m)\u001b[0m\u001b[1;33m:\u001b[0m\u001b[1;33m\u001b[0m\u001b[1;33m\u001b[0m\u001b[0m\n\u001b[0;32m     14\u001b[0m             \u001b[1;32mif\u001b[0m \u001b[0mlst\u001b[0m\u001b[1;33m[\u001b[0m\u001b[0mi\u001b[0m\u001b[1;33m]\u001b[0m\u001b[1;33m[\u001b[0m\u001b[0mj\u001b[0m\u001b[1;33m]\u001b[0m \u001b[1;33m!=\u001b[0m \u001b[0mcolor\u001b[0m\u001b[1;33m:\u001b[0m\u001b[1;33m\u001b[0m\u001b[1;33m\u001b[0m\u001b[0m\n\u001b[1;32m---> 15\u001b[1;33m                 return (divd_paper(start_x, start_y, mid_x, mid_y), \n\u001b[0m\u001b[0;32m     16\u001b[0m                         \u001b[0mdivd_paper\u001b[0m\u001b[1;33m(\u001b[0m\u001b[0mmid_x\u001b[0m\u001b[1;33m,\u001b[0m \u001b[0mstart_y\u001b[0m\u001b[1;33m,\u001b[0m \u001b[0mlast_x\u001b[0m\u001b[1;33m,\u001b[0m \u001b[0mmid_y\u001b[0m\u001b[1;33m)\u001b[0m\u001b[1;33m,\u001b[0m\u001b[1;33m\u001b[0m\u001b[1;33m\u001b[0m\u001b[0m\n\u001b[0;32m     17\u001b[0m                         \u001b[0mdivd_paper\u001b[0m\u001b[1;33m(\u001b[0m\u001b[0mstart_x\u001b[0m\u001b[1;33m,\u001b[0m  \u001b[0mmid_y\u001b[0m\u001b[1;33m,\u001b[0m \u001b[0mmid_x\u001b[0m\u001b[1;33m,\u001b[0m \u001b[0mlast_y\u001b[0m\u001b[1;33m)\u001b[0m\u001b[1;33m,\u001b[0m\u001b[1;33m\u001b[0m\u001b[1;33m\u001b[0m\u001b[0m\n",
      "\u001b[1;32m<ipython-input-49-acdeaa73d562>\u001b[0m in \u001b[0;36mdivd_paper\u001b[1;34m(start_x, start_y, last_x, last_y)\u001b[0m\n\u001b[0;32m     13\u001b[0m         \u001b[1;32mfor\u001b[0m \u001b[0mj\u001b[0m \u001b[1;32min\u001b[0m \u001b[0mrange\u001b[0m\u001b[1;33m(\u001b[0m\u001b[0mstart_y\u001b[0m\u001b[1;33m,\u001b[0m \u001b[0mlast_y\u001b[0m\u001b[1;33m)\u001b[0m\u001b[1;33m:\u001b[0m\u001b[1;33m\u001b[0m\u001b[1;33m\u001b[0m\u001b[0m\n\u001b[0;32m     14\u001b[0m             \u001b[1;32mif\u001b[0m \u001b[0mlst\u001b[0m\u001b[1;33m[\u001b[0m\u001b[0mi\u001b[0m\u001b[1;33m]\u001b[0m\u001b[1;33m[\u001b[0m\u001b[0mj\u001b[0m\u001b[1;33m]\u001b[0m \u001b[1;33m!=\u001b[0m \u001b[0mcolor\u001b[0m\u001b[1;33m:\u001b[0m\u001b[1;33m\u001b[0m\u001b[1;33m\u001b[0m\u001b[0m\n\u001b[1;32m---> 15\u001b[1;33m                 return (divd_paper(start_x, start_y, mid_x, mid_y), \n\u001b[0m\u001b[0;32m     16\u001b[0m                         \u001b[0mdivd_paper\u001b[0m\u001b[1;33m(\u001b[0m\u001b[0mmid_x\u001b[0m\u001b[1;33m,\u001b[0m \u001b[0mstart_y\u001b[0m\u001b[1;33m,\u001b[0m \u001b[0mlast_x\u001b[0m\u001b[1;33m,\u001b[0m \u001b[0mmid_y\u001b[0m\u001b[1;33m)\u001b[0m\u001b[1;33m,\u001b[0m\u001b[1;33m\u001b[0m\u001b[1;33m\u001b[0m\u001b[0m\n\u001b[0;32m     17\u001b[0m                         \u001b[0mdivd_paper\u001b[0m\u001b[1;33m(\u001b[0m\u001b[0mstart_x\u001b[0m\u001b[1;33m,\u001b[0m  \u001b[0mmid_y\u001b[0m\u001b[1;33m,\u001b[0m \u001b[0mmid_x\u001b[0m\u001b[1;33m,\u001b[0m \u001b[0mlast_y\u001b[0m\u001b[1;33m)\u001b[0m\u001b[1;33m,\u001b[0m\u001b[1;33m\u001b[0m\u001b[1;33m\u001b[0m\u001b[0m\n",
      "\u001b[1;32m<ipython-input-49-acdeaa73d562>\u001b[0m in \u001b[0;36mdivd_paper\u001b[1;34m(start_x, start_y, last_x, last_y)\u001b[0m\n\u001b[0;32m     18\u001b[0m                         divd_paper(mid_x,  mid_y, last_x, last_y))\n\u001b[0;32m     19\u001b[0m \u001b[1;33m\u001b[0m\u001b[0m\n\u001b[1;32m---> 20\u001b[1;33m     \u001b[0mcolor_lst\u001b[0m\u001b[1;33m[\u001b[0m\u001b[0mcolor\u001b[0m\u001b[1;33m]\u001b[0m \u001b[1;33m+=\u001b[0m \u001b[1;36m1\u001b[0m\u001b[1;33m\u001b[0m\u001b[1;33m\u001b[0m\u001b[0m\n\u001b[0m\u001b[0;32m     21\u001b[0m     \u001b[1;32mreturn\u001b[0m\u001b[1;33m\u001b[0m\u001b[1;33m\u001b[0m\u001b[0m\n\u001b[0;32m     22\u001b[0m     \u001b[1;31m# 위 반복문과 조건문을 빠져나왔다면 전체가 같은 색이라는 뜻임\u001b[0m\u001b[1;33m\u001b[0m\u001b[1;33m\u001b[0m\u001b[1;33m\u001b[0m\u001b[0m\n",
      "\u001b[1;31mTypeError\u001b[0m: list indices must be integers or slices, not str"
     ]
    }
   ],
   "source": [
    "color_lst = [0, 0]\n",
    "divd_paper(0, 0, N, N)\n",
    "print(color_lst)"
   ]
  },
  {
   "cell_type": "markdown",
   "id": "748609d8-74c0-4740-afe4-58eb59d552e7",
   "metadata": {},
   "source": [
    "## 1992번 : 쿼드트리\n",
    "- 흑백 영상 압축 데이터구조.\n",
    "- 같은 숫자의 점이 몰려 있다면 쿼드트리는 이를 압축하여 간단히 표현할 수 있다.\n",
    "- 다른 숫자들이 섞여 있다면, 좌상, 우상, 좌하, 우하 4개의 영상으로 나누게 됨"
   ]
  },
  {
   "cell_type": "code",
   "execution_count": 129,
   "id": "acac6093-b090-4213-ba29-95751d191072",
   "metadata": {},
   "outputs": [],
   "source": [
    "import sys\n",
    "sys.stdin = open('test.txt', 'r')\n",
    "input = sys.stdin.readline\n",
    "\n",
    "N = int(input())\n",
    "\n",
    "lst = []\n",
    "for i in range(N):\n",
    "    lst.append((input().rstrip()))\n"
   ]
  },
  {
   "cell_type": "markdown",
   "id": "8d32d3ec-1f75-4593-a8b8-f83e38f9afb6",
   "metadata": {},
   "source": [
    "- 위 문제랑 큰 차이 없는 거 같은데?\n",
    "- 재귀식을 들어가면 (가 추가되는 정도?\n",
    "- <b> 근데 우상 / 좌하가 좀 헷갈린다 :\n",
    "    - 왼쪽 상단 점 기준 \n",
    "    - 우상 : 1사분면은 원래 사각형의 x좌표와 동일, y좌표는 전체 길이의 1/2이다. [0][y]의 위치는 x축 위에 있다. \n",
    "    - 좌하 : 3사분면은 원래 사각형의 y좌표와 동일, x좌표는 전체 길이의 1/2이다.\n",
    "    \n",
    "### 우리가 수학적으로 배우는 좌표랑 헷갈릴 수 밖에 없음\n",
    "- 그냥 이거만 기억해두자\n",
    "- `수학적인 좌표 (a,b)는 lst[b][a]이다.`\n",
    "    - 해당 Axis에 수직으로 이동한 게 lst[a][b]임\n",
    "    - ```\n",
    "    a는 x축에 수직인 방향으로 이동했으니 2차원 평면에서 y값을 나타내는 지표이고\n",
    "    b는 y축에 수직인 방향으로 이동했으니 2차원 평면에서 x값을 나타내는 지표임\n",
    "    ```\n",
    "    \n",
    "- 왼쪽 상단이 (0,0)인 사각형을 그렸을 때, 각 점을 행렬로 나타냈을 때 어떤 인덱스인지 확인해보면 생각하기 편함!"
   ]
  },
  {
   "cell_type": "code",
   "execution_count": 133,
   "id": "cfec60e6-aa0b-4c4a-b66e-998d8fb0af8a",
   "metadata": {},
   "outputs": [
    {
     "name": "stdout",
     "output_type": "stream",
     "text": [
      "((110(0101))(0010)1(0001))\n"
     ]
    }
   ],
   "source": [
    "import sys\n",
    "sys.stdin = open('test.txt', 'r')\n",
    "input = sys.stdin.readline\n",
    "\n",
    "N = int(input())\n",
    "\n",
    "lst = []\n",
    "for i in range(N):\n",
    "    lst.append((input().rstrip()))\n",
    "\n",
    "\n",
    "def quad_tree(start_row, start_col, end_row, end_col): # (start_x, start_y) : 왼쪽 위 시작점 / (end_x, end_y) : 오른쪽 아래 끝점\n",
    "    binary = lst[start_row][start_col]\n",
    "    mid_row = (start_row + end_row) // 2\n",
    "    mid_col = (start_col + end_col) // 2\n",
    "    length = end_row - start_row\n",
    "\n",
    "    if length == 1:\n",
    "        str_lst.append(binary)\n",
    "        return\n",
    "    \n",
    "    for i in range(start_row, end_row): # y좌표에 대한 반복문임 (0번쨰 줄부터 N번째 줄까지~~)\n",
    "        for j in range(start_col, end_col): # x좌표에 대한 반복문임 (0번째 줄 0번째 인덱스부터~~)\n",
    "            if lst[i][j] != binary:\n",
    "                # return을 쓰면 함수가 끝나니까 return 내부만 실행되고 더 이상 실행되지 않음\n",
    "                return str_lst.append('('), (quad_tree(start_row, start_col, mid_row, mid_col), # 좌상\n",
    "                        quad_tree(start_row, mid_col, mid_col, end_row), # 우상\n",
    "                        quad_tree(mid_row, start_col, end_row, mid_col), # 좌하\n",
    "                        quad_tree(mid_row, mid_col, end_row, end_col)), str_lst.append(')') # 우하\n",
    "\n",
    "    return str_lst.append(binary)\n",
    "\n",
    "str_lst = []\n",
    "quad_tree(0, 0, N, N)\n",
    "\n",
    "print(\"\".join(str_lst))"
   ]
  },
  {
   "cell_type": "markdown",
   "id": "b450c080-6d89-42d5-865e-7048319a9ca0",
   "metadata": {},
   "source": [
    "### 왜 틀렸누?\n",
    "- 걍 복붙하련다"
   ]
  },
  {
   "cell_type": "code",
   "execution_count": 134,
   "id": "adfe2c4f-04a7-40f6-bc5f-b81dde5d0e99",
   "metadata": {},
   "outputs": [
    {
     "ename": "ValueError",
     "evalue": "invalid literal for int() with base 10: ''",
     "output_type": "error",
     "traceback": [
      "\u001b[1;31m---------------------------------------------------------------------------\u001b[0m",
      "\u001b[1;31mValueError\u001b[0m                                Traceback (most recent call last)",
      "\u001b[1;32m<ipython-input-134-122e84ad9acb>\u001b[0m in \u001b[0;36m<module>\u001b[1;34m\u001b[0m\n\u001b[1;32m----> 1\u001b[1;33m \u001b[0mn\u001b[0m \u001b[1;33m=\u001b[0m \u001b[0mint\u001b[0m\u001b[1;33m(\u001b[0m\u001b[0minput\u001b[0m\u001b[1;33m(\u001b[0m\u001b[1;33m)\u001b[0m\u001b[1;33m)\u001b[0m\u001b[1;33m\u001b[0m\u001b[1;33m\u001b[0m\u001b[0m\n\u001b[0m\u001b[0;32m      2\u001b[0m \u001b[0mgraph\u001b[0m \u001b[1;33m=\u001b[0m \u001b[1;33m[\u001b[0m\u001b[0mlist\u001b[0m\u001b[1;33m(\u001b[0m\u001b[0mmap\u001b[0m\u001b[1;33m(\u001b[0m\u001b[0mint\u001b[0m\u001b[1;33m,\u001b[0m \u001b[0minput\u001b[0m\u001b[1;33m(\u001b[0m\u001b[1;33m)\u001b[0m\u001b[1;33m)\u001b[0m\u001b[1;33m)\u001b[0m \u001b[1;32mfor\u001b[0m \u001b[0m_\u001b[0m \u001b[1;32min\u001b[0m \u001b[0mrange\u001b[0m\u001b[1;33m(\u001b[0m\u001b[0mn\u001b[0m\u001b[1;33m)\u001b[0m\u001b[1;33m]\u001b[0m\u001b[1;33m\u001b[0m\u001b[1;33m\u001b[0m\u001b[0m\n\u001b[0;32m      3\u001b[0m \u001b[1;33m\u001b[0m\u001b[0m\n\u001b[0;32m      4\u001b[0m \u001b[1;33m\u001b[0m\u001b[0m\n\u001b[0;32m      5\u001b[0m \u001b[1;32mdef\u001b[0m \u001b[0mdnc\u001b[0m\u001b[1;33m(\u001b[0m\u001b[0mx\u001b[0m\u001b[1;33m,\u001b[0m \u001b[0my\u001b[0m\u001b[1;33m,\u001b[0m \u001b[0mn\u001b[0m\u001b[1;33m)\u001b[0m\u001b[1;33m:\u001b[0m\u001b[1;33m\u001b[0m\u001b[1;33m\u001b[0m\u001b[0m\n",
      "\u001b[1;31mValueError\u001b[0m: invalid literal for int() with base 10: ''"
     ]
    }
   ],
   "source": [
    "n = int(input())\n",
    "graph = [list(map(int, input())) for _ in range(n)]\n",
    "\n",
    "\n",
    "def dnc(x, y, n):\n",
    "    # check : 가장 첫번째 인덱스의 0 or 1\n",
    "    check = graph[x][y]\n",
    "    \n",
    "    # \n",
    "    for i in range(x, x + n):\n",
    "        for j in range(y, y + n):\n",
    "            if check != graph[i][j]:\n",
    "                check = -1\n",
    "                break\n",
    "    \n",
    "    # 재귀 : n을 따로 변수로 뺀 뒤 찢어야 하는 상황이면 n을 계속 나눴음에 유의\n",
    "    if check == -1:\n",
    "        print(\"(\", end='')\n",
    "        n = n // 2\n",
    "        dnc(x, y, n)  # 오른쪽 위\n",
    "        dnc(x, y + n, n)  # 왼쪽 위\n",
    "        dnc(x + n, y, n)  # 오른쪽 아래\n",
    "        dnc(x + n, y + n, n)  # 왼쪽 아래\n",
    "        print(\")\", end='')\n",
    "    \n",
    "    # check == -1 이 아니라면 전체가 똑같았다는 얘기 이므로 0이나 1 출력하면 됨\n",
    "    elif check == 1:\n",
    "        print(1, end='')\n",
    "    else:\n",
    "        print(0, end='')\n",
    "\n",
    "\n",
    "dnc(0, 0, n)"
   ]
  },
  {
   "cell_type": "markdown",
   "id": "eaababaf-573d-43f9-9b7b-3358be7a4a2e",
   "metadata": {},
   "source": [
    "## 1780번 : 종이의 갯수\n",
    "- 비슷한데 9개로 나눠야 함"
   ]
  },
  {
   "cell_type": "code",
   "execution_count": 141,
   "id": "fca7121d-8902-4f35-8d8a-24cd615c4de8",
   "metadata": {},
   "outputs": [],
   "source": [
    "import sys\n",
    "sys.stdin = open('test.txt', 'r')\n",
    "input = sys.stdin.readline\n",
    "\n",
    "n = int(input())\n",
    "\n",
    "graph = [list(map(int, input().rstrip().split())) for _ in range(N)]\n",
    "\n",
    "# for i in graph:\n",
    "#     print(i)"
   ]
  },
  {
   "cell_type": "code",
   "execution_count": 151,
   "id": "2827aadd-f3e5-4621-b487-192a28e79855",
   "metadata": {},
   "outputs": [
    {
     "name": "stdout",
     "output_type": "stream",
     "text": [
      "10\n",
      "12\n",
      "11\n"
     ]
    }
   ],
   "source": [
    "# x, y 부터 n개 까지\n",
    "lst = [0, 0, 0] # -1, 0, 1\n",
    "def nineth_tree(x, y, n):\n",
    "    \n",
    "    color = graph[x][y]\n",
    "    inner_for = False\n",
    "    \n",
    "    for i in range(n):\n",
    "        for j in range(n):\n",
    "            if graph[x + i][y + j] != color:\n",
    "                color = 'r'\n",
    "                inner_for = True\n",
    "                break\n",
    "        if inner_for == True:\n",
    "            break\n",
    "    \n",
    "    if color == 'r':\n",
    "        n = n // 3\n",
    "#         nineth_tree(x, y, n)\n",
    "#         nineth_tree(x, y + n, n)\n",
    "#         nineth_tree(x, y + 2*n, n)\n",
    "#         nineth_tree(x + n, y, n)\n",
    "#         nineth_tree(x + n, y + n, n)\n",
    "#         nineth_tree(x + n, y + 2*n, n)\n",
    "#         nineth_tree(x + 2*n, y, n)\n",
    "#         nineth_tree(x + 2*n, y + n, n)\n",
    "#         nineth_tree(x + 2*n, y + 2*n, n)\n",
    "        \n",
    "        for i in range(0, (2*n+1), n):\n",
    "            for j in range(0, (2*n+1), n):\n",
    "                nineth_tree(x + i, y + j, n)\n",
    "\n",
    "    elif color == -1:\n",
    "        lst[0] += 1\n",
    "        return\n",
    "    elif color == 0:\n",
    "        lst[1] += 1\n",
    "        return\n",
    "    elif color == 1:\n",
    "        lst[2] += 1\n",
    "        return\n",
    "        \n",
    "nineth_tree(0, 0, n)\n",
    "\n",
    "for i in lst:\n",
    "    print(i)"
   ]
  },
  {
   "cell_type": "code",
   "execution_count": 148,
   "id": "639cef87-df8f-4602-84eb-73a6391625f2",
   "metadata": {},
   "outputs": [
    {
     "name": "stdout",
     "output_type": "stream",
     "text": [
      "0 0 3\n",
      "0 3 3\n",
      "0 6 3\n",
      "3 0 3\n",
      "3 3 3\n",
      "3 6 3\n",
      "6 0 3\n",
      "6 3 3\n",
      "6 6 3\n"
     ]
    }
   ],
   "source": [
    "k = 3\n",
    "for i in range(0, (2*k+1), k):\n",
    "    for j in range(0, (2*k+1), k):\n",
    "        print(i, j, k)"
   ]
  },
  {
   "cell_type": "markdown",
   "id": "3b7b0539-da5f-4980-bd19-e687597f148d",
   "metadata": {},
   "source": [
    "## 1629번 : 곱셈\n",
    "- 자연수 A를 B번 곱한 수를 C로 나눈 나머지를 구하자"
   ]
  },
  {
   "cell_type": "code",
   "execution_count": 152,
   "id": "fad1b954-bd4e-4d8a-9191-f2e0732cb411",
   "metadata": {},
   "outputs": [],
   "source": [
    "import sys\n",
    "sys.stdin = open('test.txt', 'r')\n",
    "input = sys.stdin.readline\n",
    "\n",
    "a, b, c = map(int, input().split())"
   ]
  },
  {
   "cell_type": "markdown",
   "id": "f478a368-06e9-4408-9b9a-bcb209ecd579",
   "metadata": {},
   "source": [
    "### 이건 새로운 걸 배우는 느낌이라서 자료 참고함\n",
    "1. 곱해지는 수 b가 짝수인지 홀수인지 파악한다.\n",
    "2. 짝수라면 `(a**(b//2))**2` 로 바꾼다\n",
    "3. 홀수라면 `(a**(b//2))**2*a`로 바꾼다\n",
    "4. 1 ~ 3 을 b가 1이 될 때까지 진행함"
   ]
  },
  {
   "cell_type": "code",
   "execution_count": 180,
   "id": "c58cbb78-696d-47a4-83fb-c4ff57389919",
   "metadata": {},
   "outputs": [
    {
     "name": "stdout",
     "output_type": "stream",
     "text": [
      "4\n"
     ]
    }
   ],
   "source": [
    "# 기본 : a ** b임\n",
    "# 근데 곱셈의 수를 줄여야 함\n",
    "# 이를 위해 b가 홀수 / 짝수일 때로 케이스를 나누고 괄호 밖에 제곱을 하는 방식으로 연산 수를 줄이는 구현임\n",
    "\n",
    "def power(a, b):\n",
    "    \"\"\"\n",
    "    기본 계산 : a ** b\n",
    "    이거를 ( a ** (b // 2) ) ** 2로 만든다\n",
    "    그렇다면 다음 재귀식에 넘겨줄 a값을 정하는 게 중요함. b는 b // 2 넘기면 될 듯\n",
    "    -> 그냥 a 아니냐? b는 어차피 줄어드니까\n",
    "    \"\"\"\n",
    "    # 종결조건\n",
    "    if b == 1:\n",
    "        return a % c\n",
    "    \n",
    "    if b % 2 == 0:\n",
    "        return power(a, b // 2) ** 2 \n",
    "    else:\n",
    "        return power(a, b // 2) ** 2 * a # 아니 여기에 b를 왜 넣었지?\n",
    "\n",
    "print(power(a, b) % c)"
   ]
  },
  {
   "cell_type": "markdown",
   "id": "9ee12218-e7fb-440b-9c7a-2ae94d5db289",
   "metadata": {},
   "source": [
    "### 시간초과 뜨는데요?\n",
    "- 나머지값도 전체 값을 구하는 과정에서 계산할 수 있다\n",
    "- `나머지 분배 법칙`\n",
    "- <b>`(a+b)%r = ((a%r) + (b%r)) % r` (뺄셈, 곱셈도 적용 O)</b>\n",
    "- 나눗셈 : `(a/b)%r = (a*b^(r-2)) % r = ((a%r) * (b^(r-2)%r)) % r`"
   ]
  },
  {
   "cell_type": "code",
   "execution_count": 184,
   "id": "21300ebf-5b36-4c2f-90f0-ede5262be31b",
   "metadata": {},
   "outputs": [
    {
     "data": {
      "text/plain": [
       "4"
      ]
     },
     "execution_count": 184,
     "metadata": {},
     "output_type": "execute_result"
    }
   ],
   "source": [
    "import sys\n",
    "sys.stdin = open('test.txt', 'r')\n",
    "input = sys.stdin.readline\n",
    "\n",
    "a, b, c = map(int, input().split())\n",
    "\n",
    "# 이 함수 쉬워보이는데 어렵다!\n",
    "def power(a, b):\n",
    "    \"\"\"\n",
    "    예를 들면 10**5다\n",
    "    -> (10 ** 2 * 10 ** 2 * 10) % c\n",
    "    -> 10 % c * 10 % c * ... 10 % c 5개로 쪼개짐\n",
    "    -> 쪼개는 데 드는 연산 수는 2회임 (10을 5번 곱하는 거보다 훨씬 빠름)\n",
    "    \"\"\"\n",
    "    if b == 1:\n",
    "        return a % c\n",
    "    \n",
    "    temp_value = power(a, b // 2)\n",
    "    \n",
    "    # 결국 여기서 호출된 temp_value는 b가 1이 될 때까지 계속해서 쪼개지는데,\n",
    "    # 그 쪼개지는 횟수를 엄청 줄인 거임!\n",
    "    # 큰 값을 쪼개나가는 방식이므로 쪼갤 때마다 나머지 연산을 적용해주는 걸 잊지 말자\n",
    "    # 나머지는 (a * b) % r = [(a % r) * (b % r)] % r 이다!\n",
    "    if b % 2 == 0:\n",
    "        return (temp_value * temp_value) % c\n",
    "    else:\n",
    "        return (temp_value * temp_value * a) % c"
   ]
  },
  {
   "cell_type": "code",
   "execution_count": 185,
   "id": "27cf8fe5-7e4f-4485-94d0-4b4d76bb8f4f",
   "metadata": {},
   "outputs": [
    {
     "name": "stdout",
     "output_type": "stream",
     "text": [
      "4\n"
     ]
    }
   ],
   "source": [
    "print(power(a, b))"
   ]
  },
  {
   "cell_type": "code",
   "execution_count": null,
   "id": "ec7bf80e-7edb-4353-b101-b43f4c662bbc",
   "metadata": {},
   "outputs": [],
   "source": []
  }
 ],
 "metadata": {
  "kernelspec": {
   "display_name": "Python 3",
   "language": "python",
   "name": "python3"
  },
  "language_info": {
   "codemirror_mode": {
    "name": "ipython",
    "version": 3
   },
   "file_extension": ".py",
   "mimetype": "text/x-python",
   "name": "python",
   "nbconvert_exporter": "python",
   "pygments_lexer": "ipython3",
   "version": "3.8.8"
  }
 },
 "nbformat": 4,
 "nbformat_minor": 5
}
