{
 "cells": [
  {
   "cell_type": "markdown",
   "id": "7adc08fc-ecd6-4b46-bdb2-c2671382f6ac",
   "metadata": {},
   "source": [
    "# 2740번 : 행렬곱셈\n",
    "- 아이디어만 참고함"
   ]
  },
  {
   "cell_type": "code",
   "execution_count": 29,
   "id": "a3ddd634-6a60-449f-b484-fea419273e4e",
   "metadata": {},
   "outputs": [
    {
     "name": "stdout",
     "output_type": "stream",
     "text": [
      "-1 -2 6\n",
      "-3 -6 12\n",
      "-5 -10 18\n"
     ]
    }
   ],
   "source": [
    "import sys\n",
    "sys.stdin = open('test.txt', 'r')\n",
    "input = sys.stdin.readline\n",
    "n, m = map(int, input().rstrip().split())\n",
    "\n",
    "A = []\n",
    "B = []\n",
    "for _ in range(n):\n",
    "    inp_lst = list(map(int, input().rstrip().split()))\n",
    "    A.append(inp_lst)\n",
    "\n",
    "m, k = map(int, input().rstrip().split())\n",
    "for _ in range(m):\n",
    "    inp_lst = list(map(int, input().rstrip().split()))\n",
    "    B.append(inp_lst)\n",
    "    \n",
    "# 결과 행렬\n",
    "matrix = [[0] * k for _ in range(n)]\n",
    "\n",
    "# 결과 행렬이 (a, b)라고 하자\n",
    "# 행렬의 (a,b)값은 A 행렬의 (a, i) (i = 0 ~ 끝) * B 행렬의 (j, b) ( j = 0 ~ 끝) 값의 합\n",
    "# 다행히 돌아가는 값은 동일하므로, 하나의 파라미터(끝은 m)를 더 설정해서 세팅하면 됨\n",
    "\n",
    "for a in range(n):\n",
    "    for b in range(k):\n",
    "        for c in range(m):\n",
    "            matrix[a][b] += A[a][c] * B[c][b]\n",
    "\n",
    "for i in matrix:\n",
    "    print(*i)"
   ]
  },
  {
   "cell_type": "markdown",
   "id": "443bfcbb-221a-44ad-9636-171a44db93da",
   "metadata": {},
   "source": [
    "# 10830번 : 행렬 제곱\n",
    "- N*N 행렬 A의 B제곱을 구하는 프로그램 작성\n",
    "- 각 원소를 1000으로 나눈 나머지를 구한다\n",
    "\n",
    "### 흐름까지 참고함\n",
    "- 자연수 거듭 제곱이랑 동일한 알고리즘인데\n",
    "- 행렬 곱셈을 따로 구현할 필요가 있다.\n",
    "\n",
    "### 어디어디에 나머지 연산이 들어가야 하는지 헷갈린당"
   ]
  },
  {
   "cell_type": "code",
   "execution_count": 73,
   "id": "f43ff2b3-48d9-4053-a9ad-f699ec6d8522",
   "metadata": {},
   "outputs": [
    {
     "name": "stdout",
     "output_type": "stream",
     "text": [
      "512 0 0 0 512\n",
      "512 0 0 0 512\n",
      "512 0 0 0 512\n",
      "512 0 0 0 512\n",
      "512 0 0 0 512\n"
     ]
    }
   ],
   "source": [
    "import sys\n",
    "sys.stdin = open('test.txt', 'r')\n",
    "input = sys.stdin.readline\n",
    "n, b = map(int, input().rstrip().split())\n",
    "\n",
    "r = 1000\n",
    "matrix = []\n",
    "for _ in range(n):\n",
    "    matrix.append(list(map(int, input().rstrip().split())))\n",
    "\n",
    "def matmul(mat1, mat2):\n",
    "    new_mat = [[0] * n for i in range(n)]\n",
    "    for i in range(n):\n",
    "        for j in range(n):\n",
    "            for k in range(n):\n",
    "                \"\"\"일단 여기 윗 식에 %r을 넣지 않아도 맞긴 하다\n",
    "                근데 mat1[i][k], mat2[k][j]가 이전 행렬에서 나머지 연산이 되어 들어왔다고 하더라도\n",
    "                나머지 분배 법칙을 생각해보면 곱셈도 마지막에 %r을 해주는 게 맞지 않나 싶은데.. 헷갈림\"\"\"\n",
    "                new_mat[i][j] += ( mat1[i][k] * mat2[k][j] ) % r \n",
    "                new_mat[i][j] = new_mat[i][j] % r # 더해지는 원소 각각은 처음부터 r로 나머지 연산이 되어 들어옴\n",
    "                                                  # 그래서 더할 때는 나머지 연산을 하지 않았으나, \n",
    "                                                  # 분배법칙에 의해 더해진 값을 다시 r로 나머지 연산해야 함\n",
    "    return new_mat\n",
    "    \n",
    "    \n",
    "def power(mat, b): # n*n 행렬이니까 그냥 구현이 가능함\n",
    "    if b == 1:\n",
    "        for i in range(n):\n",
    "            for j in range(n):\n",
    "                mat[i][j] = mat[i][j] % r # 맨 처음에 r로 나눠주므로 위의 matmul 식에서 곱할 때 r로 나누는 과정을 거치지 않는다\n",
    "    \n",
    "        return mat\n",
    "    \n",
    "    temp = power(mat, b // 2)\n",
    "    \n",
    "    if b % 2 == 0:\n",
    "        return matmul(temp, temp) \n",
    "            \n",
    "    else:\n",
    "        return matmul(matmul(temp, temp), mat)\n",
    "\n",
    "for i in power(matrix, b):\n",
    "    print(*i)\n"
   ]
  },
  {
   "cell_type": "markdown",
   "id": "9ff8043c-c130-49a8-b67f-3e5e08c8c8da",
   "metadata": {},
   "source": [
    "### 왜 되는지 모르겠는 지점\n",
    "```\n",
    "new_mat[i][j] += ( mat1[i][k] * mat2[k][j] ) % r\n",
    "new_mat[i][j] = new_mat[i][j] % r\n",
    "```\n",
    "- 맨 처음의 행렬식부터 나머지 연산을 하고 들어감 : 그래서 곱셈 각각에 대해 %r을 하지 않는 건 알겠음\n",
    "- 근데 `new_mat[i][j] += ( mat1[i][k] * mat2[k][j] ) % r` 이거는 `new_mat[i][j] += mat1[i][k] * mat2[k][j]` 이걸로 해도 잘 작동함\n",
    "- 나머지 분배법칙에 의하면 각각에 나머지 연산을 가하고 그걸 곱한 값에 나머지 연산을 한 번 더 가하는 걸로 아는데\n",
    "- 왜 여기서는 잘 작동하는 걸까?\n",
    "\n",
    "### 결론 : 우리가 분배를 쓰는 이유는 대상 수가 너무 클 경우를 대비한 거였음\n",
    "### (a+b)mod n = (a mod n + b mod n) mod n이다. 거꾸로도 생각해보자..!\n",
    "- 위 문제에서 굳이 %n을 들어가지 않은 이유는, 앞에서 mod n을 계속 처리하면서 값을 받고 있기 때문에, 계수들만 합쳐도 크게 상관 없음\n",
    "- 근데 fm은 내가 하는 게 맞긴 해"
   ]
  },
  {
   "cell_type": "code",
   "execution_count": 103,
   "id": "a3560dc5-d706-4b1d-ac9e-64930bb6268d",
   "metadata": {},
   "outputs": [],
   "source": [
    "# 실험실 [[a, b], [c, d]]\n",
    "\n",
    "a, b, c, d = 11, 12, 13, 14\n",
    "lst = [[a, b], [c, d]]\n",
    "\n",
    "for r in range(2, 10000):\n",
    "    \n",
    "    calc = a**2 + b * c\n",
    "#     print(calc)\n",
    "    target0 = ((a%r * a%r) % r + (b%r * c%r) % r) % r\n",
    "    target1 = ((a%r * a%r) + (b%r * c%r)) % r\n",
    "    target2 = ((a * a) + (b * c)) % r\n",
    "    # calc % r= ( (a%r * a%r) % r + (b%r * c%r) % r ) % r\n",
    "#     print(\"다 더한 뒤 계산 : \", calc % r)\n",
    "#     print(\"나눗셈 분배 법칙 : \", ( (a%r * a%r) % r + (b%r * c%r) % r ) % r)\n",
    "\n",
    "#     # 각각에 %r을 하고 마지막에 %r만 하는 케이스\n",
    "#     print(\"궁금한 식 : \", ((a%r * a%r) + (b%r * c%r) % r))\n",
    "\n",
    "#     # 근데 그 논리면 이거도 된다는 거 아님?\n",
    "#     print(\"이거도 됨? : \", ((a * a) + (b * c)) % r)\n",
    "    \n",
    "    if target0 != target1:\n",
    "        print(\"불일치 발견\")\n",
    "        break"
   ]
  },
  {
   "cell_type": "markdown",
   "id": "579c95a3-81e5-4e44-a7b6-208c6f5d59ce",
   "metadata": {},
   "source": [
    "## 검색해보니 (사실은 아는 거지만..) 모듈로 연산은 이런 법칙이 성립한다\n",
    "- ` (a + b) % n = (a % n + b % n) % n `\n",
    "- 거꾸로 생각하면 %n이 2번 들어간다면 계수만 합쳐줄 수 있다는 뜻이다\n",
    "- 수를 쪼개는 이유가 오버플로우가 뜨기 때문이었잖아?"
   ]
  },
  {
   "attachments": {
    "a15b7a27-740b-4700-b14e-835afb2eb4c3.png": {
     "image/png": "[encoded data removed]"
    }
   },
   "cell_type": "markdown",
   "id": "ebec6557-9896-4a04-b8ba-ed7dbf3db923",
   "metadata": {},
   "source": [
    "# 11444번 : 피보나치 수 6\n",
    "- 행렬을 이용해 풀수 있다고 한다. 싫어도 어쩌냐 배워야지\n",
    "- 사실 배우기도 쉽잖음 ㅋㅋ <b>n번째 피보나치 수열 값은 [[1,1], [1,0]] 행렬의 (n-1)제곱 값의 (0,0) 값이다.</b>\n",
    "\n",
    "![image.png](attachment:a15b7a27-740b-4700-b14e-835afb2eb4c3.png)\n",
    "  \n",
    " $\\begin{pmatrix} F_{n+1}&F_n \\\\ F_n&F_{n-1} \\end{pmatrix} = \\begin{pmatrix} 1&1\\\\1&0 \\end{pmatrix} ^ n$ \n",
    "- 피보나치 행렬을 정리하면 다음 식을 얻을 수 있다고 함 : 행렬의 제곱 형태니까 풀 수 있겠죠?"
   ]
  },
  {
   "cell_type": "code",
   "execution_count": 104,
   "id": "19b15698-fa43-426b-9162-77691e8d4f06",
   "metadata": {},
   "outputs": [],
   "source": [
    "import sys\n",
    "sys.stdin = open('test.txt', 'r')\n",
    "input = sys.stdin.readline\n",
    "n = int(input())\n",
    "\n",
    "r = 1000000007"
   ]
  },
  {
   "cell_type": "markdown",
   "id": "6c117e52-dac6-4c92-85be-b4f9cc663959",
   "metadata": {},
   "source": [
    "### 행렬 이용해서 풀었으나 Recursion Error"
   ]
  },
  {
   "cell_type": "code",
   "execution_count": 112,
   "id": "5c01dd6f-94da-47d0-9c1a-8842f39a7e59",
   "metadata": {},
   "outputs": [
    {
     "ename": "RecursionError",
     "evalue": "maximum recursion depth exceeded in comparison",
     "output_type": "error",
     "traceback": [
      "\u001b[1;31m---------------------------------------------------------------------------\u001b[0m",
      "\u001b[1;31mRecursionError\u001b[0m                            Traceback (most recent call last)",
      "\u001b[1;32m<ipython-input-112-10a5b4c04562>\u001b[0m in \u001b[0;36m<module>\u001b[1;34m\u001b[0m\n\u001b[0;32m     24\u001b[0m \u001b[0mmatrix\u001b[0m \u001b[1;33m=\u001b[0m \u001b[1;33m[\u001b[0m\u001b[1;33m[\u001b[0m\u001b[1;36m1\u001b[0m\u001b[1;33m,\u001b[0m \u001b[1;36m1\u001b[0m\u001b[1;33m]\u001b[0m\u001b[1;33m,\u001b[0m \u001b[1;33m[\u001b[0m\u001b[1;36m1\u001b[0m\u001b[1;33m,\u001b[0m \u001b[1;36m0\u001b[0m\u001b[1;33m]\u001b[0m\u001b[1;33m]\u001b[0m\u001b[1;33m\u001b[0m\u001b[1;33m\u001b[0m\u001b[0m\n\u001b[0;32m     25\u001b[0m \u001b[1;33m\u001b[0m\u001b[0m\n\u001b[1;32m---> 26\u001b[1;33m \u001b[0mprint\u001b[0m\u001b[1;33m(\u001b[0m\u001b[0mmat_power\u001b[0m\u001b[1;33m(\u001b[0m\u001b[0mmatrix\u001b[0m\u001b[1;33m,\u001b[0m \u001b[0mn\u001b[0m\u001b[1;33m)\u001b[0m\u001b[1;33m)\u001b[0m\u001b[1;33m\u001b[0m\u001b[1;33m\u001b[0m\u001b[0m\n\u001b[0m",
      "\u001b[1;32m<ipython-input-112-10a5b4c04562>\u001b[0m in \u001b[0;36mmat_power\u001b[1;34m(mat, b)\u001b[0m\n\u001b[0;32m     15\u001b[0m                 \u001b[0mmat\u001b[0m\u001b[1;33m[\u001b[0m\u001b[0mi\u001b[0m\u001b[1;33m]\u001b[0m\u001b[1;33m[\u001b[0m\u001b[0mj\u001b[0m\u001b[1;33m]\u001b[0m \u001b[1;33m=\u001b[0m \u001b[0mmat\u001b[0m\u001b[1;33m[\u001b[0m\u001b[0mi\u001b[0m\u001b[1;33m]\u001b[0m\u001b[1;33m[\u001b[0m\u001b[0mj\u001b[0m\u001b[1;33m]\u001b[0m \u001b[1;33m%\u001b[0m \u001b[0mr\u001b[0m\u001b[1;33m\u001b[0m\u001b[1;33m\u001b[0m\u001b[0m\n\u001b[0;32m     16\u001b[0m \u001b[1;33m\u001b[0m\u001b[0m\n\u001b[1;32m---> 17\u001b[1;33m     \u001b[0mtemp\u001b[0m \u001b[1;33m=\u001b[0m \u001b[0mmat_power\u001b[0m\u001b[1;33m(\u001b[0m\u001b[0mmat\u001b[0m\u001b[1;33m,\u001b[0m \u001b[0mb\u001b[0m \u001b[1;33m//\u001b[0m \u001b[1;36m2\u001b[0m\u001b[1;33m)\u001b[0m\u001b[1;33m\u001b[0m\u001b[1;33m\u001b[0m\u001b[0m\n\u001b[0m\u001b[0;32m     18\u001b[0m \u001b[1;33m\u001b[0m\u001b[0m\n\u001b[0;32m     19\u001b[0m     \u001b[1;32mif\u001b[0m \u001b[0mb\u001b[0m \u001b[1;33m%\u001b[0m \u001b[1;36m2\u001b[0m \u001b[1;33m==\u001b[0m \u001b[1;36m0\u001b[0m \u001b[1;33m:\u001b[0m\u001b[1;33m\u001b[0m\u001b[1;33m\u001b[0m\u001b[0m\n",
      "... last 1 frames repeated, from the frame below ...\n",
      "\u001b[1;32m<ipython-input-112-10a5b4c04562>\u001b[0m in \u001b[0;36mmat_power\u001b[1;34m(mat, b)\u001b[0m\n\u001b[0;32m     15\u001b[0m                 \u001b[0mmat\u001b[0m\u001b[1;33m[\u001b[0m\u001b[0mi\u001b[0m\u001b[1;33m]\u001b[0m\u001b[1;33m[\u001b[0m\u001b[0mj\u001b[0m\u001b[1;33m]\u001b[0m \u001b[1;33m=\u001b[0m \u001b[0mmat\u001b[0m\u001b[1;33m[\u001b[0m\u001b[0mi\u001b[0m\u001b[1;33m]\u001b[0m\u001b[1;33m[\u001b[0m\u001b[0mj\u001b[0m\u001b[1;33m]\u001b[0m \u001b[1;33m%\u001b[0m \u001b[0mr\u001b[0m\u001b[1;33m\u001b[0m\u001b[1;33m\u001b[0m\u001b[0m\n\u001b[0;32m     16\u001b[0m \u001b[1;33m\u001b[0m\u001b[0m\n\u001b[1;32m---> 17\u001b[1;33m     \u001b[0mtemp\u001b[0m \u001b[1;33m=\u001b[0m \u001b[0mmat_power\u001b[0m\u001b[1;33m(\u001b[0m\u001b[0mmat\u001b[0m\u001b[1;33m,\u001b[0m \u001b[0mb\u001b[0m \u001b[1;33m//\u001b[0m \u001b[1;36m2\u001b[0m\u001b[1;33m)\u001b[0m\u001b[1;33m\u001b[0m\u001b[1;33m\u001b[0m\u001b[0m\n\u001b[0m\u001b[0;32m     18\u001b[0m \u001b[1;33m\u001b[0m\u001b[0m\n\u001b[0;32m     19\u001b[0m     \u001b[1;32mif\u001b[0m \u001b[0mb\u001b[0m \u001b[1;33m%\u001b[0m \u001b[1;36m2\u001b[0m \u001b[1;33m==\u001b[0m \u001b[1;36m0\u001b[0m \u001b[1;33m:\u001b[0m\u001b[1;33m\u001b[0m\u001b[1;33m\u001b[0m\u001b[0m\n",
      "\u001b[1;31mRecursionError\u001b[0m: maximum recursion depth exceeded in comparison"
     ]
    }
   ],
   "source": [
    "# 피보나치 행렬이 2*2니까 n은 2로 세팅하면 됨\n",
    "def mat_mul(mat1, mat2):\n",
    "    new_mat = [[0] * 2 for _ in range(2)]\n",
    "    for i in range(2):\n",
    "        for j in range(2):\n",
    "            for k in range(2):\n",
    "                new_mat[i][j] += mat1[i][k] * mat2[k][j] % r\n",
    "            new_mat[i][j] = new_mat[i][j] % r \n",
    "    return new_mat\n",
    "\n",
    "def mat_power(mat, b):\n",
    "    if b == 1:\n",
    "        for i in range(2):\n",
    "            for j in range(2):\n",
    "                mat[i][j] = mat[i][j] % r\n",
    "                \n",
    "    temp = mat_power(mat, b // 2)\n",
    "    \n",
    "    if b % 2 == 0 :\n",
    "        return matmul(temp, temp) \n",
    "    else:\n",
    "        return matmul(matmul(temp, temp), mat)\n",
    "    \n",
    "matrix = [[1, 1], [1, 0]]\n",
    "\n",
    "print(mat_power(matrix, n))\n",
    "\n",
    "# Recursion Error 뜸"
   ]
  },
  {
   "cell_type": "markdown",
   "id": "f844d60b-2013-4be8-a1a1-01421c3c6271",
   "metadata": {},
   "source": [
    "### 홀짝에 대해선 이런 것도 성립한다고 함\n",
    " \n",
    "$F_{2n-1} = F_n^2 + F_{n-1}^2$ \n",
    "<br>\n",
    "$F_{2n} = (F_{n-1} + F_{n+1})F_n = (2F_{n-1} + F_n)F_n$ \n",
    "\n",
    "- 이걸 이용하면 n까지의 전체 피보나치 수열을 만들 필요가 없을 듯?"
   ]
  },
  {
   "cell_type": "code",
   "execution_count": 202,
   "id": "88e4b831-b7cb-41e3-a090-0168138f37c3",
   "metadata": {},
   "outputs": [
    {
     "name": "stdout",
     "output_type": "stream",
     "text": [
      "517691607\n"
     ]
    }
   ],
   "source": [
    "import sys\n",
    "sys.stdin = open('test.txt', 'r')\n",
    "input = sys.stdin.readline\n",
    "n = int(input())\n",
    "\n",
    "# 리스트를 만드는 거 자체가 에반가본데?\n",
    "r = 1000000007\n",
    "fibo = {}\n",
    "fibo[0], fibo[1] = 0, 1\n",
    "\n",
    "# dict: 없는 키를 호출하면 keyError가 뜬다. 조건식에 넣는 거 자체가 에러가 뜸\n",
    "\n",
    "def nth_fibo(k):\n",
    "    # fibo[n]에 값이 없다면 위 조건, 값이 있다면 아래 조건을 탄다\n",
    "    if k not in fibo.keys():\n",
    "        fibo[k] = 0\n",
    "        if k % 2 == 0:\n",
    "            fibo[k] = (2 * nth_fibo(k//2 - 1) + nth_fibo(k//2)) % r * nth_fibo(k//2) % r\n",
    "            return fibo[k] # 이걸 안해줘서 그런 거 같다 - TypeError : None과 int는 power 연산을 할 수 없다 \n",
    "        else:\n",
    "            fibo[k] += ( nth_fibo(k//2) ** 2 % r + nth_fibo(k//2 + 1) ** 2 % r ) % r\n",
    "            return fibo[k]\n",
    "\n",
    "    else:\n",
    "        return fibo[k]\n",
    "\n",
    "nth_fibo(n)\n",
    "print(fibo[n])"
   ]
  },
  {
   "cell_type": "code",
   "execution_count": 188,
   "id": "c77af91c-70d1-4a57-a40e-01a9a7777720",
   "metadata": {},
   "outputs": [
    {
     "name": "stdout",
     "output_type": "stream",
     "text": [
      "있네!\n"
     ]
    }
   ],
   "source": [
    "dict = {'1' : 1}\n",
    "if dict['1'] == False:\n",
    "    print(\"뽈스\")\n",
    "else:\n",
    "    print(\"있네!\")\n"
   ]
  },
  {
   "cell_type": "markdown",
   "id": "6568fc70-dfce-44d8-81e3-d31cd2602eb7",
   "metadata": {},
   "source": [
    "# 6549 : 히스토그램에서 가장 큰 직사각형 찾기\n",
    "\n",
    "### 풀이는 stack으로 진행"
   ]
  },
  {
   "cell_type": "code",
   "execution_count": 34,
   "id": "b270e4b9-7b38-4cff-ac3c-7202250b928b",
   "metadata": {},
   "outputs": [
    {
     "name": "stdout",
     "output_type": "stream",
     "text": [
      "8\n",
      "4000\n"
     ]
    }
   ],
   "source": [
    "import sys\n",
    "sys.stdin = open('test.txt', 'r')\n",
    "input = sys.stdin.readline\n",
    "while True:\n",
    "    input_list = list(map(int, input().split()))\n",
    "    n = input_list[0] \n",
    "    if n == 0:\n",
    "        break\n",
    "\n",
    "    input_list.append(0)\n",
    "\n",
    "    ret = 0\n",
    "    stack = [[0, 0]] # 인덱스, value로 넣음\n",
    "    \n",
    "    for i in range(1, n + 2):\n",
    "        \n",
    "        while stack[-1][1] > input_list[i]:\n",
    "            \n",
    "            tmp_list = stack.pop()\n",
    "            tmp_area = 0\n",
    "            \n",
    "            # 같은 길이일 때만 추가로 제외\n",
    "            while stack[-1][1] == tmp_list[1]:\n",
    "                stack.pop()\n",
    "            \n",
    "            # 아 stack[-1][0]은 pop하고 남은 top의 인덱스다\n",
    "            # 즉 예제의 (2, 4)를 생각해본다면 여기서 stack[-1][0]은 1임\n",
    "            # 따라서 i - 1 - stack[-1][0] = 4 - 1 - 1 = 2 가 나옴\n",
    "            # ㅅㅂ 이걸 어떻게 생각하냐\n",
    "            \n",
    "            tmp_area = (i - 1 - stack[-1][0]) * tmp_list[1]\n",
    "            \n",
    "            if tmp_area > ret:\n",
    "                ret = tmp_area\n",
    "                \n",
    "        stack.append([i, input_list[i]])\n",
    "    \n",
    "    print(ret)"
   ]
  },
  {
   "cell_type": "code",
   "execution_count": 17,
   "id": "0de50cb1-94a4-45f0-8610-d0da9ae4aaf7",
   "metadata": {},
   "outputs": [
    {
     "data": {
      "text/plain": [
       "False"
      ]
     },
     "execution_count": 17,
     "metadata": {},
     "output_type": "execute_result"
    }
   ],
   "source": [
    "stack = []\n",
    "bool(stack)"
   ]
  },
  {
   "cell_type": "code",
   "execution_count": null,
   "id": "a219132e-c4d4-46d4-96f0-1787e639ecbb",
   "metadata": {},
   "outputs": [],
   "source": []
  }
 ],
 "metadata": {
  "kernelspec": {
   "display_name": "Python 3",
   "language": "python",
   "name": "python3"
  },
  "language_info": {
   "codemirror_mode": {
    "name": "ipython",
    "version": 3
   },
   "file_extension": ".py",
   "mimetype": "text/x-python",
   "name": "python",
   "nbconvert_exporter": "python",
   "pygments_lexer": "ipython3",
   "version": "3.8.8"
  }
 },
 "nbformat": 4,
 "nbformat_minor": 5
}
