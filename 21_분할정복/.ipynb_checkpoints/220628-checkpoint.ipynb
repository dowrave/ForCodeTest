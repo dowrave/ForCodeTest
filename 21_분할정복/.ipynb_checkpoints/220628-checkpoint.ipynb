{
 "cells": [
  {
   "attachments": {
    "eba5d63a-b23f-4df3-a96e-b1ff26681ab0.png": {
     "image/png": "[encoded data removed]"
    }
   },
   "cell_type": "markdown",
   "id": "99d86978-6ed0-4055-b1a9-d8f41cb2625f",
   "metadata": {},
   "source": [
    "# 11401번 : 이항 계수 3\n",
    "- nCk를 10000000007로 나눈 나머지를 구하시오\n",
    "- `나머지 분배 법칙`\n",
    "- <b>`(a+b)%r = ((a%r) + (b%r)) % r` (뺄셈, 곱셈도 적용 O)</b>\n",
    "- 나눗셈 : `(a/b)%r = (a*b^(r-2)) % r = ((a%r) * (b^(r-2)%r)) % r`\n",
    "\n",
    "## 페르마의 소정리\n",
    "![image.png](attachment:eba5d63a-b23f-4df3-a96e-b1ff26681ab0.png)\n"
   ]
  },
  {
   "cell_type": "code",
   "execution_count": 16,
   "id": "da437a99-a4fd-468c-a45e-55d0caf7009a",
   "metadata": {},
   "outputs": [
    {
     "name": "stdout",
     "output_type": "stream",
     "text": [
      "[1, 1, 2, 6, 24, 120]\n"
     ]
    }
   ],
   "source": [
    "import sys\n",
    "sys.stdin = open('test.txt', 'r')\n",
    "input = sys.stdin.readline\n",
    "\n",
    "n, k = map(int, input().split())\n",
    "r = 10000000007\n",
    "\n",
    "# 기본 : 제곱에 대한 나머지 분배 : 이거는 꼭 알아두고 넘어가자!\n",
    "def power(a, b):\n",
    "    if b == 1:\n",
    "        return a % r\n",
    "    if b % 2:\n",
    "        return ( power(a, b // 2) ** 2 ) % r\n",
    "    else:\n",
    "        return ( power(a, b // 2) ** 2) * a % r\n",
    "    \n",
    "# 팩토리얼도 비슷함\n",
    "factorial = [1 for _ in range(n + 1)] # 0부터 n까지\n",
    "for i in range(1, len(factorial)):\n",
    "    factorial[i] = factorial[i-1] * i % r # 나머지 정리 참고\n",
    "    \n",
    "print(factorial)\n",
    "\n",
    "# 조합은 페르마의 소정리 좌항을 보듯 N! / (K! * (N-K)!) 이다.\n",
    "head = factorial[n]\n",
    "tail = (factorial[k] * factorial[n-k]) % r \n",
    "\n",
    "\n",
    "\n"
   ]
  },
  {
   "cell_type": "code",
   "execution_count": null,
   "id": "44292079-b59c-486e-be0b-241db302c649",
   "metadata": {},
   "outputs": [],
   "source": []
  }
 ],
 "metadata": {
  "kernelspec": {
   "display_name": "Python 3",
   "language": "python",
   "name": "python3"
  },
  "language_info": {
   "codemirror_mode": {
    "name": "ipython",
    "version": 3
   },
   "file_extension": ".py",
   "mimetype": "text/x-python",
   "name": "python",
   "nbconvert_exporter": "python",
   "pygments_lexer": "ipython3",
   "version": "3.8.8"
  }
 },
 "nbformat": 4,
 "nbformat_minor": 5
}
