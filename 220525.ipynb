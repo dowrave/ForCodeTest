{
 "cells": [
  {
   "cell_type": "markdown",
   "id": "5e9b4d34-7ab4-4164-99a4-cabce1df2823",
   "metadata": {},
   "source": [
    "# 백준 1712번\n",
    "- 고정 비용 A (판매 수와 관계 X)\n",
    "- 가변 비용 B\n",
    "- 노트북 가격 C\n",
    "- C * n > A + B * n \n",
    "    -> `(C - B) * n > A `\n",
    "    -> `n > A / (C - B)`\n",
    "- 인 손익분기점 n을 구하시오"
   ]
  },
  {
   "cell_type": "code",
   "execution_count": 8,
   "id": "71c334f0-57c7-4279-8614-a1bf7acdcd24",
   "metadata": {
    "tags": []
   },
   "outputs": [],
   "source": [
    "A = 1000\n",
    "B = 500\n",
    "C = 170\n",
    "# 이건 별로인 듯 : 너무 오래 걸림\n",
    "# n = 1\n",
    "# while True:\n",
    "#     if n > A / (C - B):\n",
    "#         print(n)\n",
    "#         break\n",
    "#     else:\n",
    "#         n+=1"
   ]
  },
  {
   "cell_type": "code",
   "execution_count": 9,
   "id": "3750fc06-df68-45c6-866e-2f2a1e62d84d",
   "metadata": {},
   "outputs": [
    {
     "data": {
      "text/plain": [
       "-4"
      ]
     },
     "execution_count": 9,
     "metadata": {},
     "output_type": "execute_result"
    }
   ],
   "source": [
    "n = -1\n",
    "if B < C and A > 0:\n",
    "    n = A // (C - B)\n",
    "    n += 1\n",
    "print(n)"
   ]
  },
  {
   "cell_type": "markdown",
   "id": "63fc35ba-e1af-4a3e-af9f-effc0eec8497",
   "metadata": {},
   "source": [
    "## 백준 2292번\n",
    "- 왜 시간 초과가 뜨는지 모르겠다 : 10**9에 대해서도 시간 남는데\n",
    "    - <b>if를 줄일 수 있는 부분에서 줄이고, `lambda` 수정했더니 잘 작동하더라~</b>\n",
    "- 다만 반복 실행했을 때 파이썬이 먹통이 되는 경우는 여기서도 발견됨"
   ]
  },
  {
   "cell_type": "code",
   "execution_count": 129,
   "id": "7013440e-0436-47fd-9f39-ab0a84cadea8",
   "metadata": {},
   "outputs": [],
   "source": [
    "import time\n",
    "from random import randint"
   ]
  },
  {
   "cell_type": "code",
   "execution_count": 178,
   "id": "635bd5a1-ed19-46b0-b433-ffe770faf5c1",
   "metadata": {},
   "outputs": [
    {
     "name": "stdout",
     "output_type": "stream",
     "text": [
      "1\n",
      "0.001260995864868164\n"
     ]
    }
   ],
   "source": [
    "# 최종 답안 : 함수 뒤에 + 1 붙여줘야 함\n",
    "import sys\n",
    "\n",
    "N = int(sys.stdin.readline())\n",
    "n = 2\n",
    "cond = lambda n : 3 * (n-1) * n + 1\n",
    "\n",
    "if N == 1:\n",
    "    print(1)\n",
    "elif N > 1 and n <= 1000000000:\n",
    "    while N <= cond(n-1) or N > cond(n):\n",
    "        n += 1\n",
    "    print(n)"
   ]
  },
  {
   "cell_type": "markdown",
   "id": "5408950f-63df-4a4c-a1dc-d2fc6ec7abfe",
   "metadata": {},
   "source": [
    "### 질문 찾다가 개쩌는 예시 보고 가져옴\n",
    "- `원본` : `1 7 19 37 61 91 ...`\n",
    "- `-1` : `0 6 18 36 60 90 ...`\n",
    "- `/6` : `0 1 3 6 10 15 ...`\n",
    "- `깊이` : `1 2 3 4 5 6 ...`"
   ]
  },
  {
   "cell_type": "markdown",
   "id": "7a303458-192a-48e7-ac52-a0b37952ee58",
   "metadata": {},
   "source": [
    "- 즉 N이 주어졌을 때 1을 빼고 6으로 나눈 범위는 `n(n-1) / 2` 이면 ok임"
   ]
  },
  {
   "cell_type": "code",
   "execution_count": 124,
   "id": "9d314500-9157-49fc-b5b8-5df360079684",
   "metadata": {},
   "outputs": [
    {
     "name": "stdout",
     "output_type": "stream",
     "text": [
      "1\n"
     ]
    }
   ],
   "source": [
    "N = 1\n",
    "new_N = (N - 1) / 6\n",
    "n = 1\n",
    "condition = lambda n : n * (n - 1) / 2\n",
    "\n",
    "while condition(n) < new_N and new_N <= condition(n + 1):\n",
    "    print(condition(n))\n",
    "    print(new_N)\n",
    "    n += 1\n",
    "\n"
   ]
  },
  {
   "cell_type": "markdown",
   "id": "cde98d49-7da6-4709-be08-7e2e3db25948",
   "metadata": {},
   "source": [
    "## 백준 1193"
   ]
  },
  {
   "cell_type": "code",
   "execution_count": 198,
   "id": "e20459cb-6dc2-4316-994c-29bb75911f78",
   "metadata": {},
   "outputs": [
    {
     "name": "stdout",
     "output_type": "stream",
     "text": [
      "2/4\n"
     ]
    }
   ],
   "source": [
    "# X = randint(1, 1000000)\n",
    "X = 14\n",
    "n = 1 # n은 묶음의 지표임\n",
    "cond = lambda n : n * (n+1) / 2\n",
    "\n",
    "# n이 오름차순인 걸 생각하면 뒤 조건은 필요 없어 보이나 혹시나 넣어봄\n",
    "while X < cond(n-1) or X > cond(n):\n",
    "    n+=1\n",
    "value = 0\n",
    "\n",
    "if n % 2 == 0:\n",
    "    value = f\"{int(n - (cond(n) - X))}/{int(1 + (cond(n) - X))}\"\n",
    "    print(value)\n",
    "else:\n",
    "    value = f\"{int(1 + cond(n) - X)}/{int(n - (cond(n) - X))}\"\n",
    "    print(value)"
   ]
  },
  {
   "cell_type": "markdown",
   "id": "bbade08a-0f98-4001-957e-39e0aa911abe",
   "metadata": {},
   "source": [
    "## 백준 2869\n",
    "- 모든 케이스에서 마지막 날은 내려오지 않음\n",
    "- 아 ㅋㅋㅋ `V - B` 인데 `V + B` 하고 있었다"
   ]
  },
  {
   "cell_type": "code",
   "execution_count": 211,
   "id": "3abd20f4-bef3-4bf9-9641-800248634cf9",
   "metadata": {},
   "outputs": [
    {
     "name": "stdout",
     "output_type": "stream",
     "text": [
      "4\n"
     ]
    }
   ],
   "source": [
    "inp = \"2 1 5\"\n",
    "A, B, V = list(map(int, inp.split(\" \")))\n",
    "\n",
    "\n",
    "if ((V - B) % (A - B) == 0):\n",
    "    n = ((V- B) // (A-B))\n",
    "else:\n",
    "    n = ((V - B) // (A - B) + 1)\n",
    "\n",
    "print(n)"
   ]
  },
  {
   "cell_type": "markdown",
   "id": "97ffeeaf-b332-4438-adea-e027b16ae92c",
   "metadata": {},
   "source": [
    "## 백준 10250\n",
    "- 요약\n",
    "- N번째 손님이 들어갈 방\n",
    "- 단서 : H, W\n",
    "```\n",
    "손님은 W를 더 우선시 함\n",
    "    - 즉 102호보다 201호를 우선시함\n",
    "    - 102호보다 20001호를 우선시함\n",
    "```"
   ]
  },
  {
   "cell_type": "code",
   "execution_count": 312,
   "id": "7faa73e1-5e1d-4de9-8f7d-aefd1b262998",
   "metadata": {},
   "outputs": [],
   "source": [
    "import sys\n",
    "sys.stdin = open('test.txt', 'r')"
   ]
  },
  {
   "cell_type": "code",
   "execution_count": 313,
   "id": "9c3e3aa7-8bbf-4e69-aadd-21f8650d76b2",
   "metadata": {},
   "outputs": [
    {
     "name": "stdout",
     "output_type": "stream",
     "text": [
      "6 12 10\n",
      "402\n",
      "30 50 72\n",
      "1203\n",
      "9 9 81\n",
      "909\n",
      "99 99 9801\n",
      "9999\n",
      "2 2 2\n",
      "201\n"
     ]
    }
   ],
   "source": [
    "inputs = sys.stdin.readlines()\n",
    "\n",
    "for case in inputs[1:N+1]:\n",
    "    H, W, N = list(map(int, case.rstrip(\"\\n\").split(\" \")))\n",
    "    print(H, W ,N)\n",
    "\n",
    "    # 방번호 : A B\n",
    "    A = H if N % H == 0 else N % H\n",
    "    B = (N // H) if N % H == 0 else (N // H + 1)\n",
    "    \n",
    "    if B < 10:\n",
    "        print(f\"{A}0{B}\")\n",
    "    else:\n",
    "        print(f\"{A}{B}\")\n"
   ]
  },
  {
   "cell_type": "code",
   "execution_count": 315,
   "id": "78be8502-4c0a-4201-8a5c-bfc64114c9ec",
   "metadata": {},
   "outputs": [
    {
     "name": "stdout",
     "output_type": "stream",
     "text": [
      "402\n",
      "1203\n",
      "909\n",
      "9999\n",
      "201\n"
     ]
    }
   ],
   "source": [
    "import sys\n",
    "sys.stdin = open('test.txt', 'r')\n",
    "\n",
    "inputs = sys.stdin.readlines()\n",
    "T = int(inputs[0])\n",
    "\n",
    "for case in inputs[1:]:\n",
    "    H, W, N = list(map(int, case.rstrip(\"\\n\").split(\" \")))\n",
    "\n",
    "    # 방번호 : A B\n",
    "    A = H if N % H == 0 else N % H\n",
    "    B = (N // H) if N % H == 0 else (N // H + 1)\n",
    "    \n",
    "    if B < 10:\n",
    "        print(f\"{A}0{B}\")\n",
    "    else:\n",
    "        print(f\"{A}{B}\")"
   ]
  },
  {
   "cell_type": "code",
   "execution_count": 274,
   "id": "514b73b1-4d4c-4ddd-becf-c934b5277c90",
   "metadata": {},
   "outputs": [],
   "source": [
    "# 호수 출력\n",
    "for i in range(H):\n",
    "    continue\n",
    "    for j in range(W):\n",
    "        if j < 9:\n",
    "            print(f\"{i + 1}0{j + 1}\")\n",
    "        else:\n",
    "            print(f\"{i + 1}{j + 1}\")"
   ]
  },
  {
   "cell_type": "code",
   "execution_count": 237,
   "id": "dfc04f54-004a-4905-9981-2fe711089953",
   "metadata": {},
   "outputs": [
    {
     "name": "stdout",
     "output_type": "stream",
     "text": [
      "5 12\n"
     ]
    }
   ],
   "source": [
    "# 근데 들어가는 방 자체는..\n"
   ]
  },
  {
   "cell_type": "code",
   "execution_count": 259,
   "id": "7260068f-8f9b-4c96-9974-803ed1a5b40f",
   "metadata": {},
   "outputs": [
    {
     "data": {
      "text/plain": [
       "9801"
      ]
     },
     "execution_count": 259,
     "metadata": {},
     "output_type": "execute_result"
    }
   ],
   "source": []
  },
  {
   "cell_type": "code",
   "execution_count": null,
   "id": "2690159e-6322-405a-b3b6-569ea49193d6",
   "metadata": {},
   "outputs": [],
   "source": []
  }
 ],
 "metadata": {
  "kernelspec": {
   "display_name": "Python 3",
   "language": "python",
   "name": "python3"
  },
  "language_info": {
   "codemirror_mode": {
    "name": "ipython",
    "version": 3
   },
   "file_extension": ".py",
   "mimetype": "text/x-python",
   "name": "python",
   "nbconvert_exporter": "python",
   "pygments_lexer": "ipython3",
   "version": "3.8.8"
  }
 },
 "nbformat": 4,
 "nbformat_minor": 5
}
