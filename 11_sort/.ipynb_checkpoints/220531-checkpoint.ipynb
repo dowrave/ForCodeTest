{
 "cells": [
  {
   "cell_type": "code",
   "execution_count": 25,
   "id": "ed9eba70-021d-4945-b578-44b08877cf6b",
   "metadata": {},
   "outputs": [],
   "source": [
    "import sys\n",
    "sys.stdin = open('test.txt', 'r')"
   ]
  },
  {
   "cell_type": "code",
   "execution_count": 26,
   "id": "37631458-d6fc-475a-8d8d-d033d45e41a9",
   "metadata": {},
   "outputs": [],
   "source": [
    "inputs = sys.stdin.readlines()"
   ]
  },
  {
   "cell_type": "code",
   "execution_count": 27,
   "id": "c3013f05-3f1e-4996-99a3-615da21c6b73",
   "metadata": {},
   "outputs": [],
   "source": [
    "N = int(inputs[0])\n",
    "# 엔터로 구분된 경우 -> 반복문 안돌리고 그냥 할 수 있네 ㅋㅋ\n",
    "numbers = list(map(int, inputs[1:]))"
   ]
  },
  {
   "cell_type": "code",
   "execution_count": 16,
   "id": "efed5f02-32f4-44ac-8982-623c35235f87",
   "metadata": {},
   "outputs": [
    {
     "name": "stdout",
     "output_type": "stream",
     "text": [
      "1\n",
      "2\n",
      "3\n",
      "4\n",
      "5\n"
     ]
    }
   ],
   "source": [
    "numbers = sorted(numbers)\n",
    "for i in numbers:\n",
    "    print(i)"
   ]
  },
  {
   "cell_type": "markdown",
   "id": "f55ff061-58e1-4415-899f-e3771b88aa2c",
   "metadata": {},
   "source": [
    "## 복습하고 ㄱㄱ"
   ]
  },
  {
   "cell_type": "code",
   "execution_count": 20,
   "id": "2fbb2eba-51e2-4b5e-b042-cebdfd61d452",
   "metadata": {
    "tags": []
   },
   "outputs": [
    {
     "name": "stdout",
     "output_type": "stream",
     "text": [
      "[2, 5, 3, 4, 1]\n",
      "[2, 3, 5, 4, 1]\n",
      "[2, 3, 4, 5, 1]\n",
      "[2, 3, 4, 1, 5]\n",
      "[2, 3, 1, 4, 5]\n",
      "[2, 1, 3, 4, 5]\n",
      "[1, 2, 3, 4, 5]\n"
     ]
    }
   ],
   "source": [
    "def bubble_sort(lst):\n",
    "    n = len(lst)\n",
    "    for i in range(n-1):\n",
    "        for j in range(n-i-1):\n",
    "            if lst[j] > lst[j+1]:\n",
    "                lst[j], lst[j+1] = lst[j+1], lst[j]\n",
    "                print(lst)\n",
    "\n",
    "bubble_sort(numbers)"
   ]
  },
  {
   "cell_type": "code",
   "execution_count": 49,
   "id": "ca5d6416-d176-4dc3-b0eb-d205df126357",
   "metadata": {},
   "outputs": [],
   "source": [
    "def selection_sort(lst):\n",
    "    n = len(lst)\n",
    "    for i in range(n):\n",
    "        min_idx = i\n",
    "        for j in range(i + 1, n):\n",
    "            if lst[min_idx] > lst[j]:\n",
    "                min_idx = j\n",
    "        lst[i], lst[min_idx] = lst[min_idx], lst[i]\n",
    "        print(lst)\n"
   ]
  },
  {
   "cell_type": "code",
   "execution_count": 50,
   "id": "7bcef000-805f-46a7-b3a0-8359a454cc1f",
   "metadata": {},
   "outputs": [
    {
     "name": "stdout",
     "output_type": "stream",
     "text": [
      "[1, 2, 5, 6, 3]\n",
      "[1, 2, 5, 6, 3]\n",
      "[1, 2, 3, 6, 5]\n",
      "[1, 2, 3, 5, 6]\n",
      "[1, 2, 3, 5, 6]\n"
     ]
    }
   ],
   "source": [
    "test = [3, 2, 5, 6, 1]\n",
    "selection_sort(test)"
   ]
  },
  {
   "cell_type": "code",
   "execution_count": 60,
   "id": "dbdf9b05-4052-4dd5-9afe-9869cf1f7f78",
   "metadata": {},
   "outputs": [],
   "source": [
    "def insertion_sort(lst):\n",
    "    n = len(lst)\n",
    "    for i in range(1, n):\n",
    "        for j in range(n - 1, 0, -1):\n",
    "            if lst[j-1] > lst[j]:\n",
    "                lst[j], lst[j-1] = lst[j-1], lst[j]\n",
    "                print(lst)"
   ]
  },
  {
   "cell_type": "code",
   "execution_count": 61,
   "id": "7c0bda18-b496-44c1-a068-38b14573af82",
   "metadata": {},
   "outputs": [
    {
     "name": "stdout",
     "output_type": "stream",
     "text": [
      "[3, 2, 5, 1, 6]\n",
      "[3, 2, 1, 5, 6]\n",
      "[3, 1, 2, 5, 6]\n",
      "[1, 3, 2, 5, 6]\n",
      "[1, 2, 3, 5, 6]\n"
     ]
    }
   ],
   "source": [
    "test = [3, 2, 5, 6, 1]\n",
    "insertion_sort(test)"
   ]
  },
  {
   "cell_type": "code",
   "execution_count": 64,
   "id": "f2d4f8f6-3daf-4d52-9702-c6af1c216431",
   "metadata": {},
   "outputs": [],
   "source": [
    "def merge_sort(lst):\n",
    "    if len(lst) < 2:\n",
    "        return lst\n",
    "    mid = len(lst) // 2\n",
    "    # 여기 들어오는 식은 배열된 식임. 배열 알고리즘은 밑에 구현될 것\n",
    "    low_lst = merge_sort(lst[:mid])\n",
    "    high_lst = merge_sort(lst[mid:])\n",
    "    \n",
    "    l, h = 0, 0\n",
    "    merged_lst = []\n",
    "    \n",
    "    while l < len(low_lst) and h < len(high_lst):\n",
    "        if low_lst[l] > high_lst[h]:\n",
    "            merged_lst.append(low_lst[l])\n",
    "            l += 1\n",
    "        elif low_lst[l] < high_lst[h]:\n",
    "            merged_lst.append(high_lst[h])\n",
    "            h += 1\n",
    "        else:\n",
    "            merged_lst.append(low_lst[l])\n",
    "            merged_lst.append(high_lst[h])\n",
    "            l += 1\n",
    "            h += 1\n",
    "        print(lst)\n",
    "    return lst\n",
    "    "
   ]
  },
  {
   "cell_type": "code",
   "execution_count": 65,
   "id": "35201051-6126-4988-8282-21e5db79cb4c",
   "metadata": {},
   "outputs": [
    {
     "name": "stdout",
     "output_type": "stream",
     "text": [
      "[1, 2]\n",
      "[5, 6]\n",
      "[3, 5, 6]\n",
      "[3, 5, 6]\n",
      "[1, 2, 3, 5, 6]\n",
      "[1, 2, 3, 5, 6]\n",
      "[1, 2, 3, 5, 6]\n"
     ]
    },
    {
     "data": {
      "text/plain": [
       "[1, 2, 3, 5, 6]"
      ]
     },
     "execution_count": 65,
     "metadata": {},
     "output_type": "execute_result"
    }
   ],
   "source": [
    "merge_sort(test)"
   ]
  },
  {
   "cell_type": "code",
   "execution_count": 75,
   "id": "3bfa3157-1440-4720-87ba-453519cc51f9",
   "metadata": {},
   "outputs": [],
   "source": [
    "def quick_sort(lst):\n",
    "    \n",
    "    if len(lst) < 2:\n",
    "        return lst\n",
    "    \n",
    "    pivot = lst[len(lst) // 2]\n",
    "    front_lst, pivot_lst, back_lst = [], [], []\n",
    "    for i in lst:\n",
    "        if i < pivot:\n",
    "            front_lst.append(i)\n",
    "        elif i > pivot:\n",
    "            back_lst.append(i)\n",
    "        else:\n",
    "            pivot_lst.append(i)\n",
    "    print(front_lst, pivot_lst, back_lst)\n",
    "    return quick_sort(front_lst) + quick_sort(pivot_lst) + quick_sort(back_lst)\n"
   ]
  },
  {
   "cell_type": "code",
   "execution_count": 76,
   "id": "145f7707-365a-423c-863b-a1c4fea3eeca",
   "metadata": {},
   "outputs": [
    {
     "name": "stdout",
     "output_type": "stream",
     "text": [
      "[3, 2, 1] [5] [6]\n",
      "[1] [2] [3]\n"
     ]
    },
    {
     "data": {
      "text/plain": [
       "[1, 2, 3, 5, 6]"
      ]
     },
     "execution_count": 76,
     "metadata": {},
     "output_type": "execute_result"
    }
   ],
   "source": [
    "test = [3, 2, 5, 6, 1]\n",
    "quick_sort(test)"
   ]
  },
  {
   "cell_type": "markdown",
   "id": "12caec83-3529-47e1-bdbc-06fb91b1d700",
   "metadata": {},
   "source": [
    "### 파이썬의 sort, sorted는 Tim Sort를 사용한다\n",
    "- `sort`는 메소드로, 리스트에만 사용할 수 있음. 새로운 객체를 생성하지 않음\n",
    "- `sorted`는 그 자체가 함수이며, 반복 가능한 객체들에 사용할 수 있고, 새로운 객체를 생성함\n",
    "- 즉 메모리를 아끼고 싶고 리스트를 써야 한다면 `sort` 메소드를 쓰세용"
   ]
  },
  {
   "cell_type": "markdown",
   "id": "bd089905-6d35-4946-a05b-3a20ca04410e",
   "metadata": {},
   "source": [
    "## 2751번\n",
    "- 수 정렬하는 데 nlogn으로 하셈\n",
    "- `Recursionerror` 발생 -> `sys.setrecursionlimit(10**6)` -> 메모리 초과"
   ]
  },
  {
   "cell_type": "code",
   "execution_count": null,
   "id": "ad899aa4-da4e-47fc-9996-460b579cd6f0",
   "metadata": {},
   "outputs": [],
   "source": []
  },
  {
   "cell_type": "code",
   "execution_count": 77,
   "id": "e8245e40-a82e-4b20-aec3-813aa0a78efd",
   "metadata": {},
   "outputs": [
    {
     "ename": "IndexError",
     "evalue": "list index out of range",
     "output_type": "error",
     "traceback": [
      "\u001b[1;31m---------------------------------------------------------------------------\u001b[0m",
      "\u001b[1;31mIndexError\u001b[0m                                Traceback (most recent call last)",
      "\u001b[1;32m<ipython-input-77-50096e1a8ff9>\u001b[0m in \u001b[0;36m<module>\u001b[1;34m\u001b[0m\n\u001b[0;32m      2\u001b[0m \u001b[1;33m\u001b[0m\u001b[0m\n\u001b[0;32m      3\u001b[0m \u001b[0minputs\u001b[0m \u001b[1;33m=\u001b[0m \u001b[0msys\u001b[0m\u001b[1;33m.\u001b[0m\u001b[0mstdin\u001b[0m\u001b[1;33m.\u001b[0m\u001b[0mreadlines\u001b[0m\u001b[1;33m(\u001b[0m\u001b[1;33m)\u001b[0m\u001b[1;33m\u001b[0m\u001b[1;33m\u001b[0m\u001b[0m\n\u001b[1;32m----> 4\u001b[1;33m \u001b[0mN\u001b[0m \u001b[1;33m=\u001b[0m \u001b[0mint\u001b[0m\u001b[1;33m(\u001b[0m\u001b[0minputs\u001b[0m\u001b[1;33m[\u001b[0m\u001b[1;36m0\u001b[0m\u001b[1;33m]\u001b[0m\u001b[1;33m)\u001b[0m\u001b[1;33m\u001b[0m\u001b[1;33m\u001b[0m\u001b[0m\n\u001b[0m\u001b[0;32m      5\u001b[0m \u001b[0mnumbers\u001b[0m \u001b[1;33m=\u001b[0m \u001b[0mlist\u001b[0m\u001b[1;33m(\u001b[0m\u001b[0mmap\u001b[0m\u001b[1;33m(\u001b[0m\u001b[0mint\u001b[0m\u001b[1;33m,\u001b[0m \u001b[0minputs\u001b[0m\u001b[1;33m[\u001b[0m\u001b[1;36m1\u001b[0m\u001b[1;33m:\u001b[0m\u001b[1;33m]\u001b[0m\u001b[1;33m)\u001b[0m\u001b[1;33m)\u001b[0m\u001b[1;33m\u001b[0m\u001b[1;33m\u001b[0m\u001b[0m\n",
      "\u001b[1;31mIndexError\u001b[0m: list index out of range"
     ]
    }
   ],
   "source": [
    "import sys\n",
    "\n",
    "inputs = sys.stdin.readlines()\n",
    "N = int(inputs[0])\n",
    "numbers = list(map(int, inputs[1:]))"
   ]
  },
  {
   "cell_type": "code",
   "execution_count": 82,
   "id": "ad5b90eb-7c39-447e-b4ab-9babfa380a84",
   "metadata": {},
   "outputs": [
    {
     "name": "stdout",
     "output_type": "stream",
     "text": [
      "1\n",
      "2\n",
      "3\n",
      "4\n",
      "5\n"
     ]
    }
   ],
   "source": [
    "# quick sort 구현\n",
    "def quick_sort2(lst):\n",
    "    if len(lst) < 2:\n",
    "        return lst\n",
    "    \n",
    "    pivot_value = lst[len(lst) // 2]\n",
    "    front_lst, pivot_lst, back_lst = [], [], []\n",
    "    for value in lst:\n",
    "        if value < pivot_value:\n",
    "            front_lst.append(value)\n",
    "        elif value > pivot_value:\n",
    "            back_lst.append(value)\n",
    "        else:\n",
    "            pivot_lst.append(value)\n",
    "    return quick_sort2(front_lst) + quick_sort2(pivot_lst) + quick_sort2(back_lst)\n",
    "\n",
    "numbers = [5, 4, 3, 2, 1]\n",
    "\n",
    "for i in (quick_sort2(numbers)):\n",
    "    print(i)"
   ]
  },
  {
   "cell_type": "markdown",
   "id": "f217be89-76a3-44b0-918f-4661eaa04516",
   "metadata": {},
   "source": [
    "## 10989번"
   ]
  },
  {
   "cell_type": "markdown",
   "id": "4077814d-6078-49f1-b43e-80cbef24a425",
   "metadata": {},
   "source": [
    "### 카운팅 정렬\n",
    "1. 숫자를 셀 배열을 만듦\n",
    "2. 숫자를 세서 그 값을 넣음\n",
    "3. count 배열에 반복문을 돌림\n",
    "    - 0이 아니라면 그 값만큼 출력시키면 ㅇㅋ\n",
    "   "
   ]
  },
  {
   "cell_type": "code",
   "execution_count": 115,
   "id": "c689be45-ba47-4082-8d44-fd0b62197ad5",
   "metadata": {},
   "outputs": [],
   "source": [
    "def count_sort(lst):\n",
    "    count_lst = [0] * max(lst)\n",
    "    for i in lst:\n",
    "        count_lst[i - 1] += 1 # count_lst의 인덱스 + 1 값에 저장되어 있음\n",
    "        \n",
    "    print(count_lst)\n",
    "    \n",
    "    for j in range(len(count_lst)): # j는 인덱스임\n",
    "        if count_lst[j] != 0:\n",
    "            for _ in range(count_lst[j]):\n",
    "                print(j + 1)\n",
    "    \n",
    "    "
   ]
  },
  {
   "cell_type": "code",
   "execution_count": 116,
   "id": "e23f4bf1-9363-46d8-946d-365c8ca0de24",
   "metadata": {},
   "outputs": [
    {
     "name": "stdout",
     "output_type": "stream",
     "text": [
      "[2, 1, 3, 2, 0, 1]\n",
      "1\n",
      "1\n",
      "2\n",
      "3\n",
      "3\n",
      "3\n",
      "4\n",
      "4\n",
      "6\n"
     ]
    }
   ],
   "source": [
    "count_sort([1,3,4,6,3,2,1,3,4])"
   ]
  },
  {
   "cell_type": "code",
   "execution_count": 119,
   "id": "557af94b-76bc-4b1f-9f11-f303f5f1eecb",
   "metadata": {},
   "outputs": [],
   "source": [
    "import sys\n",
    "sys.stdin = open('test.txt', 'r')\n",
    "a = sys.stdin.readline\n",
    "num = int(a())"
   ]
  },
  {
   "cell_type": "code",
   "execution_count": 120,
   "id": "8d805a5c-a956-483f-95bb-a330edabacbd",
   "metadata": {},
   "outputs": [
    {
     "data": {
      "text/plain": [
       "5"
      ]
     },
     "execution_count": 120,
     "metadata": {},
     "output_type": "execute_result"
    }
   ],
   "source": [
    "num"
   ]
  },
  {
   "cell_type": "markdown",
   "id": "b794ebac-6a46-46a1-a9ed-0dcfc0da1ee3",
   "metadata": {},
   "source": [
    "## 메모리 관련\n",
    "- sys.stdin.readlines()는 리스트를 하나 더 만들면서 진행하므로 메모리가 부족할 수 있음\n",
    "- 대신 쓸만한 게 `sys.stdin.readline()`으로 반복문을 돌리면서 바로 연산을 진행하는 방법이 있음\n",
    "- 카운팅 정렬 문제 푸는데 `sys.stdin.readlines()`는 잘 먹히지 않는 걸 볼 수 있었다"
   ]
  },
  {
   "cell_type": "markdown",
   "id": "af58167a-b2b2-497a-a757-2fa38fefa58e",
   "metadata": {},
   "source": [
    "## 2108번 - 통계학"
   ]
  },
  {
   "cell_type": "code",
   "execution_count": 180,
   "id": "9e69faa0-954d-4dde-b037-10df291cca68",
   "metadata": {},
   "outputs": [],
   "source": [
    "import sys\n",
    "sys.stdin = open('test.txt', 'r')\n",
    "inputs = sys.stdin.readlines()\n",
    "N = inputs[0]\n",
    "numbers = list(map(int, inputs[1:]))"
   ]
  },
  {
   "cell_type": "code",
   "execution_count": 181,
   "id": "57d4dd3c-574e-40e2-a056-072ed8504540",
   "metadata": {},
   "outputs": [
    {
     "data": {
      "text/plain": [
       "[1, 3, 8, -2, 2]"
      ]
     },
     "execution_count": 181,
     "metadata": {},
     "output_type": "execute_result"
    }
   ],
   "source": [
    "numbers"
   ]
  },
  {
   "cell_type": "code",
   "execution_count": 182,
   "id": "0b96258e-af0a-428b-9013-0373297079a2",
   "metadata": {},
   "outputs": [
    {
     "data": {
      "text/plain": [
       "2"
      ]
     },
     "execution_count": 182,
     "metadata": {},
     "output_type": "execute_result"
    }
   ],
   "source": [
    "# 산술 평균\n",
    "def avg(lst):\n",
    "    if len(lst) == 0:\n",
    "        return\n",
    "    return int(round(sum(lst) / len(lst), 0))\n",
    "avg(numbers)"
   ]
  },
  {
   "cell_type": "code",
   "execution_count": 183,
   "id": "44fd70db-8327-4c0a-bf71-95894c0f1d60",
   "metadata": {},
   "outputs": [
    {
     "data": {
      "text/plain": [
       "2"
      ]
     },
     "execution_count": 183,
     "metadata": {},
     "output_type": "execute_result"
    }
   ],
   "source": [
    "# 중앙값\n",
    "def mid(lst):\n",
    "    lst.sort() # sort는 바로 적용됨 + 정렬된 리스트는 원래 리스트에 접근해야 함 : 메소드에 접근 X\n",
    "    return lst[len(lst) // 2]\n",
    "mid(numbers)"
   ]
  },
  {
   "cell_type": "code",
   "execution_count": 211,
   "id": "e89e610b-4695-4075-a1ae-94fd8d898595",
   "metadata": {},
   "outputs": [
    {
     "data": {
      "text/plain": [
       "1"
      ]
     },
     "execution_count": 211,
     "metadata": {},
     "output_type": "execute_result"
    }
   ],
   "source": [
    "# 최빈값 : 가장 잦은 빈도 - 여러 개라면 \"최빈값 중\" 2번째로 작은 값을 출력\n",
    "def mode(lst):\n",
    "    count = {}\n",
    "    \n",
    "    for i in lst:\n",
    "        if i not in count:\n",
    "            count[i] = 0    \n",
    "        count[i] += 1\n",
    "        \n",
    "    temp = []\n",
    "    for i in sorted(count.keys()):\n",
    "        if count[i] == max(count.values()):\n",
    "            temp.append(i)\n",
    "    if len(temp) >= 2:\n",
    "        return temp[1]\n",
    "    elif len(temp) == 1:\n",
    "        return temp[0]\n",
    "\n",
    "mode(numbers)"
   ]
  },
  {
   "cell_type": "code",
   "execution_count": 152,
   "id": "018ae50b-bf16-45ea-b016-dbea258fd093",
   "metadata": {},
   "outputs": [
    {
     "data": {
      "text/plain": [
       "10"
      ]
     },
     "execution_count": 152,
     "metadata": {},
     "output_type": "execute_result"
    }
   ],
   "source": [
    "# 범위\n",
    "def boundary(lst):\n",
    "    a = min(lst)\n",
    "    b = max(lst)\n",
    "    return b - a\n",
    "boundary(numbers)"
   ]
  },
  {
   "cell_type": "code",
   "execution_count": 210,
   "id": "ca2c9608-9e22-41ad-96f8-6e95379e5952",
   "metadata": {},
   "outputs": [
    {
     "ename": "KeyError",
     "evalue": "-2",
     "output_type": "error",
     "traceback": [
      "\u001b[1;31m---------------------------------------------------------------------------\u001b[0m",
      "\u001b[1;31mKeyError\u001b[0m                                  Traceback (most recent call last)",
      "\u001b[1;32m<ipython-input-210-b8f8a1821f83>\u001b[0m in \u001b[0;36m<module>\u001b[1;34m\u001b[0m\n\u001b[0;32m      3\u001b[0m \u001b[1;33m\u001b[0m\u001b[0m\n\u001b[0;32m      4\u001b[0m \u001b[1;31m# 이것들은 안됨\u001b[0m\u001b[1;33m\u001b[0m\u001b[1;33m\u001b[0m\u001b[1;33m\u001b[0m\u001b[0m\n\u001b[1;32m----> 5\u001b[1;33m \u001b[1;32mif\u001b[0m \u001b[0mtemp\u001b[0m\u001b[1;33m[\u001b[0m\u001b[1;33m-\u001b[0m\u001b[1;36m2\u001b[0m\u001b[1;33m]\u001b[0m \u001b[1;33m==\u001b[0m \u001b[1;32mFalse\u001b[0m\u001b[1;33m:\u001b[0m\u001b[1;33m\u001b[0m\u001b[1;33m\u001b[0m\u001b[0m\n\u001b[0m\u001b[0;32m      6\u001b[0m     \u001b[0mtemp\u001b[0m\u001b[1;33m[\u001b[0m\u001b[1;33m-\u001b[0m\u001b[1;36m2\u001b[0m\u001b[1;33m]\u001b[0m \u001b[1;33m=\u001b[0m \u001b[1;36m0\u001b[0m\u001b[1;33m\u001b[0m\u001b[1;33m\u001b[0m\u001b[0m\n\u001b[0;32m      7\u001b[0m     \u001b[0mtemp\u001b[0m\u001b[1;33m[\u001b[0m\u001b[1;33m-\u001b[0m\u001b[1;36m2\u001b[0m\u001b[1;33m]\u001b[0m \u001b[1;33m+=\u001b[0m \u001b[1;36m1\u001b[0m\u001b[1;33m\u001b[0m\u001b[1;33m\u001b[0m\u001b[0m\n",
      "\u001b[1;31mKeyError\u001b[0m: -2"
     ]
    }
   ],
   "source": [
    "temp = {}\n",
    "# 이건 됨\n",
    "temp[-2] = 0\n",
    "# 이것들은 안됨\n",
    "if temp[-2] == False:\n",
    "    temp[-2] = 0 \n",
    "    temp[-2] += 1\n",
    "\n",
    "lst = []\n",
    "for i in sorted(dict.keys()):\n",
    "    print(i)\n",
    "    if dict[i] == max(dict.values()):\n",
    "        lst.append(i)\n",
    "if len(lst) >= 2:\n",
    "    print(lst[1])\n",
    "elif len(lst) == 1:\n",
    "    print(lst[0])"
   ]
  },
  {
   "cell_type": "code",
   "execution_count": 216,
   "id": "422742df-af39-43bd-b194-5bc5d5e206eb",
   "metadata": {},
   "outputs": [
    {
     "name": "stdout",
     "output_type": "stream",
     "text": [
      "0\n",
      "0\n",
      "0\n",
      "1\n"
     ]
    }
   ],
   "source": [
    "import sys\n",
    "sys.stdin = open('test.txt', 'r')\n",
    "inputs = sys.stdin.readlines()\n",
    "N = inputs[0]\n",
    "numbers = list(map(int, inputs[1:]))\n",
    "\n",
    "print(avg(numbers))\n",
    "print(mid(numbers))\n",
    "print(mode(numbers))\n",
    "print(boundary(numbers))\n"
   ]
  },
  {
   "cell_type": "markdown",
   "id": "31d762a7-a9ab-44af-83f6-6a59690b454b",
   "metadata": {},
   "source": [
    "## 백준 1427번\n"
   ]
  },
  {
   "cell_type": "code",
   "execution_count": 270,
   "id": "45dfc90f-e10f-44c1-9fad-87d02909e13d",
   "metadata": {},
   "outputs": [
    {
     "ename": "ValueError",
     "evalue": "invalid literal for int() with base 10: '\\n'",
     "output_type": "error",
     "traceback": [
      "\u001b[1;31m---------------------------------------------------------------------------\u001b[0m",
      "\u001b[1;31mValueError\u001b[0m                                Traceback (most recent call last)",
      "\u001b[1;32m<ipython-input-270-00a3719cc00d>\u001b[0m in \u001b[0;36m<module>\u001b[1;34m\u001b[0m\n\u001b[0;32m      2\u001b[0m \u001b[0msys\u001b[0m\u001b[1;33m.\u001b[0m\u001b[0mstdin\u001b[0m \u001b[1;33m=\u001b[0m \u001b[0mopen\u001b[0m\u001b[1;33m(\u001b[0m\u001b[1;34m'test.txt'\u001b[0m\u001b[1;33m,\u001b[0m \u001b[1;34m'r'\u001b[0m\u001b[1;33m)\u001b[0m\u001b[1;33m\u001b[0m\u001b[1;33m\u001b[0m\u001b[0m\n\u001b[0;32m      3\u001b[0m \u001b[0mN\u001b[0m \u001b[1;33m=\u001b[0m \u001b[0msys\u001b[0m\u001b[1;33m.\u001b[0m\u001b[0mstdin\u001b[0m\u001b[1;33m.\u001b[0m\u001b[0mreadline\u001b[0m\u001b[1;33m(\u001b[0m\u001b[1;33m)\u001b[0m\u001b[1;33m\u001b[0m\u001b[1;33m\u001b[0m\u001b[0m\n\u001b[1;32m----> 4\u001b[1;33m \u001b[0mN\u001b[0m \u001b[1;33m=\u001b[0m \u001b[0mlist\u001b[0m\u001b[1;33m(\u001b[0m\u001b[0mmap\u001b[0m\u001b[1;33m(\u001b[0m\u001b[0mint\u001b[0m\u001b[1;33m,\u001b[0m \u001b[0mlist\u001b[0m\u001b[1;33m(\u001b[0m\u001b[0mN\u001b[0m\u001b[1;33m)\u001b[0m\u001b[1;33m)\u001b[0m\u001b[1;33m)\u001b[0m\u001b[1;33m\u001b[0m\u001b[1;33m\u001b[0m\u001b[0m\n\u001b[0m\u001b[0;32m      5\u001b[0m \u001b[0mN\u001b[0m\u001b[1;33m.\u001b[0m\u001b[0msort\u001b[0m\u001b[1;33m(\u001b[0m\u001b[0mreverse\u001b[0m \u001b[1;33m=\u001b[0m \u001b[1;32mTrue\u001b[0m\u001b[1;33m)\u001b[0m\u001b[1;33m\u001b[0m\u001b[1;33m\u001b[0m\u001b[0m\n\u001b[0;32m      6\u001b[0m \u001b[0mN\u001b[0m \u001b[1;33m=\u001b[0m \u001b[1;34m''\u001b[0m\u001b[1;33m.\u001b[0m\u001b[0mjoin\u001b[0m\u001b[1;33m(\u001b[0m\u001b[0mmap\u001b[0m\u001b[1;33m(\u001b[0m\u001b[0mstr\u001b[0m\u001b[1;33m,\u001b[0m \u001b[0mN\u001b[0m\u001b[1;33m)\u001b[0m\u001b[1;33m)\u001b[0m\u001b[1;33m\u001b[0m\u001b[1;33m\u001b[0m\u001b[0m\n",
      "\u001b[1;31mValueError\u001b[0m: invalid literal for int() with base 10: '\\n'"
     ]
    }
   ],
   "source": [
    "import sys\n",
    "sys.stdin = open('test.txt', 'r')\n",
    "N = sys.stdin.readline()\n",
    "N = list(map(int, list(N)))\n",
    "N.sort(reverse = True)\n",
    "N = ''.join(map(str, N))\n",
    "print(N)"
   ]
  },
  {
   "cell_type": "markdown",
   "id": "267ca411-3e89-4dce-b73c-57a1782ae186",
   "metadata": {},
   "source": [
    "# 11650 : 좌표 정렬"
   ]
  },
  {
   "cell_type": "code",
   "execution_count": 271,
   "id": "793e6fe5-f05a-4b83-bc68-8901e5c4c02b",
   "metadata": {},
   "outputs": [],
   "source": [
    "import sys\n",
    "sys.stdin = open('test.txt', 'r')\n",
    "inputs = sys.stdin.readlines()\n",
    "N = inputs[0]\n",
    "new_lst = []\n",
    "for i in inputs[1:]:\n",
    "    x, y = list(map(int, i.rstrip('\\n').split(' ')))\n",
    "    new_lst.append([x, y])"
   ]
  },
  {
   "cell_type": "code",
   "execution_count": 274,
   "id": "9c590e22-a0cf-4016-ad3c-1c140eadde50",
   "metadata": {},
   "outputs": [
    {
     "name": "stdout",
     "output_type": "stream",
     "text": [
      "1 -1\n",
      "1 1\n",
      "2 2\n",
      "3 3\n",
      "3 4\n"
     ]
    }
   ],
   "source": [
    "# 시간 초과\n",
    "for i in range(len(new_lst) - 1):\n",
    "    x_small_idx = i\n",
    "    for j in range(i+1, len(new_lst)):\n",
    "        if new_lst[i][0] > new_lst[j][0]:\n",
    "            x_small_idx = j\n",
    "    new_lst[i], new_lst[x_small_idx] = new_lst[x_small_idx], new_lst[i]\n",
    "    \n",
    "\n",
    "\n",
    "for i in range(len(new_lst) - 1):\n",
    "    y_small_idx = i\n",
    "    for j in range(i+1, len(new_lst)):\n",
    "        if new_lst[i][0] == new_lst[j][0] and new_lst[i][1] > new_lst[j][1]:\n",
    "            y_small_idx = j\n",
    "    new_lst[i], new_lst[y_small_idx] = new_lst[y_small_idx], new_lst[i]   \n",
    "    \n",
    "\n",
    "for i in new_lst:\n",
    "    print(i[0], i[1])\n",
    "\n"
   ]
  },
  {
   "cell_type": "markdown",
   "id": "46d88407-7dc5-40cd-b8ac-cab1727d2394",
   "metadata": {},
   "source": [
    "### 생각을 해봅시다\n",
    "- sort는 신이네?"
   ]
  },
  {
   "cell_type": "code",
   "execution_count": 278,
   "id": "74f61ca0-1228-4968-877e-dce423bbd327",
   "metadata": {},
   "outputs": [
    {
     "data": {
      "text/plain": [
       "[[1, -3], [1, -2], [1, 1], [3, 4], [5, 6]]"
      ]
     },
     "execution_count": 278,
     "metadata": {},
     "output_type": "execute_result"
    }
   ],
   "source": [
    "lst = [[1, -2], [1, -3], [1, 1], [5, 6],[3, 4]]\n",
    "lst.sort()\n",
    "lst"
   ]
  },
  {
   "cell_type": "code",
   "execution_count": 290,
   "id": "995a43b7-0ec0-4233-ab51-670f0fe03548",
   "metadata": {},
   "outputs": [
    {
     "name": "stdout",
     "output_type": "stream",
     "text": [
      "0 4\n",
      "1 -1\n",
      "1 2\n",
      "2 2\n",
      "3 3\n"
     ]
    }
   ],
   "source": [
    "import sys\n",
    "sys.stdin = open('test.txt', 'r')\n",
    "inputs = sys.stdin.readlines()\n",
    "N = inputs[0]\n",
    "new_lst = []\n",
    "for i in inputs[1:]:\n",
    "    x, y = list(map(int, i.rstrip('\\n').split(' ')))\n",
    "    new_lst.append([x, y])\n",
    "    \n",
    "# sort 함수에 대해선 알아놓을 필요가 있겠다 - key라는 파라미터가 있음 : 정렬 순서를 정의해줌\n",
    "new_lst.sort(key = lambda x : (x[0], x[1])) # x[0]을 정의한 뒤 x[1]을 정의해달라\n",
    "\n",
    "for i in new_lst:\n",
    "    print(i[0], i[1])"
   ]
  },
  {
   "cell_type": "markdown",
   "id": "2cde0a23-de46-4198-905b-18b09e3e49fd",
   "metadata": {},
   "source": [
    "## 11651번\n",
    "- y좌표 증가순, y좌표가 같다면 x를 증가"
   ]
  },
  {
   "cell_type": "code",
   "execution_count": 292,
   "id": "4f0baa34-6954-4c6e-a55a-a8bcd5953e01",
   "metadata": {},
   "outputs": [],
   "source": [
    "import sys\n",
    "sys.stdin = open('test.txt', 'r')\n",
    "# input 다르게 구현하기\n",
    "N = int(sys.stdin.readline())\n",
    "new_lst = []\n",
    "for i in range(N):\n",
    "    x, y = list(map(int, sys.stdin.readline().rstrip('\\n').split(' ')))\n",
    "    new_lst.append([x, y])"
   ]
  },
  {
   "cell_type": "code",
   "execution_count": 294,
   "id": "58aeb985-427c-4cfa-9d53-ea5bb75183ed",
   "metadata": {},
   "outputs": [
    {
     "name": "stdout",
     "output_type": "stream",
     "text": [
      "1 -1\n",
      "1 2\n",
      "2 2\n",
      "3 3\n",
      "0 4\n"
     ]
    }
   ],
   "source": [
    "new_lst.sort(key = lambda x : (x[1], x[0])) # 즉 x[1]을 정렬한 뒤 x[0]을 정렬해달라\n",
    "for i in new_lst:\n",
    "    print(i[0], i[1])"
   ]
  },
  {
   "cell_type": "markdown",
   "id": "8797e286-719e-430c-9cd0-9fd3c670f455",
   "metadata": {},
   "source": [
    "## 1181번\n",
    "- `sort()` 어떻게 쓰는지 심화 과정\n",
    "- `지정을 안해준다면 기본은 사전`처럼 작동한다 : 같은 글자가 앞에 있다면, 뒷 글자는 사전 순서대로 정렬됨\n",
    "- 사전처럼 정렬한 뒤 `keys` 파라미터를 이용해 길이에 대해 정렬해주면 끝"
   ]
  },
  {
   "cell_type": "code",
   "execution_count": 296,
   "id": "f2aa494a-cf0b-4821-96f6-8fa74156fe21",
   "metadata": {},
   "outputs": [],
   "source": [
    "import sys\n",
    "sys.stdin = open('test.txt', 'r')\n",
    "# input 다르게 구현하기\n",
    "N = int(sys.stdin.readline())\n",
    "lst = []\n",
    "for i in range(N):\n",
    "    lst.append(sys.stdin.readline().rstrip('\\n'))\n",
    "    "
   ]
  },
  {
   "cell_type": "code",
   "execution_count": 310,
   "id": "eb07a35b-3422-417c-8e41-4aac0ae7e09c",
   "metadata": {},
   "outputs": [
    {
     "name": "stdout",
     "output_type": "stream",
     "text": [
      "['but', 'cannot', 'hesitate', 'i', 'im', 'it', 'more', 'no', 'wait', 'wont', 'yours']\n",
      "['i', 'im', 'it', 'no', 'but', 'more', 'wait', 'wont', 'yours', 'cannot', 'hesitate']\n"
     ]
    }
   ],
   "source": [
    "lst = list(set(lst))\n",
    "lst.sort()\n",
    "print(lst)\n",
    "lst.sort(key = lambda x : len(x))\n",
    "print(lst)"
   ]
  },
  {
   "cell_type": "code",
   "execution_count": 308,
   "id": "1a2890f8-7ad7-41cc-b0a3-d7c4e8634478",
   "metadata": {},
   "outputs": [
    {
     "name": "stdout",
     "output_type": "stream",
     "text": [
      "['i', 'im', 'it', 'no', 'but', 'more', 'wait', 'wont', 'yours', 'cannot', 'hesitate']\n"
     ]
    }
   ],
   "source": [
    "print(lst)"
   ]
  },
  {
   "cell_type": "markdown",
   "id": "0be7a3d5-65f1-44ed-b9f2-e833d348dce3",
   "metadata": {},
   "source": [
    "## 10814번 : 나이순 정렬\n",
    "- 정렬을 하는데 뒤바뀌면 안되는 순서가 있음\n",
    "- 어떤 순서를 유지해야 한다면 sort에서 제외만 해주면 되지 않을까?"
   ]
  },
  {
   "cell_type": "code",
   "execution_count": 317,
   "id": "85517302-4198-4f5c-95d6-62c9b4bfd2cc",
   "metadata": {},
   "outputs": [],
   "source": [
    "import sys\n",
    "sys.stdin = open('test.txt', 'r')\n",
    "N = int(sys.stdin.readline())\n",
    "lst = []\n",
    "for i in range(N):\n",
    "    lst.append(sys.stdin.readline().rstrip('\\n').split(\" \"))"
   ]
  },
  {
   "cell_type": "code",
   "execution_count": 318,
   "id": "61809a5d-f646-4b49-af40-ee0c76ae8d36",
   "metadata": {},
   "outputs": [
    {
     "data": {
      "text/plain": [
       "[['21', 'Junkyu'], ['21', 'Dohyun'], ['20', 'Sunyoung']]"
      ]
     },
     "execution_count": 318,
     "metadata": {},
     "output_type": "execute_result"
    }
   ],
   "source": [
    "lst"
   ]
  },
  {
   "cell_type": "code",
   "execution_count": 324,
   "id": "4aaa9849-2046-4bce-9c76-9170e616a3db",
   "metadata": {},
   "outputs": [],
   "source": [
    "# 와 int 안씌웠다고 틀렸다고 나옴\n",
    "lst.sort(key = lambda x:int(x[0]))"
   ]
  },
  {
   "cell_type": "code",
   "execution_count": 325,
   "id": "6465a7c3-1f46-4ce2-a227-a6900a42eebc",
   "metadata": {},
   "outputs": [
    {
     "name": "stdout",
     "output_type": "stream",
     "text": [
      "20 Sunyoung\n",
      "21 Junkyu\n",
      "21 Dohyun\n"
     ]
    }
   ],
   "source": [
    "for i in lst:\n",
    "    print(i[0], i[1])"
   ]
  },
  {
   "cell_type": "markdown",
   "id": "e3a7b3dc-b663-403e-9196-ede82d7ac285",
   "metadata": {},
   "source": [
    "## 18870번"
   ]
  },
  {
   "cell_type": "code",
   "execution_count": 358,
   "id": "42aa0c2b-1bd9-4d25-86f0-8a1096a47e9f",
   "metadata": {},
   "outputs": [],
   "source": [
    "import sys\n",
    "sys.stdin = open('test.txt', 'r')\n",
    "N = int(sys.stdin.readline())\n",
    "inputs = list(map(int, sys.stdin.readline().rstrip('\\n').split(\" \")))\n",
    "\n",
    "# 좌표 압축\n",
    "# 나보다 작은 녀석의 수가 좌표 압축 결과임\n",
    "# for i in range(len(inputs)):\n",
    "#     count = 0\n",
    "#     for j in range(len(inputs)):\n",
    "#         if inputs[i] == inputs[j] :\n",
    "#             continue\n",
    "#         elif inputs[i] > inputs[j]:\n",
    "#             count += 1\n",
    "#     counts[i] = count\n",
    "\n",
    "# print(counts)\n"
   ]
  },
  {
   "cell_type": "markdown",
   "id": "a2fa85e7-cd18-40b2-9639-7cd8a58e61fa",
   "metadata": {},
   "source": [
    "### 좌표 압축의 의미 \n",
    "- 중복을 제거하고 오름차순으로 정렬했을 때 인덱스 값이 좌표 압축값임"
   ]
  },
  {
   "cell_type": "code",
   "execution_count": 362,
   "id": "77962f79-737f-4f16-8cf9-87805dd7906f",
   "metadata": {},
   "outputs": [
    {
     "name": "stdout",
     "output_type": "stream",
     "text": [
      "[1000, 999, 1000, 999, 1000, 999]\n",
      "{999: 0, 1000: 1}\n"
     ]
    },
    {
     "data": {
      "text/plain": [
       "[1, 0, 1, 0, 1, 0]"
      ]
     },
     "execution_count": 362,
     "metadata": {},
     "output_type": "execute_result"
    }
   ],
   "source": [
    "print(inputs)\n",
    "refined = list(set(inputs))\n",
    "refined.sort()\n",
    "temp_dict = {}\n",
    "for i in range(len(refined)):\n",
    "    temp_dict[refined[i]] = i\n",
    "print(temp_dict)\n",
    "\n",
    "def keystovalue(keys):\n",
    "    return temp_dict[keys]\n",
    "\n",
    "list(map(keystovalue, inputs))\n"
   ]
  },
  {
   "cell_type": "code",
   "execution_count": 342,
   "id": "2c75e13b-20f1-41da-a537-ab34cc227eee",
   "metadata": {},
   "outputs": [
    {
     "data": {
      "text/plain": [
       "[999, 1000]"
      ]
     },
     "execution_count": 342,
     "metadata": {},
     "output_type": "execute_result"
    }
   ],
   "source": []
  },
  {
   "cell_type": "code",
   "execution_count": null,
   "id": "c3ba8614-ea05-468b-bdf6-10ec3c7ae535",
   "metadata": {},
   "outputs": [],
   "source": []
  }
 ],
 "metadata": {
  "kernelspec": {
   "display_name": "Python 3",
   "language": "python",
   "name": "python3"
  },
  "language_info": {
   "codemirror_mode": {
    "name": "ipython",
    "version": 3
   },
   "file_extension": ".py",
   "mimetype": "text/x-python",
   "name": "python",
   "nbconvert_exporter": "python",
   "pygments_lexer": "ipython3",
   "version": "3.8.8"
  }
 },
 "nbformat": 4,
 "nbformat_minor": 5
}
