{
 "cells": [
  {
   "cell_type": "code",
   "execution_count": 1,
   "id": "5768b68f-0d97-41f0-af08-9f01bdb15c52",
   "metadata": {},
   "outputs": [],
   "source": [
    "import math\n",
    "\n",
    "def IsPrime(n):\n",
    "    # 조건 1. 1은 소수가 아니다\n",
    "    if n == 1 : return False\n",
    "    \n",
    "    # 조건 2. 에라토스체네스의 체\n",
    "    for i in range(2, int(math.sqrt(n) + 1)):\n",
    "        if n % i == 0:\n",
    "            return False\n",
    "    \n",
    "    # 조건 3. 2, 3은 위 반복문이 돌아가지 않음 : 2부터 시작하니까\n",
    "    return True "
   ]
  },
  {
   "cell_type": "code",
   "execution_count": null,
   "id": "7c616ea2-9c6f-4cc2-b325-31d9a8d44977",
   "metadata": {},
   "outputs": [],
   "source": []
  }
 ],
 "metadata": {
  "kernelspec": {
   "display_name": "Python 3",
   "language": "python",
   "name": "python3"
  },
  "language_info": {
   "codemirror_mode": {
    "name": "ipython",
    "version": 3
   },
   "file_extension": ".py",
   "mimetype": "text/x-python",
   "name": "python",
   "nbconvert_exporter": "python",
   "pygments_lexer": "ipython3",
   "version": "3.8.8"
  }
 },
 "nbformat": 4,
 "nbformat_minor": 5
}
