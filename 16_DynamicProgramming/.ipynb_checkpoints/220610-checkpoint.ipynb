{
 "cells": [
  {
   "cell_type": "code",
   "execution_count": 25,
   "id": "ccffedb9-32b5-4c35-9c6a-8a37fca67657",
   "metadata": {},
   "outputs": [],
   "source": [
    "import sys\n",
    "sys.stdin = open('test.txt', 'r')\n",
    "input = sys.stdin.readline"
   ]
  },
  {
   "cell_type": "markdown",
   "id": "b3647443-fffc-4f40-921a-f6d9cb4fb98a",
   "metadata": {},
   "source": [
    "### 2156번 : 포도주 시식\n",
    "- 1부터 n까지의 포도주 잔이 있다\n",
    "- 각 포도주 잔은 양이 있음\n",
    "- 이 양을 최대화 하시오\n",
    "- 단 인덱스 1, 2를 마시면 3은 마실 수 없음\n",
    "- <b>~계단 오르기랑 동일한 문제라고 봐야겠다?~</b>\n",
    "    - > ㄴㄴ 조금 다름 : 마지막 칸을 밟을 필요가 없음\n",
    "    - > 그래도 전반적인 원리는 비슷함\n",
    "### 조금 봐줘야 하는 부분\n",
    "- 지금 인덱스를 포함시키지 않는 최댓값도 출력해줄 필요가 있다\n",
    "- 즉 이전까지는 지금까지의 인덱스를 포함시켜 값을 출력했다면\n",
    "- 지금 인덱스의 와인을 마시지 않는 경우의 수가 최댓값인 경우도 있는 것이다"
   ]
  },
  {
   "cell_type": "code",
   "execution_count": 74,
   "id": "b0ed3c08-7347-4c02-889b-cfd150fdd3d0",
   "metadata": {},
   "outputs": [
    {
     "name": "stdout",
     "output_type": "stream",
     "text": [
      "33\n"
     ]
    }
   ],
   "source": [
    "import sys\n",
    "sys.stdin = open('test.txt', 'r')\n",
    "input = sys.stdin.readline\n",
    "\n",
    "# 과연 나는 잘 기억하고 있는가?\n",
    "N = int(input())\n",
    "lst = [0] # 인덱스 통일시켜주려고 0을 넣어줌\n",
    "\n",
    "for i in range(N):\n",
    "    lst.append(int(input().rstrip()))\n",
    "    \n",
    "\n",
    "sum_lst = [0] *(N + 1)\n",
    "sum_lst[1] = lst[1]\n",
    "if N == 1:\n",
    "    print(sum_lst[1])\n",
    "elif N == 2:\n",
    "    sum_lst[2] = lst[1] + lst[2]\n",
    "    print(sum_lst[2])\n",
    "else:\n",
    "    sum_lst[2] = lst[1] + lst[2]\n",
    "    \n",
    "    # 즉 여기서\n",
    "#     sum_lst[3] = max(lst[1], lst[2]) + lst[3] # 이 아니라(sum_lst[2]가 더 클 수도 있잖아! : 이번 와인을 스킵하는 케이스)\n",
    "    sum_lst[3] = max(lst[1] + lst[3], lst[2] + lst[3], sum_lst[2])\n",
    "    \n",
    "    for i in range(4, N + 1):\n",
    "        # 여기도 마찬가지\n",
    "#         sum_lst[i] = max(sum_lst[i-3] + lst[i-1], sum_lst[i-2]) + lst[i]\n",
    "        sum_lst[i] = max(sum_lst[i-1], # 이번 인덱스의 와인을 마시지 않는 경우\n",
    "                      sum_lst[i-3] + lst[i-1] + lst[i], # 저번 인덱스의 와인을 마시고, 바로 다음 인덱스가 지금인 경우\n",
    "                      sum_lst[i-2] + lst[i]) # 저번 인덱스를 마시고 한 칸 건너 뛴 경우\n",
    "    \n",
    "    # 따라서 모든 인덱스에서는 지금까지 누적합 중 최댓값을 출력하게 된다\n",
    "    print(sum_lst[-1])"
   ]
  },
  {
   "cell_type": "markdown",
   "id": "0f198f7b-900c-4ffa-8ef6-0295fe5e04d9",
   "metadata": {},
   "source": [
    "#### 핵심은 뭐였다?\n",
    "- 모든 인덱스에서는 지금까지의 인덱스 중 누적합을 출력한다\n",
    "    - 이는 자기 자신이 포함되지 않는 경우도 들어가게 된다.\n",
    "    - 그래서 케이스를 3개로 나눴다."
   ]
  },
  {
   "cell_type": "markdown",
   "id": "107bee9d-7370-424b-99de-24ab8d059582",
   "metadata": {},
   "source": [
    "### 11053번\n",
    "- 수열 A가 주어졌을 때 가장 긴 증가하는 부분 수열을 구하시오\n"
   ]
  },
  {
   "cell_type": "code",
   "execution_count": 114,
   "id": "113db34e-e4b6-4011-8e77-c567190f7179",
   "metadata": {},
   "outputs": [],
   "source": [
    "import sys\n",
    "sys.stdin = open('test.txt', 'r')\n",
    "input = sys.stdin.readline\n",
    "N = int(input())\n",
    "lst = list(map(int, input().rstrip().split()))"
   ]
  },
  {
   "cell_type": "code",
   "execution_count": 111,
   "id": "829393fc-7ada-4e01-9f5e-5bc53c45d9a5",
   "metadata": {},
   "outputs": [],
   "source": [
    "# 반례 : 1 2 8 4 8 \n",
    "# 내 알고리즘 : 길이 3 (1 2 8)\n",
    "# LIS : 길이 4 (1 2 4 8)\n",
    "\n",
    "# sol_lst = []\n",
    "# sol_lst.append(lst[0])\n",
    "# count = 1\n",
    "# for i in range(1, N):\n",
    "#     if lst[i] > sol_lst[-1]:\n",
    "#         sol_lst.append(lst[i])\n",
    "#         count += 1\n",
    "\n",
    "# print(count)\n"
   ]
  },
  {
   "cell_type": "markdown",
   "id": "f682222d-0d05-46df-a1e3-2d73deaea939",
   "metadata": {},
   "source": [
    "### 동적 계획법으로 푼다\n",
    "- 가령 길이 3의 수열을 생각해보자\n",
    "- 1 4 5 3 6이라고 값을 가정해보자\n",
    "- 각 인덱스의 최장길이 수열은\n",
    "```\n",
    "idx = 0 : 그냥 1\n",
    "idx = 1 : 내가 더 크니까 + 1 됨\n",
    "idx = 2 : 이거도 마찬가지. 가장 긴 길이에 +1\n",
    "idx = 3 : 인덱스 0이 갖는 길이 +1 vs 나보다 하나 작은 값의 길이 중 큰 값을 선택\n",
    "idx = 4 : \n",
    "```\n",
    "- 따져보니까 경우의 수가 많음\n",
    "- 모든 케이스에서 고려하는 건 \"나보다 작은 수를 만났을 때만\" 값을 비교하여 갱신한다는 것임\n",
    "    "
   ]
  },
  {
   "cell_type": "code",
   "execution_count": 119,
   "id": "2f74d0a5-f7c3-4243-ad77-b667157d5a76",
   "metadata": {},
   "outputs": [
    {
     "name": "stdout",
     "output_type": "stream",
     "text": [
      "[1, 2, 3, 2, 3, 4]\n"
     ]
    }
   ],
   "source": [
    "# 그 인덱스까지의 최장길이 수열을 하나 만듦\n",
    "length_lst = [1] * N\n",
    "\n",
    "# 길이 N의\n",
    "for i in range(N):\n",
    "    for j in range(i):\n",
    "        if lst[j] < lst[i]:\n",
    "            length_lst[i] = max(length_lst[j] + 1, length_lst[i])\n",
    "            \n",
    "print(length_lst)"
   ]
  },
  {
   "cell_type": "markdown",
   "id": "dc0b0c21-65c9-409f-a00d-e2bd9a649baa",
   "metadata": {},
   "source": [
    "## 11054번 - 가장 긴 바이토닉 수열"
   ]
  },
  {
   "cell_type": "code",
   "execution_count": 147,
   "id": "17d500d4-f70f-4559-ab5d-50661261c6ef",
   "metadata": {},
   "outputs": [
    {
     "name": "stdout",
     "output_type": "stream",
     "text": [
      "[1, 5, 2, 1, 4, 3, 4, 5, 2, 1]\n",
      "[1, 2, 2, 1, 3, 3, 4, 5, 2, 1]\n",
      "[1, 5, 2, 1, 4, 3, 3, 3, 2, 1]\n",
      "7\n"
     ]
    }
   ],
   "source": [
    "import sys\n",
    "sys.stdin = open('test.txt', 'r')\n",
    "input = sys.stdin.readline\n",
    "N = int(input())\n",
    "lst = list(map(int, input().rstrip().split()))\n",
    "\n",
    "sum_lst = [1] * N\n",
    "reverse_lst = [1] * N\n",
    "\n",
    "# 뒤집기\n",
    "reversed_lst = lst[::-1]\n",
    "\n",
    "# 인덱스 N이 갖는 가장 긴 바이토닉 수열\n",
    "# 을 구하기 위해 올라가는 리스트와 내려가는 리스트로 나눈 뒤\n",
    "# 각각에 대해 가장 긴 수열을 구하는 거시기를 적용하면 됨\n",
    "# 내려가는 리스트는 다시 원상복구 시키면 된다\n",
    "\n",
    "for i in range(N):\n",
    "    # mid가 필요하다는 보장이 없음 : 꼭 걔를 기준으로 올라갔다 내려갔다라는 보장이 없다\n",
    "    for j in range(i):\n",
    "        if lst[i] > lst[j]:\n",
    "            sum_lst[i] = max(sum_lst[j] + 1, sum_lst[i])\n",
    "        if reversed_lst[i] > reversed_lst[j]:\n",
    "            reverse_lst[i] = max(reverse_lst[j] + 1, reverse_lst[i])\n",
    "\n",
    "# print(lst)\n",
    "# print(sum_lst)\n",
    "descending_lst = reverse_lst[::-1]\n",
    "# print(descending_lst)\n",
    "\n",
    "final_lst = []\n",
    "for i in range(N):\n",
    "    final_lst.append(sum_lst[i] + descending_lst[i] - 1)\n",
    "print(max(final_lst))"
   ]
  },
  {
   "cell_type": "markdown",
   "id": "daf87e27-63c8-405d-a2eb-a96b37cb83d2",
   "metadata": {},
   "source": [
    "## 2565번\n",
    "- 각 인덱스는 두 기둥에 연결된 전깃줄임\n",
    "- 서로 교차되는 전깃줄이 없게 하기 위해 제거해야 하는 최소 전깃줄의 갯수를 구하시오\n",
    "\n",
    "- 전깃줄 수 100 이하\n",
    "- 위치는 500 이하\n",
    "- 같은 위치에 2개의 전깃줄 x"
   ]
  },
  {
   "cell_type": "code",
   "execution_count": 211,
   "id": "9fa0026f-7147-4194-9b0b-78164200146e",
   "metadata": {},
   "outputs": [],
   "source": [
    "import sys\n",
    "sys.stdin = open('test.txt', 'r')\n",
    "input = sys.stdin.readline\n",
    "N = int(input())\n",
    "lst = []\n",
    "for i in range(N):\n",
    "    lst.append(list(map(int, input().rstrip('\\n').split())))"
   ]
  },
  {
   "cell_type": "code",
   "execution_count": 212,
   "id": "6dd00bde-3c03-44d6-948a-5084025694b4",
   "metadata": {},
   "outputs": [
    {
     "name": "stdout",
     "output_type": "stream",
     "text": [
      "[[1, 8], [3, 9], [2, 2], [4, 1]]\n"
     ]
    }
   ],
   "source": [
    "print(lst)\n"
   ]
  },
  {
   "cell_type": "code",
   "execution_count": 214,
   "id": "54b484ac-7eba-4c45-a276-9553b215f5f4",
   "metadata": {},
   "outputs": [
    {
     "name": "stdout",
     "output_type": "stream",
     "text": [
      "3\n"
     ]
    }
   ],
   "source": [
    "# 교차를 어떻게 정의하지 : x와 y의 관계로 알 수 있음\n",
    "# x > y 끼리는 교차 안함 / x = y 끼리도 / x < y 끼리도\n",
    "# 근데 그걸 동적 계획법으로 설명해보자\n",
    "eli_lst = [0] * N\n",
    "crossed = [False] * N\n",
    "\n",
    "for i in range(1, N):\n",
    "    for j in range(i):\n",
    "        # 아 이거를 모든 경우를 봐야 하니까 이중 for문을 쓰는 거구나!! \n",
    "        \n",
    "        # x_pre = lst[i-1][0]\n",
    "        # y_pre = lst[i-1][0]\n",
    "        # x_now = lst[i][0]\n",
    "        # y_now = lst[i][1]\n",
    "        x_pre = lst[j][0]\n",
    "        y_pre = lst[j][1]\n",
    "        x_now = lst[i][0]\n",
    "        y_now = lst[i][1]\n",
    "\n",
    "    \n",
    "        value_X = (x_now - x_pre) \n",
    "        value_Y = (y_now - y_pre)\n",
    "        value = value_X * value_Y\n",
    "        \n",
    "        # 교차 조건 - \n",
    "        if value < 0 :\n",
    "            crossed[j] = True\n",
    "            eli_lst[i] = max(eli_lst[j] + 1, eli_lst[i], eli_lst[i-1]) # [4 1]과 [3 9]는 교차하지만 [3 9]가 0이라는 이유로 +가 안됐음\n",
    "                                                         # 근데 우리가 구하려고 하는 건 제거해야 하는 전깃줄 수임\n",
    "                                                         # 그걸 감안하면 저게 숫자 2인건 틀린 게 아님!\n",
    "                                                         # 문제는 그 다음임 [6 4]\n",
    "                                                         # 여기서 제거해야 할 전깃줄은 3개임 -> 근데 1로 뜸\n",
    "                                                         # 겹치는 애들이 애초에 겹친 수가 0이었기 때문!\n",
    "print(sum(crossed))"
   ]
  },
  {
   "cell_type": "markdown",
   "id": "e851e146-4cbc-4ff7-8057-3eae3b8345b5",
   "metadata": {},
   "source": [
    "### 해답 봄\n",
    "- ㅅㅂ sort하고 그냥 하면 된다는데?"
   ]
  },
  {
   "cell_type": "code",
   "execution_count": 224,
   "id": "e1bf0ae4-6875-42b3-bd93-13141ae27c82",
   "metadata": {},
   "outputs": [
    {
     "name": "stdout",
     "output_type": "stream",
     "text": [
      "[[1, 8], [2, 2], [3, 9], [4, 1], [6, 4], [7, 6], [9, 7], [10, 10]]\n",
      "[1, 1, 2, 1, 2, 3, 4, 5]\n",
      "3\n"
     ]
    }
   ],
   "source": [
    "import sys\n",
    "sys.stdin = open('test.txt', 'r')\n",
    "input = sys.stdin.readline\n",
    "N = int(input())\n",
    "\n",
    "lineList = []\n",
    "\n",
    "for _ in range(N):\n",
    "    lineList.append(list(map(int, input().rstrip('\\n').split())))\n",
    "\n",
    "lineList.sort()\n",
    "print(lineList)\n",
    "\n",
    "# 0번째 인덱스에 대해 정렬을 하면\n",
    "# 가장 긴 증가하는 순열을 구하는 방법이랑 똑같게 됨 : dp의 각 숫자는 자기 인덱스의 값이 꼭 포함되는 방식임!\n",
    "dp = [1]*N\n",
    "for i in range(N):\n",
    "    for j in range(i):\n",
    "        if lineList[i][1] > lineList[j][1] and dp[i] < dp[j]+1:\n",
    "            dp[i] = dp[j] + 1\n",
    "print(dp)\n",
    "print(N-max(dp))"
   ]
  },
  {
   "cell_type": "markdown",
   "id": "97cf9d96-75c9-48c1-9221-2232c9b602b1",
   "metadata": {},
   "source": [
    "## 9251 : LCS\n",
    "- 두 수열이 주어졌을 때 공통된 가장 긴 수열"
   ]
  },
  {
   "cell_type": "code",
   "execution_count": 236,
   "id": "d3174341-1f4e-4ba2-a518-4e605b522d8f",
   "metadata": {},
   "outputs": [],
   "source": [
    "import sys\n",
    "sys.stdin = open('test.txt', 'r')\n",
    "input = sys.stdin.readline\n",
    "lst = []\n",
    "for i in range(2):\n",
    "    lst.append(input().rstrip())"
   ]
  },
  {
   "cell_type": "code",
   "execution_count": 237,
   "id": "6e7cfd60-84ab-436a-b9bf-945417edbe8e",
   "metadata": {},
   "outputs": [],
   "source": [
    "X = lst[0]\n",
    "Y = lst[1]"
   ]
  },
  {
   "cell_type": "code",
   "execution_count": 238,
   "id": "961d3f9b-54f4-4c86-b0c0-ab4034ac54e7",
   "metadata": {},
   "outputs": [
    {
     "name": "stdout",
     "output_type": "stream",
     "text": [
      "4\n"
     ]
    }
   ],
   "source": [
    "# 두 글자를 돌린다고 생각해보자\n",
    "# ACAYKP / CAPCAK\n",
    "# X에서 A, Y에서 C, CA, CAP, ... CAPCAK 까지 돌렸다면\n",
    "# 겹치는 글자는 A라는 글자가 추가될 때일 거임 -> 0 1 1 1 1 1\n",
    "# X에서 AC를 뽑았다고 하자 : C, CA, CAP, CAPC, CAPCA, CAPCAK \n",
    "                        #  1   1   1   2(AC)  2      2\n",
    "    # 최근에 뽑은 C라는 값이 동일하면 +1 해줌 : 한편 뒤에서 AC에서도 + 1 해줬음\n",
    "# ACA : C CA CAP CAPC CAPCA CAPCAK\n",
    "#       1 2   2   2     3     3    - 추가된 값이 동일하면 +1이 됨 \n",
    "# 추가된 값이 다르다면 : i-1번째 인덱스와 j-1번째 인덱스 중 큰 값이 내가 됨\n",
    "\n",
    "lenX = len(X)\n",
    "lenY = len(Y) \n",
    "\n",
    "# 별도의 [0] 공간을 만들기 위해 +1 해줌 \n",
    "matrix = [[0] * (lenY + 1) for _ in range(lenX + 1)]\n",
    "for i in range(1, lenX + 1):\n",
    "    for j in range(1, lenY + 1):\n",
    "        if X[i - 1] == Y[j - 1]:\n",
    "            matrix[i][j] = matrix[i-1][j-1] + 1\n",
    "        else:\n",
    "            matrix[i][j] = max(matrix[i-1][j], matrix[i][j-1])\n",
    "    \n",
    "print(matrix[-1][-1])"
   ]
  },
  {
   "cell_type": "code",
   "execution_count": 235,
   "id": "eb8ff259-184c-4ea6-b284-afa4f3f43824",
   "metadata": {},
   "outputs": [
    {
     "name": "stdout",
     "output_type": "stream",
     "text": [
      "[0, 0, 0, 0, 0, 0, 0]\n",
      "[0, 0, 1, 1, 1, 1, 1]\n",
      "[0, 1, 1, 1, 2, 2, 2]\n",
      "[0, 1, 2, 2, 2, 3, 3]\n",
      "[0, 1, 2, 2, 2, 3, 3]\n",
      "[0, 1, 2, 2, 2, 3, 4]\n",
      "[0, 1, 2, 3, 3, 3, 4]\n"
     ]
    }
   ],
   "source": [
    "for i in matrix:\n",
    "    print(i)"
   ]
  },
  {
   "cell_type": "markdown",
   "id": "389b6c56-1d15-41a7-9b7c-14a45d6e9ff0",
   "metadata": {},
   "source": [
    "## 12865"
   ]
  },
  {
   "cell_type": "code",
   "execution_count": 248,
   "id": "a3d8c5c8-660b-4360-ad34-b5dd3fa9e6ed",
   "metadata": {},
   "outputs": [],
   "source": [
    "import sys\n",
    "sys.stdin = open('test.txt', 'r')\n",
    "input = sys.stdin.readline\n",
    "N, K = map(int, input().rstrip().split())\n",
    "lst = []\n",
    "for i in range(N):\n",
    "    lst.append(list(map(int, input().rstrip().split())))"
   ]
  },
  {
   "cell_type": "code",
   "execution_count": 246,
   "id": "44cdaf08-d709-4ec6-81b7-53bf0956eb8a",
   "metadata": {},
   "outputs": [
    {
     "name": "stdout",
     "output_type": "stream",
     "text": [
      "[[0, 0], [0, 0], 14, [0, 0], [0, 0]]\n"
     ]
    }
   ],
   "source": [
    "# 가치합의 최댓갑을 출력하라\n",
    "accul_lst = [[0, 0] for _ in range(N + 1)]\n",
    "for i in range(1, len(lst)):\n",
    "    for j in range(i):\n",
    "        \n",
    "        # 그럼 무게 조건이 커도 얘는 continue가 아니라 바로 이전까지의 최댓값을 받아줘야 함\n",
    "        if accul_lst[i][0] + lst[j][0] > K or lst[i][0] + lst[j][0] > K:\n",
    "            continue\n",
    "            \n",
    "        else:\n",
    "            accul_lst[i][0] = \n",
    "            accul_lst[i][1] = max(accul_lst[i][1] + lst[j][1], lst[i][1] + lst[j][1])\n",
    "print(accul_lst)"
   ]
  },
  {
   "cell_type": "markdown",
   "id": "e9c25bcc-fd96-49f3-8a49-c52602601242",
   "metadata": {},
   "source": [
    "## 걍 빨리 보고 오늘 마무리함"
   ]
  },
  {
   "cell_type": "code",
   "execution_count": 250,
   "id": "e401e079-9d87-4134-aeb4-736cd65d4d8f",
   "metadata": {},
   "outputs": [
    {
     "name": "stdout",
     "output_type": "stream",
     "text": [
      "14\n"
     ]
    }
   ],
   "source": [
    "import sys\n",
    "sys.stdin = open('test.txt', 'r')\n",
    "input = sys.stdin.readline\n",
    "n, k = map(int, input().split())\n",
    "\n",
    "thing = [[0,0]]\n",
    "d = [[0]*(k+1) for _ in range(n+1)]\n",
    "\n",
    "# d[n][k] : n번째 배낭을 선택했을 때 무게 k인 배낭의 최대 값\n",
    "\n",
    "for i in range(n):\n",
    "    thing.append(list(map(int, input().split())))\n",
    "\n",
    "for i in range(1, n+1): # i는 가방에 들어가는 i번째 물건임\n",
    "    for j in range(1, k+1): # j는 무게에 대해 돌아감\n",
    "        w = thing[i][0] # 무게\n",
    "        v = thing[i][1] # 가치\n",
    "        \n",
    "        if j < w: # 들어오는 물건의 무게가 최대 무게보다 크다\n",
    "            d[i][j] = d[i-1][j]\n",
    "        \n",
    "        else: # 무게 조건을 만족\n",
    "            d[i][j] = max(d[i-1][j], # 만족하지만 값을 넣지 않음\n",
    "                          d[i-1][j-w]+v) # 모든 무게에 대한 최댓값을 계산하므로 \n",
    "                                        # 저번 순서의, 무게를 덜어낸 만큼의 위치의 값(=최댓값) + 이번 값\n",
    "\n",
    "print(d[n][k])"
   ]
  },
  {
   "cell_type": "markdown",
   "id": "e9cd92b6-defb-49c3-84fe-05936b391eba",
   "metadata": {},
   "source": [
    "- 무게를 아예 인덱스로 쓰는 점이 특이함. 이를 <b>냅색 알고리즘</b>이라고 함"
   ]
  },
  {
   "cell_type": "code",
   "execution_count": null,
   "id": "1ecb3b80-b2ce-47a5-947f-c84bdeb2f911",
   "metadata": {},
   "outputs": [],
   "source": []
  }
 ],
 "metadata": {
  "kernelspec": {
   "display_name": "Python 3",
   "language": "python",
   "name": "python3"
  },
  "language_info": {
   "codemirror_mode": {
    "name": "ipython",
    "version": 3
   },
   "file_extension": ".py",
   "mimetype": "text/x-python",
   "name": "python",
   "nbconvert_exporter": "python",
   "pygments_lexer": "ipython3",
   "version": "3.8.8"
  }
 },
 "nbformat": 4,
 "nbformat_minor": 5
}
