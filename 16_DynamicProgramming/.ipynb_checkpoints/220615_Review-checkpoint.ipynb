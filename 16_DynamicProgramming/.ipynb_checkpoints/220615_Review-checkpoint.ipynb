{
 "cells": [
  {
   "cell_type": "code",
   "execution_count": 12,
   "id": "3e973ef8-01e6-41e9-a800-4057bee43f02",
   "metadata": {},
   "outputs": [],
   "source": [
    "import sys\n",
    "sys.stdin = open('test.txt', 'r')\n",
    "input = sys.stdin.readline"
   ]
  },
  {
   "cell_type": "markdown",
   "id": "300a5436-0f10-4a7f-a383-fdd4e2bdedae",
   "metadata": {},
   "source": [
    "## 1912 : 부분합\n",
    "- 수열에서 연속된 몇 개의 수를 선택, 가장 큰 합을 구하시오"
   ]
  },
  {
   "cell_type": "code",
   "execution_count": 13,
   "id": "c9ce9124-db44-40f0-b735-e2f095a67c58",
   "metadata": {},
   "outputs": [],
   "source": [
    "N = int(input())\n",
    "lst = list(map(int, input().rstrip().split()))"
   ]
  },
  {
   "cell_type": "markdown",
   "id": "7a309ab0-dbec-4766-b089-e6b16f8aaaa0",
   "metadata": {},
   "source": [
    "### 어떤 인덱스까지의 최댓값을 구한다고 생각해보자\n",
    "- 어떤 인덱스까지의 최댓값을 구하는 방법.\n",
    "```\n",
    "1. 어떤 인덱스까지의 최댓값은 둘 중 하나로 구해짐\n",
    "1-1. 이전 인덱스까지의 최댓값 + 이번 값\n",
    "1-2. 이번 값\n",
    "- 이게 성립하는 이유?\n",
    "- 예를 들어 0번 인덱스에 값을 넣는다고 보면\n",
    "- 1번 인덱스의 값은 0 + 1 혹은 1일 것이다\n",
    "- 1만 들어가는 경우는 이전 인덱스까지의 최댓값이 음수인 경우일 것이다"
   ]
  },
  {
   "cell_type": "code",
   "execution_count": 15,
   "id": "8c9852aa-1914-49be-b4fa-a48ed4cdd927",
   "metadata": {},
   "outputs": [],
   "source": [
    "sum_lst = [0] * N\n",
    "sum_lst[0] = lst[0]\n",
    "for i in range(1, N):\n",
    "    sum_lst[i] = max(sum_lst[i-1] + lst[i], lst[i])"
   ]
  },
  {
   "cell_type": "code",
   "execution_count": 18,
   "id": "c665c929-d9c9-42ab-9f4b-fbd11883d6d1",
   "metadata": {},
   "outputs": [
    {
     "name": "stdout",
     "output_type": "stream",
     "text": [
      "[10, 6, 9, 10, 15, 21, -14, 12, 33, 32]\n",
      "33\n"
     ]
    }
   ],
   "source": [
    "print(sum_lst)\n",
    "print(max(sum_lst))"
   ]
  },
  {
   "cell_type": "code",
   "execution_count": 20,
   "id": "e1ce34b0-2dc7-4772-8a63-6e69482adfbc",
   "metadata": {},
   "outputs": [
    {
     "ename": "ValueError",
     "evalue": "invalid literal for int() with base 10: ''",
     "output_type": "error",
     "traceback": [
      "\u001b[1;31m---------------------------------------------------------------------------\u001b[0m",
      "\u001b[1;31mValueError\u001b[0m                                Traceback (most recent call last)",
      "\u001b[1;32m<ipython-input-20-827dee2aac0c>\u001b[0m in \u001b[0;36m<module>\u001b[1;34m\u001b[0m\n\u001b[0;32m      3\u001b[0m \u001b[1;33m\u001b[0m\u001b[0m\n\u001b[0;32m      4\u001b[0m \u001b[0minput\u001b[0m \u001b[1;33m=\u001b[0m \u001b[0msys\u001b[0m\u001b[1;33m.\u001b[0m\u001b[0mstdin\u001b[0m\u001b[1;33m.\u001b[0m\u001b[0mreadline\u001b[0m\u001b[1;33m\u001b[0m\u001b[1;33m\u001b[0m\u001b[0m\n\u001b[1;32m----> 5\u001b[1;33m \u001b[0mN\u001b[0m \u001b[1;33m=\u001b[0m \u001b[0mint\u001b[0m\u001b[1;33m(\u001b[0m\u001b[0minput\u001b[0m\u001b[1;33m(\u001b[0m\u001b[1;33m)\u001b[0m\u001b[1;33m)\u001b[0m\u001b[1;33m\u001b[0m\u001b[1;33m\u001b[0m\u001b[0m\n\u001b[0m\u001b[0;32m      6\u001b[0m \u001b[0mlst\u001b[0m \u001b[1;33m=\u001b[0m \u001b[0mlist\u001b[0m\u001b[1;33m(\u001b[0m\u001b[0mmap\u001b[0m\u001b[1;33m(\u001b[0m\u001b[0mint\u001b[0m\u001b[1;33m,\u001b[0m \u001b[0minput\u001b[0m\u001b[1;33m(\u001b[0m\u001b[1;33m)\u001b[0m\u001b[1;33m.\u001b[0m\u001b[0mrstrip\u001b[0m\u001b[1;33m(\u001b[0m\u001b[1;33m)\u001b[0m\u001b[1;33m.\u001b[0m\u001b[0msplit\u001b[0m\u001b[1;33m(\u001b[0m\u001b[1;33m)\u001b[0m\u001b[1;33m)\u001b[0m\u001b[1;33m)\u001b[0m\u001b[1;33m\u001b[0m\u001b[1;33m\u001b[0m\u001b[0m\n\u001b[0;32m      7\u001b[0m \u001b[1;33m\u001b[0m\u001b[0m\n",
      "\u001b[1;31mValueError\u001b[0m: invalid literal for int() with base 10: ''"
     ]
    }
   ],
   "source": [
    "# 전체 코드\n",
    "import sys\n",
    "sys.stdin = open('test.txt', 'r')\n",
    "input = sys.stdin.readline\n",
    "N = int(input())\n",
    "lst = list(map(int, input().rstrip().split()))\n",
    "\n",
    "sum_lst = [0] * N\n",
    "sum_lst[0] = lst[0]\n",
    "\n",
    "for i in range(1, N):\n",
    "    sum_lst[i] = max(sum_lst[i-1] + lst[i], lst[i])\n",
    "print(max(sum_lst))"
   ]
  },
  {
   "cell_type": "markdown",
   "id": "28105e37-fe47-4984-9b3b-f281cb2401d3",
   "metadata": {},
   "source": [
    "## 1463번 : 1로 만들기\n",
    "- 모든 수에 대한 연산은 //3 or //2 or -1 이다\n",
    "- 각 수에 대해 1로 만들기 위한 최소 연산 수를 구하시오\n",
    "- 예를 들어 10은 10 -> 9 -> 3 -> 1로 3임"
   ]
  },
  {
   "cell_type": "code",
   "execution_count": 37,
   "id": "d1ad25c5-1c75-4564-91fd-aff07d8f25d0",
   "metadata": {},
   "outputs": [
    {
     "name": "stdout",
     "output_type": "stream",
     "text": [
      "8\n"
     ]
    }
   ],
   "source": [
    "import sys\n",
    "sys.stdin = open('test.txt', 'r')\n",
    "input = sys.stdin.readline\n",
    "\n",
    "N = int(input())\n",
    "oper_lst = [0] * (N+1) # 편의상 인덱스 1번을 1로 놓음\n",
    "if N == 1:\n",
    "    print(0)\n",
    "elif N == 2 or N == 3:\n",
    "    print(1)\n",
    "else:\n",
    "    oper_lst[2] = 1\n",
    "    oper_lst[3] = 1\n",
    "    for i in range(4, N+1):\n",
    "        \n",
    "        oper_lst[i] = oper_lst[i-1] + 1\n",
    "        \n",
    "        if i % 3 == 0:\n",
    "            oper_lst[i] =min(oper_lst[i // 3] + 1, oper_lst[i])\n",
    "        \n",
    "        # 포인트 : 모든 조건을 체크하면서 갱신해 나갈 것\n",
    "        # 즉, oper_lst[6]은 \n",
    "        # 1. oper_lst[5] + 1 vs oper_lst[2] + 1 중 작은 값을 취함\n",
    "        # 2. oper_lst[2] + 1 vs oper_lst[3] + 1 중 작은 값을 취함\n",
    "        # 이것들을 if-elif가 아니라 if - if로 모두 체크하게 함\n",
    "        # --> 이게 안되면 틀렸습니다가 뜸\n",
    "        if i % 2 == 0:\n",
    "            oper_lst[i] =min(oper_lst[i // 2] + 1, oper_lst[i])\n",
    "        \n",
    "    print(oper_lst[N])"
   ]
  },
  {
   "cell_type": "code",
   "execution_count": 26,
   "id": "efef9b0f-37bd-4da6-aa67-79bb11fa82d4",
   "metadata": {},
   "outputs": [
    {
     "name": "stdout",
     "output_type": "stream",
     "text": [
      "[0, 0, 1, 1, 2, 3, 2, 3, 3, 2, 3]\n"
     ]
    }
   ],
   "source": [
    "print(oper_lst)"
   ]
  },
  {
   "cell_type": "markdown",
   "id": "2f051496-d8d7-45e7-8d32-8346f13a0d5a",
   "metadata": {},
   "source": [
    "#### 항상 모든 조건을 체크해서 최솟값을 올바르게 선택할 수 있도록 하자\n",
    "- 그러기 위해 if - elif 문을 타지 않고 if - if 문을 계속 탄다."
   ]
  },
  {
   "cell_type": "markdown",
   "id": "ede01628-1f5c-4de2-8a4e-a70f249a923f",
   "metadata": {},
   "source": [
    "## 10844번 - 쉬운 계단수\n",
    "- `45656`은 계단수이다. 이전 자리 수와 다음 자리수의 차이가 1이며 모든 수가 그러함\n",
    "- N이 주어질 때 길이 N인 계단 수는 몇 개인지 ARABOZA"
   ]
  },
  {
   "cell_type": "code",
   "execution_count": 42,
   "id": "76af9915-63e5-4491-89b6-ce26b32a4ad2",
   "metadata": {},
   "outputs": [],
   "source": [
    "import sys\n",
    "sys.stdin = open('test.txt', 'r')\n",
    "input = sys.stdin.readline\n",
    "N = int(input())"
   ]
  },
  {
   "cell_type": "markdown",
   "id": "291e27c6-fe8d-4090-8165-89ba0a0d54de",
   "metadata": {},
   "source": [
    "1. 자릿수 전체에 대해 반복문을 돌린다?\n",
    "- 그렇게 좋은 방법같지 않음. 숫자가 커지면 너무 길어짐"
   ]
  },
  {
   "cell_type": "markdown",
   "id": "938ac3fb-6c73-4184-b22b-976f7c7f5d81",
   "metadata": {},
   "source": [
    "2. 자릿수라는 걸 준게 포인트같음\n",
    "```\n",
    "즉 다음 계단수는 이전 계단수에 영향을 받는다는 논리임\n",
    "그리고 이는 일리가 있음\n",
    "예를 들어\n",
    "일의 계단수는 1 ~ 9임\n",
    "그럼 1 ~ 9 에서 뒤에 숫자를 붙인다고 생각해보자 \n",
    "10, 12 // 21, 23 // 32, 34 // ... // 87, 89 // 98\n",
    "끝자릿수가 0이면 1만 오고 9면 8만 올 수 있으며, 나머지는 2개가 올 수 있음\n",
    "근데 하나 더 생각해야 할 건 이전 자릿수로 끝나는 케이스가 몇 개인가? 임\n",
    "```\n",
    "\n",
    "``` 즉\n",
    "한자릿수는 1 ~ 9 까지 각각 1개임\n",
    "근데 두자릿수로 올라가면 0, 1, 9로 끝나는 케이스는 1개 / 나머지는 2개임\n",
    "이런 것들도 리스트를 만들 때 감안해야 함\n",
    "```\n",
    "\n",
    "3. 정리하면 이러함\n",
    "``` \n",
    "1 -> 0\n",
    "9 -> 8    \n",
    "나머지 : 2개\n",
    "```    "
   ]
  },
  {
   "cell_type": "code",
   "execution_count": 46,
   "id": "ac98f426-44ec-472c-ba50-62a586d9fb9b",
   "metadata": {},
   "outputs": [
    {
     "name": "stdout",
     "output_type": "stream",
     "text": [
      "[0, 1, 1, 1, 1, 1, 1, 1, 1, 1]\n"
     ]
    }
   ],
   "source": [
    "# 어떻게 정리해줄까가 포인트겠다\n",
    "last_num = [1] * 10\n",
    "last_num[0] = 0\n",
    "print(last_num)\n",
    "# 이 last_num 자체를 반복문으로 갱신하게 되면 리스트의 값 자체가 바뀌기 때문에\n",
    "# 정상적인 연산이 수행되지 않을 가능성이 있음 -> 이걸 어떻게 처리할까? : 깊은 복사해주면 됨\n",
    "for _ in range(N - 1):\n",
    "    temp_lst = last_num.copy() # 각 반복문에서 사용할 임시 리스트 : i-1\n",
    "    for i in range(10):\n",
    "        if i == 0:\n",
    "            last_num[i] = temp_lst[i + 1]\n",
    "        elif i == 9:\n",
    "            last_num[i] = temp_lst[i - 1]\n",
    "        else:\n",
    "            last_num[i] = temp_lst[i-1] + temp_lst[i+1]"
   ]
  },
  {
   "cell_type": "code",
   "execution_count": 47,
   "id": "9dba4e03-6bfb-47a3-a199-c625357429bd",
   "metadata": {},
   "outputs": [
    {
     "name": "stdout",
     "output_type": "stream",
     "text": [
      "[1, 1, 2, 2, 2, 2, 2, 2, 2, 1]\n"
     ]
    }
   ],
   "source": [
    "print(last_num)"
   ]
  },
  {
   "cell_type": "markdown",
   "id": "658fb6c1-8c3e-4887-8462-c220de008fad",
   "metadata": {},
   "source": [
    "#### 코드 정리"
   ]
  },
  {
   "cell_type": "code",
   "execution_count": 54,
   "id": "3cfc2d9c-b777-44e8-9b14-31bb11ec9f02",
   "metadata": {},
   "outputs": [
    {
     "name": "stdout",
     "output_type": "stream",
     "text": [
      "[0, 1, 1, 1, 1, 1, 1, 1, 1, 1]\n",
      "[1, 1, 2, 2, 2, 2, 2, 2, 2, 1]\n",
      "[1, 3, 3, 4, 4, 4, 4, 4, 3, 2]\n",
      "32\n"
     ]
    }
   ],
   "source": [
    "import sys\n",
    "sys.stdin = open('test.txt', 'r')\n",
    "input = sys.stdin.readline\n",
    "N = int(input())\n",
    "\n",
    "last_num = [1] * 10\n",
    "last_num[0] = 0\n",
    "\n",
    "# 임시 리스트도 그냥 여기서 [0] * 10으로 만드는 게 훨씬 낫다 - 계속 복사해야 되니까\n",
    "\n",
    "for _ in range(N - 1):\n",
    "    print(last_num)\n",
    "    temp_lst = last_num.copy() # 각 반복문에서 사용할 임시 리스트 : i-1\n",
    "    for i in range(10):\n",
    "        if i == 0:\n",
    "            last_num[i] = temp_lst[i + 1]\n",
    "        elif i == 9:\n",
    "            last_num[i] = temp_lst[i - 1]\n",
    "        else:\n",
    "            last_num[i] = temp_lst[i - 1] + temp_lst[i + 1]\n",
    "print(last_num)\n",
    "print(sum(last_num) % int(1e9))"
   ]
  },
  {
   "cell_type": "code",
   "execution_count": null,
   "id": "17c1d4bf-0318-4d1f-bee0-37f5765eee3e",
   "metadata": {},
   "outputs": [],
   "source": []
  }
 ],
 "metadata": {
  "kernelspec": {
   "display_name": "Python 3",
   "language": "python",
   "name": "python3"
  },
  "language_info": {
   "codemirror_mode": {
    "name": "ipython",
    "version": 3
   },
   "file_extension": ".py",
   "mimetype": "text/x-python",
   "name": "python",
   "nbconvert_exporter": "python",
   "pygments_lexer": "ipython3",
   "version": "3.8.8"
  }
 },
 "nbformat": 4,
 "nbformat_minor": 5
}
