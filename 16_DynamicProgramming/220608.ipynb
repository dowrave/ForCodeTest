{
 "cells": [
  {
   "cell_type": "markdown",
   "id": "7e498e00-b215-4cac-b8dc-555b60b90442",
   "metadata": {},
   "source": [
    "## 24416번 : 피보나치 수"
   ]
  },
  {
   "cell_type": "markdown",
   "id": "7de51aeb-c48d-4ebf-b4f0-32d3bfcac8f2",
   "metadata": {},
   "source": [
    "- 동적 프로그래밍을 어떻게 구성하는지 잘 보자\n",
    "- 리스트를 이용해서 재귀식 대신 쓸 수 있다"
   ]
  },
  {
   "cell_type": "code",
   "execution_count": 25,
   "id": "3871348a-6c42-49c0-87eb-e3bd4ff8eeca",
   "metadata": {},
   "outputs": [
    {
     "name": "stdout",
     "output_type": "stream",
     "text": [
      "832040 28\n"
     ]
    }
   ],
   "source": [
    "import sys\n",
    "sys.stdin = open('test.txt', 'r')\n",
    "input = sys.stdin.readline\n",
    "N = int(input())\n",
    "\n",
    "# 재귀\n",
    "def Recursive_Fibonacci(N):\n",
    "    global count1\n",
    "    \n",
    "    if N == 1 or N == 2:\n",
    "        count1 += 1\n",
    "        return 1\n",
    "    else:\n",
    "        Recursive_Fibonacci(N-1) + Recursive_Fibonacci(N-2)\n",
    "        return count1\n",
    "\n",
    "# 동적 프로그래밍\n",
    "def Dynamic_Fibonacci(N):\n",
    "    global count2\n",
    "    # 어떤 Array를 만드는게 포인트\n",
    "    lst = [0] * (N + 1)\n",
    "\n",
    "    lst[1] = 1\n",
    "    lst[2] = 1\n",
    "    \n",
    "    for i in range(3, N + 1):\n",
    "        lst[i] = lst[i-1] + lst[i-2]\n",
    "        count2 += 1\n",
    "    return count2\n",
    "\n",
    "count1, count2 = 0, 0\n",
    "Recursive_Fibonacci(N)\n",
    "Dynamic_Fibonacci(N)\n",
    "print(count1, count2)"
   ]
  },
  {
   "cell_type": "code",
   "execution_count": null,
   "id": "08d5dc5b-e85c-45d7-9e47-87a84080e03a",
   "metadata": {},
   "outputs": [],
   "source": []
  }
 ],
 "metadata": {
  "kernelspec": {
   "display_name": "Python 3",
   "language": "python",
   "name": "python3"
  },
  "language_info": {
   "codemirror_mode": {
    "name": "ipython",
    "version": 3
   },
   "file_extension": ".py",
   "mimetype": "text/x-python",
   "name": "python",
   "nbconvert_exporter": "python",
   "pygments_lexer": "ipython3",
   "version": "3.8.8"
  }
 },
 "nbformat": 4,
 "nbformat_minor": 5
}
