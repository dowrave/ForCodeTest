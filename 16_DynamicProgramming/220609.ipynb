{
 "cells": [
  {
   "cell_type": "markdown",
   "id": "6c2fcf5c-8819-4211-9dda-fde1bec79e0f",
   "metadata": {},
   "source": [
    "## 1904번\n",
    "- 문제 정리\n",
    "- N은 가진 타일임\n",
    "- 1은 낱개로 존재할 수 있지만\n",
    "- 0은 2개씩만 존재할 수 있음\n",
    "\n",
    "\n",
    "### 규칙\n",
    "- 모든 인덱스가 증가할 때 1이 추가되는 케이스를 디폴트로 잡음\n",
    "- 근데 짝수일 때는 00도 추가됨\n",
    "- 00을 하나의 묶음으로 본다면, 00에 1이 붙을 때마다 경우의 수는 00을 1개로 본 갯수만큼 증가함\n",
    "- 즉 00 은 1개, 001은 2개, 0011은 3개..\n",
    "- 한편 0000은 1개, 00001은 3개, 000011은 5개..\n",
    "\n",
    "### 틀릴 수도 있고!\n",
    "- 이걸 나열하면 심플해짐 : 홀 -> 짝으로 갈 때 증가하는 숫자가 1씩 커짐\n",
    "```\n",
    "1 -> 2 : + 1\n",
    "2 -> 3 : + 1\n",
    "3 -> 4 : + 2\n",
    "4 -> 5 : + 2\n",
    "5 -> 6 : + 3\n",
    "```\n",
    "\n",
    "### 틀렸죠?\n",
    "- 0000 케이스 고려할 때 4! / 2! 2!  = 6 인데 5로 계산해서 벌어짐\n",
    "- 피보나치 수열 이용하면 됨 이 문제는"
   ]
  },
  {
   "cell_type": "code",
   "execution_count": 64,
   "id": "67fb4f3e-3bcb-4398-8898-a253ffffdfca",
   "metadata": {},
   "outputs": [],
   "source": [
    "import sys\n",
    "sys.stdin = open('test.txt', 'r')\n",
    "input = sys.stdin.readline\n",
    "N = int(input())\n",
    "\n",
    "lst = [0] * (N + 1) "
   ]
  },
  {
   "cell_type": "code",
   "execution_count": 65,
   "id": "a6b00611-7433-4b04-af94-b3163abc2f8c",
   "metadata": {},
   "outputs": [
    {
     "name": "stdout",
     "output_type": "stream",
     "text": [
      "89\n"
     ]
    }
   ],
   "source": [
    "def f(N):\n",
    "    lst[0] = 1\n",
    "    lst[1] = 2\n",
    "    \n",
    "    # Recursion Error 발생하므로 반복문 돌리자\n",
    "    if N >= 2:\n",
    "        for i in range(2, N + 1):\n",
    "            lst[i] = (lst[i-1] + lst[i-2]) % 15746\n",
    "\n",
    "    return lst[N-1]\n",
    "\n",
    "print(f(N))"
   ]
  },
  {
   "cell_type": "code",
   "execution_count": 62,
   "id": "ade247a7-8fc6-4ac3-833e-b915d8833225",
   "metadata": {},
   "outputs": [
    {
     "name": "stdout",
     "output_type": "stream",
     "text": [
      "[1, 2, 3, 5, 8, 13, 21, 34, 55, 89]\n"
     ]
    }
   ],
   "source": [
    "print(lst)"
   ]
  },
  {
   "cell_type": "markdown",
   "id": "a09d90e6-78ea-4d76-938f-fc62e307fda1",
   "metadata": {},
   "source": [
    "- 동적 프로그래밍은 리스트를 이용한다는 게 값을 저장하는 게 핵심이며\n",
    "- 반복문과 재귀함수는 이를 구현하기 위한 수단인 점에 유의합시다"
   ]
  },
  {
   "cell_type": "markdown",
   "id": "56ffa44f-71ef-4cf5-8e3a-cb5ca1808505",
   "metadata": {},
   "source": [
    "### 9461번 : 파도반 수열"
   ]
  },
  {
   "cell_type": "code",
   "execution_count": 77,
   "id": "268a52cf-1957-4f72-b548-80fca6a61576",
   "metadata": {},
   "outputs": [
    {
     "name": "stdout",
     "output_type": "stream",
     "text": [
      "3\n",
      "16\n"
     ]
    }
   ],
   "source": [
    "# 1 1 1 2 2 3 4 5 7 9 \n",
    "# 피보나치가 N-1 + N-2 라면 얘는 N-2 + N - 3 인 것 같음\n",
    "import sys\n",
    "sys.stdin = open('test.txt', 'r')\n",
    "input = sys.stdin.readline\n",
    "T = int(input())\n",
    "\n",
    "for _ in range(T):\n",
    "    N = int(input())\n",
    "    \n",
    "    lst = [0] * (N + 1)\n",
    "    # input 조건이 1부터 10**6?이어서 달아줌\n",
    "    lst[0] = 1\n",
    "    if N >= 2 : \n",
    "        lst[1] = 1\n",
    "    if N >= 3 :\n",
    "        lst[2] = 1\n",
    "    if N >= 4:\n",
    "        for i in range(3, N + 1):\n",
    "            lst[i] = lst[i-2] + lst[i-3]\n",
    "        \n",
    "    print(lst[N-1]) # 왜 타입에러가 남?\n",
    "    "
   ]
  },
  {
   "cell_type": "markdown",
   "id": "55c1015e-7bd1-497c-94f1-0304ba3f0b46",
   "metadata": {},
   "source": [
    "## 1912번 : 연속합\n",
    "- 연속된 수임. 정렬 쓰지 말라는 뜻\n",
    "- 반복을 어떻게 돌려줄 거냐가 핵심일 듯\n",
    "- 이번에 더해주는 수가 양수라면 더하는 상태를 유지하지만\n",
    "- 음수를 만났다면 바로 이전까지의 값을 최댓값과 비교하는 방식을 쓰겠음\n",
    "- 구현할 수 있냐고? 몰?루\n",
    "\n",
    "### 위 방식은 불가능함\n",
    "- 양수 양수 음수 양수 양수 인 예제가 있음 : 내가 짠 방식은 음수를 만나면 탈출하기 때문에 x\n",
    "- 그럼 그 다음으로 드는 생각은 이거다\n",
    "1. 맨 앞부터 반복문을 돌림\n",
    "2. `N번째 인덱스의 값은 n번째 인덱스의 단독 값 VS n번째 인덱스까지의 합 중 최댓값`임\n",
    "    -> 그렇게 값을 갱신해 나감\n",
    "3. 이를 전체 리스트에 대해 돌리면 최댓값을 구할 수 있음\n",
    "\n",
    "- 이건 Memoization이 맞쥬?"
   ]
  },
  {
   "cell_type": "code",
   "execution_count": 97,
   "id": "34638326-29cc-47e8-bad7-6cbba920a76f",
   "metadata": {},
   "outputs": [
    {
     "name": "stdout",
     "output_type": "stream",
     "text": [
      "-1\n"
     ]
    }
   ],
   "source": [
    "import sys\n",
    "sys.stdin = open('test.txt', 'r')\n",
    "input = sys.stdin.readline\n",
    "\n",
    "n = int(input())\n",
    "lst = list(map(int, input().rstrip().split()))\n",
    "\n",
    "# 아 연속된 수구나 ㅋㅋ\n",
    "max_val = -1e9\n",
    "comp_val = 0\n",
    "for i in range(1, len(lst)):\n",
    "    lst[i] = max(lst[i-1] + lst[i], lst[i])\n",
    "    \n",
    "print(max(lst))"
   ]
  },
  {
   "cell_type": "markdown",
   "id": "070e9314-6504-4a1c-bbe3-246ebc6aa708",
   "metadata": {},
   "source": [
    "## 1149번\n",
    "- 이웃한 집의 색은 다르다\n",
    "- 전체의 최솟값은?"
   ]
  },
  {
   "cell_type": "code",
   "execution_count": 165,
   "id": "21676a6a-810f-4b38-b251-773fff5e2371",
   "metadata": {},
   "outputs": [
    {
     "name": "stdout",
     "output_type": "stream",
     "text": [
      "[71, 39, 44]\n",
      "[32, 83, 55]\n",
      "[51, 37, 63]\n",
      "[89, 29, 100]\n",
      "[83, 58, 11]\n",
      "[65, 13, 15]\n",
      "[47, 25, 29]\n",
      "[60, 66, 19]\n"
     ]
    }
   ],
   "source": [
    "import sys\n",
    "sys.stdin = open('test.txt', 'r')\n",
    "input = sys.stdin.readline\n",
    "N = int(input())\n",
    "lst = []\n",
    "for _ in range(N):\n",
    "    lst.append(list(map(int, input().rstrip().split())))\n",
    "\n",
    "for i in lst:\n",
    "    print(i)"
   ]
  },
  {
   "cell_type": "markdown",
   "id": "d5ab2dcc-9f6e-4ef7-af3e-781f9f6cb3cd",
   "metadata": {},
   "source": [
    "- 딱 생각했을 때 막히는 지점은\n",
    "- 위에서 고른 값을 아래에서 선택하지 않게 하는 방법임 \n",
    "-> <b> 어떤 인덱스를 방문했는지 저장하는 별도의 리스트를 두면 ok </b>\n",
    "\n",
    "### 리스트를 쓸 때 웬만하면 인덱스를 쓰자\n",
    "- n번째 집까지의 최소 코스트를 찾는다고 생각해보자.. \n",
    "- 이전 줄에서 어떤 값이 선택되었는지는 의미가 없을 것 같음 : 다음 값에서의 최솟값이 뒤집힐 수 있기 때문임\n",
    "- 어떻게 이용하느냐가 문제 같은데..\n",
    "\n",
    "### 그러면 리스트의 rgb 값을 갱신해나가는 방법을 쓰는 게 맞겠다\n",
    "- 예제는 다 맞는데 틀렸습니다가 뜨죠?\n",
    "- 조건을 복잡하게 줘서 그렇다. 찾아보니까 똑같은 방식인데 훨씬 쉽게 구현함"
   ]
  },
  {
   "cell_type": "code",
   "execution_count": 175,
   "id": "5c375077-fba5-4701-b047-e43acf37a0dc",
   "metadata": {},
   "outputs": [
    {
     "name": "stdout",
     "output_type": "stream",
     "text": [
      "253\n",
      "----------------------------------------\n",
      "[71, 39, 44]\n",
      "[110, 171, 133]\n",
      "[278, 218, 244]\n",
      "[415, 407, 426]\n",
      "[653, 670, 581]\n",
      "[820, 768, 914]\n",
      "[1002, 1084, 984]\n",
      "[1260, 1266, 1255]\n",
      "1255\n"
     ]
    }
   ],
   "source": [
    "import sys\n",
    "sys.stdin = open('test.txt', 'r')\n",
    "input = sys.stdin.readline\n",
    "N = int(input())\n",
    "lst = []\n",
    "for _ in range(N):\n",
    "    lst.append(list(map(int, input().rstrip().split())))\n",
    "\n",
    "# 오 복잡하게 짤 필요가 없구나\n",
    "for i in range(1, len(lst)):\n",
    "    lst[i][0] = min(lst[i-1][1], lst[i-1][2]) + lst[i][0]\n",
    "    lst[i][1] = min(lst[i-1][0], lst[i-1][2]) + lst[i][1]\n",
    "    lst[i][2] = min(lst[i-1][0], lst[i-1][1]) + lst[i][2]\n",
    "\n",
    "print(min(lst[N-1][0], lst[N-1][1], lst[N-1][2]))\n",
    "# cost = [0] * N # N번째 줄까지의 최소 비용\n",
    "# selected = [-1] * N # 이전 줄에서 어떤 인덱스가 선택되었는지\n",
    "# for i in range(1, len(lst)):\n",
    "    \n",
    "#     for j in range(3):\n",
    "        \n",
    "#         temp_value = 2000\n",
    "        \n",
    "#         for k in range(3):\n",
    "#             if j == k:\n",
    "#                 continue\n",
    "            \n",
    "#             else:\n",
    "#                 temp_value = min(temp_value, lst[i-1][k] + lst[i][j])\n",
    "\n",
    "#         lst[i][j] = temp_value\n",
    "# print('-' * 40)\n",
    "# for i in lst:\n",
    "#     print(i)\n",
    "\n",
    "# print(min(lst[-1]))\n",
    "\n",
    "\n",
    "#"
   ]
  },
  {
   "cell_type": "code",
   "execution_count": 132,
   "id": "6a848e14-e4bb-4c90-9ec4-86a8564d780a",
   "metadata": {},
   "outputs": [],
   "source": [
    "lst = [1, 2, 3]\n",
    "# 1 2 / 1 3 / 2 1 / 2 3 / 3 1 / 3 2 이런 구성을 나오게 하려면 어떻게 해야 할까?"
   ]
  },
  {
   "cell_type": "code",
   "execution_count": 133,
   "id": "4223900f-313e-4a50-b743-0c20eb54acf5",
   "metadata": {},
   "outputs": [
    {
     "name": "stdout",
     "output_type": "stream",
     "text": [
      "0 1\n",
      "0 2\n",
      "1 0\n",
      "1 2\n",
      "2 0\n",
      "2 1\n"
     ]
    }
   ],
   "source": [
    "for i in range(3):\n",
    "    for j in range(3):\n",
    "        if i == j :\n",
    "            continue\n",
    "        else:\n",
    "            print(i, j)"
   ]
  },
  {
   "cell_type": "markdown",
   "id": "bb076853-00ad-4d2d-9248-0d398a44263c",
   "metadata": {},
   "source": [
    "### 1932번 : 정수 삼각형"
   ]
  },
  {
   "cell_type": "code",
   "execution_count": 214,
   "id": "fd65e3e4-3c5d-44f6-9084-422f67f7fc91",
   "metadata": {},
   "outputs": [],
   "source": [
    "import sys\n",
    "sys.stdin = open('test.txt', 'r')\n",
    "input = sys.stdin.readline\n",
    "N = int(input())\n",
    "lst = []"
   ]
  },
  {
   "cell_type": "code",
   "execution_count": 215,
   "id": "514e7aff-d26e-46e0-8619-f3f78aed6d23",
   "metadata": {},
   "outputs": [
    {
     "name": "stdout",
     "output_type": "stream",
     "text": [
      "[7]\n",
      "[3, 8]\n",
      "[8, 1, 0]\n",
      "[2, 7, 4, 4]\n",
      "[4, 5, 2, 6, 5]\n"
     ]
    }
   ],
   "source": [
    "\n",
    "for i in lst:\n",
    "    print(i)\n"
   ]
  },
  {
   "cell_type": "code",
   "execution_count": 216,
   "id": "c2b9f6e2-7558-4a3f-a498-5b42073254f9",
   "metadata": {},
   "outputs": [
    {
     "name": "stdout",
     "output_type": "stream",
     "text": [
      "30\n"
     ]
    }
   ],
   "source": [
    "import sys\n",
    "sys.stdin = open('test.txt', 'r')\n",
    "input = sys.stdin.readline\n",
    "N = int(input())\n",
    "lst = []\n",
    "\n",
    "for i in range(N):\n",
    "    lst.append(list(map(int, input().rstrip().split())))\n",
    "\n",
    "\n",
    "# 선택할 수 있는 인덱스는 2개밖에 없음\n",
    "for i in range(1, N):\n",
    "    for j in range(len(lst[i])):\n",
    "        # 양쪽 사이드\n",
    "        if j == 0:\n",
    "            lst[i][j] = lst[i-1][j] + lst[i][j]\n",
    "            \n",
    "        elif j == (len(lst[i]) - 1):\n",
    "            lst[i][j] = lst[i-1][j-1] + lst[i][j]\n",
    "            \n",
    "        else:\n",
    "            lst[i][j] = max(lst[i-1][j-1], lst[i-1][j]) + lst[i][j]\n",
    "            \n",
    "print(max(lst[-1]))"
   ]
  },
  {
   "cell_type": "markdown",
   "id": "5e9afe81-24e9-48e9-bef0-8172129a83c1",
   "metadata": {},
   "source": [
    "## 2579번 : 계단 오르기\n",
    "- 1칸 혹은 2칸씩 올라갈 수 있다\n",
    "- 그러나 연속된 3칸을 밟을 순 없다\n",
    "- 마지막 칸은 무조건 밟아야 한다\n",
    "- 최댓값을 구하시오\n",
    "\n",
    "### 생각\n",
    "- 자잘하게 많이 밟는다고 점수가 높다고 보장할 수 없음\n",
    "- 따라서 N번째 칸까지 밟았을 경우의 최댓값을 구하는 공식을 만들어야 함"
   ]
  },
  {
   "cell_type": "code",
   "execution_count": 234,
   "id": "2ab6ba26-278a-4bb7-9d2e-346fa504100c",
   "metadata": {},
   "outputs": [
    {
     "name": "stdout",
     "output_type": "stream",
     "text": [
      "[10, 20, 15, 25, 10, 20]\n"
     ]
    }
   ],
   "source": [
    "import sys\n",
    "sys.stdin = open('test.txt', 'r')\n",
    "input = sys.stdin.readline\n",
    "N = int(input())\n",
    "lst = []\n",
    "\n",
    "for i in range(N):\n",
    "    lst.append(int(input().rstrip('\\n')))\n",
    "\n",
    "print(lst)"
   ]
  },
  {
   "cell_type": "markdown",
   "id": "6bb88afd-7454-4ec5-8907-c2a4807aecad",
   "metadata": {},
   "source": [
    "- 3칸 발판을 어떻게 처리해주느냐..가 문제다.\n",
    "    - 내가 생각한 게 맞는 거 같은데?\n",
    "    - 어떤 인덱스 i 값이 i-1의 값에 의해 더해졌을 때, i+1에서 i를 사용하면 안되는 거임!\n",
    "    - 왜냐면 i-1 과 i의 칸을 밟았기 때문에 -> 따라서 얘는 i-1의 칸만 참조할 수 밖에 없음\n",
    "    \n",
    "### 누적값 리스트를 따로 만드는 거임\n",
    "- 그리고 어떤 값이 계산되는 방식은 크게 2가지임\n",
    "- 지금 인덱스가 i라면\n",
    "- i-2번째 인덱스에서 오는 방식과\n",
    "- i-3번째 인덱스 + i - 1번째 인덱스에서 오는 방식\n",
    "- 그 외는 현재 i값이 최댓값을 가질 수 없기 때문일 거임"
   ]
  },
  {
   "cell_type": "code",
   "execution_count": 248,
   "id": "039d8924-a5da-4107-ac0f-035b289877ea",
   "metadata": {},
   "outputs": [
    {
     "name": "stdout",
     "output_type": "stream",
     "text": [
      "[3000, 3001, 3005, 3205]\n",
      "3205\n"
     ]
    }
   ],
   "source": [
    "import sys\n",
    "sys.stdin = open('test.txt', 'r')\n",
    "input = sys.stdin.readline\n",
    "N = int(input())\n",
    "lst = []\n",
    "\n",
    "for i in range(N):\n",
    "    lst.append(int(input().rstrip('\\n')))\n",
    "\n",
    "by_one = [0] * (N + 1)\n",
    "by_one[0] = 1\n",
    "\n",
    "if N == 1:\n",
    "    print(lst[0])\n",
    "\n",
    "else:\n",
    "    \n",
    "    lst[1] = lst[0] + lst[1]\n",
    "    by_one[1] = True\n",
    "\n",
    "    for i in range(2, N):\n",
    "        if by_one[i - 1]:\n",
    "            lst[i] = lst[i-2] + lst[i]\n",
    "\n",
    "        else:\n",
    "            lst[i] = max(lst[i-1], lst[i-2]) + lst[i]\n",
    "            if lst[i-1] > lst[i-2]:\n",
    "                by_one[i] = True\n",
    "    print(lst)\n",
    "    print(lst[-1])"
   ]
  },
  {
   "cell_type": "markdown",
   "id": "60a94a4c-b540-4864-8222-f3af3c144bd2",
   "metadata": {},
   "source": [
    "#### 퍼 옴 ㅠ\n",
    "- 누적값 리스트를 따로 만들었음\n",
    "- 모든 케이스는 2가지로 나뉨\n",
    "1. n-2까지의 누적합에서 2칸 점프한 경우\n",
    "2. n-3까지의 누적합에서 2칸 점프한 뒤, 1칸 더 점프한 경우"
   ]
  },
  {
   "cell_type": "code",
   "execution_count": null,
   "id": "85f79143-7fea-4753-9e30-ff03aac1e3be",
   "metadata": {},
   "outputs": [],
   "source": [
    "n=int(input())\n",
    "\n",
    "graph=[0]*300\n",
    "for i in range(n):\n",
    "    graph[i]=int(input())\n",
    "\n",
    "dp=[0]*300\n",
    "\n",
    "dp[0]=graph[0]\n",
    "dp[1]=graph[0]+graph[1]\n",
    "dp[2]=graph[2]+(max(graph[0],graph[1]))\n",
    "\n",
    "for i in range(3,n):\n",
    "    dp[i]=max(dp[i-2]+graph[i],dp[i-3]+graph[i-1]+graph[i])\n",
    "\n",
    "print(dp[n-1])"
   ]
  }
 ],
 "metadata": {
  "kernelspec": {
   "display_name": "Python 3",
   "language": "python",
   "name": "python3"
  },
  "language_info": {
   "codemirror_mode": {
    "name": "ipython",
    "version": 3
   },
   "file_extension": ".py",
   "mimetype": "text/x-python",
   "name": "python",
   "nbconvert_exporter": "python",
   "pygments_lexer": "ipython3",
   "version": "3.8.8"
  }
 },
 "nbformat": 4,
 "nbformat_minor": 5
}
