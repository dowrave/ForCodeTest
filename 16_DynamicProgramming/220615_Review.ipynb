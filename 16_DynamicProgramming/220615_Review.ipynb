{
 "cells": [
  {
   "cell_type": "code",
   "execution_count": 12,
   "id": "3e973ef8-01e6-41e9-a800-4057bee43f02",
   "metadata": {},
   "outputs": [],
   "source": [
    "import sys\n",
    "sys.stdin = open('test.txt', 'r')\n",
    "input = sys.stdin.readline"
   ]
  },
  {
   "cell_type": "markdown",
   "id": "300a5436-0f10-4a7f-a383-fdd4e2bdedae",
   "metadata": {},
   "source": [
    "## 1912 : 부분합\n",
    "- 수열에서 연속된 몇 개의 수를 선택, 가장 큰 합을 구하시오"
   ]
  },
  {
   "cell_type": "code",
   "execution_count": 13,
   "id": "c9ce9124-db44-40f0-b735-e2f095a67c58",
   "metadata": {},
   "outputs": [],
   "source": [
    "N = int(input())\n",
    "lst = list(map(int, input().rstrip().split()))"
   ]
  },
  {
   "cell_type": "markdown",
   "id": "7a309ab0-dbec-4766-b089-e6b16f8aaaa0",
   "metadata": {},
   "source": [
    "### 어떤 인덱스까지의 최댓값을 구한다고 생각해보자\n",
    "- 어떤 인덱스까지의 최댓값을 구하는 방법.\n",
    "```\n",
    "1. 어떤 인덱스까지의 최댓값은 둘 중 하나로 구해짐\n",
    "1-1. 이전 인덱스까지의 최댓값 + 이번 값\n",
    "1-2. 이번 값\n",
    "- 이게 성립하는 이유?\n",
    "- 예를 들어 0번 인덱스에 값을 넣는다고 보면\n",
    "- 1번 인덱스의 값은 0 + 1 혹은 1일 것이다\n",
    "- 1만 들어가는 경우는 이전 인덱스까지의 최댓값이 음수인 경우일 것이다"
   ]
  },
  {
   "cell_type": "code",
   "execution_count": 15,
   "id": "8c9852aa-1914-49be-b4fa-a48ed4cdd927",
   "metadata": {},
   "outputs": [],
   "source": [
    "sum_lst = [0] * N\n",
    "sum_lst[0] = lst[0]\n",
    "for i in range(1, N):\n",
    "    sum_lst[i] = max(sum_lst[i-1] + lst[i], lst[i])"
   ]
  },
  {
   "cell_type": "code",
   "execution_count": 18,
   "id": "c665c929-d9c9-42ab-9f4b-fbd11883d6d1",
   "metadata": {},
   "outputs": [
    {
     "name": "stdout",
     "output_type": "stream",
     "text": [
      "[10, 6, 9, 10, 15, 21, -14, 12, 33, 32]\n",
      "33\n"
     ]
    }
   ],
   "source": [
    "print(sum_lst)\n",
    "print(max(sum_lst))"
   ]
  },
  {
   "cell_type": "code",
   "execution_count": 20,
   "id": "e1ce34b0-2dc7-4772-8a63-6e69482adfbc",
   "metadata": {},
   "outputs": [
    {
     "ename": "ValueError",
     "evalue": "invalid literal for int() with base 10: ''",
     "output_type": "error",
     "traceback": [
      "\u001b[1;31m---------------------------------------------------------------------------\u001b[0m",
      "\u001b[1;31mValueError\u001b[0m                                Traceback (most recent call last)",
      "\u001b[1;32m<ipython-input-20-827dee2aac0c>\u001b[0m in \u001b[0;36m<module>\u001b[1;34m\u001b[0m\n\u001b[0;32m      3\u001b[0m \u001b[1;33m\u001b[0m\u001b[0m\n\u001b[0;32m      4\u001b[0m \u001b[0minput\u001b[0m \u001b[1;33m=\u001b[0m \u001b[0msys\u001b[0m\u001b[1;33m.\u001b[0m\u001b[0mstdin\u001b[0m\u001b[1;33m.\u001b[0m\u001b[0mreadline\u001b[0m\u001b[1;33m\u001b[0m\u001b[1;33m\u001b[0m\u001b[0m\n\u001b[1;32m----> 5\u001b[1;33m \u001b[0mN\u001b[0m \u001b[1;33m=\u001b[0m \u001b[0mint\u001b[0m\u001b[1;33m(\u001b[0m\u001b[0minput\u001b[0m\u001b[1;33m(\u001b[0m\u001b[1;33m)\u001b[0m\u001b[1;33m)\u001b[0m\u001b[1;33m\u001b[0m\u001b[1;33m\u001b[0m\u001b[0m\n\u001b[0m\u001b[0;32m      6\u001b[0m \u001b[0mlst\u001b[0m \u001b[1;33m=\u001b[0m \u001b[0mlist\u001b[0m\u001b[1;33m(\u001b[0m\u001b[0mmap\u001b[0m\u001b[1;33m(\u001b[0m\u001b[0mint\u001b[0m\u001b[1;33m,\u001b[0m \u001b[0minput\u001b[0m\u001b[1;33m(\u001b[0m\u001b[1;33m)\u001b[0m\u001b[1;33m.\u001b[0m\u001b[0mrstrip\u001b[0m\u001b[1;33m(\u001b[0m\u001b[1;33m)\u001b[0m\u001b[1;33m.\u001b[0m\u001b[0msplit\u001b[0m\u001b[1;33m(\u001b[0m\u001b[1;33m)\u001b[0m\u001b[1;33m)\u001b[0m\u001b[1;33m)\u001b[0m\u001b[1;33m\u001b[0m\u001b[1;33m\u001b[0m\u001b[0m\n\u001b[0;32m      7\u001b[0m \u001b[1;33m\u001b[0m\u001b[0m\n",
      "\u001b[1;31mValueError\u001b[0m: invalid literal for int() with base 10: ''"
     ]
    }
   ],
   "source": [
    "# 전체 코드\n",
    "import sys\n",
    "sys.stdin = open('test.txt', 'r')\n",
    "input = sys.stdin.readline\n",
    "N = int(input())\n",
    "lst = list(map(int, input().rstrip().split()))\n",
    "\n",
    "sum_lst = [0] * N\n",
    "sum_lst[0] = lst[0]\n",
    "\n",
    "for i in range(1, N):\n",
    "    sum_lst[i] = max(sum_lst[i-1] + lst[i], lst[i])\n",
    "print(max(sum_lst))"
   ]
  },
  {
   "cell_type": "markdown",
   "id": "28105e37-fe47-4984-9b3b-f281cb2401d3",
   "metadata": {},
   "source": [
    "## 1463번 : 1로 만들기\n",
    "- 모든 수에 대한 연산은 //3 or //2 or -1 이다\n",
    "- 각 수에 대해 1로 만들기 위한 최소 연산 수를 구하시오\n",
    "- 예를 들어 10은 10 -> 9 -> 3 -> 1로 3임"
   ]
  },
  {
   "cell_type": "code",
   "execution_count": 37,
   "id": "d1ad25c5-1c75-4564-91fd-aff07d8f25d0",
   "metadata": {},
   "outputs": [
    {
     "name": "stdout",
     "output_type": "stream",
     "text": [
      "8\n"
     ]
    }
   ],
   "source": [
    "import sys\n",
    "sys.stdin = open('test.txt', 'r')\n",
    "input = sys.stdin.readline\n",
    "\n",
    "N = int(input())\n",
    "oper_lst = [0] * (N+1) # 편의상 인덱스 1번을 1로 놓음\n",
    "if N == 1:\n",
    "    print(0)\n",
    "elif N == 2 or N == 3:\n",
    "    print(1)\n",
    "else:\n",
    "    oper_lst[2] = 1\n",
    "    oper_lst[3] = 1\n",
    "    for i in range(4, N+1):\n",
    "        \n",
    "        oper_lst[i] = oper_lst[i-1] + 1\n",
    "        \n",
    "        if i % 3 == 0:\n",
    "            oper_lst[i] =min(oper_lst[i // 3] + 1, oper_lst[i])\n",
    "        \n",
    "        # 포인트 : 모든 조건을 체크하면서 갱신해 나갈 것\n",
    "        # 즉, oper_lst[6]은 \n",
    "        # 1. oper_lst[5] + 1 vs oper_lst[2] + 1 중 작은 값을 취함\n",
    "        # 2. oper_lst[2] + 1 vs oper_lst[3] + 1 중 작은 값을 취함\n",
    "        # 이것들을 if-elif가 아니라 if - if로 모두 체크하게 함\n",
    "        # --> 이게 안되면 틀렸습니다가 뜸\n",
    "        if i % 2 == 0:\n",
    "            oper_lst[i] =min(oper_lst[i // 2] + 1, oper_lst[i])\n",
    "        \n",
    "    print(oper_lst[N])"
   ]
  },
  {
   "cell_type": "code",
   "execution_count": 26,
   "id": "efef9b0f-37bd-4da6-aa67-79bb11fa82d4",
   "metadata": {},
   "outputs": [
    {
     "name": "stdout",
     "output_type": "stream",
     "text": [
      "[0, 0, 1, 1, 2, 3, 2, 3, 3, 2, 3]\n"
     ]
    }
   ],
   "source": [
    "print(oper_lst)"
   ]
  },
  {
   "cell_type": "markdown",
   "id": "2f051496-d8d7-45e7-8d32-8346f13a0d5a",
   "metadata": {},
   "source": [
    "#### 항상 모든 조건을 체크해서 최솟값을 올바르게 선택할 수 있도록 하자\n",
    "- 그러기 위해 if - elif 문을 타지 않고 if - if 문을 계속 탄다."
   ]
  },
  {
   "cell_type": "markdown",
   "id": "ede01628-1f5c-4de2-8a4e-a70f249a923f",
   "metadata": {},
   "source": [
    "## 10844번 - 쉬운 계단수\n",
    "- `45656`은 계단수이다. 이전 자리 수와 다음 자리수의 차이가 1이며 모든 수가 그러함\n",
    "- N이 주어질 때 길이 N인 계단 수는 몇 개인지 ARABOZA"
   ]
  },
  {
   "cell_type": "code",
   "execution_count": 42,
   "id": "76af9915-63e5-4491-89b6-ce26b32a4ad2",
   "metadata": {},
   "outputs": [],
   "source": [
    "import sys\n",
    "sys.stdin = open('test.txt', 'r')\n",
    "input = sys.stdin.readline\n",
    "N = int(input())"
   ]
  },
  {
   "cell_type": "markdown",
   "id": "291e27c6-fe8d-4090-8165-89ba0a0d54de",
   "metadata": {},
   "source": [
    "1. 자릿수 전체에 대해 반복문을 돌린다?\n",
    "- 그렇게 좋은 방법같지 않음. 숫자가 커지면 너무 길어짐"
   ]
  },
  {
   "cell_type": "markdown",
   "id": "938ac3fb-6c73-4184-b22b-976f7c7f5d81",
   "metadata": {},
   "source": [
    "2. 자릿수라는 걸 준게 포인트같음\n",
    "```\n",
    "즉 다음 계단수는 이전 계단수에 영향을 받는다는 논리임\n",
    "그리고 이는 일리가 있음\n",
    "예를 들어\n",
    "일의 계단수는 1 ~ 9임\n",
    "그럼 1 ~ 9 에서 뒤에 숫자를 붙인다고 생각해보자 \n",
    "10, 12 // 21, 23 // 32, 34 // ... // 87, 89 // 98\n",
    "끝자릿수가 0이면 1만 오고 9면 8만 올 수 있으며, 나머지는 2개가 올 수 있음\n",
    "근데 하나 더 생각해야 할 건 이전 자릿수로 끝나는 케이스가 몇 개인가? 임\n",
    "```\n",
    "\n",
    "``` 즉\n",
    "한자릿수는 1 ~ 9 까지 각각 1개임\n",
    "근데 두자릿수로 올라가면 0, 1, 9로 끝나는 케이스는 1개 / 나머지는 2개임\n",
    "이런 것들도 리스트를 만들 때 감안해야 함\n",
    "```\n",
    "\n",
    "3. 정리하면 이러함\n",
    "``` \n",
    "1 -> 0\n",
    "9 -> 8    \n",
    "나머지 : 2개\n",
    "```    "
   ]
  },
  {
   "cell_type": "code",
   "execution_count": 46,
   "id": "ac98f426-44ec-472c-ba50-62a586d9fb9b",
   "metadata": {},
   "outputs": [
    {
     "name": "stdout",
     "output_type": "stream",
     "text": [
      "[0, 1, 1, 1, 1, 1, 1, 1, 1, 1]\n"
     ]
    }
   ],
   "source": [
    "# 어떻게 정리해줄까가 포인트겠다\n",
    "last_num = [1] * 10\n",
    "last_num[0] = 0\n",
    "print(last_num)\n",
    "# 이 last_num 자체를 반복문으로 갱신하게 되면 리스트의 값 자체가 바뀌기 때문에\n",
    "# 정상적인 연산이 수행되지 않을 가능성이 있음 -> 이걸 어떻게 처리할까? : 깊은 복사해주면 됨\n",
    "for _ in range(N - 1):\n",
    "    temp_lst = last_num.copy() # 각 반복문에서 사용할 임시 리스트 : i-1\n",
    "    for i in range(10):\n",
    "        if i == 0:\n",
    "            last_num[i] = temp_lst[i + 1]\n",
    "        elif i == 9:\n",
    "            last_num[i] = temp_lst[i - 1]\n",
    "        else:\n",
    "            last_num[i] = temp_lst[i-1] + temp_lst[i+1]"
   ]
  },
  {
   "cell_type": "code",
   "execution_count": 47,
   "id": "9dba4e03-6bfb-47a3-a199-c625357429bd",
   "metadata": {},
   "outputs": [
    {
     "name": "stdout",
     "output_type": "stream",
     "text": [
      "[1, 1, 2, 2, 2, 2, 2, 2, 2, 1]\n"
     ]
    }
   ],
   "source": [
    "print(last_num)"
   ]
  },
  {
   "cell_type": "markdown",
   "id": "658fb6c1-8c3e-4887-8462-c220de008fad",
   "metadata": {},
   "source": [
    "#### 코드 정리"
   ]
  },
  {
   "cell_type": "code",
   "execution_count": 54,
   "id": "3cfc2d9c-b777-44e8-9b14-31bb11ec9f02",
   "metadata": {},
   "outputs": [
    {
     "name": "stdout",
     "output_type": "stream",
     "text": [
      "[0, 1, 1, 1, 1, 1, 1, 1, 1, 1]\n",
      "[1, 1, 2, 2, 2, 2, 2, 2, 2, 1]\n",
      "[1, 3, 3, 4, 4, 4, 4, 4, 3, 2]\n",
      "32\n"
     ]
    }
   ],
   "source": [
    "import sys\n",
    "sys.stdin = open('test.txt', 'r')\n",
    "input = sys.stdin.readline\n",
    "N = int(input())\n",
    "\n",
    "last_num = [1] * 10\n",
    "last_num[0] = 0\n",
    "\n",
    "# 임시 리스트도 그냥 여기서 [0] * 10으로 만드는 게 훨씬 낫다 - 계속 복사해야 되니까\n",
    "\n",
    "for _ in range(N - 1):\n",
    "    print(last_num)\n",
    "    temp_lst = last_num.copy() # 각 반복문에서 사용할 임시 리스트 : i-1\n",
    "    for i in range(10):\n",
    "        if i == 0:\n",
    "            last_num[i] = temp_lst[i + 1]\n",
    "        elif i == 9:\n",
    "            last_num[i] = temp_lst[i - 1]\n",
    "        else:\n",
    "            last_num[i] = temp_lst[i - 1] + temp_lst[i + 1]\n",
    "print(last_num)\n",
    "print(sum(last_num) % int(1e9))"
   ]
  },
  {
   "cell_type": "markdown",
   "id": "fd062b42-574e-42db-86b5-afdcc0441d2f",
   "metadata": {},
   "source": [
    "## 11053번 : 가장 긴 증가하는 부분 수열\n",
    "- 이 문제는 길이가 어떻게 정리될지 모르기 때문에 이중 for문을 돌려줌\n",
    "- <b> 이전 인덱스와의 비교만으로는 알 수 없음! </b>\n",
    "```\n",
    "예를 들어봅시다\n",
    "1 4 9 4 5 6 7 8 10 의 최대 길이를 갖는 부분 수열 \n",
    "이전 인덱스만을 따진다면\n",
    "1 2 3 3 3 3 3 3 4\n",
    "근데 정답은 1 4 5 6 7 8 10 -> 7임\n",
    "```\n",
    "\n",
    "<b> 따라서 마지막 인덱스가 있다면 이전 인덱스들 전체에 대해 반복문을 돌려서 가장 긴 수열을 갖는 경우의 수를 찾아야 함</b>\n",
    "- i보다 앞에 있는 수 중에서 작은 수를 찾았다고 해보자\n",
    "- 그러면 i까지의 부분행렬 중에서 가장 긴 길이는\n",
    "1. j까지의 부분행렬의 최대 길이 + 1(i) 가 붙는 케이스 이거나\n",
    "2. 지금 i가 갖는 길이가 더 긴 경우\n",
    "- 둘 중 하나일 거임\n",
    "\n",
    "- 길이 리스트가 자기를 포함하게 되는 길이가 되는 건 결과적인 거임\n",
    "- 따라서 지금까지의 누적값중 최대를 구하는 문제랑은 약간 다르다고 볼 수 있음"
   ]
  },
  {
   "cell_type": "code",
   "execution_count": 60,
   "id": "a61f0952-cc0d-4b96-ae21-2b6c48e954fd",
   "metadata": {},
   "outputs": [],
   "source": [
    "import sys\n",
    "sys.stdin = open('test.txt', 'r')\n",
    "input = sys.stdin.readline\n",
    "N = int(input())\n",
    "lst = list(map(int, input().rstrip().split()))"
   ]
  },
  {
   "cell_type": "code",
   "execution_count": 63,
   "id": "20f223b7-16d2-485a-b10e-1c9e7db9c9d5",
   "metadata": {},
   "outputs": [
    {
     "name": "stdout",
     "output_type": "stream",
     "text": [
      "[1, 2, 1, 3, 2, 4]\n"
     ]
    }
   ],
   "source": [
    "length_lst = [1] * N\n",
    "for i in range(1, N):\n",
    "    for j in range(i):\n",
    "        if lst[i] > lst[j]:\n",
    "            length_lst[i] = max(length_lst[j] + 1, length_lst[i])\n",
    "\n",
    "print(length_lst)"
   ]
  },
  {
   "cell_type": "markdown",
   "id": "ac9a4d20-f8ab-401a-892e-c8bb729177d7",
   "metadata": {},
   "source": [
    "### 2565 : 전깃줄\n",
    "- 전깃줄들이 교차하지 않게 하기 위해 제거해야 하는 전깃줄의 최소 개수를 구하시오"
   ]
  },
  {
   "cell_type": "code",
   "execution_count": 98,
   "id": "41cf7218-3723-4ea2-9d27-294d88522303",
   "metadata": {},
   "outputs": [
    {
     "name": "stdout",
     "output_type": "stream",
     "text": [
      "[[1, 8], [3, 9], [2, 2], [4, 1], [6, 4], [10, 10], [9, 7], [7, 6]]\n"
     ]
    }
   ],
   "source": [
    "import sys\n",
    "sys.stdin = open('test.txt', 'r')\n",
    "input = sys.stdin.readline\n",
    "N = int(input())\n",
    "lst = []\n",
    "for _ in range(N):\n",
    "    lst.append(list(map(int, input().rstrip().split())))\n",
    "\n",
    "print(lst)"
   ]
  },
  {
   "cell_type": "code",
   "execution_count": 117,
   "id": "442b0b0c-322d-4df5-9cc6-ba50bbf73e75",
   "metadata": {},
   "outputs": [
    {
     "name": "stdout",
     "output_type": "stream",
     "text": [
      "3\n"
     ]
    }
   ],
   "source": [
    "# LIS의 연장선상 문제라면 결국 이중 for문을 통해 교차 조건을 보자는 얘기임\n",
    "# LIS의 장점이 이전 성질들이 유지가 되면서 조건문에 들어온다는 거임\n",
    "\n",
    "# 추가로 생각할 거라면 이런 지점이겠다\n",
    "# 교차 리스트를 만들 때 이전 교차리스트의 값은 다음 교차리스트에서도 유지되어야 함\n",
    "# 새로 선이 추가됐을 때 제거해야 할 교차선의 수가 줄어들 수가 없잖음? 최소 유지가 되는 게 맞지\n",
    "cross_lst = [0] * N\n",
    "for i in range(1, N):\n",
    "    for j in range(i):\n",
    "        if (lst[i][0] - lst[j][0]) * (lst[i][1] - lst[j][1]) < 0:\n",
    "            cross_lst[i] = max(cross_lst[j] + 1, cross_lst[i] + 1) \n",
    "            \n",
    "print(max(cross_lst))"
   ]
  },
  {
   "cell_type": "code",
   "execution_count": 116,
   "id": "2b82446c-0f11-4eed-8aa2-6fd1f0a72947",
   "metadata": {},
   "outputs": [
    {
     "name": "stdout",
     "output_type": "stream",
     "text": [
      "[0, 0, 1, 3, 2, 0, 2, 2]\n"
     ]
    }
   ],
   "source": [
    "print(cross_lst)"
   ]
  },
  {
   "cell_type": "markdown",
   "id": "f09734db-f707-4f33-b7c2-34be26cc7459",
   "metadata": {},
   "source": [
    "- 와 다시 하는데도 이해가 안가냐"
   ]
  },
  {
   "cell_type": "code",
   "execution_count": 129,
   "id": "ae3fe55c-f936-4251-8c94-56991f0060fd",
   "metadata": {},
   "outputs": [
    {
     "name": "stdout",
     "output_type": "stream",
     "text": [
      "[0, 0, 1, 3, 2, 0, 2, 2]\n",
      "3\n"
     ]
    }
   ],
   "source": [
    "import sys\n",
    "sys.stdin = open('test.txt', 'r')\n",
    "input = sys.stdin.readline\n",
    "N = int(input())\n",
    "lst = []\n",
    "for _ in range(N):\n",
    "    lst.append(list(map(int, input().rstrip().split())))\n",
    "\n",
    "# 여기서 정렬을 한다는 발상이 어떻게 나오지 ㄷㄷㄷㄷㄷ\n",
    "lst.sort()\n",
    "\n",
    "# 정렬을 하면 0번째 인덱스들의 오름차순으로 정리가 될 것임\n",
    "# \n",
    "    \n",
    "cross_lst = [0] * N\n",
    "for i in range(1, N):\n",
    "    for j in range(i):\n",
    "#         cross_lst[i] = max(cross_lst[i-1], cross_lst[i])\n",
    "        if (lst[i][0] - lst[j][0]) * (lst[i][1] - lst[j][1]) < 0:\n",
    "            cross_lst[i] = max(cross_lst[j] + 1, cross_lst[i] + 1) \n",
    "    \n",
    "    # 제거해야 할 선의 수는 항상 이전까지의 인덱스보다 같거나 많다고 봄.\n",
    "    \n",
    "\n",
    "print(cross_lst)\n",
    "print(max(cross_lst))"
   ]
  },
  {
   "cell_type": "markdown",
   "id": "a8c3444c-db37-45e1-9212-e5fc5c6ae043",
   "metadata": {},
   "source": [
    "#### 일단 내가 본 답은\n",
    "1. 정렬을 한다\n",
    "2. 나란히 나열된 녀석들을 카운트한다(여기서 LIS를 쓸 수 있다)\n",
    "3. 나란히 나열된 것들을 제외하면 그게 교차된 애들임\n",
    "- 이라는 방식이다. ...근데 이게 딱 떠오르긴 힘들 것 같음\n"
   ]
  },
  {
   "cell_type": "code",
   "execution_count": 131,
   "id": "79442332-8f93-4c1f-ae69-427067ba3118",
   "metadata": {},
   "outputs": [
    {
     "name": "stdout",
     "output_type": "stream",
     "text": [
      "3\n"
     ]
    }
   ],
   "source": [
    "import sys\n",
    "sys.stdin = open('test.txt', 'r')\n",
    "input = sys.stdin.readline\n",
    "N = int(input())\n",
    "lst = []\n",
    "for _ in range(N):\n",
    "    lst.append(list(map(int, input().rstrip().split())))\n",
    "    \n",
    "lst.sort()\n",
    "parall_lst = [1] * N\n",
    "\n",
    "for i in range(N):\n",
    "    for j in range(i):\n",
    "        if lst[i][1] > lst[j][1] and parall_lst[i] < parall_lst[j] + 1:\n",
    "            parall_lst[i] = parall_lst[j] + 1\n",
    "            \n",
    "print(N - max(parall_lst))"
   ]
  },
  {
   "cell_type": "markdown",
   "id": "c55b6f34-bf12-407e-b621-4dc765b56762",
   "metadata": {},
   "source": [
    "## 9251번 : LCS\n",
    "- 두 공통된 문자열의 최대 길이\n",
    "\n",
    "```\n",
    " \n",
    "       0 A C A Y K P\n",
    "     0\n",
    "     C\n",
    "     A\n",
    "     P\n",
    "     C\n",
    "     A\n",
    "     K\n",
    "```"
   ]
  },
  {
   "cell_type": "code",
   "execution_count": 174,
   "id": "a3545f34-f512-4190-92e1-74a115181215",
   "metadata": {},
   "outputs": [
    {
     "name": "stdout",
     "output_type": "stream",
     "text": [
      "ACAYKP CAPCAK\n",
      "[[0, 0, 0, 0, 0, 0, 0], [0, 0, 0, 0, 0, 0, 0], [0, 0, 0, 0, 0, 0, 0], [0, 0, 0, 0, 0, 0, 0], [0, 0, 0, 0, 0, 0, 0], [0, 0, 0, 0, 0, 0, 0], [0, 0, 0, 0, 0, 0, 0]]\n"
     ]
    }
   ],
   "source": [
    "import sys\n",
    "sys.stdin = open('test.txt', 'r')\n",
    "input = sys.stdin.readline\n",
    "lstA = input().rstrip()\n",
    "lstB = input().rstrip()\n",
    "print(lstA, lstB)\n",
    "\n",
    "# 2차원 Matrix를 만든다\n",
    "matrix = [[0] * (len(lstA) + 1) for _ in range(len(lstB) + 1)]\n",
    "print(matrix)"
   ]
  },
  {
   "cell_type": "code",
   "execution_count": 176,
   "id": "35c019d5-bfcf-421b-b816-e3bbd2a09e0e",
   "metadata": {},
   "outputs": [
    {
     "ename": "IndexError",
     "evalue": "string index out of range",
     "output_type": "error",
     "traceback": [
      "\u001b[1;31m---------------------------------------------------------------------------\u001b[0m",
      "\u001b[1;31mIndexError\u001b[0m                                Traceback (most recent call last)",
      "\u001b[1;32m<ipython-input-176-3fcda14483f8>\u001b[0m in \u001b[0;36m<module>\u001b[1;34m\u001b[0m\n\u001b[0;32m      2\u001b[0m \u001b[1;32mfor\u001b[0m \u001b[0mi\u001b[0m \u001b[1;32min\u001b[0m \u001b[0mrange\u001b[0m\u001b[1;33m(\u001b[0m\u001b[1;36m1\u001b[0m\u001b[1;33m,\u001b[0m \u001b[0mlen\u001b[0m\u001b[1;33m(\u001b[0m\u001b[0mlstB\u001b[0m\u001b[1;33m)\u001b[0m \u001b[1;33m+\u001b[0m \u001b[1;36m1\u001b[0m\u001b[1;33m)\u001b[0m\u001b[1;33m:\u001b[0m\u001b[1;33m\u001b[0m\u001b[1;33m\u001b[0m\u001b[0m\n\u001b[0;32m      3\u001b[0m     \u001b[1;32mfor\u001b[0m \u001b[0mj\u001b[0m \u001b[1;32min\u001b[0m \u001b[0mrange\u001b[0m\u001b[1;33m(\u001b[0m\u001b[1;36m1\u001b[0m\u001b[1;33m,\u001b[0m \u001b[0mlen\u001b[0m\u001b[1;33m(\u001b[0m\u001b[0mlstA\u001b[0m\u001b[1;33m)\u001b[0m \u001b[1;33m+\u001b[0m \u001b[1;36m1\u001b[0m\u001b[1;33m)\u001b[0m\u001b[1;33m:\u001b[0m\u001b[1;33m\u001b[0m\u001b[1;33m\u001b[0m\u001b[0m\n\u001b[1;32m----> 4\u001b[1;33m         \u001b[1;32mif\u001b[0m \u001b[0mlstA\u001b[0m\u001b[1;33m[\u001b[0m\u001b[0mj\u001b[0m\u001b[1;33m]\u001b[0m \u001b[1;33m==\u001b[0m \u001b[0mlstB\u001b[0m\u001b[1;33m[\u001b[0m\u001b[0mi\u001b[0m\u001b[1;33m]\u001b[0m\u001b[1;33m:\u001b[0m\u001b[1;33m\u001b[0m\u001b[1;33m\u001b[0m\u001b[0m\n\u001b[0m\u001b[0;32m      5\u001b[0m             \u001b[0mmatrix\u001b[0m\u001b[1;33m[\u001b[0m\u001b[0mi\u001b[0m\u001b[1;33m]\u001b[0m\u001b[1;33m[\u001b[0m\u001b[0mj\u001b[0m\u001b[1;33m]\u001b[0m \u001b[1;33m+=\u001b[0m \u001b[0mmax\u001b[0m\u001b[1;33m(\u001b[0m\u001b[0mmatrix\u001b[0m\u001b[1;33m[\u001b[0m\u001b[0mi\u001b[0m\u001b[1;33m-\u001b[0m\u001b[1;36m1\u001b[0m\u001b[1;33m]\u001b[0m\u001b[1;33m[\u001b[0m\u001b[0mj\u001b[0m\u001b[1;33m]\u001b[0m\u001b[1;33m,\u001b[0m \u001b[0mmatrix\u001b[0m\u001b[1;33m[\u001b[0m\u001b[0mi\u001b[0m\u001b[1;33m]\u001b[0m\u001b[1;33m[\u001b[0m\u001b[0mj\u001b[0m\u001b[1;33m-\u001b[0m\u001b[1;36m1\u001b[0m\u001b[1;33m]\u001b[0m\u001b[1;33m)\u001b[0m \u001b[1;33m+\u001b[0m \u001b[1;36m1\u001b[0m\u001b[1;33m\u001b[0m\u001b[1;33m\u001b[0m\u001b[0m\n\u001b[0;32m      6\u001b[0m         \u001b[1;32melse\u001b[0m\u001b[1;33m:\u001b[0m\u001b[1;33m\u001b[0m\u001b[1;33m\u001b[0m\u001b[0m\n",
      "\u001b[1;31mIndexError\u001b[0m: string index out of range"
     ]
    }
   ],
   "source": [
    "# 가장 최근에 추가된 문자열이 다른 상대의 문자열에 있다면 값을 +1 해줌\n",
    "for i in range(1, len(lstB) + 1):\n",
    "    for j in range(1, len(lstA) + 1):\n",
    "        if lstA[j] == lstB[i]:\n",
    "            matrix[i][j] += max(matrix[i-1][j], matrix[i][j-1]) + 1\n",
    "        else:\n",
    "            matrix[i][j] = max(matrix[i-1][j], matrix[i][j-1])"
   ]
  },
  {
   "cell_type": "code",
   "execution_count": 171,
   "id": "a7316028-b4c1-4c87-805a-97f9169a18c0",
   "metadata": {},
   "outputs": [
    {
     "name": "stdout",
     "output_type": "stream",
     "text": [
      "[0, 1, 1, 1, 1, 1, 0]\n",
      "[1, 1, 2, 2, 2, 2, 0]\n",
      "[1, 1, 2, 2, 2, 3, 0]\n",
      "[1, 2, 2, 2, 2, 3, 0]\n",
      "[2, 2, 3, 3, 3, 3, 0]\n",
      "[2, 2, 3, 3, 4, 4, 0]\n"
     ]
    }
   ],
   "source": [
    "for i in range(6):\n",
    "    print(matrix[i])"
   ]
  },
  {
   "cell_type": "code",
   "execution_count": 172,
   "id": "021485de-b4a4-4302-82b9-62196ea75bec",
   "metadata": {},
   "outputs": [
    {
     "name": "stdout",
     "output_type": "stream",
     "text": [
      "0\n"
     ]
    }
   ],
   "source": [
    "print(matrix[-1][-1])"
   ]
  },
  {
   "cell_type": "markdown",
   "id": "150afca3-bc3c-476f-9a86-ec6071fc854e",
   "metadata": {},
   "source": [
    "## 매우 귀찮아졌읍니다"
   ]
  },
  {
   "cell_type": "code",
   "execution_count": 177,
   "id": "b860131f-fa30-48f3-a8ea-d901e8890f29",
   "metadata": {},
   "outputs": [
    {
     "name": "stdout",
     "output_type": "stream",
     "text": [
      "0\n"
     ]
    }
   ],
   "source": [
    "import sys\n",
    "\n",
    "input = sys.stdin.readline\n",
    "lst = []\n",
    "for i in range(2):\n",
    "    lst.append(input().rstrip())\n",
    "\n",
    "X = lst[0]\n",
    "Y = lst[1]\n",
    "\n",
    "lenX = len(X)\n",
    "lenY = len(Y) \n",
    "\n",
    "# 별도의 [0] 공간을 만들기 위해 +1 해줌 \n",
    "matrix = [[0] * (lenY + 1) for _ in range(lenX + 1)]\n",
    "for i in range(1, lenX + 1):\n",
    "    for j in range(1, lenY + 1):\n",
    "        if X[i - 1] == Y[j - 1]:\n",
    "            matrix[i][j] = matrix[i-1][j-1] + 1\n",
    "        else:\n",
    "            matrix[i][j] = max(matrix[i-1][j], matrix[i][j-1])\n",
    "    \n",
    "print(matrix[-1][-1])"
   ]
  },
  {
   "cell_type": "markdown",
   "id": "ccb1596c-30e4-4e5c-9833-a4a587c500a4",
   "metadata": {},
   "source": [
    "## 12865 : 평범한 배낭"
   ]
  },
  {
   "cell_type": "code",
   "execution_count": 264,
   "id": "517fb69b-2ef4-41ed-997c-8da380275527",
   "metadata": {},
   "outputs": [],
   "source": [
    "import sys\n",
    "sys.stdin = open('test.txt', 'r')\n",
    "input = sys.stdin.readline\n",
    "lst = [[0,0]]\n",
    "N, K = map(int, input().rstrip().split())\n",
    "for _ in range(N):\n",
    "    lst.append(list(map(int, input().rstrip().split())))\n",
    "    "
   ]
  },
  {
   "cell_type": "code",
   "execution_count": 265,
   "id": "e13acbbc-761d-4c78-a0f5-6ea07543bef8",
   "metadata": {},
   "outputs": [
    {
     "name": "stdout",
     "output_type": "stream",
     "text": [
      "[[0, 0], [6, 13], [4, 8], [3, 6], [5, 12]]\n"
     ]
    }
   ],
   "source": [
    "print(lst)"
   ]
  },
  {
   "cell_type": "code",
   "execution_count": 266,
   "id": "bdc8652d-33bd-41c5-ba86-723ac3b139af",
   "metadata": {},
   "outputs": [
    {
     "name": "stdout",
     "output_type": "stream",
     "text": [
      "[0, 0, 0, 0, 0, 0, 0, 0]\n",
      "[0, 0, 0, 0, 0, 0, 0, 0]\n",
      "[0, 0, 0, 0, 0, 0, 0, 0]\n",
      "[0, 0, 0, 0, 0, 0, 0, 0]\n",
      "[0, 0, 0, 0, 0, 0, 0, 0]\n"
     ]
    }
   ],
   "source": [
    "# 인덱스와 무게로 행렬을 만듦 - K는 무게 N은 인덱스임\n",
    "matrix = [[0] * (K+1) for _ in range(N + 1)]\n",
    "for i in range(len(matrix)):\n",
    "    print(matrix[i])"
   ]
  },
  {
   "cell_type": "code",
   "execution_count": 267,
   "id": "deeaa0d3-365d-4dc9-a666-4f61a0225ac0",
   "metadata": {},
   "outputs": [
    {
     "name": "stdout",
     "output_type": "stream",
     "text": [
      "14\n"
     ]
    }
   ],
   "source": [
    "# 아 시바 2차원 행렬 나도 헷갈린다\n",
    "for i in range(1, N + 1):\n",
    "    weight = lst[i][0] \n",
    "    value = lst[i][1]\n",
    "    for j in range(K+1):\n",
    "        # 늘상 그렇듯 반복문의 조건이 포인트임!\n",
    "        if weight > j: # 최대 무게 K가 아니라 무게에 대해 반복문을 돌리므로 지금 무게 j에 들어갈 수 있는지를 체크함\n",
    "                       # 여기가 문제였네 ㅋㅋㅋ\n",
    "            matrix[i][j] = matrix[i-1][j]\n",
    "        else: \n",
    "            matrix[i][j] = max(matrix[i-1][j], matrix[i-1][j-weight] + value)\n",
    "        \n",
    "print(matrix[N][K])"
   ]
  },
  {
   "cell_type": "code",
   "execution_count": null,
   "id": "659ba52e-a1c1-401e-ade8-18452d265f23",
   "metadata": {},
   "outputs": [],
   "source": [
    "for i in range(len(matrix)):\n",
    "    print(matrix[i])"
   ]
  },
  {
   "cell_type": "code",
   "execution_count": 263,
   "id": "00d9f2de-ed96-42fb-9743-e3595713311e",
   "metadata": {},
   "outputs": [
    {
     "name": "stdout",
     "output_type": "stream",
     "text": [
      "14\n",
      "[[0, 0, 0, 0, 0, 0, 0, 0], [0, 0, 0, 0, 0, 0, 13, 13], [0, 0, 0, 0, 8, 8, 13, 13], [0, 0, 0, 6, 8, 8, 13, 14], [0, 0, 0, 6, 8, 12, 13, 14]]\n"
     ]
    }
   ],
   "source": [
    "import sys\n",
    "sys.stdin = open('test.txt', 'r')\n",
    "input = sys.stdin.readline\n",
    "n, k = map(int, input().split())\n",
    "\n",
    "thing = [[0,0]]\n",
    "d = [[0]*(k+1) for _ in range(n+1)]\n",
    "\n",
    "# d[n][k] : n번째 배낭을 선택했을 때 무게 k인 배낭의 최대 값\n",
    "\n",
    "for i in range(n):\n",
    "    thing.append(list(map(int, input().split())))\n",
    "\n",
    "for i in range(1, n+1): # i는 가방에 들어가는 i번째 물건임\n",
    "    for j in range(1, k+1): # j는 무게에 대해 돌아감\n",
    "        w = thing[i][0] # 무게\n",
    "        v = thing[i][1] # 가치\n",
    "        \n",
    "        if j < w: # 들어오는 물건의 무게가 최대 무게보다 크다\n",
    "            d[i][j] = d[i-1][j]\n",
    "        else: # 무게 조건을 만족한다면, 바로 직전의 최대 가치 vs 이 물건을 넣기 전 가방의 무게가 갖는 가치 + 지금 가치 중 큰 값\n",
    "            d[i][j] = max(d[i-1][j], d[i-1][j-w]+v)\n",
    "\n",
    "print(d[n][k])\n",
    "print(d)"
   ]
  },
  {
   "cell_type": "markdown",
   "id": "fbadda37-90a9-4d28-96cd-71ad7f3346cd",
   "metadata": {},
   "source": [
    "## 조건을 편하게 다루기 위해 주어진 크기보다 +1 씩 해주자\n",
    "- N까지의 조건문에 대해 (0부터 N-1)까지 돌리는 것과 (1부터 N)까지 돌리는 것 중 후자가 다루기 좋다\n",
    "- 왜냐하면 i-1 등의 조건에서 걸리지 않기 때문"
   ]
  },
  {
   "cell_type": "code",
   "execution_count": null,
   "id": "42dff8cf-ff8a-4893-867d-56c0f65d1b93",
   "metadata": {},
   "outputs": [],
   "source": []
  }
 ],
 "metadata": {
  "kernelspec": {
   "display_name": "Python 3",
   "language": "python",
   "name": "python3"
  },
  "language_info": {
   "codemirror_mode": {
    "name": "ipython",
    "version": 3
   },
   "file_extension": ".py",
   "mimetype": "text/x-python",
   "name": "python",
   "nbconvert_exporter": "python",
   "pygments_lexer": "ipython3",
   "version": "3.8.8"
  }
 },
 "nbformat": 4,
 "nbformat_minor": 5
}
