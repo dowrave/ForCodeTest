{
  "nbformat": 4,
  "nbformat_minor": 0,
  "metadata": {
    "colab": {
      "name": "Prime&Multiple&Combination.ipynb",
      "provenance": [],
      "authorship_tag": "ABX9TyNxz7m4atqbbto9Jj29Yk84",
      "include_colab_link": true
    },
    "kernelspec": {
      "name": "python3",
      "display_name": "Python 3"
    },
    "language_info": {
      "name": "python"
    },
    "gpuClass": "standard"
  },
  "cells": [
    {
      "cell_type": "markdown",
      "metadata": {
        "id": "view-in-github",
        "colab_type": "text"
      },
      "source": [
        "<a href=\"https://colab.research.google.com/github/dowrave/ForCodeTest/blob/main/Prime%26Multiple%26Combination.ipynb\" target=\"_parent\"><img src=\"https://colab.research.google.com/assets/colab-badge.svg\" alt=\"Open In Colab\"/></a>"
      ]
    },
    {
      "cell_type": "markdown",
      "source": [
        "## 1. 약수와 배수\n",
        "- 기본적으로 `//`와 `%`으로 구현이 가능하다.\n"
      ],
      "metadata": {
        "id": "BYvLw0fEb79d"
      }
    },
    {
      "cell_type": "markdown",
      "source": [
        "### 1-1. 에라토스체네스의 체\n",
        "- 어떤 수의 약수 검증은 `N**(1/2)` 까지만 하면 된다.\n",
        "- 두 수를 곱해서 어떤 수가 나온다면, 둘 중 하나의 수는 반드시 제곱근 값 이하가 되기 때문!"
      ],
      "metadata": {
        "id": "T3xni8JNdYWg"
      }
    },
    {
      "cell_type": "code",
      "source": [
        "# 대충 생각나는 대로 구현해보면\n",
        "import math\n",
        "\n",
        "# 원래 범위 설정할 때 2나 3에서 더러워졌는데 lst.append(N//i) 추가하니까 훨씬 깔끔해졌다.\n",
        "def find_prime_number(N):\n",
        "  lst = []\n",
        "  for i in range(2, int(math.sqrt(N)) + 1): \n",
        "    if N % i == 0 :\n",
        "      lst.append(i)\n",
        "      lst.append(N // i)\n",
        "    lst.sort()\n",
        "\n",
        "  return lst\n",
        "\n",
        "find_prime_number(56)"
      ],
      "metadata": {
        "colab": {
          "base_uri": "https://localhost:8080/"
        },
        "id": "xpkFW_G5dp83",
        "outputId": "8e5e8985-ec2c-476c-fff4-4fb8d55a30fd"
      },
      "execution_count": 17,
      "outputs": [
        {
          "output_type": "execute_result",
          "data": {
            "text/plain": [
              "[2, 4, 7, 8, 14, 28]"
            ]
          },
          "metadata": {},
          "execution_count": 17
        }
      ]
    },
    {
      "cell_type": "markdown",
      "source": [
        "## 2. 최대공약수(gcd)\n",
        "- A와 B의 최대공약수는\n",
        "```\n",
        "A % B = R(0)\n",
        "B % R = R(1)\n",
        "...\n",
        "R(N-1) % R(N) = 0\n",
        "```\n",
        "- 일 때의 R(N)이다."
      ],
      "metadata": {
        "id": "Vo4ugiPLcEp8"
      }
    },
    {
      "cell_type": "code",
      "execution_count": 6,
      "metadata": {
        "colab": {
          "base_uri": "https://localhost:8080/"
        },
        "id": "yEayVoTZbVhp",
        "outputId": "9b1b0122-3cb0-49db-ebb7-d80b258e87db"
      },
      "outputs": [
        {
          "output_type": "execute_result",
          "data": {
            "text/plain": [
              "32"
            ]
          },
          "metadata": {},
          "execution_count": 6
        }
      ],
      "source": [
        "# 위를 코드로 구현하면\n",
        "def euclid(a, b):\n",
        "  if a < b:\n",
        "    a, b = b, a\n",
        "\n",
        "  while b != 0:\n",
        "    r = a % b\n",
        "    a = b\n",
        "    b = r\n",
        "\n",
        "  return a"
      ]
    },
    {
      "cell_type": "markdown",
      "source": [
        "## 3. 최소공배수(lcm)\n",
        "- a, b의 최소공배수는 `a * b / (a, b의 최대공약수)` 이다."
      ],
      "metadata": {
        "id": "7cjRlaMydLky"
      }
    },
    {
      "cell_type": "markdown",
      "source": [
        "## 4. 이항계수\n",
        "- 조합 얘기하는 거임\n",
        "```\n",
        "( 4 )\n",
        "( 2 )\n",
        "```\n",
        "- 이렇게 주어지기도 하며, 이는 4C2를 의미함"
      ],
      "metadata": {
        "id": "X1kS19dufI4Y"
      }
    },
    {
      "cell_type": "code",
      "source": [
        ""
      ],
      "metadata": {
        "id": "9mIbBUYScxT8"
      },
      "execution_count": null,
      "outputs": []
    }
  ]
}