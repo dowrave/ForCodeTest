{
 "cells": [
  {
   "cell_type": "markdown",
   "id": "b933246f-6183-4306-a30b-b050f3570050",
   "metadata": {},
   "source": [
    "## 2110번 : 공유기 설치"
   ]
  },
  {
   "cell_type": "code",
   "execution_count": null,
   "id": "a618fcfa-9891-4c8e-9071-9d2c77e6aa66",
   "metadata": {},
   "outputs": [],
   "source": []
  },
  {
   "cell_type": "code",
   "execution_count": 27,
   "id": "e6c33692-fbd3-4c08-b8b8-00225362d201",
   "metadata": {},
   "outputs": [],
   "source": [
    "import sys\n",
    "sys.stdin = open('test.txt')\n",
    "input = sys.stdin.readline\n",
    "n, c = map(int, input().rstrip().split())\n",
    "lst = []\n",
    "for _ in range(n):\n",
    "    lst.append(int(input().rstrip()))\n",
    "lst.sort()\n",
    "\n",
    "# 간격 값을 직접 구해야 해서 인덱스가 아니라 값으로 계산함\n",
    "start = 1\n",
    "end = lst[-1] - lst[0]\n",
    "\n",
    "while start <= end:\n",
    "    count = 1\n",
    "    current = lst[0]\n",
    "    mid = (start + end) // 2 # mid 값은 Gap을 의미함\n",
    "    \n",
    "    for i in range(n):\n",
    "\n",
    "        if lst[i] >= current + mid:\n",
    "            count += 1\n",
    "            current = lst[i]\n",
    "\n",
    "    if count >= c: # 공유기 수보다 같거나 많으니 간격을 늘려야 함. 같은 경우도 있으니 result에 값 저장\n",
    "        global result\n",
    "        start = mid + 1\n",
    "        result = mid\n",
    "    else: # 공유기 수보다 적으니 간격을 좁혀야 함.\n",
    "        end = mid - 1\n",
    "        \n",
    "print(result)\n",
    "    \n",
    "    \n"
   ]
  },
  {
   "cell_type": "code",
   "execution_count": 50,
   "id": "dd02ec9a-71ec-447b-bfa7-9c667e5f8f7a",
   "metadata": {},
   "outputs": [
    {
     "name": "stdout",
     "output_type": "stream",
     "text": [
      "3\n"
     ]
    }
   ],
   "source": []
  },
  {
   "cell_type": "code",
   "execution_count": null,
   "id": "9527636e-4cca-4309-87e6-4eecdc0dec58",
   "metadata": {},
   "outputs": [],
   "source": []
  }
 ],
 "metadata": {
  "kernelspec": {
   "display_name": "Python 3",
   "language": "python",
   "name": "python3"
  },
  "language_info": {
   "codemirror_mode": {
    "name": "ipython",
    "version": 3
   },
   "file_extension": ".py",
   "mimetype": "text/x-python",
   "name": "python",
   "nbconvert_exporter": "python",
   "pygments_lexer": "ipython3",
   "version": "3.8.8"
  }
 },
 "nbformat": 4,
 "nbformat_minor": 5
}
