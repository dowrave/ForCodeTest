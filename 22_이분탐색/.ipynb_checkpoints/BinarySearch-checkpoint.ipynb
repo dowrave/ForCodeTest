{
 "cells": [
  {
   "cell_type": "markdown",
   "id": "ae680797-0510-4f55-8a93-fc3fbc4a1447",
   "metadata": {},
   "source": [
    "# 1. 반복문 구현"
   ]
  },
  {
   "cell_type": "code",
   "execution_count": 3,
   "id": "b507fed5-f556-454d-a4c5-485d203311ff",
   "metadata": {},
   "outputs": [
    {
     "name": "stdout",
     "output_type": "stream",
     "text": [
      "7\n"
     ]
    }
   ],
   "source": [
    "def binary_search(arr, target, start, end):\n",
    "    while start <= end:\n",
    "        mid = (start + end) // 2\n",
    "        \n",
    "        if arr[mid] == target:\n",
    "            return arr[mid]\n",
    "        elif arr[mid] > target:\n",
    "            end = mid - 1\n",
    "        else:\n",
    "            start = mid + 1\n",
    "    return None\n",
    "\n",
    "a = [10, 7]\n",
    "b = [2*i + 1 for i in range(1, 10)]\n",
    "\n",
    "print(binary_search(b, a[1], 0, len(b)-1))"
   ]
  },
  {
   "cell_type": "markdown",
   "id": "9d76e1b1-4a02-4f31-bd4e-b6774e09e8ee",
   "metadata": {},
   "source": [
    "# 2. 재귀적 구현"
   ]
  },
  {
   "cell_type": "code",
   "execution_count": 4,
   "id": "46bbf3e0-6f15-47cf-89c4-693e14b19049",
   "metadata": {},
   "outputs": [],
   "source": [
    "def binary_search(arr, target, start, end):\n",
    "    while start <= end:\n",
    "        mid = (start + end) // 2\n",
    "        \n",
    "        if arr[mid] == target:\n",
    "            return mid\n",
    "        elif arr[mid] > target:\n",
    "            return binary_serach(arr, target, start, mid - 1)\n",
    "        else:\n",
    "            return binary_serach(arr, target, mid + 1, end)\n",
    "    return None"
   ]
  },
  {
   "cell_type": "markdown",
   "id": "cd376d02-4028-466f-b09c-2706b73330ca",
   "metadata": {},
   "source": [
    "# 3. 이진탐색 라이브러리"
   ]
  },
  {
   "cell_type": "code",
   "execution_count": 6,
   "id": "65362130-3d7a-4049-b4f5-5ef146a96910",
   "metadata": {},
   "outputs": [
    {
     "name": "stdout",
     "output_type": "stream",
     "text": [
      "2\n",
      "4\n"
     ]
    }
   ],
   "source": [
    "from bisect import bisect_left, bisect_right\n",
    "\n",
    "a = [1, 2, 4, 4, 8]\n",
    "x = 4\n",
    "print(bisect_left(a, x)) # 정렬 순서 유지, a의 배열에 x를 삽입할 가장 왼쪽 인덱스 : 예상 2\n",
    "print(bisect_right(a, x)) # 가장 오른쪽 인덱스 : 예상 4"
   ]
  },
  {
   "cell_type": "markdown",
   "id": "17480be8-21f8-44fa-8ade-a78151980bbb",
   "metadata": {},
   "source": [
    "# 파라메트릭 서치\n",
    "- 최적화 문제를 결정 문제로 바꿔 해결하는 기법\n",
    "- 코테에서 일반적으로 이진 탐색으로 해결할 수 있음"
   ]
  },
  {
   "cell_type": "markdown",
   "id": "4e6acb54-c1f1-40f5-9256-b746d8947ec4",
   "metadata": {},
   "source": [
    "# 예제 1\n",
    "- 19, 14, 10, 17cm인 떡\n",
    "- 절단기의 높이 H에 의해 떡이 잘린다\n",
    "- 잘린 떡의 합이 M 이상이라고 할때, 이를 만족시키는 H의 최댓값을 구하시오"
   ]
  },
  {
   "cell_type": "code",
   "execution_count": 13,
   "id": "ad313dbb-6792-49d4-bed3-bb9ec27e3fbf",
   "metadata": {},
   "outputs": [
    {
     "name": "stdout",
     "output_type": "stream",
     "text": [
      "25 9\n",
      "9 14\n",
      "2 17\n",
      "6 15\n",
      "4 16\n",
      "15\n"
     ]
    }
   ],
   "source": [
    "lst = [19, 15, 10, 17]\n",
    "m = 6\n",
    "\n",
    "start = 0\n",
    "end = max(lst)\n",
    "\n",
    "while start <= end:\n",
    "    mid = (start + end) // 2\n",
    "    total = 0\n",
    "    \n",
    "    for i in lst:\n",
    "        if i > mid:\n",
    "            total += i - mid\n",
    "\n",
    "    # 규칙을 정하자 : 왼쪽을 탐색해야 하는 경우 위, 오른쪽을 탐색해야 하는 경우 아래\n",
    "    if total < m : \n",
    "        end = mid - 1\n",
    "    \n",
    "    else:\n",
    "        ans = mid\n",
    "        start = mid + 1\n",
    "    \n",
    "\n",
    "print(ans)"
   ]
  },
  {
   "cell_type": "markdown",
   "id": "155cfbd0-c46d-465f-a4d4-a5b57878e2ed",
   "metadata": {},
   "source": [
    "# 예제 2. 정렬된 배열에서 특정 수의 개수 구하기\n",
    "- 수열에서 값이 x인 원소의 개수를 출력한다. 없다면 -1\n",
    "- 일단 이 문제를 넣은 이유는 bisect_left, bisect_right를 쓰라는 의도인데\n",
    "    - 그거 없이 그냥 해보긴 한다 : 이진 탐색을 2회 해야 할 듯"
   ]
  },
  {
   "cell_type": "code",
   "execution_count": 29,
   "id": "8dabad9d-019b-4afc-a4df-46e6264c55ae",
   "metadata": {},
   "outputs": [],
   "source": [
    "n = 7\n",
    "x = 2\n",
    "lst = [1, 1, 2, 2, 2, 2, 3]"
   ]
  },
  {
   "cell_type": "code",
   "execution_count": 41,
   "id": "4e830488-c19a-4871-a965-3ddb99c0e734",
   "metadata": {},
   "outputs": [
    {
     "name": "stdout",
     "output_type": "stream",
     "text": [
      "2\n"
     ]
    }
   ],
   "source": [
    "# left\n",
    "\n",
    "start = 0\n",
    "end = n-1\n",
    "\n",
    "while start <= end:\n",
    "    mid = (start + end) // 2\n",
    "\n",
    "    if lst[mid] > x:\n",
    "        end = mid - 1\n",
    "    elif lst[mid] < x:\n",
    "        start = mid + 1\n",
    "    \n",
    "    else:\n",
    "        ans1 = mid\n",
    "        end = mid - 1\n",
    "    \n",
    "print(ans1)"
   ]
  },
  {
   "cell_type": "code",
   "execution_count": 42,
   "id": "59931517-9e34-4556-8fdd-34ef23dcce40",
   "metadata": {},
   "outputs": [
    {
     "name": "stdout",
     "output_type": "stream",
     "text": [
      "5\n"
     ]
    }
   ],
   "source": [
    "# right\n",
    "start = 0\n",
    "end = n-1\n",
    "\n",
    "while start <= end:\n",
    "    mid = (start + end) // 2\n",
    "\n",
    "    if lst[mid] > x:\n",
    "        end = mid - 1\n",
    "    elif lst[mid] < x:\n",
    "        start = mid + 1\n",
    "    \n",
    "    else:\n",
    "        ans2 = mid\n",
    "        start = mid + 1\n",
    "    \n",
    "print(ans2)"
   ]
  },
  {
   "cell_type": "code",
   "execution_count": 43,
   "id": "305f1de7-8196-41b7-8e13-6ee913f8464f",
   "metadata": {},
   "outputs": [
    {
     "name": "stdout",
     "output_type": "stream",
     "text": [
      "4\n"
     ]
    }
   ],
   "source": [
    "print(ans2 - ans1 + 1)"
   ]
  },
  {
   "cell_type": "markdown",
   "id": "f9b8777d-cfdd-4bfd-a4a0-63f380398a77",
   "metadata": {},
   "source": [
    "# 결론\n",
    "1. 정 헷갈리면 케이스를 3가지로 나누자 : 같은 경우도 따로 분리해서 생각해보는 거다\n",
    "2. 조건을 만족한다면 정답 값에 넣고 다시 반복을 돌리면 된다"
   ]
  },
  {
   "cell_type": "code",
   "execution_count": null,
   "id": "a146c730-2c3a-48f2-811d-7d58b462f244",
   "metadata": {},
   "outputs": [],
   "source": []
  }
 ],
 "metadata": {
  "kernelspec": {
   "display_name": "Python 3",
   "language": "python",
   "name": "python3"
  },
  "language_info": {
   "codemirror_mode": {
    "name": "ipython",
    "version": 3
   },
   "file_extension": ".py",
   "mimetype": "text/x-python",
   "name": "python",
   "nbconvert_exporter": "python",
   "pygments_lexer": "ipython3",
   "version": "3.8.8"
  }
 },
 "nbformat": 4,
 "nbformat_minor": 5
}
