{
 "cells": [
  {
   "cell_type": "markdown",
   "id": "60b6006f-1121-4083-b860-5603922bec16",
   "metadata": {},
   "source": [
    "# 백준 1920번 : 수 찾기\n",
    "- 일단 이진 탐색 구현하고 큰 수 대응법을 찾자\n",
    "- ? 그냥 되네"
   ]
  },
  {
   "cell_type": "code",
   "execution_count": 13,
   "id": "91953e8a-1617-4686-a313-381b4d0ee2bb",
   "metadata": {},
   "outputs": [
    {
     "name": "stdout",
     "output_type": "stream",
     "text": [
      "1\n",
      "1\n",
      "0\n",
      "0\n",
      "1\n"
     ]
    }
   ],
   "source": [
    "import sys\n",
    "sys.stdin = open('test.txt', 'r')\n",
    "input = sys.stdin.readline\n",
    "\n",
    "# 이진 탐색\n",
    "def binary_search(value, start, last):\n",
    "    \n",
    "    # 아 재귀로 갈 필요가 없구나\n",
    "    while start < last:\n",
    "        mid = (start + last) // 2\n",
    "        \n",
    "        if lst[mid] > value:\n",
    "            last = mid\n",
    "        elif lst[mid] < value:\n",
    "            start = mid + 1\n",
    "        else:\n",
    "            return 1\n",
    "    \n",
    "    return 0\n",
    "\n",
    "n = int(input())\n",
    "lst = list(map(int, input().rstrip().split()))\n",
    "lst.sort()\n",
    "\n",
    "m = int(input().rstrip())\n",
    "for i in map(int, input().split()):\n",
    "    print(binary_search(i, 0, n))"
   ]
  },
  {
   "cell_type": "markdown",
   "id": "96ec9f88-a69c-476e-bc67-6f9b2c394f8b",
   "metadata": {},
   "source": [
    "## 10816 : 숫자 카드 2\n",
    "- 왜 푼 적 있지?\n",
    "- dict로 풀었던 과거의 나"
   ]
  },
  {
   "cell_type": "code",
   "execution_count": 30,
   "id": "573ae13f-9297-4be5-ac56-f9b9fe392507",
   "metadata": {},
   "outputs": [],
   "source": [
    "import sys\n",
    "sys.stdin = open('test.txt', 'r')\n",
    "input = sys.stdin.readline\n",
    "\n",
    "n = int(input())\n",
    "lst = list(map(int, input().rstrip().split()))\n",
    "lst.sort()\n",
    "dict = {}\n",
    "\n",
    "for i in lst:\n",
    "    if i not in dict:\n",
    "        dict[i] = 1\n",
    "    else:\n",
    "        dict[i] += 1\n",
    "        \n",
    "_ = input()\n",
    "\n",
    "for j in map(int, input().split()):\n",
    "    print(dict[j] if j in dict else 0, end = \" \")"
   ]
  },
  {
   "cell_type": "code",
   "execution_count": 31,
   "id": "3cda77d8-b138-431a-a1f8-ac7395ec9171",
   "metadata": {},
   "outputs": [
    {
     "name": "stdout",
     "output_type": "stream",
     "text": [
      "3 0 0 1 2 0 0 2 "
     ]
    }
   ],
   "source": []
  },
  {
   "cell_type": "code",
   "execution_count": null,
   "id": "3dc57c63-383e-40b4-af7f-67508eeedf4a",
   "metadata": {},
   "outputs": [],
   "source": [
    "# 과거의 나는 dict를 만들어서 푼 듯 하다"
   ]
  }
 ],
 "metadata": {
  "kernelspec": {
   "display_name": "Python 3",
   "language": "python",
   "name": "python3"
  },
  "language_info": {
   "codemirror_mode": {
    "name": "ipython",
    "version": 3
   },
   "file_extension": ".py",
   "mimetype": "text/x-python",
   "name": "python",
   "nbconvert_exporter": "python",
   "pygments_lexer": "ipython3",
   "version": "3.8.8"
  }
 },
 "nbformat": 4,
 "nbformat_minor": 5
}
