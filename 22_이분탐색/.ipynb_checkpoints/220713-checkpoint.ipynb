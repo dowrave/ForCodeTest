{
 "cells": [
  {
   "cell_type": "markdown",
   "id": "aaccbfeb-09c0-440a-b0ea-487b2542e8ff",
   "metadata": {},
   "source": [
    "# 1300번 : K번째 수\n",
    "- 배열 A : A[i][j] = i*j\n",
    "    - 이 수를 1차원 배열 B에 넣었을 때, B의 크기는 n&n이 된다.\n",
    "- B를 오름차순 정렬했을 때 B[k]?"
   ]
  },
  {
   "cell_type": "markdown",
   "id": "935cbb28-1e97-4ebf-9898-7443f4f8641d",
   "metadata": {},
   "source": [
    "#### 1트 : 무지성 들이받기"
   ]
  },
  {
   "cell_type": "code",
   "execution_count": 14,
   "id": "8f5d1638-1cc9-4fdc-9b9d-18de46a5b45a",
   "metadata": {},
   "outputs": [
    {
     "data": {
      "text/plain": [
       "6"
      ]
     },
     "execution_count": 14,
     "metadata": {},
     "output_type": "execute_result"
    }
   ],
   "source": [
    "import sys\n",
    "sys.stdin = open('test.txt', 'r')\n",
    "input = sys.stdin.readline\n",
    "\n",
    "n = int(input())\n",
    "k = int(input())\n",
    "\n",
    "A = [[0] * (n) for i in range(n)]\n",
    "B = [0] * ((n)*(n))\n",
    "B_top = 0\n",
    "for i in range(1, n+1):\n",
    "    for j in range(1, n+1):\n",
    "        A[i][j] = (i+1) * (j+1)\n",
    "        if B[B_top] < A[i][j]:\n",
    "            B[B_top] = A[i][j]\n",
    "            B_top += 1\n",
    "\n",
    "# 선구현 후속도\n",
    "B.sort()\n",
    "start = 0\n",
    "end = n-1\n",
    "\n",
    "while start <= end:\n",
    "    mid = (start + end) // 2\n",
    "    \n",
    "    if B[mid] > B[start]:\n",
    "        \n",
    "\n",
    "#...가 되겠지만 N의 최대 크기는 10^10, k도 10^9보다 작다고 한다"
   ]
  },
  {
   "cell_type": "markdown",
   "id": "01f1b4f6-00e2-4109-a2ce-69c8eae71dd0",
   "metadata": {},
   "source": [
    "### 2트\n",
    "- 2차원 리스트 구현 후 반복문을 돌려서 mid값과 비교"
   ]
  },
  {
   "cell_type": "code",
   "execution_count": 32,
   "id": "93a2112b-2199-406d-afed-9b4daa841367",
   "metadata": {},
   "outputs": [
    {
     "name": "stdout",
     "output_type": "stream",
     "text": [
      "[1, 2, 3, 4]\n",
      "[2, 4, 6, 8]\n",
      "[3, 6, 9, 12]\n",
      "[4, 8, 12, 16]\n",
      "1 16 8 10\n",
      "1 7 4 5\n",
      "5 7 6 8\n",
      "7 7 7 10\n",
      "6\n"
     ]
    }
   ],
   "source": [
    "import sys\n",
    "sys.stdin = open('test.txt', 'r')\n",
    "input = sys.stdin.readline\n",
    "\n",
    "n = int(input())\n",
    "k = int(input())\n",
    "\n",
    "A = [[0] * (n) for i in range(n)]\n",
    "B = [0] * ((n)*(n))\n",
    "B_top = 0\n",
    "for i in range(n):\n",
    "    for j in range(n):\n",
    "        A[i][j] = (i+1) * (j+1)\n",
    "        \n",
    "for i in A:\n",
    "    print(i)\n",
    "    \n",
    "# 1부터 n*n까지의 값에 대해서 이진 탐색을 한다\n",
    "# 조건문은 mid 값과 각 데이터의 값을 비교, mid값보다 작은 데이터의 수를 찾는다\n",
    "    # 트릭으로 각 행에 대해 mid // i 를 하면 그냥 j에 대해 비교하면 된다. 위의 조건식이 i*j < mid 이기 때문이다.\n",
    "    # 데이터의 수가 많다면 mid 값이 찾으려는 k보다 크니까 end를 줄이고\n",
    "    # 적다면 start를 늘이면 된다. 같은 케이스..도 start를 높이는 게 맞는 것 같고?\n",
    "    \n",
    "# 이진 탐색\n",
    "start = 1\n",
    "end = n * n\n",
    "\n",
    "while start <= end:\n",
    "    mid = (start + end) // 2\n",
    "    count = 0\n",
    "    \n",
    "    for i in range(n):\n",
    "        for j in range(n):\n",
    "            if A[i][j] < mid:\n",
    "                count += 1\n",
    "    print(start, end, mid, count)\n",
    "    # B[k]보다 작거나 같은 값은 k개임\n",
    "    if count > k:\n",
    "        end = mid - 1\n",
    "    else:\n",
    "        start = mid + 1\n",
    "    \n",
    "print(end)"
   ]
  },
  {
   "cell_type": "markdown",
   "id": "75af7584-49d9-489e-84da-038a8009d33c",
   "metadata": {},
   "source": [
    "### 3트\n",
    "- 2차원 리스트를 구현할 필요가 없음 : N이 정해지면 값들은 다 정해지니까\n",
    "    - `mid // i` 는 이걸 위한 방식임\n",
    "    - 즉 행렬 구현 없이, j는 1부터 n까지 반복하고\n",
    "    - mid는 1부터 n까지 나눠보면서 값을 카운트하는 방식임\n",
    "    \n",
    "### 4트\n",
    "- 3트에서 시간초과 떴음 : `end 조건을 k로 바꿔도 작동한다`네\n",
    "\n",
    "### 5트\n",
    "- 4트도 시간초과 뜸\n",
    "    - j에 대한 조건식이 필요가 없다. `mid // i` 값 자체가 <b>i번째 행에서 mid값보다 작은 수의 갯수</b>이기 때문이다"
   ]
  },
  {
   "cell_type": "code",
   "execution_count": 59,
   "id": "2d994ffc-414d-4511-8656-e959c179484c",
   "metadata": {},
   "outputs": [
    {
     "name": "stdout",
     "output_type": "stream",
     "text": [
      "1 7 4 6 0\n",
      "5 7 6 8 0\n",
      "5 5 5 6 6\n",
      "6\n"
     ]
    }
   ],
   "source": [
    "import sys\n",
    "sys.stdin = open('test.txt', 'r')\n",
    "input = sys.stdin.readline\n",
    "n = int(input())\n",
    "k = int(input())\n",
    "\n",
    "# 이진 탐색\n",
    "start = 1\n",
    "end = k # 헐 k로 해도 되네\n",
    "ans = 0\n",
    "\n",
    "while start <= end:\n",
    "    mid = (start + end) // 2\n",
    "    count = 0\n",
    "    \n",
    "#     for i in range(1, n+1):\n",
    "#         for j in range(1, n+1):\n",
    "#             if j <= min(mid // i, n): # mid 값은 n을 넘어갈 수 있으니까 min을 씌워준다\n",
    "#                 count += 1\n",
    "    \n",
    "    for i in range(1, n+1):\n",
    "        count += min(mid // i, n)\n",
    "    \n",
    "    \n",
    "    print(start, end, mid, count, ans)\n",
    "    \n",
    "    # B[k]보다 작거나 같은 값은 k개임\n",
    "    if count >= k: # k보다 작은 값이 많다 : mid를 k보다 높게 잡은거니까 end를 줄임\n",
    "        end = mid - 1\n",
    "        ans = mid  \n",
    "    else: # k보다 작은 값이 같거나 적다 : mid를 k보다 적게 잡은거니까 start를 높임\n",
    "        start = mid + 1\n",
    "\n",
    "    \n",
    "print(ans)"
   ]
  },
  {
   "cell_type": "markdown",
   "id": "ceb60509-7f8c-43fe-b806-f599c169026e",
   "metadata": {},
   "source": [
    "# 12015 : 가장 긴 증가하는 부분 수열 2\n",
    "- 이진 탐색으로도 구현이 가능하다고 한다\n",
    "- 수열의 크기, 각 수의 최대 크기 모두 100만"
   ]
  },
  {
   "cell_type": "code",
   "execution_count": 89,
   "id": "24f8f8f3-c7e4-4d9e-b6a6-09f45297b632",
   "metadata": {},
   "outputs": [
    {
     "ename": "ValueError",
     "evalue": "invalid literal for int() with base 10: ''",
     "output_type": "error",
     "traceback": [
      "\u001b[1;31m---------------------------------------------------------------------------\u001b[0m",
      "\u001b[1;31mValueError\u001b[0m                                Traceback (most recent call last)",
      "\u001b[1;32m<ipython-input-89-a64389b2afae>\u001b[0m in \u001b[0;36m<module>\u001b[1;34m\u001b[0m\n\u001b[0;32m      2\u001b[0m \u001b[1;33m\u001b[0m\u001b[0m\n\u001b[0;32m      3\u001b[0m \u001b[0minput\u001b[0m \u001b[1;33m=\u001b[0m \u001b[0msys\u001b[0m\u001b[1;33m.\u001b[0m\u001b[0mstdin\u001b[0m\u001b[1;33m.\u001b[0m\u001b[0mreadline\u001b[0m\u001b[1;33m\u001b[0m\u001b[1;33m\u001b[0m\u001b[0m\n\u001b[1;32m----> 4\u001b[1;33m \u001b[0mn\u001b[0m \u001b[1;33m=\u001b[0m \u001b[0mint\u001b[0m\u001b[1;33m(\u001b[0m\u001b[0minput\u001b[0m\u001b[1;33m(\u001b[0m\u001b[1;33m)\u001b[0m\u001b[1;33m)\u001b[0m\u001b[1;33m\u001b[0m\u001b[1;33m\u001b[0m\u001b[0m\n\u001b[0m\u001b[0;32m      5\u001b[0m \u001b[0mlst\u001b[0m \u001b[1;33m=\u001b[0m \u001b[0mlist\u001b[0m\u001b[1;33m(\u001b[0m\u001b[0mmap\u001b[0m\u001b[1;33m(\u001b[0m\u001b[0mint\u001b[0m\u001b[1;33m,\u001b[0m \u001b[0minput\u001b[0m\u001b[1;33m(\u001b[0m\u001b[1;33m)\u001b[0m\u001b[1;33m.\u001b[0m\u001b[0mrstrip\u001b[0m\u001b[1;33m(\u001b[0m\u001b[1;33m)\u001b[0m\u001b[1;33m.\u001b[0m\u001b[0msplit\u001b[0m\u001b[1;33m(\u001b[0m\u001b[1;33m)\u001b[0m\u001b[1;33m)\u001b[0m\u001b[1;33m)\u001b[0m\u001b[1;33m\u001b[0m\u001b[1;33m\u001b[0m\u001b[0m\n\u001b[0;32m      6\u001b[0m \u001b[1;31m# 아 sort하면 안된다 이 문제 - 주어진 수열을 그대로 쓰기 때문\u001b[0m\u001b[1;33m\u001b[0m\u001b[1;33m\u001b[0m\u001b[1;33m\u001b[0m\u001b[0m\n",
      "\u001b[1;31mValueError\u001b[0m: invalid literal for int() with base 10: ''"
     ]
    }
   ],
   "source": [
    "import sys\n",
    "\n",
    "input = sys.stdin.readline\n",
    "n = int(input())\n",
    "lst = list(map(int, input().rstrip().split()))\n",
    "# 아 sort하면 안된다 이 문제 - 주어진 수열을 그대로 쓰기 때문\n",
    "\n",
    "\n",
    "LIS = [0] # 이 0은 LIS의 길이에서 제외, 가장 처음에 -1 인덱스를 쓰기 위해 넣는다\n",
    "\n",
    "for i in lst:\n",
    "    \n",
    "    # LIS의 가장 뒷쪽 값보다 i가 크다면 그냥 넣으면 된다\n",
    "    if LIS[-1] < i:\n",
    "        LIS.append(i)\n",
    "    \n",
    "    # i가 작다면, LIS의 기존 작은 값을 갱신하는 방식으로 진행된다\n",
    "    # 들어갈 위치를 찾는 데에 이진 탐색이 쓰인다.\n",
    "    else:\n",
    "        start = 0\n",
    "        end = len(LIS)\n",
    "        while start < end:\n",
    "            mid = (start + end) // 2\n",
    "\n",
    "            if LIS[mid] > i:\n",
    "                end = mid - 1\n",
    "            else:\n",
    "                start = mid\n",
    "\n",
    "        LIS[end] = i\n",
    "\n",
    "print(len(LIS[1:]))"
   ]
  },
  {
   "cell_type": "markdown",
   "id": "7901a343-9ce5-4a48-9bf9-f1b479712b34",
   "metadata": {},
   "source": [
    "### 이 풀이는 LIS와 같은 Array를 반환하지 않으나, \"길이\"를 구하는 문제에서는 성립함"
   ]
  },
  {
   "cell_type": "code",
   "execution_count": 87,
   "id": "6c3666c0-4bbb-4559-a2b3-273ff8ba9c4f",
   "metadata": {},
   "outputs": [
    {
     "name": "stdout",
     "output_type": "stream",
     "text": [
      "[0, 10]\n",
      "[0, 10, 20]\n",
      "[0, 10, 20]\n",
      "[0, 10, 20, 30]\n",
      "[0, 10, 20, 30]\n",
      "[0, 10, 20, 30, 50]\n",
      "4\n"
     ]
    }
   ],
   "source": [
    "LIS = [0] # 이 0은 LIS의 길이에서 제외, 가장 처음에 -1 인덱스를 쓰기 위해 넣는다\n",
    "\n",
    "for i in lst:\n",
    "    \n",
    "    # LIS의 가장 뒷쪽 값보다 i가 크다면 그냥 넣으면 된다\n",
    "    if LIS[-1] < i:\n",
    "        LIS.append(i)\n",
    "    \n",
    "    # i가 작다면, LIS의 기존 작은 값을 갱신하는 방식으로 진행된다\n",
    "    # 들어갈 위치를 찾는 데에 이진 탐색이 쓰인다.\n",
    "    else:\n",
    "        start = 0\n",
    "        end = len(LIS)\n",
    "        while start < end:\n",
    "            mid = (start + end) // 2\n",
    "\n",
    "            if LIS[mid] > i:\n",
    "                end = mid - 1\n",
    "            else:\n",
    "                start = mid\n",
    "#             print(start, end)    \n",
    "#         print(f\"LIS [{end}] 값 갱신\")\n",
    "        LIS[end] = i\n",
    "    print(LIS)\n",
    "    \n",
    "\n",
    "print(len(LIS[1:]))"
   ]
  },
  {
   "cell_type": "code",
   "execution_count": null,
   "id": "f363d476-a56a-4304-a1ca-34651fdde5ce",
   "metadata": {},
   "outputs": [],
   "source": []
  },
  {
   "cell_type": "code",
   "execution_count": null,
   "id": "b399a23c-2db4-455c-913f-bddb9fba258c",
   "metadata": {},
   "outputs": [],
   "source": []
  },
  {
   "cell_type": "markdown",
   "id": "4b89697e-b2a2-4ee4-ace5-f0499b8e4df3",
   "metadata": {},
   "source": [
    "### 이진탐색은 등호 때문에 항상 헷갈림; 나중에 정리 ㄱ"
   ]
  },
  {
   "cell_type": "code",
   "execution_count": null,
   "id": "934ff562-6e3b-4dd0-b79b-deff8fad0932",
   "metadata": {},
   "outputs": [],
   "source": []
  }
 ],
 "metadata": {
  "kernelspec": {
   "display_name": "Python 3",
   "language": "python",
   "name": "python3"
  },
  "language_info": {
   "codemirror_mode": {
    "name": "ipython",
    "version": 3
   },
   "file_extension": ".py",
   "mimetype": "text/x-python",
   "name": "python",
   "nbconvert_exporter": "python",
   "pygments_lexer": "ipython3",
   "version": "3.8.8"
  }
 },
 "nbformat": 4,
 "nbformat_minor": 5
}
