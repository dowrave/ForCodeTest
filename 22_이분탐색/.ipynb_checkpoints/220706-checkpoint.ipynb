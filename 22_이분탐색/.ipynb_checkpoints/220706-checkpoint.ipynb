{
 "cells": [
  {
   "cell_type": "markdown",
   "id": "8a687eba-6bb8-4412-8ea0-d9e410366530",
   "metadata": {},
   "source": [
    "# 1654번 : 랜선 자르기\n",
    "- input이 2^31-1 까지다."
   ]
  },
  {
   "cell_type": "code",
   "execution_count": 25,
   "id": "d80c1d86-2528-4f71-b7f0-443c68d80271",
   "metadata": {},
   "outputs": [],
   "source": [
    "import sys\n",
    "sys.stdin = open('test.txt')\n",
    "input = sys.stdin.readline"
   ]
  },
  {
   "cell_type": "code",
   "execution_count": 21,
   "id": "666951c3-1dfc-4da9-bd6c-c78876afc55e",
   "metadata": {
    "tags": []
   },
   "outputs": [
    {
     "name": "stdout",
     "output_type": "stream",
     "text": [
      "[802, 743, 457, 539]\n",
      "200\n"
     ]
    }
   ],
   "source": [
    "k, n = map(int, input().rstrip().split())\n",
    "lst = []\n",
    "for _ in range(k):\n",
    "    lst.append(int(input()))\n",
    "    \n",
    "total_len = sum(lst)\n",
    "each_len = total_len // n\n",
    "\n",
    "print(lst)\n",
    "# 띵킹해봅시다\n",
    "# n개를 만든다, 각각의 최대 길이를 구해야 함\n",
    "# 일단 생각이 든건 전체를 다 합침 -> 이걸 n으로 나누면 낭비 없는 각각의 최대 길이가 나옴\n",
    "# 이 각각의 최대길이로 각 선을 나눈 값들의 합이 n이면 종료\n",
    "# 아니라면 감소를 시키는데 이걸 몇개씩 할까? : 최초 선의 개수 k 아닐까?\n",
    "# 문제가 이진 분류인건 둘째칩시다.\n",
    "\n",
    "while True:\n",
    "    # 리스트의 각각에 대해 count\n",
    "    if n == sum(list(map(lambda x : x // each_len, lst))):\n",
    "        print(each_len)\n",
    "        break\n",
    "    else:\n",
    "        each_len -= 1\n"
   ]
  },
  {
   "cell_type": "markdown",
   "id": "fe4c5f91-3204-428f-8396-ea5cac859e56",
   "metadata": {},
   "source": [
    "### 시간 초과"
   ]
  },
  {
   "cell_type": "code",
   "execution_count": 119,
   "id": "b0d7a4ad-63de-419b-8b4f-5ce185498ad4",
   "metadata": {},
   "outputs": [
    {
     "name": "stdout",
     "output_type": "stream",
     "text": [
      "200\n"
     ]
    }
   ],
   "source": [
    "import sys\n",
    "sys.stdin = open('test.txt')\n",
    "input = sys.stdin.readline\n",
    "\n",
    "k, n = map(int, input().rstrip().split())\n",
    "lst = []\n",
    "for _ in range(k):\n",
    "    lst.append(int(input()))\n",
    "    \n",
    "total_len = sum(lst)\n",
    "each_len = min(lst)\n",
    "\n",
    "minimum = 0\n",
    "maximum = 0\n",
    "mid = 0\n",
    "break_loop = False\n",
    "\n",
    "while True:\n",
    "    \n",
    "    line_counts = sum(map(lambda x : x // each_len, lst))\n",
    "    \n",
    "    if line_counts < n:\n",
    "        each_len = each_len // 2\n",
    "\n",
    "    # 갯수가 많아짐 : 길이를 늘여야 함\n",
    "    elif line_counts >= n: \n",
    "        \n",
    "        minimum = each_len\n",
    "        maximum = each_len * 2\n",
    "\n",
    "        while True :\n",
    "            \n",
    "            each_len = (minimum + maximum) // 2\n",
    "            line_counts = sum(map(lambda x : x // each_len, lst))\n",
    "\n",
    "            if line_counts > n:\n",
    "                minimum = each_len\n",
    "                \n",
    "            elif line_counts < n: \n",
    "                maximum = each_len\n",
    "                \n",
    "            elif line_counts == n:\n",
    "                if sum(map(lambda x : x // each_len, lst)) != sum(map(lambda x : x // (each_len + 1), lst)):\n",
    "                    break_loop = True\n",
    "                    break\n",
    "                else:\n",
    "                    minimum = each_len           \n",
    "        \n",
    "    if break_loop == True:\n",
    "        break\n",
    "\n",
    "print(each_len)\n",
    "\n",
    "# 와 시간초과뜨네\n"
   ]
  },
  {
   "cell_type": "markdown",
   "id": "96874a38-2d7a-4692-9044-ed4f148a88e4",
   "metadata": {},
   "source": [
    "### 그냥 이진탐색 문제였다고 한다. ㅅㅂ?"
   ]
  },
  {
   "cell_type": "code",
   "execution_count": 123,
   "id": "773cb951-6ac8-401a-92b0-b6e62db66569",
   "metadata": {},
   "outputs": [
    {
     "name": "stdout",
     "output_type": "stream",
     "text": [
      "200\n"
     ]
    }
   ],
   "source": [
    "import sys\n",
    "sys.stdin = open('test.txt')\n",
    "input = sys.stdin.readline\n",
    "\n",
    "k, n = map(int, input().rstrip().split())\n",
    "lst = []\n",
    "for _ in range(k):\n",
    "    lst.append(int(input()))\n",
    "    \n",
    "start = 1\n",
    "end = max(lst) # 최초 탐색 범위 : 1 ~ 최댓값\n",
    "\n",
    "# 와 ㅅㅂ 그냥 이걸로 되는거야?\n",
    "while (start <= end): # 이진탐색 종결 조건이 보통 start > end임\n",
    "    mid = (start + end) // 2 \n",
    "    cnt = 0\n",
    "    \n",
    "    # 사실상 이 문제에서 특이한 지점은 이거 뿐이고\n",
    "    for i in range(k):\n",
    "        cnt += lst[i] // mid # 내가 가진 선을 중간값으로 몫 연산\n",
    "\n",
    "    # 이진 탐색은 start = mid + 1 / end = mid - 1 요 2가지로 쭉 들어간다\n",
    "    if cnt >= n: # n보다 갯수가 같거나 크다면 mid + 1 (같은 경우는 최댓값을 찾아야 하니까)\n",
    "        start = mid + 1\n",
    "    else: # n보다 갯수가 적다면 end를 낮춤 : 즉 자르는 길이를 줄여서 cnt를 늘림\n",
    "        end = mid - 1\n",
    "print(end)"
   ]
  },
  {
   "cell_type": "code",
   "execution_count": null,
   "id": "3b8611f2-cd50-4fd5-b5a8-e7fe1e7d3b70",
   "metadata": {},
   "outputs": [],
   "source": []
  }
 ],
 "metadata": {
  "kernelspec": {
   "display_name": "Python 3",
   "language": "python",
   "name": "python3"
  },
  "language_info": {
   "codemirror_mode": {
    "name": "ipython",
    "version": 3
   },
   "file_extension": ".py",
   "mimetype": "text/x-python",
   "name": "python",
   "nbconvert_exporter": "python",
   "pygments_lexer": "ipython3",
   "version": "3.8.8"
  }
 },
 "nbformat": 4,
 "nbformat_minor": 5
}
