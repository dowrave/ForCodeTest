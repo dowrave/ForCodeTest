{
 "cells": [
  {
   "cell_type": "markdown",
   "id": "29920189-ff16-42c8-af08-ea8517eca19a",
   "metadata": {},
   "source": [
    "# 2805번 : 나무 자르기\n",
    "- 리스트의 나무가 나란히 있다고 하자\n",
    "- 절단기는 어떤 높이까지 자른다\n",
    "    - 어떤 높이보다 큰 값을 갖는 녀석들은 그 차만큼 잘릴 거고, \n",
    "    - 우리의 주인공은 그 잘린 값만큼 가져갈 수 있다\n",
    "    - m 미터 이상의 나무를 가져가기 위해 절단기에 설정할 수 있는 높이의 최댓값을 구하시오\n",
    "- n은 1 ~ 100만, m은 1 ~ 20억"
   ]
  },
  {
   "cell_type": "code",
   "execution_count": 30,
   "id": "8aba2ad5-0822-4728-bb30-45430285790a",
   "metadata": {},
   "outputs": [
    {
     "name": "stdout",
     "output_type": "stream",
     "text": [
      "1999999993\n"
     ]
    }
   ],
   "source": [
    "import sys\n",
    "sys.stdin = open('test.txt')\n",
    "input = sys.stdin.readline\n",
    "\n",
    "n, m = map(int, input().rstrip().split())\n",
    "\n",
    "# 인풋 리스트가 겁나게 클 수 있기 떄문에 일단 정렬을 해준 뒤 이진 sort를 한다고 생각하면\n",
    "# ㄴㄴ 탐색해야 하는 범위는 1부터 리스트의 최댓값임 - 이 범위를 절반씩 썰어나가면 됨\n",
    "\n",
    "lst = list(map(int, input().rstrip().split()))\n",
    "lst.sort() # 리스트 sort\n",
    "\n",
    "temp = 0\n",
    "start = 0\n",
    "end = max(lst)\n",
    "\n",
    "while start <= end: # 이 조건이랑\n",
    "    \n",
    "    mid = (start + end) // 2\n",
    "    \n",
    "    temp = sum(map(lambda x : x - mid if x - mid > 0 else 0, lst))\n",
    "\n",
    "    if temp < m: \n",
    "        end = mid - 1\n",
    "\n",
    "    else:\n",
    "        start = mid + 1 # 조건을 만족하는 상황이 나오더라도 반복문은 계속 돌아가며 start 값을 증가시키는 쪽에 넣는다\n",
    "    \n",
    "print(end) # 이진 탐색 결과로 나온 조건은 mid가 아니라 end이다!"
   ]
  },
  {
   "cell_type": "markdown",
   "id": "eb32daee-cc88-46d7-ab78-a368cda39f0d",
   "metadata": {},
   "source": [
    "# 이진탐색\n",
    "- 대충 원리는 아니까 넘어가는데 2가지를 꼭 기억해두자(계속 틀리니까!)\n",
    "1. while 반복 조건은 `start <= end`\n",
    "    - 타겟값과 같은 케이스가 나오는데, 이 같은 경우는 `start 값을 증가`시키는 쪽에 넣는다!\n",
    "2. 그 결과로 나온 값은 `end` 값임"
   ]
  },
  {
   "cell_type": "code",
   "execution_count": 36,
   "id": "e0751970-eade-47af-89cb-388fc129a69f",
   "metadata": {},
   "outputs": [
    {
     "name": "stdout",
     "output_type": "stream",
     "text": [
      "6 5 10\n",
      "6 8 7\n",
      "7 6 7\n",
      "8 7 7\n",
      "7\n"
     ]
    }
   ],
   "source": [
    "# 예를 들어 보자\n",
    "target = 7\n",
    "lst = [i for i in range(1, 11)]\n",
    "start = 1\n",
    "end = 10\n",
    "while start <= end:\n",
    "    \n",
    "    mid = (start + end) // 2\n",
    "    \n",
    "    if mid > target:\n",
    "        end = mid - 1\n",
    "    \n",
    "    elif mid <= target: # 같다는 조건은 start 값이 갱신되는 쪽에 넣어주자 - 여기서 종결되기 떄문\n",
    "        start = mid + 1\n",
    "        \n",
    "    print(start, mid, end)\n",
    "print(end)"
   ]
  },
  {
   "cell_type": "code",
   "execution_count": null,
   "id": "db83f888-fed7-487a-9304-c4795be0d489",
   "metadata": {},
   "outputs": [],
   "source": []
  }
 ],
 "metadata": {
  "kernelspec": {
   "display_name": "Python 3",
   "language": "python",
   "name": "python3"
  },
  "language_info": {
   "codemirror_mode": {
    "name": "ipython",
    "version": 3
   },
   "file_extension": ".py",
   "mimetype": "text/x-python",
   "name": "python",
   "nbconvert_exporter": "python",
   "pygments_lexer": "ipython3",
   "version": "3.8.8"
  }
 },
 "nbformat": 4,
 "nbformat_minor": 5
}
