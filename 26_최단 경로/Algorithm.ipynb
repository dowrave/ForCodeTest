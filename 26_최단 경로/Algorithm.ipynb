{
 "cells": [
  {
   "cell_type": "markdown",
   "id": "1b2a0eba-c5f7-4861-80a9-e1c4e00f9bf3",
   "metadata": {},
   "source": [
    "# 다익스트라 알고리즘\n",
    "- 방향성 & 가중치가 있을 때 한 노드에서부터 각 노드까지의 최소 거리\n",
    "1. 방문하지 않은 인접 노드 방문\n",
    "    - `heapq`를 이용하면 지금까지 발견된 가장 짧은 거리의 노드부터 계산할 수 있고, 더 긴 거리로 계산되었다면 스킵이 가능하다.\n",
    "    - 기본은 최소 힙인 걸 기억하자\n",
    "2. 파이썬의 그래프는 `dictionary`로 구현 가능하긴 함(value가 여러 개라면 그것 또한 dict로 넣어줄 수 있다)"
   ]
  },
  {
   "cell_type": "markdown",
   "id": "ee366366-ed1e-45c3-bbd9-842f03f30067",
   "metadata": {},
   "source": [
    "### 예제\n",
    "- 하다 보니 BFS랑 비슷한 느낌을 받음\n",
    "- 차이라면 `deque` 대신 `heapq`를 쓴다는 거나 `visited` 리스트를 쓰지 않는다는 것 정도?\n",
    "    - 사실 BFS가 기억 안남 ㅅㄱ"
   ]
  },
  {
   "cell_type": "code",
   "execution_count": 10,
   "id": "3b9deee3-8acb-4320-baf0-943f912b1098",
   "metadata": {},
   "outputs": [
    {
     "ename": "NameError",
     "evalue": "name 'n' is not defined",
     "output_type": "error",
     "traceback": [
      "\u001b[1;31m---------------------------------------------------------------------------\u001b[0m",
      "\u001b[1;31mNameError\u001b[0m                                 Traceback (most recent call last)",
      "\u001b[1;32m<ipython-input-10-91e811fc4236>\u001b[0m in \u001b[0;36m<module>\u001b[1;34m\u001b[0m\n\u001b[0;32m      2\u001b[0m \u001b[1;32mimport\u001b[0m \u001b[0msys\u001b[0m\u001b[1;33m\u001b[0m\u001b[1;33m\u001b[0m\u001b[0m\n\u001b[0;32m      3\u001b[0m \u001b[1;33m\u001b[0m\u001b[0m\n\u001b[1;32m----> 4\u001b[1;33m \u001b[0mgraph\u001b[0m \u001b[1;33m=\u001b[0m \u001b[1;33m[\u001b[0m\u001b[1;33m[\u001b[0m\u001b[1;33m]\u001b[0m \u001b[1;32mfor\u001b[0m \u001b[0m_\u001b[0m \u001b[1;32min\u001b[0m \u001b[0mrange\u001b[0m\u001b[1;33m(\u001b[0m\u001b[0mn\u001b[0m\u001b[1;33m+\u001b[0m\u001b[1;36m1\u001b[0m\u001b[1;33m)\u001b[0m\u001b[1;33m]\u001b[0m\u001b[1;33m\u001b[0m\u001b[1;33m\u001b[0m\u001b[0m\n\u001b[0m\u001b[0;32m      5\u001b[0m \u001b[1;33m\u001b[0m\u001b[0m\n\u001b[0;32m      6\u001b[0m \u001b[1;32mfor\u001b[0m \u001b[0m_\u001b[0m \u001b[1;32min\u001b[0m \u001b[0mrange\u001b[0m\u001b[1;33m(\u001b[0m\u001b[0mm\u001b[0m\u001b[1;33m)\u001b[0m\u001b[1;33m:\u001b[0m\u001b[1;33m\u001b[0m\u001b[1;33m\u001b[0m\u001b[0m\n",
      "\u001b[1;31mNameError\u001b[0m: name 'n' is not defined"
     ]
    }
   ],
   "source": [
    "import heapq\n",
    "import sys\n",
    "\n",
    "graph = [[] for _ in range(n+1)]\n",
    "\n",
    "for _ in range(m):\n",
    "    a, b, c = map(int, input().split())\n",
    "    graph[a].append((b,c)) # a -> b 로 가는 노드, 가중치 c\n",
    "\n",
    "distance = [int(1e9)] * (n+1)\n",
    "def dijkstra(start):\n",
    "    q = []\n",
    "    heapq.heappush(q, (0, start)) # (거리, 인덱스)\n",
    "    distance[start] = 0\n",
    "    \n",
    "    while q: # 최소 힙이니까 pop되는 아이는 항상 최소 거리임\n",
    "        \n",
    "        dist, now = heapq.heappop(q) # (거리, 인덱스)\n",
    "        \n",
    "        if distance[now] < dist: # 같다는 조건이 들어가면 시작부터 끝남\n",
    "            continue  \n",
    "            \n",
    "        # 인접 노드 확인\n",
    "        for i in graph[now]: # 이 반복문에 의해서 현재 pop된 노드까지의 인접 거리가 갱신된 다음 다음 heap이 돌아감\n",
    "            \n",
    "            cost = dist + i[1] # 현재까지의 거리 + 인접 노드까지의 거리\n",
    "            \n",
    "            if cost < distance[[i[0]]]: # i[0] : 다음 노드의 인덱스\n",
    "                distance[i[0]] = cost\n",
    "                heapq.heappush(q, (cost, i[0]))\n",
    "                "
   ]
  },
  {
   "cell_type": "code",
   "execution_count": 7,
   "id": "fd87a1f6-574c-459d-81f0-ca5891efd708",
   "metadata": {},
   "outputs": [
    {
     "name": "stdout",
     "output_type": "stream",
     "text": [
      "{'A': 0, 'B': 6, 'C': 1, 'D': 2, 'E': 5, 'F': 6}\n"
     ]
    }
   ],
   "source": []
  },
  {
   "cell_type": "code",
   "execution_count": null,
   "id": "484eef07-5c39-424e-9914-aedeb3b34d45",
   "metadata": {},
   "outputs": [],
   "source": []
  }
 ],
 "metadata": {
  "kernelspec": {
   "display_name": "Python 3",
   "language": "python",
   "name": "python3"
  },
  "language_info": {
   "codemirror_mode": {
    "name": "ipython",
    "version": 3
   },
   "file_extension": ".py",
   "mimetype": "text/x-python",
   "name": "python",
   "nbconvert_exporter": "python",
   "pygments_lexer": "ipython3",
   "version": "3.8.8"
  }
 },
 "nbformat": 4,
 "nbformat_minor": 5
}
