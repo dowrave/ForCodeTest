{
 "cells": [
  {
   "cell_type": "markdown",
   "id": "ef55d809-45fb-4ca0-9273-bf6ae0bd83ef",
   "metadata": {},
   "source": [
    "# 최단 경로 구하기\n",
    "- 가중치가 없을 때의 최단 경로 : BF\n",
    "- <b> 가중치가 있을 때의 최단 경로 : 다익스트라 알고리즘(Djikstra)</b>\n",
    "\n",
    "## 다익스트라 알고리즘\n",
    "- <b> 하나의 정점에서 다른 모든 정점으로 가는 최단 경로</b>를 알려줌\n",
    "    - 음의 Edge를 포함하지 않아야 함\n",
    "- <b> DP 문제 </b>이기도 하다. 어떤 최단 경로는 부분 최단 경로의 합이기 때문임\n",
    "\n",
    "### 작동 과정\n",
    "```\n",
    "1. 출발 노드 설정\n",
    "2. 출발 노드 기준 각 노드의 최소 비용 저장\n",
    "3. 방문하지 않은 노드 중 가장 비용이 적은 노드를 저장\n",
    "4. 해당 노드를 거쳐 특정 노드로 가는 경우를 고려하여 최소 비용을 갱신함\n",
    "5. 3, 4를 반복함\n",
    "```"
   ]
  },
  {
   "cell_type": "markdown",
   "id": "08718c7e-c2e2-40f1-ba6c-bb5ecbd46e94",
   "metadata": {},
   "source": [
    "# 1753번 : 최단 경로\n",
    "- <b>방향 그래프</b>임!"
   ]
  },
  {
   "cell_type": "code",
   "execution_count": 27,
   "id": "7fb6f02d-9414-4dfc-af73-ad409da8e85f",
   "metadata": {},
   "outputs": [
    {
     "name": "stdout",
     "output_type": "stream",
     "text": [
      "0\n",
      "2\n",
      "3\n",
      "7\n",
      "INF\n"
     ]
    }
   ],
   "source": [
    "# 데이터 초과\n",
    "\n",
    "import sys\n",
    "sys.stdin = open('test.txt', 'r')\n",
    "input = sys.stdin.readline\n",
    "V, E= map(int, input().split())\n",
    "k = int(input())\n",
    "\n",
    "# 가중치가 들어가니까 2차원 매트릭스는 필수?\n",
    "matrix = [[int(1e9)] * (V+1) for _ in range(V+1)]\n",
    "for _ in range(E):\n",
    "    u, v, w = map(int, input().rstrip().split())\n",
    "    matrix[u][v] = w   \n",
    "matrix[k][k] = 0\n",
    "\n",
    "# 최단경로 갱신 리스트 만들기\n",
    "# 어떤 노드로 옮겼을 때 갱신해야 하는 값은 그 노드로 갔을 때의 값과 그 노드에서 다른 노드로 이동한 값 중 최솟값임\n",
    "lst = matrix[k].copy()\n",
    "for i in range(1, len(lst)): # 바운더리는 잘 모르겠지만?\n",
    "    for j in range(1, len(lst)):\n",
    "        lst[j] = min(lst[j], lst[i] + matrix[i][j])\n",
    "        \n",
    "        \n",
    "for i in lst[1:]:\n",
    "    print('INF') if i == int(1e9) else print(i)\n"
   ]
  },
  {
   "cell_type": "markdown",
   "id": "64f796ce-56fd-4f26-a87b-8f010a590d7e",
   "metadata": {},
   "source": [
    "## 공간복잡도 개선\n",
    "- 정답"
   ]
  },
  {
   "cell_type": "code",
   "execution_count": 16,
   "id": "2babb77d-9b26-4536-8123-a1b979a329d5",
   "metadata": {},
   "outputs": [
    {
     "name": "stdout",
     "output_type": "stream",
     "text": [
      "0\n",
      "2\n",
      "3\n",
      "7\n",
      "INF\n"
     ]
    }
   ],
   "source": [
    "import sys\n",
    "import heapq\n",
    "sys.stdin = open('test.txt', 'r')\n",
    "input = sys.stdin.readline\n",
    "V, E= map(int, input().split())\n",
    "k = int(input())\n",
    "\n",
    "graph = [[] for _ in range(V+1)]\n",
    "\n",
    "for _ in range(E):\n",
    "    u, v, e = map(int, input().split())\n",
    "    graph[u].append((v,e))\n",
    "    \n",
    "INF = int(1e9)\n",
    "distance = [INF] * (V+1)\n",
    "\n",
    "def dijkstra(start):\n",
    "    \n",
    "    heap = []\n",
    "    heapq.heappush(heap, (0, start))\n",
    "    distance[start] = 0\n",
    "    \n",
    "    while heap:\n",
    "\n",
    "        dist, now_idx = heapq.heappop(heap)\n",
    "        if distance[now_idx] < dist:\n",
    "            continue\n",
    "        \n",
    "        for node in graph[now_idx]:\n",
    "            \n",
    "            cost = dist + node[1] # 지금 pop된 것까지의 거리 + 지금~다음 노드 까지의 거리\n",
    "            \n",
    "            if cost < distance[node[0]]:\n",
    "                distance[node[0]] = cost\n",
    "                heapq.heappush(heap, (cost, node[0]))\n",
    "                \n",
    "dijkstra(k)\n",
    "for i in distance[1:]:\n",
    "    if i == INF:\n",
    "        print('INF')\n",
    "    else:\n",
    "        print(i)"
   ]
  },
  {
   "cell_type": "code",
   "execution_count": 8,
   "id": "3b21529a-eee9-4f7a-a83e-c94a34ecb565",
   "metadata": {},
   "outputs": [
    {
     "name": "stdout",
     "output_type": "stream",
     "text": [
      "0\n",
      "2\n",
      "3\n",
      "7\n",
      "INF\n"
     ]
    }
   ],
   "source": [
    "dijkstra(k)\n",
    "for i in distance[1:]:\n",
    "    if i == INF:\n",
    "        print('INF')\n",
    "    else:\n",
    "        print(i)"
   ]
  },
  {
   "cell_type": "markdown",
   "id": "03ba42ec-d8d6-4d5e-b6c8-9c4ecf33fd60",
   "metadata": {},
   "source": [
    "## 1504 : 특정한 최단 경로\n",
    "- 1번 정점에서 N번 정점으로 이동하는 데,\n",
    "    - 임의로 정해진 두 정점은 반드시 통과해야 한다  \n",
    "      \n",
    "      \n",
    "~난 왜 문제를 갯수로 봤냐? 아타마가 오카시이인듯~\n",
    "### 힐끔\n",
    "- Dijkstra는 특정 노드 까지의 최단 거리를 구하는 알고리즘\n",
    "- 그렇다면 각 노드마다 다른 노드까지의 최단 거리를 알 수 있다는 말인데, 꼭 지나야 하는 점이 2개 있음\n",
    "    - 케이스가 2개로 나뉨 : `1 -> must1 -> must2 -> N` & `1 -> must2 -> must1 -> N`\n",
    "- 함수 내에 최소 거리 리스트(`dp`)를 넣어서 해당 인덱스 값들만 더해주는데, 그 중 작은 값을 고르면 됨"
   ]
  },
  {
   "cell_type": "code",
   "execution_count": 19,
   "id": "961a2c3f-234e-40f1-ade0-1c306aee438c",
   "metadata": {},
   "outputs": [],
   "source": [
    "import sys\n",
    "import heapq\n",
    "sys.stdin = open('test.txt', 'r')\n",
    "input = sys.stdin.readline\n",
    "N, E= map(int, input().split())\n",
    "\n",
    "graph = [[] for _ in range(N+1)]\n",
    "for _ in range(E):\n",
    "    a, b, c = map(int, input().split())\n",
    "    graph[a].append((b,c))\n",
    "    graph[b].append((a,c))\n",
    "    \n",
    "must1, must2 = map(int, input().split())\n",
    "\n",
    "# 일단 기본 다익스트라를 구현\n",
    "def dijkstra(start):\n",
    "    heap = []\n",
    "    distance = [float('inf')] * (N + 1)\n",
    "    heapq.heappush(heap, (0, start))\n",
    "    distance[start] = 0\n",
    "    \n",
    "    while heap:\n",
    "        dist, now_idx = heapq.heappop(heap)\n",
    "        \n",
    "        if dist > distance[now_idx]:\n",
    "            continue\n",
    "            \n",
    "        for node in graph[now_idx]:\n",
    "            \n",
    "            cost = dist + node[1]\n",
    "            \n",
    "            if cost < distance[node[0]]:\n",
    "                distance[node[0]] = cost\n",
    "                heapq.heappush(heap, (cost, node[0]))\n",
    "                \n",
    "    return distance\n",
    "\n",
    "from_start = dijkstra(1)\n",
    "from_must1 = dijkstra(must1)\n",
    "from_must2 = dijkstra(must2)\n",
    "\n",
    "ans = min(from_start[must1] + from_must1[must2] + from_must2[N], from_start[must2] + from_must2[must1] + from_must1[N])\n",
    "print(ans if from_start[-1] < float('inf') else -1)"
   ]
  }
 ],
 "metadata": {
  "kernelspec": {
   "display_name": "Python 3",
   "language": "python",
   "name": "python3"
  },
  "language_info": {
   "codemirror_mode": {
    "name": "ipython",
    "version": 3
   },
   "file_extension": ".py",
   "mimetype": "text/x-python",
   "name": "python",
   "nbconvert_exporter": "python",
   "pygments_lexer": "ipython3",
   "version": "3.8.8"
  }
 },
 "nbformat": 4,
 "nbformat_minor": 5
}
