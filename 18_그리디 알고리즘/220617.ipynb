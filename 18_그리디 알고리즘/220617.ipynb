{
 "cells": [
  {
   "cell_type": "markdown",
   "id": "325f9d15-ccac-47dc-bcf6-70a29a2c56e1",
   "metadata": {},
   "source": [
    "# 그리디 알고리즘이란?\n",
    "- 매 순간 가장 최적의 답을 선택하여 결과를 도출함\n",
    "    - 특정 케이스에서 동적 프로글매이보다 답을 빠르게 도출할 수 있음"
   ]
  },
  {
   "cell_type": "markdown",
   "id": "9701bcef-b9a3-47a0-94f3-f1c6395c008a",
   "metadata": {},
   "source": [
    "## 잘 작동하는 특정 조건\n",
    "1. 이번 차례의 선택이 다음 선택에 주는 영향이 없어야 함\n",
    "2. 매 순간의 최적해가 전체 문제의 최적해여야 함"
   ]
  },
  {
   "cell_type": "markdown",
   "id": "687b4a68-6928-4d5d-bab8-9c2ea31ae28d",
   "metadata": {},
   "source": [
    "- 그리디 알고리즘 내에서도 특정 케이스들이 있으나 문제를 풀면서 보도록 하자"
   ]
  },
  {
   "cell_type": "markdown",
   "id": "47c13d94-5885-4782-988a-5f8c85209562",
   "metadata": {},
   "source": [
    "## 11047번 : 동전 0\n",
    "- N 종류의 동전들을 적절히 사용해 가치의 합을 K로 만들려 할 때, 필요한 동전 갯수의 최솟값은?\n",
    "- 동전 갯수는 매우 많다고 가정"
   ]
  },
  {
   "cell_type": "code",
   "execution_count": 26,
   "id": "d48a1a8d-91f3-4731-8342-9d87a969d85a",
   "metadata": {},
   "outputs": [
    {
     "name": "stdout",
     "output_type": "stream",
     "text": [
      "12\n"
     ]
    }
   ],
   "source": [
    "import sys\n",
    "sys.stdin = open('test.txt', 'r')\n",
    "input = sys.stdin.readline\n",
    "\n",
    "N, K = map(int, input().rstrip().split())\n",
    "lst = []\n",
    "for _ in range(N):\n",
    "    lst.append(int(input().rstrip()))\n",
    "\n",
    "lst = lst[::-1]\n",
    "count = 0\n",
    "for i in range(len(lst)):\n",
    "    if lst[i] > K:\n",
    "        continue\n",
    "    if K // lst[i]:\n",
    "        count += K // lst[i]\n",
    "        K -= lst[i] * (K // lst[i])\n",
    "    \n",
    "print(count)"
   ]
  },
  {
   "cell_type": "markdown",
   "id": "d086b578-7d03-48e6-814f-4418b3d39aaf",
   "metadata": {},
   "source": [
    "## 1931 : 회의실 배정\n",
    "- 회의의 수 N, 각 회의 I에 대해 시작 시간과 끝나는 시간 O\n",
    "- 겹치지 않게 하면서 찾을 수 있는 최대 회의의 개수?"
   ]
  },
  {
   "cell_type": "code",
   "execution_count": 59,
   "id": "5a720ce7-d2c0-4517-97c8-b94ff639d6ff",
   "metadata": {},
   "outputs": [
    {
     "name": "stdout",
     "output_type": "stream",
     "text": [
      "[[1, 4], [3, 5], [0, 6], [5, 7], [3, 8], [5, 9], [6, 10], [8, 11], [8, 12], [2, 13], [12, 14]]\n",
      "4\n"
     ]
    }
   ],
   "source": [
    "import sys\n",
    "sys.stdin = open('test.txt', 'r')\n",
    "input = sys.stdin.readline\n",
    "\n",
    "n = int(input().rstrip())\n",
    "lst = []\n",
    "for _ in range(n):\n",
    "    lst.append(list(map(int, input().rstrip().split())))\n",
    "\n",
    "# lst.sort(reverse = True)\n",
    "\n",
    "# DP에서 나오는 LIS 느낌인데 따지는 순서만 뒤집으면 될 거 같은데 -> 시간 초과 뜸\n",
    "# for i in range(n):\n",
    "#     for j in range(i):\n",
    "#         if lst[i][1] <= lst[j][0]:\n",
    "#             count_lst[i] = max(count_lst[j] + 1, count_lst[i])\n",
    "#         else:\n",
    "#             continue\n",
    "\n",
    "# 도무지 감이 안와서 찾아봄 -> 시작 시간을 기준으로 하지 말고 끝나는 시간을 기준으로 해서 그리디 알고리즘을 적용하자는 거\n",
    "lst.sort(key = lambda x : x[0]) # 이거는 예제에서는 잘 안 나오는데 끝나는 시간이 동일할 경우 시작 시간을 오름차순으로 배열함\n",
    "lst.sort(key = lambda x : x[1])\n",
    "print(lst)\n",
    "\n",
    "count = 0\n",
    "last = 0\n",
    "for i in range(n):\n",
    "    if lst[i][0] >= last:\n",
    "        count += 1\n",
    "        last = lst[i][1]\n",
    "        \n",
    "print(count)"
   ]
  },
  {
   "cell_type": "markdown",
   "id": "a78b1257-8dbf-45f6-aa94-ad1faad843e5",
   "metadata": {},
   "source": [
    "## 11399번 : ATM\n",
    "- 줄을 서는 사람 수 N, 각 사람이 돈을 인출하는 시간 Pi가 주어졌을 때 필요한 최소 시간의 합을 구하시오\n",
    "- 각 사람이 돈을 인출하는 시간은 순서에 따라 달라짐\n",
    "- 그 각 사람의 시간의 합을 구해야 함"
   ]
  },
  {
   "cell_type": "markdown",
   "id": "84d4be15-c800-4cf9-9295-724b310044a6",
   "metadata": {},
   "source": [
    "- 문제에서도 주는 정보임 : 오름차순 정렬해서 누적값 리스트 구하면 최소임"
   ]
  },
  {
   "cell_type": "code",
   "execution_count": 60,
   "id": "13378c0a-4966-4bfc-853a-2d529c9b80b3",
   "metadata": {},
   "outputs": [],
   "source": [
    "import sys\n",
    "sys.stdin = open('test.txt', 'r')\n",
    "input = sys.stdin.readline\n",
    "\n",
    "n = int(input())\n",
    "lst = list(map(int, input().rstrip().split()))"
   ]
  },
  {
   "cell_type": "code",
   "execution_count": 61,
   "id": "432a1e86-08f3-4865-88cd-2051acdca382",
   "metadata": {},
   "outputs": [
    {
     "name": "stdout",
     "output_type": "stream",
     "text": [
      "[3, 1, 4, 3, 2]\n"
     ]
    }
   ],
   "source": [
    "print(lst)"
   ]
  },
  {
   "cell_type": "code",
   "execution_count": 65,
   "id": "89fc163f-13d1-4f18-bb63-72ddbb00926b",
   "metadata": {},
   "outputs": [
    {
     "name": "stdout",
     "output_type": "stream",
     "text": [
      "32\n"
     ]
    }
   ],
   "source": [
    "lst.sort()\n",
    "\n",
    "sum_lst = [0] * n\n",
    "for i in range(n):\n",
    "    if i == 0:\n",
    "        sum_lst[0] = lst[0]\n",
    "    else:\n",
    "        sum_lst[i] = sum_lst[i-1] + lst[i]\n",
    "\n",
    "print(sum(sum_lst))"
   ]
  },
  {
   "cell_type": "markdown",
   "id": "87f748b1-0aff-4af9-b150-ead67d83c207",
   "metadata": {},
   "source": [
    "## 1541번 : 잃어버린 괄호\n",
    "- 괄호만 적절히 쳐서 식의 값을 최소로 만드는 프로그램을 작성하시오\n",
    "    - 난 뭐 숫자 사이에도 넣을 수 있는건가 했는데 그런 문제는 아니고 그냥 주어진 숫자와 기호를 (수학적인 상식을 바탕으로) 괄호를 적절히 치라는 얘기\n",
    "- <b>(-) 뒤에 있는 애들을 다 묶어버리면 최솟값</b>이 나온다\n",
    "    - 그걸 구현을 어떻게 할지는 니가 생각해야겠죠?\n",
    "    \n",
    "- -가 여러개 나와도 split에 의해 분리가 된 값일 거고, 각각의 값은 그냥 int에서 빼주면 됨"
   ]
  },
  {
   "cell_type": "code",
   "execution_count": 110,
   "id": "accf5755-a021-48f2-b260-fa0511a1a55f",
   "metadata": {},
   "outputs": [
    {
     "name": "stdout",
     "output_type": "stream",
     "text": [
      "-35\n"
     ]
    }
   ],
   "source": [
    "import sys\n",
    "sys.stdin = open('test.txt', 'r')\n",
    "input = sys.stdin.readline\n",
    "string = input().rstrip().split('-')\n",
    "\n",
    "# 1. -에 대한 split을 했음\n",
    "for i in range(len(string)):\n",
    "    if '+' in string[i]:\n",
    "        string[i] = sum(list(map(int, string[i].split('+'))))\n",
    "        if i > 0:\n",
    "            string[i] = -string[i]\n",
    "    else:\n",
    "        string[i] = int(string[i])\n",
    "        if i > 0:\n",
    "            string[i] = -string[i]\n",
    "    \n",
    "print(sum(string))\n",
    "    \n"
   ]
  },
  {
   "cell_type": "code",
   "execution_count": 104,
   "id": "41db5cf3-99ba-4ea3-9309-4b3dce6d9db6",
   "metadata": {},
   "outputs": [
    {
     "data": {
      "text/plain": [
       "['', '90']"
      ]
     },
     "execution_count": 104,
     "metadata": {},
     "output_type": "execute_result"
    }
   ],
   "source": [
    "a = '-90'\n",
    "b = a.split('-') # -가 맨 앞에 나와도 split은 그 앞 공간을 분리해줌\n",
    "b"
   ]
  },
  {
   "cell_type": "markdown",
   "id": "7d795378-3b0d-4e85-b9bd-84753968a973",
   "metadata": {},
   "source": [
    "## 13305번 : 주유소\n",
    "- 원 안의 숫자 : 기름의 리터 당 가격\n",
    "- 도로 위의 숫자 : 도로의 길이\n",
    "- 기름 가격과 길이를 입력으로 받을 때, 가장 왼쪽에서 오른쪽으로 이동하는 최소의 비용을 계산하는 프로그램을 작성하시오\n",
    "- 이 문제는 나중에 다시 봅시다~"
   ]
  },
  {
   "cell_type": "code",
   "execution_count": 133,
   "id": "30d4fd85-670a-498a-be9f-85cbce4eba00",
   "metadata": {},
   "outputs": [
    {
     "name": "stdout",
     "output_type": "stream",
     "text": [
      "2\n",
      "거리 :  [10000]\n",
      "가격 :  [10000, 9999]\n"
     ]
    }
   ],
   "source": [
    "import sys\n",
    "sys.stdin = open('test.txt', 'r')\n",
    "input = sys.stdin.readline\n",
    "n = int(input())\n",
    "distance = list(map(int, input().rstrip().split()))\n",
    "price = list(map(int, input().split()))# 가장 마지막 도시의 정보는 의미가 없다\n",
    "             \n",
    "print(n)\n",
    "print(\"거리 : \", distance)\n",
    "print(\"가격 : \", price)\n",
    "# 인덱스 i -> i+1 까지 가기까지의 거리가 i임"
   ]
  },
  {
   "cell_type": "code",
   "execution_count": 134,
   "id": "8e195595-7580-43e3-a4a0-55f41f51b485",
   "metadata": {},
   "outputs": [
    {
     "name": "stdout",
     "output_type": "stream",
     "text": [
      "100000000\n"
     ]
    }
   ],
   "source": [
    "# 정리 : 이번 도시에서 다음 도시들을 살펴봄\n",
    "# 기름값이 이번 도시보다 높다면, 패스\n",
    "# 이번 도시보다 낮은 도시까지의 거리만큼 기름을 채워야 함\n",
    "\n",
    "cost = 0\n",
    "finished = False\n",
    "# i라는 도시에서 충전할 기름의 비용을 구함\n",
    "for i in range(n-1):\n",
    "    for j in range(i+1, n):\n",
    "        \n",
    "        if price[i] > price[j]:\n",
    "            cost += distance[j-1] * price[i]\n",
    "            if j == n-1:\n",
    "                finished = True\n",
    "            break\n",
    "        \n",
    "        else:\n",
    "            cost += distance[j-1] * price[i]\n",
    "            if j == n-1:\n",
    "                finished = True\n",
    "                break\n",
    "    if finished == True:\n",
    "        break\n",
    "\n",
    "print(cost)\n",
    "# 17점 나옴"
   ]
  },
  {
   "cell_type": "markdown",
   "id": "24f250fc-38b7-46c1-af81-e30e88f9112d",
   "metadata": {},
   "source": [
    "- 더 간단하게 구현"
   ]
  },
  {
   "cell_type": "code",
   "execution_count": 140,
   "id": "832e95b6-c421-4e9d-b181-7745155ad8b5",
   "metadata": {},
   "outputs": [
    {
     "name": "stdout",
     "output_type": "stream",
     "text": [
      "18\n"
     ]
    }
   ],
   "source": [
    "import sys\n",
    "sys.stdin = open('test.txt', 'r')\n",
    "input = sys.stdin.readline\n",
    "n = int(input())\n",
    "distance = list(map(int, input().rstrip().split()))\n",
    "price = list(map(int, input().split()))# 가장 마지막 도시의 정보는 의미가 없다\n",
    "\n",
    "# distance[i] : i -> i+1 번째 도시로 가는 거리\n",
    "# price[i] : i번째 도시의 기름값\n",
    "\n",
    "cost = distance[0] * price[0]\n",
    "now_price = price[0]\n",
    "dist = 0\n",
    "\n",
    "# 둘 다 100점 뜸. 이 방식을 참고합시다~\n",
    "\n",
    "# 이중 for를 돌지 않고 now_price를 갱신하는 방식을 쓸 수 있음!\n",
    "# 기름값이 지금 도시에서 넣을 값보다 비싸면\n",
    "# 이동할 거리만 추가해줌(i번째 도시에서 출발해서 갈 거리)\n",
    "# 지금 도시에서 넣을 값보다 기름이 작다면\n",
    "# cost 계산부터 하고\n",
    "# dist 갱신은 다시 지금 도시에서 이동할 거리\n",
    "for i in range(1, n-1):\n",
    "    if price[i] < now_price:\n",
    "        cost += now_price * dist\n",
    "        dist = distance[i]\n",
    "        now_price = price[i]\n",
    "    else:\n",
    "        dist += distance[i]\n",
    "    \n",
    "    if i == n-2:\n",
    "        # 마지막은 의미가 없으니~\n",
    "        cost += now_price * dist\n",
    "\n",
    "# 더더 간단한 방식\n",
    "# 거리\n",
    "cost = 0\n",
    "now_price = price[0]\n",
    "# 결국 이 문제는 어떤 거리를 갈 때 곱해주는 값만 줄여나가는 방식임\n",
    "# 따라서 now_price만 갱신하고 곱하는 값은 일정하게 됨\n",
    "for i in range(n-1):\n",
    "    if price[i] < now_price:\n",
    "        now_price = price[i]\n",
    "    cost += now_price * distance[i] \n",
    "\n",
    "print(cost)\n"
   ]
  },
  {
   "cell_type": "code",
   "execution_count": null,
   "id": "5ea6cb1f-ec42-4175-a66c-722f5402f94d",
   "metadata": {},
   "outputs": [],
   "source": []
  }
 ],
 "metadata": {
  "kernelspec": {
   "display_name": "Python 3",
   "language": "python",
   "name": "python3"
  },
  "language_info": {
   "codemirror_mode": {
    "name": "ipython",
    "version": 3
   },
   "file_extension": ".py",
   "mimetype": "text/x-python",
   "name": "python",
   "nbconvert_exporter": "python",
   "pygments_lexer": "ipython3",
   "version": "3.8.8"
  }
 },
 "nbformat": 4,
 "nbformat_minor": 5
}
