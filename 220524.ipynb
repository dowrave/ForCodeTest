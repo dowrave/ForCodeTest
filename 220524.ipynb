{
 "cells": [
  {
   "cell_type": "markdown",
   "id": "66a26695-f727-481e-bc6b-9254cc9b8713",
   "metadata": {},
   "source": [
    "## 백준 10809번 : 알파벳 찾기"
   ]
  },
  {
   "cell_type": "code",
   "execution_count": 1,
   "id": "16e2a08d-bbf2-4a42-8e6f-6fcc2c85cce7",
   "metadata": {},
   "outputs": [],
   "source": [
    "import sys\n",
    "sys.stdin = open(\"test.txt\", 'r')"
   ]
  },
  {
   "cell_type": "code",
   "execution_count": 2,
   "id": "6a00c08c-05c3-46ed-84fb-5c738610f1b0",
   "metadata": {},
   "outputs": [
    {
     "name": "stdout",
     "output_type": "stream",
     "text": [
      "leehyeontae\n"
     ]
    }
   ],
   "source": [
    "txt =sys.stdin.readline()\n",
    "print(txt)"
   ]
  },
  {
   "cell_type": "code",
   "execution_count": 6,
   "id": "734213b4-7dff-4f77-8d50-e7e8f4c34d1d",
   "metadata": {},
   "outputs": [
    {
     "name": "stdout",
     "output_type": "stream",
     "text": [
      "{'a': -1, 'b': -1, 'c': -1, 'd': -1, 'e': -1, 'f': -1, 'g': -1, 'h': -1, 'i': -1, 'j': -1, 'k': -1, 'l': -1, 'm': -1, 'n': -1, 'o': -1, 'p': -1, 'q': -1, 'r': -1, 's': -1, 't': -1, 'u': -1, 'v': -1, 'w': -1, 'x': -1, 'y': -1, 'z': -1}\n"
     ]
    }
   ],
   "source": [
    "# a : 97 ~ z : 122\n",
    "dic = {}\n",
    "for i in range(97, 123):\n",
    "    dic[chr(i)] = -1\n",
    "print(dic)\n",
    "\n",
    "idx_dict = {}\n",
    "for idx, val in enumerate(txt):\n",
    "    if val not in idx_dict.keys():\n",
    "        idx_dict[val] = idx\n",
    "print(idx_dict)\n",
    "\n",
    "for i in dic:\n",
    "    if i in idx_dict:\n",
    "        dic[i] = idx_dict[i]\n",
    "\n",
    "# 출력값 만지기\n",
    "for i in dic.values():\n",
    "    print(i , end =\" \")"
   ]
  },
  {
   "cell_type": "markdown",
   "id": "d6efac41-067c-4e6e-b074-d87fd8006477",
   "metadata": {},
   "source": [
    "## 백준 2675번 : 문자열 반복"
   ]
  },
  {
   "cell_type": "code",
   "execution_count": 43,
   "id": "0dc52aba-d548-4b14-bfd0-4c94e53293c7",
   "metadata": {},
   "outputs": [
    {
     "name": "stdout",
     "output_type": "stream",
     "text": [
      "AAABBBCCC\n",
      "/////HHHHHTTTTTPPPPP\n"
     ]
    }
   ],
   "source": [
    "sys.stdin = open('test.txt', 'r')\n",
    "inputs = sys.stdin.readlines()\n",
    "\n",
    "T = int(inputs[0])\n",
    "\n",
    "for txts in inputs[1:T + 1]:\n",
    "    lst = txts.rstrip(\"\\n\").split(\" \")\n",
    "    R = int(lst[0])\n",
    "    text = lst[1]\n",
    "    for i in lst[1]:\n",
    "        print(i*R, end=\"\")\n",
    "    print()"
   ]
  },
  {
   "cell_type": "markdown",
   "id": "4e7108c6-5d12-46cc-9a58-a32e242bc738",
   "metadata": {},
   "source": [
    "### 백준 1157번"
   ]
  },
  {
   "cell_type": "code",
   "execution_count": 112,
   "id": "3c7d1a55-0694-4b23-ba85-22ac1215c122",
   "metadata": {},
   "outputs": [
    {
     "name": "stdout",
     "output_type": "stream",
     "text": [
      "abcabcabc`````````````sdcasdp';/njmb,hj\n",
      "{'a': 4, 'b': 4, 'c': 4, 's': 2, 'd': 2, 'p': 1, 'n': 1, 'j': 2, 'm': 1, 'h': 1}\n"
     ]
    }
   ],
   "source": [
    "sys.stdin = open('test.txt', 'r')\n",
    "txt = sys.stdin.readline().lower()\n",
    "print(txt)\n",
    "dic = {}\n",
    "for i in txt:\n",
    "    if ord(i) >= ord('a') and ord(i) <= ord('z'): # 아니 야발 이거라고?\n",
    "        # input이 알파벳 대소문자라고 줘놓고 예외를 던져버렸네 야발\n",
    "        # 이럴 거면 100만자 이상도 막 집어넣을 수 있다고 하지 왜?\n",
    "        if i not in dic.keys():\n",
    "            dic[i] = 1\n",
    "        elif i in dic.keys():\n",
    "            dic[i] += 1\n",
    "print(dic)"
   ]
  },
  {
   "cell_type": "code",
   "execution_count": 113,
   "id": "41a677d0-e96a-4ddd-9803-63cc6fb0d1ef",
   "metadata": {},
   "outputs": [
    {
     "name": "stdout",
     "output_type": "stream",
     "text": [
      "['a', 'b', 'c']\n",
      "?\n"
     ]
    }
   ],
   "source": [
    "# 최댓값을 갖는 key 찾기\n",
    "max_keys = []\n",
    "for i in dic:\n",
    "    if dic[i] == max(dic.values()):\n",
    "        max_keys.append(i)\n",
    "\n",
    "print(max_keys)\n",
    "\n",
    "if len(max_keys) == 1:\n",
    "    print(max_keys[0].upper())\n",
    "elif len(max_keys) >= 2:\n",
    "    print(\"?\")"
   ]
  },
  {
   "cell_type": "markdown",
   "id": "d625fda0-91ac-4d19-9926-fbecec3f2a1d",
   "metadata": {},
   "source": [
    "### 백준 1152번\n",
    "- 목표가 \"단어의 수\"이기 때문에 간단하게 진행하기 위해 텍스트를 모두 소문자로 바꾸고 진행함\n",
    "- 들어온 문장에 대소문자 & 공백 이외의 단어가 들어오면 처리되지 않게 해야 함\n",
    "    - 근데 단어 중간에 특수문자가 섞이면 어떻게 처리해야 하냐는 문제는 있지 않나?\n",
    "    - 암튼 풀었음;"
   ]
  },
  {
   "cell_type": "code",
   "execution_count": 217,
   "id": "2e9c13df-d2c9-495a-8403-c130f5875440",
   "metadata": {},
   "outputs": [
    {
     "data": {
      "text/plain": [
       "6"
      ]
     },
     "execution_count": 217,
     "metadata": {},
     "output_type": "execute_result"
    }
   ],
   "source": [
    "sys.stdin = open('test.txt', 'r')\n",
    "\n",
    "txt = sys.stdin.readline()\n",
    "\n",
    "txt_low = txt.lower()\n",
    "\n",
    "filtered_lst = []\n",
    "\n",
    "for i in txt_low:\n",
    "    if ord(i) >= ord('a') and ord(i) <= ord('z'):\n",
    "        filtered_lst.append(i)\n",
    "    elif ord(i) == ord(' '):\n",
    "        filtered_lst.append(i)\n",
    "    else:\n",
    "        continue\n",
    "\n",
    "filtered_txt = \"\".join(filtered_lst)\n",
    "\n",
    "final_lst = filtered_txt.split(\" \")\n",
    "\n",
    "while \"\" in final_lst:\n",
    "    final_lst.remove('')\n",
    "print(final_lst)\n",
    "len(final_lst)"
   ]
  },
  {
   "cell_type": "markdown",
   "id": "9c7a1337-dec9-4009-b061-413543fda92e",
   "metadata": {
    "tags": []
   },
   "source": [
    "- split 함수 테스트 : 그냥 잘 나옴"
   ]
  },
  {
   "cell_type": "code",
   "execution_count": 168,
   "id": "1eed3108-1c8c-4699-82e5-c14563a8de6c",
   "metadata": {},
   "outputs": [
    {
     "name": "stdout",
     "output_type": "stream",
     "text": [
      "['', 'abc'] ['abc', ''] ['', 'abc', '']\n"
     ]
    }
   ],
   "source": [
    "str1 = \" abc\"\n",
    "str2 = \"abc \"\n",
    "str3 = \" abc \"\n",
    "\n",
    "lst1 = str1.split(\" \")\n",
    "lst2 = str2.split(\" \")\n",
    "lst3 = str3.split(\" \")\n",
    "\n",
    "print(lst1, lst2, lst3)"
   ]
  },
  {
   "cell_type": "markdown",
   "id": "c290f9d1-8e3e-4b55-8c09-dea343b1d987",
   "metadata": {},
   "source": [
    "`print(lst.remove(''))`는 `제거된 요소`를 보여주는 거임 : '' 자체가 None을 의미함"
   ]
  },
  {
   "cell_type": "markdown",
   "id": "0fbb20dc-4062-4738-8e4f-d7eb877120d4",
   "metadata": {},
   "source": [
    "### 2908번 : 상수\n",
    "- string은 덧셈이 되네요! 이건 쓸데가 많을 듯"
   ]
  },
  {
   "cell_type": "code",
   "execution_count": 231,
   "id": "e7819623-f4cd-4576-9b7d-f871516232b7",
   "metadata": {},
   "outputs": [
    {
     "data": {
      "text/plain": [
       "'321'"
      ]
     },
     "execution_count": 231,
     "metadata": {},
     "output_type": "execute_result"
    }
   ],
   "source": [
    "a = '123'\n",
    "a[2] + a[1] + a[0]"
   ]
  },
  {
   "cell_type": "markdown",
   "id": "8fd53ac4-36cd-480f-b88c-fb3a89aacd31",
   "metadata": {},
   "source": [
    "### 5622번 : 다이얼\n",
    "- 문제 정리가 필요함\n",
    "- 문자, 숫자, 시간 3개가 관련됨\n",
    "- dict 2개 쓰면 될 듯?"
   ]
  },
  {
   "cell_type": "code",
   "execution_count": 294,
   "id": "b80a6d43-c123-4eb1-8a1f-ac516890228e",
   "metadata": {},
   "outputs": [],
   "source": [
    "# 걸리는 시간 : 숫자 + 1초\n",
    "char2num = {} # 문자 -> 숫자\n",
    "num2time = {} # 숫자 -> 시간\n",
    "\n",
    "# dict 구성\n",
    "for i in range(2, 10):\n",
    "    num2time[i] = i+1\n",
    "\n",
    "# 더 좋은 방법 없을까\n",
    "for i in range(65, 68):\n",
    "    char2num[chr(i)] = 2\n",
    "for i in range(68, 71):\n",
    "    char2num[chr(i)] = 3\n",
    "for i in range(71, 74):\n",
    "    char2num[chr(i)] = 4\n",
    "for i in range(74, 77):\n",
    "    char2num[chr(i)] = 5\n",
    "for i in range(77, 80):\n",
    "    char2num[chr(i)] = 6\n",
    "for i in range(80, 84):\n",
    "    char2num[chr(i)] = 7\n",
    "for i in range(84, 87):\n",
    "    char2num[chr(i)] = 8\n",
    "for i in range(87, 91):\n",
    "    char2num[chr(i)] = 9"
   ]
  },
  {
   "cell_type": "code",
   "execution_count": 295,
   "id": "7ed890cb-90e8-44d2-a3a1-967de769f9be",
   "metadata": {},
   "outputs": [
    {
     "name": "stdout",
     "output_type": "stream",
     "text": [
      "ZZZZZZZZZZZZZZ\n",
      "ZZZZZZZZZZZZZZ 14\n",
      "140\n"
     ]
    }
   ],
   "source": [
    "sys.stdin = open('test.txt', 'r')\n",
    "\n",
    "inp = sys.stdin.readline()\n",
    "time = 0\n",
    "filtered_inp = \"\"\n",
    "\n",
    "# 입력 조건 : 알파벳 대문자 + 길이\n",
    "for i in inp:\n",
    "    if ord(i) >= ord(\"A\") and ord(i) <= ord(\"Z\"):\n",
    "        filtered_inp += i\n",
    "print(filtered_inp)\n",
    "print(filtered_inp, len(filtered_inp))\n",
    "\n",
    "if len(filtered_inp) >= 2 and len(filtered_inp) <= 15:\n",
    "    for i in filtered_inp:\n",
    "        time += num2time[char2num[i]]\n",
    "\n",
    "    print(time)"
   ]
  },
  {
   "cell_type": "markdown",
   "id": "f0ce1490-52c3-4d6b-8569-b13e7bae13cd",
   "metadata": {},
   "source": [
    "#### 개인적으로 코테에 갖는 불만\n",
    "- 분명히 할머니가 외운 단어를 상정하고 문제를 내놓고는 특수문자도 생각하라고 하는 지점\n",
    "    - 길이 조건은 주어졌으니까 넣는다고 쳐도, 특수문자는 솔직히 이해 안됨\n",
    "- (이해하자면..) 입력 : `알파벳 대문자` + `단어의 길이` 2개가 모두 조건인거임\n",
    "    - `알파벳 대문자` : 그 안의 것들만 써라~\n",
    "    - `단어의 길이` : 마찬가지~\n",
    "- 근데 사실 이 지점에서 드는 생각은 그거임\n",
    "    - 입력 텍스트에 알파벳 대문자만 들어오지 않았다면, 그 문자만 제외하고 코드를 실행시키는 게 맞는 건지 아니면 그 입력에 대해선 올스탑인건지"
   ]
  },
  {
   "cell_type": "markdown",
   "id": "654e65f7-3541-4c2e-94fb-1a38c96ba6cd",
   "metadata": {},
   "source": [
    "### 2941 : 크로아티아 알파벳"
   ]
  },
  {
   "cell_type": "code",
   "execution_count": 377,
   "id": "04aea598-cca1-4911-ac1e-ef6e233debc9",
   "metadata": {},
   "outputs": [
    {
     "ename": "TypeError",
     "evalue": "'bool' object is not iterable",
     "output_type": "error",
     "traceback": [
      "\u001b[1;31m---------------------------------------------------------------------------\u001b[0m",
      "\u001b[1;31mTypeError\u001b[0m                                 Traceback (most recent call last)",
      "\u001b[1;32m<ipython-input-377-ee2957a25e09>\u001b[0m in \u001b[0;36m<module>\u001b[1;34m\u001b[0m\n\u001b[0;32m      5\u001b[0m \u001b[1;33m\u001b[0m\u001b[0m\n\u001b[0;32m      6\u001b[0m \u001b[1;32mfor\u001b[0m \u001b[0mi\u001b[0m \u001b[1;32min\u001b[0m \u001b[0mlst\u001b[0m\u001b[1;33m:\u001b[0m\u001b[1;33m\u001b[0m\u001b[1;33m\u001b[0m\u001b[0m\n\u001b[1;32m----> 7\u001b[1;33m     \u001b[1;32mif\u001b[0m \u001b[0many\u001b[0m\u001b[1;33m(\u001b[0m\u001b[0mi\u001b[0m \u001b[1;32min\u001b[0m \u001b[0mtxt\u001b[0m\u001b[1;33m)\u001b[0m\u001b[1;33m:\u001b[0m\u001b[1;33m\u001b[0m\u001b[1;33m\u001b[0m\u001b[0m\n\u001b[0m\u001b[0;32m      8\u001b[0m         \u001b[0mcount\u001b[0m \u001b[1;33m+=\u001b[0m \u001b[1;36m1\u001b[0m\u001b[1;33m\u001b[0m\u001b[1;33m\u001b[0m\u001b[0m\n\u001b[0;32m      9\u001b[0m \u001b[1;33m\u001b[0m\u001b[0m\n",
      "\u001b[1;31mTypeError\u001b[0m: 'bool' object is not iterable"
     ]
    }
   ],
   "source": [
    "txt = 'c=c='\n",
    "\n",
    "lst = ['c=', 'c-', 'd-', 'lj', 'nj', 's=', 'z=', 'dz=']\n",
    "count = 0\n",
    "\n",
    "for i in lst:\n",
    "    if i in txt:\n",
    "        count += 1\n",
    "        \n",
    "    \n",
    "print(f\"len(txt) : {len(txt)}\")\n",
    "print(f\"count : {count}\") \n",
    "print(len(txt) - count)"
   ]
  },
  {
   "cell_type": "code",
   "execution_count": null,
   "id": "4cbe7c76-15b3-4b68-8736-98463adde93c",
   "metadata": {},
   "outputs": [],
   "source": [
    "ddz=z=\n",
    "# d dz= z= 3개\n",
    "# d dz= z= z= 4개"
   ]
  },
  {
   "cell_type": "markdown",
   "id": "786c88fb-8b0f-4a15-8726-7a961a73edc4",
   "metadata": {},
   "source": [
    "#### 테스트\n",
    "- `for` 문 내에서 `if` 절을 넣음 -> 이를 만족하면 `for`문이 멈춤"
   ]
  },
  {
   "cell_type": "code",
   "execution_count": 368,
   "id": "19f0765a-6ee8-4b26-a616-0e1a8e763a22",
   "metadata": {},
   "outputs": [
    {
     "name": "stdout",
     "output_type": "stream",
     "text": [
      "1\n",
      "2\n",
      "3\n"
     ]
    }
   ],
   "source": [
    "a = ['1', '2', '3']\n",
    "b = '1123'\n",
    "for i in a:\n",
    "    if i in b:\n",
    "        print(i)\n",
    "    elif i in b:\n",
    "        print(i)"
   ]
  },
  {
   "cell_type": "markdown",
   "id": "c110d25c-745f-4a8d-a390-0a376d5dc329",
   "metadata": {},
   "source": [
    "#### 해답(?)\n",
    "- 반복문을 `사전`이 아니라 `string`에 대해 돌리면 됨\n",
    "- 근데 이건 내가 쓰려는 방법엔 적합하지 않음 : 한글자씩 돌리면 사전이랑 일치하는 게 당연히 없지"
   ]
  },
  {
   "cell_type": "code",
   "execution_count": 320,
   "id": "05060167-c544-4ce6-b8b0-4cdd6d9562e3",
   "metadata": {},
   "outputs": [
    {
     "name": "stdout",
     "output_type": "stream",
     "text": [
      "1\n",
      "1\n",
      "2\n",
      "3\n"
     ]
    }
   ],
   "source": [
    "# b의 각 인덱스에 대해서 반복문을 넣어봄\n",
    "for i in b:\n",
    "    if i in a:\n",
    "        print(i)"
   ]
  },
  {
   "cell_type": "markdown",
   "id": "6f7f2de3-9fc7-4085-9631-069cefa70d58",
   "metadata": {},
   "source": [
    "#### 해답(진?)"
   ]
  },
  {
   "cell_type": "code",
   "execution_count": 382,
   "id": "109bbc2a-5d5a-4846-84ec-92ffe843235a",
   "metadata": {},
   "outputs": [
    {
     "ename": "NameError",
     "evalue": "name 'nay' is not defined",
     "output_type": "error",
     "traceback": [
      "\u001b[1;31m---------------------------------------------------------------------------\u001b[0m",
      "\u001b[1;31mNameError\u001b[0m                                 Traceback (most recent call last)",
      "\u001b[1;32m<ipython-input-382-492d929f7e31>\u001b[0m in \u001b[0;36m<module>\u001b[1;34m\u001b[0m\n\u001b[0;32m      2\u001b[0m \u001b[0mb\u001b[0m \u001b[1;33m=\u001b[0m \u001b[1;34m'1123'\u001b[0m\u001b[1;33m\u001b[0m\u001b[1;33m\u001b[0m\u001b[0m\n\u001b[0;32m      3\u001b[0m \u001b[1;32mfor\u001b[0m \u001b[0mj\u001b[0m \u001b[1;32min\u001b[0m \u001b[0ma\u001b[0m\u001b[1;33m:\u001b[0m\u001b[1;33m\u001b[0m\u001b[1;33m\u001b[0m\u001b[0m\n\u001b[1;32m----> 4\u001b[1;33m     \u001b[1;32mif\u001b[0m \u001b[0mnay\u001b[0m\u001b[1;33m(\u001b[0m\u001b[0mj\u001b[0m \u001b[1;32min\u001b[0m \u001b[0mb\u001b[0m \u001b[1;32mfor\u001b[0m \u001b[0mj\u001b[0m \u001b[1;32min\u001b[0m \u001b[0ma\u001b[0m\u001b[1;33m)\u001b[0m\u001b[1;33m:\u001b[0m\u001b[1;33m\u001b[0m\u001b[1;33m\u001b[0m\u001b[0m\n\u001b[0m\u001b[0;32m      5\u001b[0m         \u001b[0mprint\u001b[0m\u001b[1;33m(\u001b[0m\u001b[0mj\u001b[0m\u001b[1;33m)\u001b[0m\u001b[1;33m\u001b[0m\u001b[1;33m\u001b[0m\u001b[0m\n",
      "\u001b[1;31mNameError\u001b[0m: name 'nay' is not defined"
     ]
    }
   ],
   "source": [
    "a = ['1', '2', '3']\n",
    "b = '1123'\n",
    "for j in a:\n",
    "    if nay(j in b for j in a):\n",
    "        print(j)"
   ]
  },
  {
   "cell_type": "code",
   "execution_count": 356,
   "id": "ba3d7021-67f7-489a-9a2d-ff58b46ce684",
   "metadata": {},
   "outputs": [
    {
     "name": "stdout",
     "output_type": "stream",
     "text": [
      "1\n"
     ]
    }
   ],
   "source": [
    "if all(i in b for i in a):\n",
    "    print(i)"
   ]
  },
  {
   "cell_type": "code",
   "execution_count": null,
   "id": "75161b93-0946-490c-8db5-6d56ea82b64d",
   "metadata": {},
   "outputs": [],
   "source": []
  }
 ],
 "metadata": {
  "kernelspec": {
   "display_name": "Python 3",
   "language": "python",
   "name": "python3"
  },
  "language_info": {
   "codemirror_mode": {
    "name": "ipython",
    "version": 3
   },
   "file_extension": ".py",
   "mimetype": "text/x-python",
   "name": "python",
   "nbconvert_exporter": "python",
   "pygments_lexer": "ipython3",
   "version": "3.8.8"
  }
 },
 "nbformat": 4,
 "nbformat_minor": 5
}
