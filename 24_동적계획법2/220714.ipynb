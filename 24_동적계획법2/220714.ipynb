{
 "cells": [
  {
   "cell_type": "markdown",
   "id": "995c90ef-b37d-4403-8399-6fc6854c0bcd",
   "metadata": {},
   "source": [
    "# 11066번 : 파일 합치기 - ㅈㄴ 어려운데요\n",
    "- cases를 전부 합치는데 한 번에 2개 -> 1개로 합치는 연산만 가능함\n",
    "- 순서에 따라 값을 줄일 수 있는데, 이때 최솟값을 구하시오\n",
    "\n",
    "### 결국 자료구조 정의랑 점화식 어떻게 정하느냐 싸움인데 ㅈㄴ 어렵다\n",
    "- 기억으로 적고 마무리합시다"
   ]
  },
  {
   "cell_type": "code",
   "execution_count": 77,
   "id": "ad010802-bbda-4f8b-b625-70794d96c7e7",
   "metadata": {},
   "outputs": [
    {
     "name": "stdout",
     "output_type": "stream",
     "text": [
      "300\n",
      "864\n"
     ]
    }
   ],
   "source": [
    "import sys\n",
    "sys.stdin = open('test.txt', 'r')\n",
    "input = sys.stdin.readline\n",
    "t = int(input())\n",
    "\n",
    "for _ in range(t):\n",
    "    k = int(input())\n",
    "    dp = [[0] * (k+1) for _ in range(k+1)]\n",
    "\n",
    "    cases = [0] + list(map(int, input().rstrip().split()))\n",
    "\n",
    "    acc_sum = [0] * (k+1)\n",
    "    \n",
    "    # 누적합 리스트\n",
    "    for i in range(1, k+1):\n",
    "        acc_sum[i] = acc_sum[i-1] + cases[i]\n",
    "\n",
    "    # dp 채우기 : i는 부분 수열의 길이, j는 시작점이며 i = 2부터 시작한다\n",
    "    # 길이 i의 부분 수열의 최소 비용은 i-1을 구성하는 부분합 중 최솟값을 선택해준다.\n",
    "    for i in range(2, k+1): # 길이 종결 범위 : 수열의 최대 길이는 k가 들어가야 함\n",
    "        for j in range(1, k-i+2): # 시작점 종결 범위 : j부터 길이 i를 갖는다면  \n",
    "            dp[j][j+i-1] = min([dp[j][j+n] + dp[j+n+1][j+i-1] for n in range(i-1)]) + (acc_sum[j+i-1] - acc_sum[j-1])\n",
    "            \n",
    "    print(dp[1][k])"
   ]
  },
  {
   "cell_type": "code",
   "execution_count": 78,
   "id": "bf3dadac-8958-4af2-b332-f28e7823d8e7",
   "metadata": {},
   "outputs": [
    {
     "name": "stdout",
     "output_type": "stream",
     "text": [
      "[0, 0, 0, 0, 0, 0, 0, 0, 0, 0, 0, 0, 0, 0, 0, 0]\n",
      "[0, 0, 22, 47, 58, 75, 144, 189, 206, 222, 247, 431, 571, 634, 716, 864]\n",
      "[0, 0, 0, 24, 35, 52, 120, 165, 182, 198, 223, 406, 546, 609, 691, 839]\n",
      "[0, 0, 0, 0, 7, 19, 66, 111, 128, 144, 164, 326, 466, 529, 611, 739]\n",
      "[0, 0, 0, 0, 0, 9, 53, 98, 115, 128, 148, 307, 447, 510, 592, 717]\n",
      "[0, 0, 0, 0, 0, 0, 40, 85, 98, 111, 131, 286, 426, 489, 571, 692]\n",
      "[0, 0, 0, 0, 0, 0, 0, 40, 53, 66, 86, 236, 376, 439, 521, 637]\n",
      "[0, 0, 0, 0, 0, 0, 0, 0, 9, 19, 34, 149, 285, 334, 399, 515]\n",
      "[0, 0, 0, 0, 0, 0, 0, 0, 0, 7, 19, 129, 260, 309, 374, 490]\n",
      "[0, 0, 0, 0, 0, 0, 0, 0, 0, 0, 8, 114, 241, 290, 355, 471]\n",
      "[0, 0, 0, 0, 0, 0, 0, 0, 0, 0, 0, 103, 227, 276, 341, 457]\n",
      "[0, 0, 0, 0, 0, 0, 0, 0, 0, 0, 0, 0, 119, 168, 233, 349]\n",
      "[0, 0, 0, 0, 0, 0, 0, 0, 0, 0, 0, 0, 0, 35, 83, 167]\n",
      "[0, 0, 0, 0, 0, 0, 0, 0, 0, 0, 0, 0, 0, 0, 31, 94]\n",
      "[0, 0, 0, 0, 0, 0, 0, 0, 0, 0, 0, 0, 0, 0, 0, 49]\n",
      "[0, 0, 0, 0, 0, 0, 0, 0, 0, 0, 0, 0, 0, 0, 0, 0]\n"
     ]
    }
   ],
   "source": []
  },
  {
   "cell_type": "code",
   "execution_count": 21,
   "id": "5c9c3972-007b-4a72-8e45-d22b3a524463",
   "metadata": {},
   "outputs": [
    {
     "name": "stdout",
     "output_type": "stream",
     "text": [
      "[0, 40, 70, 100, 150]\n"
     ]
    }
   ],
   "source": [
    "# 이걸로 테스트해봄\n",
    "k = 4\n",
    "cases = [0, 40, 30, 30, 50]\n",
    "\n",
    "# 누적합이 있으면 구간합 계산이 편해짐\n",
    "acc_sum = [0] * (k+1)\n",
    "for i in range(1, k+1):\n",
    "    acc_sum[i] = acc_sum[i-1] + cases[i]\n",
    "print(acc_sum)"
   ]
  },
  {
   "cell_type": "markdown",
   "id": "46eb3577-9597-4624-a1ce-df3ec372d780",
   "metadata": {},
   "source": [
    "### 시작점 위치\n",
    "- k가 전체 길이, i가 부분 길이라고 하면\n",
    "- `k-i+1`가 시작점의 최종 위치일 거임 `가령 예제처럼 길이 4 부분 2를 구현한다고 하면 부분 2의 최대시작인덱스는 3번째 위치인 2임`\n",
    "- 근데 우리는 반복문을 잘 돌리려고 k에 +1 을 했음 : 따라서 k-i+2 가 시작점의 최종 위치가 됨"
   ]
  },
  {
   "cell_type": "markdown",
   "id": "43ee73a5-5b40-4bae-af5c-aa5f2f9c0b93",
   "metadata": {},
   "source": [
    "### 점화식\n",
    "- 이전까지의 최솟값 리스트는 여러 개가 있음\n",
    "    - 가령 `1~3`이라면 `1~2 + 3` or `2~3 + 1`\n",
    "    - `1~4`라면 `1~3 + 4` or `2 ~ 4 + 3` or `1~2 + 3~4` 중 최솟값을 골라야 함\n",
    "\n",
    "#### 누적합 리스트에서 부분합 리스트 이용하기\n",
    "- 시작점 j, 길이 i를 갖는다고 하면\n",
    "- j부터 j+i 까지의 부분합은 `누적합(j+i-1) - 누적합(j-1)`임\n",
    "    - j부터 길이 i를 갖는다면 j+i는 들어가지 않으니까!!!\n",
    "\n",
    "#### 동적 계획법은 어케 짬?\n",
    "- 이전 길이까지의 범위에서 고르면 됨 : 말은 쉽고 구현은 막막하죠?\n",
    "- i는 길이, j는 시작점이라고 했을 때 dp가 참조할 부분합은\n",
    "    - 이전 길이(i-1)까지 나올 수 있는 모든 경우의 수 중 최솟값임\n",
    "    - 그 모든 경우의 수를 어떻게 짜느냐가 골자겠죠?\n",
    "    \n",
    "### 최종\n",
    "- `dp[j][j+i-1] = min([dp[j][j+k] + dp[j+k+1][j+i-1] for k in range(i-1)]) + (acc_sum[j+i-1] - acc_sum[j-1])` 가 그런 의미임\n",
    "    - (처음부터 k까지의 부분합 + k+1부터 i-1까지의 부분합 의 최솟값) + 이번에 더해지는 값\n",
    "    - 이전 길이(i-1)까지 나올 수 있는 모든 경우의 수를 생각해보면\n",
    "    - 모든 케이스는 `2개의 합`으로 이뤄져 있음\n",
    "    - 즉 `i-1`까지의 부분합도 더 작은 길이의 수열의 부분합으로 이뤄졌다\n",
    "        - 근데 그 더 작은 길이의 부분합의 경우의 수는 `i-1`개 만큼 있음\n",
    "    \n",
    "### 예시\n",
    "- 예를 들면 `dp[1][4]`를 구하고 싶다고 해보자\n",
    "    - 길이가 4니까 1,3 / 2,2 / 3,1 중 하나로 값이 나올 거임\n",
    "    - 근데 1의 경우는 dp[j][j]니까 값이 0임 : 이거는 뒤의 acc_sum에서 j부터 j+i-1까지의 부분합을 가져오면서 자연스럽게 해결됨\n",
    "- 길이가 `n`이라면 `(1, (n-1)) ~ ((n-1), 1)`으로 `(n-1)개`의 케이스가 나오게 될 거임"
   ]
  },
  {
   "cell_type": "code",
   "execution_count": 63,
   "id": "205e5a98-7875-40c2-ae80-bb1dba8131aa",
   "metadata": {},
   "outputs": [
    {
     "name": "stdout",
     "output_type": "stream",
     "text": [
      "[[0, 0, 0, 0, 0], [0, 0, 70, 160, 300], [0, 0, 0, 60, 170], [0, 0, 0, 0, 80], [0, 0, 0, 0, 0]]\n"
     ]
    }
   ],
   "source": [
    "# dp[i][j] : i번째 파일 ~ j번째 파일을 묶는 최솟값\n",
    "dp = [[0] * (k+1) for _ in range(k+1)]\n",
    "\n",
    "# 반복문을 ㅈㄴ 잘 짰다고 느껴지는 게\n",
    "# 나는 무지성으로 행 단위로 값을 집어넣는데\n",
    "# 이렇게 짜 두면 y축으로도 움직이면서 값을 넣을 수 있겠다\n",
    "# 가장 고민했던 부분 중 하나가 대각선으로 값이 채워지는 부분이었기 때문임\n",
    "for i in range(2, k + 1): # 파일 길이\n",
    "    for j in range(1, k-i+2): # 시작점 \n",
    "        dp[j][j+i-1] = min([dp[j][j+k] + dp[j+k+1][j+i-1] for k in range(i-1)]) + (acc_sum[j+i-1] - acc_sum[j-1])\n",
    "\n",
    "print(dp)"
   ]
  },
  {
   "cell_type": "code",
   "execution_count": 62,
   "id": "b0ef79f4-1c9a-4e31-9c1b-3a7ce47c7497",
   "metadata": {},
   "outputs": [
    {
     "name": "stdout",
     "output_type": "stream",
     "text": [
      "[0, 0, 0, 0, 0]\n",
      "[0, 0, 70, 160, 300]\n",
      "[0, 0, 0, 60, 170]\n",
      "[0, 0, 0, 0, 80]\n",
      "[0, 0, 0, 0, 0]\n"
     ]
    }
   ],
   "source": [
    "for i in dp:\n",
    "    print(i)"
   ]
  },
  {
   "cell_type": "code",
   "execution_count": 57,
   "id": "04f53cb7-40e4-4a7e-aa30-61859ec5b4d4",
   "metadata": {},
   "outputs": [],
   "source": []
  },
  {
   "cell_type": "code",
   "execution_count": 58,
   "id": "e114087d-6a43-4548-8c54-7a7a20a14d4c",
   "metadata": {},
   "outputs": [
    {
     "name": "stdout",
     "output_type": "stream",
     "text": [
      "[0, 0, 0, 0, 0]\n",
      "[0, 0, 70, 0, 0]\n",
      "[0, 0, 0, 60, 0]\n",
      "[0, 0, 0, 0, 80]\n",
      "[0, 0, 0, 0, 0]\n"
     ]
    }
   ],
   "source": []
  },
  {
   "cell_type": "code",
   "execution_count": null,
   "id": "fa0481a5-dcea-4432-8d8c-599e9c340237",
   "metadata": {},
   "outputs": [],
   "source": []
  }
 ],
 "metadata": {
  "kernelspec": {
   "display_name": "Python 3",
   "language": "python",
   "name": "python3"
  },
  "language_info": {
   "codemirror_mode": {
    "name": "ipython",
    "version": 3
   },
   "file_extension": ".py",
   "mimetype": "text/x-python",
   "name": "python",
   "nbconvert_exporter": "python",
   "pygments_lexer": "ipython3",
   "version": "3.8.8"
  }
 },
 "nbformat": 4,
 "nbformat_minor": 5
}
