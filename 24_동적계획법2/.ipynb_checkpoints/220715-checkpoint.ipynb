{
 "cells": [
  {
   "cell_type": "markdown",
   "id": "5e21aae1-eb68-4ea4-b30e-4cbb8266f8c5",
   "metadata": {},
   "source": [
    "# 11049 : 행렬 곱셈 순서\n",
    "- `n*m` 행렬과 `m*k` 행렬을 곱할 때 필요한 연산 수는 `n*m*k`이다. 필요한 최소 연산수를 구하자"
   ]
  },
  {
   "cell_type": "code",
   "execution_count": 26,
   "id": "a8f9362e-fee3-49fb-a51f-784a3e9872d6",
   "metadata": {},
   "outputs": [
    {
     "name": "stdout",
     "output_type": "stream",
     "text": [
      "[0, (5, 3), (3, 2), (2, 6), (6, 3)]\n",
      "[0, 0, 0, 0, 0]\n",
      "[0, 0, 30, 90, 96]\n",
      "[0, 0, 0, 36, 54]\n",
      "[0, 0, 0, 0, 36]\n",
      "[0, 0, 0, 0, 0]\n",
      "96\n"
     ]
    }
   ],
   "source": [
    "import sys\n",
    "sys.stdin = open('test.txt', 'r')\n",
    "input = sys.stdin.readline\n",
    "\n",
    "n = int(input())\n",
    "\n",
    "# 푸는 방식 자체는 유사해보임\n",
    "# 근데 그걸 기억하느냐가 문제겠지\n",
    "dp_matrix = [[0] * (n+1) for i in range(n+1)]\n",
    "# acc_sum = [0] * (n+1)\n",
    "lst = [0]\n",
    "\n",
    "for i in range(n):\n",
    "    lst.append(tuple(map(int, input().rstrip().split())))\n",
    "\n",
    "# 누적합을 대체할 게 필요해보임 - 계산 순서가 바뀌면 연산이 달라지기 떄문임\n",
    "# 누적합을 쓰는 이유는 누적합으로 부분합 구현이 가능했기 때문임\n",
    "# 누적합으로 부분합을 구현할 수 있는가? - ㄴㄴ \n",
    "# 3*2*6 = 36인데 이건 누적합 리스트에서 구할수 없는 값임\n",
    "\n",
    "# 앞에서 했던것과 마찬가지로 i는 길이, j는 시작점으로 놓고 반복문을 돌려보자\n",
    "for i in range(2, n+1):\n",
    "    for j in range(1, n-i+2):\n",
    "        \n",
    "        # 이 식을 잘 세우는 게 중요 : 근데 조금 다르게 가야 함 : 순서에 따라 곱해지는 값이 다르니까\n",
    "        # 가령 [1][3]을 구한다고 하면 1 * [2][3] or [1][2] * 3 이 있을 건데\n",
    "        # 앞에서 어떤게 곱해지느냐에 따라 뒤에서 곱해지는 케이스도 달라짐 \n",
    "        \n",
    "        dp_matrix[j][j+i-1] = min([dp_matrix[j][j+k] + dp_matrix[j+k+1][j+i-1] + (lst[j][0] * lst[j+k][1] * lst[j+i-1][1]) for k in range(i-1)])\n",
    "\n",
    "print(dp_matrix[1][n])"
   ]
  },
  {
   "cell_type": "markdown",
   "id": "18afdb66-cb30-4a30-b3ef-17cb2491c337",
   "metadata": {},
   "source": [
    "# 1520 : 내리막길\n",
    "- 이동 가능한 경로의 수를 출력하시오\n",
    "\n",
    "### 1트\n",
    "- `RecursionError` : 그럴 것 같긴 했다"
   ]
  },
  {
   "cell_type": "code",
   "execution_count": 45,
   "id": "9c41f527-37c6-4f08-90f4-006f9c8258e0",
   "metadata": {},
   "outputs": [
    {
     "name": "stdout",
     "output_type": "stream",
     "text": [
      "[10001, 10001, 10001, 10001, 10001, 10001, 10001]\n",
      "[10001, 50, 45, 37, 32, 30, 10001]\n",
      "[10001, 35, 50, 40, 20, 25, 10001]\n",
      "[10001, 30, 30, 25, 17, 28, 10001]\n",
      "[10001, 27, 24, 22, 15, 10, 10001]\n",
      "[10001, 10001, 10001, 10001, 10001, 10001, 10001]\n",
      "1 1\n",
      "2 1\n",
      "3 1\n",
      "4 1\n",
      "4 2\n",
      "4 3\n",
      "4 4\n",
      "1 2\n",
      "1 3\n",
      "1 4\n",
      "2 4\n",
      "3 4\n",
      "4 4\n",
      "1 5\n",
      "2 5\n",
      "2 4\n",
      "3 4\n",
      "4 4\n",
      "3\n"
     ]
    }
   ],
   "source": [
    "import sys\n",
    "sys.stdin = open('test.txt', 'r')\n",
    "sys.setrecursionlimit(10 ** 8) # 이거 있어도 시간초과 뜸\n",
    "input = sys.stdin.readline\n",
    "\n",
    "n, m = map(int, input().rstrip().split())\n",
    "matrix = []\n",
    "boundary = int(1e4 + 1)\n",
    "\n",
    "\n",
    "matrix.append([boundary] * (m+2))\n",
    "for i in range(n):\n",
    "    matrix.append([boundary] + list(map(int, input().rstrip().split())) + [boundary])\n",
    "matrix.append([boundary] * (m+2))\n",
    "for i in matrix:\n",
    "    print(i)\n",
    "now = (0, 0)\n",
    "count = 0\n",
    "visited = []\n",
    "# 경우의 수를 출력해야 하니까 재귀식으로 만들어야 할 것\n",
    "# now 좌표가 (n, m)이면 count += 1 하면 될 것\n",
    "\n",
    "def find_end(y, x):\n",
    "    \n",
    "    global count\n",
    "    \n",
    "    if y == n  and x == m:\n",
    "        count += 1\n",
    "        return\n",
    "    \n",
    "    else:\n",
    "        print(y, x)\n",
    "\n",
    "        # elif로 받으면 안됨!\n",
    "        \n",
    "        if matrix[y+1][x] < matrix[y][x]:\n",
    "            find_end(y+1, x)\n",
    "            \n",
    "        if matrix[y][x+1] < matrix[y][x]:\n",
    "            find_end(y, x+1)\n",
    "        \n",
    "        if matrix[y-1][x] < matrix[y][x]:\n",
    "            find_end(y-1, x)\n",
    "\n",
    "        if matrix[y][x-1] < matrix[y][x]:\n",
    "            find_end(y, x-1)\n",
    "            \n",
    "        return\n",
    "\n",
    "find_end(1, 1)\n",
    "print(count)"
   ]
  },
  {
   "cell_type": "markdown",
   "id": "0bbd2214-f8fd-482e-a56a-37ec4e63ab7c",
   "metadata": {},
   "source": [
    "### 조금 찾아보니까 dp를 이용할 수 있는데 대충 원리는 이렇다\n",
    "- 방문한 적이 있다면 저장해두는 방식인데, 직접 구현해보자"
   ]
  },
  {
   "cell_type": "code",
   "execution_count": 73,
   "id": "edd24a98-b3c0-4a61-964e-7ff1eaa6dca2",
   "metadata": {},
   "outputs": [
    {
     "data": {
      "text/plain": [
       "3"
      ]
     },
     "execution_count": 73,
     "metadata": {},
     "output_type": "execute_result"
    }
   ],
   "source": [
    "import sys\n",
    "sys.stdin = open('test.txt', 'r')\n",
    "input = sys.stdin.readline\n",
    "\n",
    "n, m = map(int, input().rstrip().split())\n",
    "matrix = []\n",
    "for i in range(n):\n",
    "    matrix.append(list(map(int, input().rstrip().split())))\n",
    "dp = [[-1]*m for _ in range(n)]\n",
    "\n",
    "# 1. 방문한 적 없다 : -1\n",
    "# 2. 방문 중이다 : 0\n",
    "# 3. 도착점까지 가는 경우의 수가 있다(dp[n-1][m-1]에 도달하면 1을 반환)\n",
    "moves = [[1,0], [-1,0], [0,1], [0,-1]]\n",
    "def find_end(x, y):\n",
    "    \n",
    "    if x == n-1 and y == m-1:\n",
    "        return 1\n",
    "    \n",
    "    # 만난 적 있는 경로라면 굳이 계산을 더 하지 않아도 됨\n",
    "    # dp의 각 점의 값은 그 점에서 도착점까지 도착하는 경우의 수임\n",
    "    # 지나간 적 있는 경로이기 때문에 +1을 해줌. 이게 Memoization이죠?\n",
    "    if dp[x][y] != -1:\n",
    "        return dp[x][y]\n",
    "    \n",
    "    # 지금 점의 dp값이 -1일 때만 아래 코드를 따라감\n",
    "    \n",
    "    dp[x][y] = 0\n",
    "    \n",
    "    for move in moves:\n",
    "        dx, dy = x + move[0], y + move[1]\n",
    "        \n",
    "        if 0 <= dx < n and 0 <= dy < m:\n",
    "            if matrix[dx][dy] < matrix[x][y]:\n",
    "                dp[x][y] += find_end(dx, dy)\n",
    "                \n",
    "    return dp[x][y]\n",
    "\n",
    "# \n",
    "print(find_end(0, 0))"
   ]
  },
  {
   "cell_type": "code",
   "execution_count": 72,
   "id": "6d3ecd55-df95-4567-9c23-40aebb8d6cb2",
   "metadata": {},
   "outputs": [
    {
     "name": "stdout",
     "output_type": "stream",
     "text": [
      "[3, 2, 2, 2, 1]\n",
      "[1, -1, -1, 1, 1]\n",
      "[1, -1, -1, 1, -1]\n",
      "[1, 1, 1, 1, -1]\n"
     ]
    }
   ],
   "source": [
    "for i in dp:\n",
    "    print(i)"
   ]
  },
  {
   "cell_type": "code",
   "execution_count": 70,
   "id": "7388a9ff-22ed-4790-b38d-852ab24b2363",
   "metadata": {},
   "outputs": [],
   "source": [
    "# 가로 크기 n, 세로크기 m임\n",
    "# 그냥 유클리드 좌표로 생각하지 말고 가로(row)의 수를 x, 세로(col)의 수를 y라고 생각하자"
   ]
  },
  {
   "cell_type": "markdown",
   "id": "65670138-6e05-4a0d-9329-96fd128ef821",
   "metadata": {},
   "source": [
    "## 10942번 : 팰린드롬?\n",
    "- 뒤집어도 똑같은 문자열을 팰린드롬이라고 한다고 함\n",
    "- 아이디어 : 시작 ~ 끝 범위가 주어졌다고 하면\n",
    "    - 양 끝의 범위를 하나씩 줄여나가며 팰린드롬인지 아닌지 비교하면 된다고 함\n",
    "    - 팰린드롬이 나온 경우 \n",
    "        1. 양 끝의 문자가 다르다면 팰린드롬이 아님\n",
    "        2. 양 끝의 문자가 같다면 팰린드롬이 됨\n",
    "    - 특수한 경우\n",
    "        1. 시작 = 끝 인덱스라면 팰린드롬\n",
    "        2. 길이가 2일때 시작 글자 = 끝 글자라면 팰린드롬"
   ]
  },
  {
   "cell_type": "code",
   "execution_count": 103,
   "id": "04757d50-bc01-4883-8cbf-824d43152629",
   "metadata": {},
   "outputs": [
    {
     "name": "stdout",
     "output_type": "stream",
     "text": [
      "1\n",
      "0\n",
      "1\n",
      "1\n"
     ]
    }
   ],
   "source": [
    "import sys\n",
    "sys.stdin = open('test.txt', 'r')\n",
    "input = sys.stdin.readline\n",
    "n = int(input())\n",
    "lst = list(map(int, input().rstrip().split()))\n",
    "m = int(input())\n",
    "\n",
    "# 시간 초과\n",
    "# for i in range(m):\n",
    "#     s, e = map(int, input().rstrip().split())\n",
    "#     if \"\".join(lst[s:e+1]) == \"\".join(lst[e:s-1:-1]):\n",
    "#         print(1)\n",
    "#     else:\n",
    "#         print(0)\n",
    "\n",
    "# DP를 생각해보자 - 2차원 리스트를 만들 수 밖에 없을 거 같은데\n",
    "# 얘도 마찬가지로 길이 i와 시작점 j로 놓고 생각해보자\n",
    "dp = [[0] * (n) for _ in range(n)]\n",
    "\n",
    "for num_len in range(n):\n",
    "    for start in range(n - num_len):\n",
    "        end = start + num_len\n",
    "        \n",
    "        # 시작점과 끝점이 같다면 글자수가 1개이므로 무조건 팰린드롬\n",
    "        if start == end:\n",
    "            dp[start][end] = 1\n",
    "            \n",
    "        # 아하\n",
    "        # 시작점의 글자와 끝점의 글자가 같다면\n",
    "        elif lst[start] == lst[end]:\n",
    "        \t# 두 글자짜리 문자열이라면 무조건 팰린드롬\n",
    "            if start + 1 == end: dp[start][end] = 1\n",
    "            # 가운데 문자열이 팰린드롬이라면 팰린드롬\n",
    "            elif dp[start+1][end-1] == 1: dp[start][end] = 1\n",
    "            \n",
    "\n",
    "#정답출력하기\n",
    "for question in range(m):\n",
    "    s, e = map(int, input().split())\n",
    "    print(dp[s-1][e-1])\n",
    "\n"
   ]
  },
  {
   "cell_type": "code",
   "execution_count": 100,
   "id": "b31e39df-325a-4c36-a3f8-0e8cb71a2f9e",
   "metadata": {},
   "outputs": [
    {
     "name": "stdout",
     "output_type": "stream",
     "text": [
      "[1, 2, 1, 3, 1, 2, 1]\n",
      "[1, -1, -1, -1, -1, -1, -1]\n",
      "[-1, 1, -1, -1, -1, -1, -1]\n",
      "[-1, -1, 1, -1, -1, -1, -1]\n",
      "[-1, -1, -1, 1, -1, -1, -1]\n",
      "[-1, -1, -1, -1, 1, -1, -1]\n",
      "[-1, -1, -1, -1, -1, 1, -1]\n",
      "[-1, -1, -1, -1, -1, -1, 1]\n"
     ]
    }
   ],
   "source": [
    "print(lst)\n",
    "for i in dp:\n",
    "    print(i)"
   ]
  },
  {
   "cell_type": "code",
   "execution_count": null,
   "id": "f7842dc6-2f4a-4f10-ab9e-b448c787e91d",
   "metadata": {},
   "outputs": [],
   "source": [
    "\n"
   ]
  }
 ],
 "metadata": {
  "kernelspec": {
   "display_name": "Python 3",
   "language": "python",
   "name": "python3"
  },
  "language_info": {
   "codemirror_mode": {
    "name": "ipython",
    "version": 3
   },
   "file_extension": ".py",
   "mimetype": "text/x-python",
   "name": "python",
   "nbconvert_exporter": "python",
   "pygments_lexer": "ipython3",
   "version": "3.8.8"
  }
 },
 "nbformat": 4,
 "nbformat_minor": 5
}
