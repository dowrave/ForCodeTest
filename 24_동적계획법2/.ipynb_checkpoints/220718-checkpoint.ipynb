{
 "cells": [
  {
   "cell_type": "markdown",
   "id": "4be85325-d609-4294-9b84-286d166703e0",
   "metadata": {},
   "source": [
    "## 2629번 : 양팔 저울\n",
    "- n은 추, m은 타겟 구슬\n",
    "- 추들로 타겟 값을 구성할 수 있으면 Y, 없으면 N 리턴"
   ]
  },
  {
   "cell_type": "code",
   "execution_count": 145,
   "id": "f1e06437-fb5c-415b-829c-dc0c78af0dcd",
   "metadata": {},
   "outputs": [
    {
     "name": "stdout",
     "output_type": "stream",
     "text": [
      "Y Y N "
     ]
    }
   ],
   "source": [
    "import sys\n",
    "sys.stdin = open('test.txt', 'r')\n",
    "input = sys.stdin.readline\n",
    "\n",
    "n = int(input())\n",
    "weights = list(map(int, input().rstrip().split())) # [1, 4]\n",
    "m = int(input())\n",
    "targets = list(map(int, input().rstrip().split())) # [3, 2]\n",
    "\n",
    "dp = [[0] * (len(weights)) for _ in range(sum(targets) + 1)]\n",
    "\n",
    "# 세로축이 fix되고 각 x축에 대해 반복문이 돌아야 함\n",
    "\n",
    "for i in range(len(weights)): # i는 이번에 넣는 추의 무게\n",
    "    for j in range(sum(targets) + 1): # j는 그냥 전체 무게 = 인덱스라고 생각하자\n",
    "#         print(j, i)\n",
    "\n",
    "        # 초기 조건\n",
    "        if j == weights[i]:\n",
    "            dp[j][i] = weights[i]\n",
    "#             print((j, i), dp[j][i])\n",
    "            \n",
    "        # 이전 값에서 더해지는 케이스\n",
    "        elif i>0 and j - weights[i] >= 0 and dp[j-weights[i]][i-1]:\n",
    "            dp[j][i] = dp[j-weights[i]][i-1] + weights[i]\n",
    "#             print((j, i), dp[j][i])\n",
    "            \n",
    "        # 이전 값에서 빼는 케이스\n",
    "        elif i > 0 and abs(j - weights[i]) > 0 and dp[abs(j-weights[i])][i-1]:\n",
    "            dp[j][i] = abs(dp[abs(j-weights[i])][i-1] - weights[i])\n",
    "        \n",
    "        # 이전 값이 있으면 그 다음 값도 있음\n",
    "        elif dp[j][i-1]:\n",
    "            dp[j][i] = dp[j][i-1]\n",
    "            \n",
    "            \n",
    "for target in targets:\n",
    "    if target in dp[target][:]:\n",
    "        print(\"Y\", end=\" \")\n",
    "    else:\n",
    "        print(\"N\", end=\" \")\n"
   ]
  },
  {
   "cell_type": "markdown",
   "id": "2ee7e9b3-78f9-424e-aeb7-44093cc36f43",
   "metadata": {},
   "source": [
    "### 정답 풀이\n",
    "- 나랑 비슷한 방식으로 접근했고 코드도 훨씬 깔끔하니 참고하시오"
   ]
  },
  {
   "cell_type": "code",
   "execution_count": null,
   "id": "cc2a3cac-c96a-44a0-9913-0633a1cda498",
   "metadata": {},
   "outputs": [],
   "source": [
    "import sys\n",
    "input = sys.stdin.readline\n",
    "\n",
    "n = int(input()) # 추의 개수\n",
    "weights = [0] + list(map(int,input().split())) # 추의 무게들\n",
    "k = int(input()) # 구슬의 개수\n",
    "beads = list(map(int,input().split())) # 구슬의 무게들\n",
    "\n",
    "dp = [[0]*(sum(weights)+1) for _ in range(n+1)]\n",
    "\n",
    "for i in range(1,n+1): # i번째 추까지만 사용하는 경우\n",
    "    dp[i][weights[i]] = 1\n",
    "    for j in range(1,sum(weights)+1): # 나머지 무게들에 대해      \n",
    "        if dp[i-1][j]: # 바로 이전 무게값이 있다면 값 넣어줌\n",
    "            dp[i][j] = 1\n",
    "            dp[i][abs(weights[i]-j)] = 1 # 합이든 차든 이걸로 구현할 수 있는 것 같다\n",
    "            \n",
    "            # 아 재려는 무게가 인풋값을 넘을 수도 있겠다!\n",
    "            if j+weights[i]<=sum(weights):\n",
    "                dp[i][j+weights[i]] = 1\n",
    "\n",
    "for bead in beads:\n",
    "    if bead>sum(weights) or (not dp[n][bead]):\n",
    "        print('N',end=' ')\n",
    "    else:\n",
    "        print('Y',end=' ')\n"
   ]
  },
  {
   "cell_type": "markdown",
   "id": "65af4436-3921-4d31-bc61-3378fc699ce1",
   "metadata": {},
   "source": [
    "## 2293번 : 동전 1\n",
    "- 각 동전들을 활용해 `가치의 합이 k`가 되는 경우의 수를 구하고 싶다\n",
    "- 사용된 동전의 구성이 같은데 순서가 다른 건 같은 케이스(조합)\n",
    "    - 사용된 동전은 몇 개씩이라도 사용할 수 있다\n",
    "- <b>시간 0.4초, 메모리 제한 4mb</b>\n",
    "    - 문제풀이는 이를 위해 1차원 배열을 갱신하는 방식으로 들어간다\n",
    "    - <b> 직접 생각해내긴 좀 어려운 문제였음. 잘 기억해두자. </b>"
   ]
  },
  {
   "cell_type": "code",
   "execution_count": 150,
   "id": "adb09409-cca0-47c7-8084-14a4511d44a9",
   "metadata": {},
   "outputs": [],
   "source": [
    "import sys\n",
    "sys.stdin = open('test.txt', 'r')\n",
    "input = sys.stdin.readline\n",
    "n, k = map(int, input().rstrip().split())\n",
    "\n",
    "dp = [0]*(k+1)\n",
    "dp[0] = 1\n",
    "\n",
    "# 전체 -> 부분 문제로 나눈다 : 전체 문제는 가치의 합이 k, 부분 문제는 가치의 합이 1부터 k값 사이인 i를 구하는 것\n",
    "# i를 구하기 위해, dp 리스트를 만들고, 각 인풋으로 해당 값을 구하는 경우의 수를 구한다\n",
    "# 인풋 값이 바뀌면 dp에 넣을 인덱스는 해당 인풋값부터 시작한다\n",
    "\n",
    "for _ in range(n):\n",
    "    value = int(input())\n",
    "    for i in range(value, k + 1):\n",
    "        dp[i] += dp[i - value]\n",
    "\n",
    "print(dp[-1])"
   ]
  },
  {
   "cell_type": "code",
   "execution_count": 150,
   "id": "64b1f1ff-0e31-45f4-b209-7f762429c4d7",
   "metadata": {},
   "outputs": [],
   "source": [
    "# 예를 들어서 생각해보자\n",
    "\n",
    "# value = 1부터 시작한다\n",
    "# i는 value = 1부터 10까지 반복되며, dp[1]은 dp[0]의 값인 1을 참조한다\n",
    "    # i-value는 무조건 0이니까 첫 값이 뭐가 오든 해당 value를 구성하는 경우의 수 1가지를 무조건 채울 수 있다\n",
    "    # 이 1가지라는 경우의 수는 1+1+...+1 로 구성되어 있다.\n",
    "    # 한 가지 동전만 쓴다면 경우의 수는 1가지일 뿐이니 다음으로 넘어간다\n",
    "    \n",
    "# value = 2를 보자\n",
    "    # value = 2 부터 10까지 반복된다. k+1로 구성했으니 인덱스 2번부터 \n",
    "    # dp[2]가 어떻게 들어가는가를 생각해보자. dp[0]의 1가지 케이스가 들어간다.\n",
    "        # 이 때 dp[2]는 1+1 과 2 라는 2가지 케이스로 구성됨\n",
    "    # dp[3]을 생각해보자\n",
    "        # 생각할 수 있는 건 1+1+1과 2+1일 것이다\n",
    "            # 근데 1+1+1은 value=1에서 이미 채워진 값이다\n",
    "            # 2+1이 어떻게 들어가냐면, dp[1]에 있는 '1'이라는 값에 2가 더해짐으로써 채워진다\n",
    "            # 'i-value'라는 구성은 이것에서 나온 것이다. 이미 있는 배열 뒤에 숫자 하나를 덧대는 경우의 수를 그대로 추가하는 것\n",
    "    # dp[4]도 생각해보자\n",
    "        # 1+1+1+1과 1+1+2과 2+2를 생각해 볼 수 있다\n",
    "        # 1+1+1+1은 value=1일 때 계산되었다\n",
    "        # 1+1+2, 2+2는 value=2 & dp[2]에서 합쳐진 값인 1+1과 2 뒤에 +2가 붙는 방식으로 구성된다\n",
    "\n",
    "# 따라서 dp[i] += dp[i-value]라는 점화식이 나올 수 있는 것이다.\n",
    "    # 즉 앞서 나온 경우의 수(어떤 배열이라고 봐도 좋을 것이다) 뒤에 값을 추가해서 더 높은 값의 경우의 수에 추가되는 방식이다\n",
    "        # 가령 1 2 3 4 라는 숫자가 있고, dp[4]를 구하고 싶다면\n",
    "        # 4를 구성하는 요소들은 \n",
    "            # 1. 1 + 1 + 1 + 1\n",
    "            # 2. 1 + 1 + 2(i - value = 2)\n",
    "            # 3. 1 + 3(i-value = 1)\n",
    "            # 4. 4(i - value = 0)\n",
    "        # 이런 식으로 구성된다."
   ]
  },
  {
   "cell_type": "code",
   "execution_count": 150,
   "id": "4b60504e-58d4-4c88-82da-599e0eff1a7a",
   "metadata": {},
   "outputs": [
    {
     "name": "stdout",
     "output_type": "stream",
     "text": [
      "10\n"
     ]
    }
   ],
   "source": []
  },
  {
   "cell_type": "code",
   "execution_count": 149,
   "id": "e46e005f-2576-401e-8dd1-5a3612b85dfe",
   "metadata": {},
   "outputs": [
    {
     "name": "stdout",
     "output_type": "stream",
     "text": [
      "[1, 1, 2, 2, 3, 4, 5, 6, 7, 8, 10]\n"
     ]
    }
   ],
   "source": [
    "print(dp)"
   ]
  },
  {
   "cell_type": "markdown",
   "id": "f26bb2eb-26b9-40a9-baa7-e71e0acf5454",
   "metadata": {},
   "source": [
    "## 7579번 : 앱\n",
    "- <b> 활성화 </b> : 실행되지 않더라도 메인 메모리에 직전의 상태가 기록되어 있음\n",
    "    - 비활성화 : 메인 메모리 공간 확보를 위해 활성화된 앱을 끄는 것\n",
    "    \n",
    "- 요약 : m을 만족하기 위한 최소 비용을 구하라\n"
   ]
  },
  {
   "cell_type": "code",
   "execution_count": 253,
   "id": "35e5f944-63f6-4afb-bdc1-0aa8d6177ae3",
   "metadata": {},
   "outputs": [
    {
     "name": "stdout",
     "output_type": "stream",
     "text": [
      "[100000000, 100000000, 100000000, 100000000, 100000000, 100000000, 100000000, 100000000, 100000000, 100000000, 100000000, 100000000, 100000000, 100000000, 100000000, 100000000, 100000000, 100000000, 100000000, 100000000, 100000000, 100000000, 100000000, 100000000, 100000000, 100000000, 100000000, 100000000, 100000000, 100000000, 3, 100000000, 100000000, 100000000, 100000000, 100000000, 100000000, 100000000, 100000000, 100000000, 100000000, 100000000, 100000000, 100000000, 100000000, 100000000, 100000000, 100000000, 100000000, 100000000, 100000000, 100000000, 100000000, 100000000, 100000000, 100000000, 100000000, 100000000, 100000000, 100000000, 100000000]\n",
      "[100000000, 100000000, 100000000, 100000000, 100000000, 100000000, 100000000, 100000000, 100000000, 100000000, 0, 100000000, 100000000, 100000000, 100000000, 100000000, 100000000, 100000000, 100000000, 100000000, 100000000, 100000000, 100000000, 100000000, 100000000, 100000000, 100000000, 100000000, 100000000, 100000000, 3, 100000000, 100000000, 100000000, 100000000, 100000000, 100000000, 100000000, 100000000, 100000000, 3, 100000000, 100000000, 100000000, 100000000, 100000000, 100000000, 100000000, 100000000, 100000000, 100000000, 100000000, 100000000, 100000000, 100000000, 100000000, 100000000, 100000000, 100000000, 100000000, 100000000]\n",
      "[100000000, 100000000, 100000000, 100000000, 100000000, 100000000, 100000000, 100000000, 100000000, 100000000, 0, 100000000, 100000000, 100000000, 100000000, 100000000, 100000000, 100000000, 100000000, 100000000, 3, 100000000, 100000000, 100000000, 100000000, 100000000, 100000000, 100000000, 100000000, 100000000, 3, 100000000, 100000000, 100000000, 100000000, 100000000, 100000000, 100000000, 100000000, 100000000, 3, 100000000, 100000000, 100000000, 100000000, 100000000, 100000000, 100000000, 100000000, 100000000, 6, 100000000, 100000000, 100000000, 100000000, 100000000, 100000000, 100000000, 100000000, 100000000, 6]\n",
      "[100000000, 100000000, 100000000, 100000000, 100000000, 100000000, 100000000, 100000000, 100000000, 100000000, 0, 100000000, 100000000, 100000000, 100000000, 100000000, 100000000, 100000000, 100000000, 100000000, 3, 100000000, 100000000, 100000000, 100000000, 100000000, 100000000, 100000000, 100000000, 100000000, 3, 100000000, 100000000, 100000000, 100000000, 5, 100000000, 100000000, 100000000, 100000000, 3, 100000000, 100000000, 100000000, 100000000, 5, 100000000, 100000000, 100000000, 100000000, 6, 100000000, 100000000, 100000000, 100000000, 8, 100000000, 100000000, 100000000, 100000000, 6]\n",
      "[100000000, 100000000, 100000000, 100000000, 100000000, 100000000, 100000000, 100000000, 100000000, 100000000, 0, 100000000, 100000000, 100000000, 100000000, 100000000, 100000000, 100000000, 100000000, 100000000, 3, 100000000, 100000000, 100000000, 100000000, 100000000, 100000000, 100000000, 100000000, 100000000, 3, 100000000, 100000000, 100000000, 100000000, 5, 100000000, 100000000, 100000000, 100000000, 4, 100000000, 100000000, 100000000, 100000000, 5, 100000000, 100000000, 100000000, 100000000, 4, 100000000, 100000000, 100000000, 100000000, 8, 100000000, 100000000, 100000000, 100000000, 6]\n",
      "6\n"
     ]
    }
   ],
   "source": [
    "import sys\n",
    "sys.stdin = open('test.txt', 'r')\n",
    "input = sys.stdin.readline\n",
    "n, m = map(int, input().rstrip().split())\n",
    "\n",
    "memories = list(map(int, input().rstrip().split()))\n",
    "costs = list(map(int, input().rstrip().split()))\n",
    "\n",
    "# dp = [[int(1e8)] * (m+1) for _ in range(n)]\n",
    "# # row 인덱스는 i번째 메모리까지\n",
    "# # col 인덱스는 해당 무게까지\n",
    "# for i in range(n):\n",
    "#     for j in range(m + 1):\n",
    "#         dp[i][memories[i]] = costs[i]\n",
    "\n",
    "#         if j <= m and dp[i-1][j - memories[i]]:\n",
    "#             dp[i][j] = min(dp[i-1][j-memories[i]] + costs[i], dp[i-1][j])\n",
    "            \n",
    "# print(dp[-1][-1])\n",
    "\n",
    "# 메모리 초과가 뜸\n",
    "# 그렇다면 dp를 1차원으로 구성함 : 최대 메모리는 m으로 함 (즉 각 인덱스가 해당 반복에서 어떤 메모리에서의 최소 비용이라고 보자는 것)\n",
    "# 각 memories에 대해 반복문을 돌림\n",
    "\n",
    "\n",
    "# 얘는 또 시간초과네 ㅋㅋㅋ\n",
    "# dp = [int(1e8)]*(m+1)\n",
    "\n",
    "# for i in range(n): # i는 memories, costs를 돈다\n",
    "    \n",
    "#     for j in range(m+1): # j는 dp를 돈다\n",
    "#         if j <= sum(memories[0:i+1]) and j >= memories[i] and dp[j - memories[i]] < int(1e8):\n",
    "            \n",
    "#             dp[j] = min(dp[j-memories[i]] + costs[i], dp[j])\n",
    "\n",
    "#     dp[memories[i]] = costs[i]\n",
    "    \n",
    "#     print(dp)\n",
    "    \n",
    "print(dp[-1])"
   ]
  },
  {
   "cell_type": "markdown",
   "id": "725a7135-5577-4c65-a9d7-2ac6ea34f65a",
   "metadata": {},
   "source": [
    "## 정답 풀이\n",
    "1. DP를 구성할 때 차원을 cost로 하면 더 작게 구현이 되잖아?\n",
    "2. \n",
    "1) "
   ]
  },
  {
   "cell_type": "code",
   "execution_count": 255,
   "id": "6343762b-8b96-4c9a-aef4-f33a9f0ab713",
   "metadata": {},
   "outputs": [
    {
     "name": "stdout",
     "output_type": "stream",
     "text": [
      "6\n"
     ]
    }
   ],
   "source": [
    "import sys\n",
    "sys.stdin = open('test.txt', 'r')\n",
    "input = sys.stdin.readline\n",
    "\n",
    "N, M = map(int, input().split())\n",
    "A = [0] + list(map(int, input().split())) #byte\n",
    "C = [0] + list(map(int, input().split())) #cost\n",
    "dp = [[0 for _ in range(sum(C)+1)] for _ in range(N+1)] #냅색알고리즘이 실행될 dp\n",
    "result = sum(C) #열의 최댓값\n",
    "\n",
    "for i in range(1, N+1):\n",
    "    byte = A[i]\n",
    "    cost = C[i]\n",
    "    \n",
    "    for j in range(1, sum(C) + 1):\n",
    "        \n",
    "        if j < cost: # j는 코스트 값들에 대해 돈다 : 이번에 넣을 cost 값에 미치지 못하면 바로 이전까지의 코스트 값을 받음\n",
    "            dp[i][j] = dp[i-1][j]\n",
    "            \n",
    "        # 이번 cost를 넣을 조건이 되었다면 : \n",
    "        # 지금 cost, byte를 넣었을 때의 cost값과 넣지 않고 동일한 cost값중 더 큰 byte 값을 선택한다\n",
    "        else:\n",
    "            dp[i][j] = max(byte + dp[i-1][j-cost], dp[i-1][j])\n",
    "        \n",
    "        # dp[i][j]는 바이트 값이므로, M값을 초과한다면\n",
    "        \n",
    "        if dp[i][j] >= M:\n",
    "            result = min(result, j) #더 작은 cost j값으로 갱신\n",
    "            \n",
    "\n",
    "if M != 0:\n",
    "    print(result)\n",
    "else:\n",
    "    print(0)"
   ]
  },
  {
   "cell_type": "code",
   "execution_count": null,
   "id": "7481ad5e-65f1-451b-8cbd-738dafb90e42",
   "metadata": {},
   "outputs": [],
   "source": []
  }
 ],
 "metadata": {
  "kernelspec": {
   "display_name": "Python 3",
   "language": "python",
   "name": "python3"
  },
  "language_info": {
   "codemirror_mode": {
    "name": "ipython",
    "version": 3
   },
   "file_extension": ".py",
   "mimetype": "text/x-python",
   "name": "python",
   "nbconvert_exporter": "python",
   "pygments_lexer": "ipython3",
   "version": "3.8.8"
  }
 },
 "nbformat": 4,
 "nbformat_minor": 5
}
