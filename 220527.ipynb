{
 "cells": [
  {
   "cell_type": "markdown",
   "id": "3c79e19d-e882-4163-aca5-e4d5133c585d",
   "metadata": {},
   "source": [
    "# 4948번 - 베르트랑 공준\n",
    "- 임의의 자연수 n에 대해 n보다 크고 2n보다 작거나 같은 소수는 적어도 하나 존재한다"
   ]
  },
  {
   "cell_type": "code",
   "execution_count": 24,
   "id": "3299b9b4-6606-458d-a200-2c54cad201d1",
   "metadata": {},
   "outputs": [
    {
     "data": {
      "text/plain": [
       "True"
      ]
     },
     "execution_count": 24,
     "metadata": {},
     "output_type": "execute_result"
    }
   ],
   "source": [
    "# 일단 소수 판별기부터 작성\n",
    "import math\n",
    "\n",
    "# 함수 정의의 장점으로는 반복문을 원하는 구간에서 끝내버릴 수 있는 점이 있음\n",
    "# 예를 들어 아래 반복문을 함수 씌우지 않았다고 생각해보자.. 2랑 3에 대한 정의는 따로 해야 함\n",
    "# break문으로 빠져나가도 그 다음 코드는 실행됨\n",
    "\n",
    "# 이 소수 정의하는 방법은 잘 기억해두자!\n",
    "def IsPrime(n):\n",
    "    if n == 1 : return False\n",
    "    \n",
    "    for i in range(2, int(math.sqrt(n)) + 1):\n",
    "        if n % i == 0:\n",
    "            return False\n",
    "    \n",
    "    return True\n",
    "        \n",
    "IsPrime(2)"
   ]
  },
  {
   "cell_type": "code",
   "execution_count": 39,
   "id": "7ae4d037-e01a-460f-b34c-2cdabdcbe5e9",
   "metadata": {},
   "outputs": [
    {
     "name": "stdout",
     "output_type": "stream",
     "text": [
      "10186\n"
     ]
    }
   ],
   "source": [
    "N = 123456\n",
    "count = 0\n",
    "if N != 0:\n",
    "    for i in range(N, 2*N+1):\n",
    "        if IsPrime(i) == True:\n",
    "            count += 1\n",
    "    print(count)\n"
   ]
  },
  {
   "cell_type": "markdown",
   "id": "f1ee212d-cbfc-4364-a8f9-a7b67a4839d3",
   "metadata": {},
   "source": [
    "## 위 방법은 시간초과가 뜸\n",
    "- 그러면 이렇게 접근합시다 : 최초에 리스트를 하나 만들어둔다 : `1부터 123456 * 2 까지의 소수 리스트`\n",
    "- 접근 방식에선 이게 걸린다.\n",
    "    - 어떤 소수가 하나 발견됨 -> 그 소수의 배수들을 리스트에서 모두 제거함\n",
    "    - 반복문이 너무 많이 쓰이는 거 아닐까? 이거도 드럽게 오래 걸리는데\n",
    "- 그래서 `그냥 빈 리스트에 append하는 방식`을 택함"
   ]
  },
  {
   "cell_type": "code",
   "execution_count": 56,
   "id": "afa5b584-b3c5-4fec-9da6-3d0273a27f4a",
   "metadata": {},
   "outputs": [],
   "source": [
    "Max = 123456 * 2 \n",
    "lst = list(range(2, Max + 1))\n",
    "prime_lst = []\n",
    "\n",
    "for i in lst:\n",
    "    if IsPrime(i) == True:\n",
    "        # i 빼고 i의 배수들을 리스트에서 제거함.. 보다는 그냥 소수 리스트를 따로 만들자\n",
    "        # 왜냐면 반복문이 또 들어가니까 비효율적임\n",
    "        prime_lst.append(i)"
   ]
  },
  {
   "cell_type": "code",
   "execution_count": 83,
   "id": "65de1b9c-a4c2-455a-a123-892de60046ac",
   "metadata": {},
   "outputs": [
    {
     "name": "stdout",
     "output_type": "stream",
     "text": [
      "10\n"
     ]
    }
   ],
   "source": [
    "# 예를들어 i = 2 라면 4, 6, 8, ... , 123456 * 2는 리스트에서 제거되어야 함\n",
    "N = 50\n",
    "count = 0\n",
    "if N != 0:\n",
    "    for i in prime_lst:\n",
    "        if i > N and i <= 2*N:\n",
    "            count += 1\n",
    "    print(count)"
   ]
  },
  {
   "cell_type": "markdown",
   "id": "e305892b-6b0d-488f-b78e-13c0f4af45d4",
   "metadata": {},
   "source": [
    "## 9020번 : 골드바흐의 추측\n",
    "- 2보다 큰 모든 짝수는 두 소수의 합으로 나타낼 수 있다\n",
    "    - 이 때 짝수를 두 소수의 합으로 나타내는 표현을 `골드바흐 파티션`이라고 함. \n",
    "    - 골드바흐 파티션을 출력하는 프로그램을 작성할 것. 여러 개라면 두 소수의 차이가 가장 작은 것을 출력한다.\n",
    "    - 입력 조건 : n>= 4 and n<=10000"
   ]
  },
  {
   "cell_type": "code",
   "execution_count": 220,
   "id": "cbfc5b33-b2f3-4908-a874-fff2ffce7acb",
   "metadata": {
    "tags": []
   },
   "outputs": [],
   "source": [
    "# 소수 찾는 함수\n",
    "def IsPrime(n):\n",
    "    if n == 1:\n",
    "        return False\n",
    "    else:\n",
    "        for i in range(2, int(math.sqrt(n) + 1)):\n",
    "            if n % i == 0:\n",
    "                return False\n",
    "    return True\n",
    "\n",
    "# 어떤 숫자가 주어졌을 때 그 수 이하의 소수 리스트 작성\n",
    "def find_prime_lst(n):\n",
    "    lst = []\n",
    "    for i in range(2, n + 1):\n",
    "        if IsPrime(i) == True:\n",
    "            lst.append(i)\n",
    "    return lst\n",
    "\n",
    "# 시간 초과 개선하기 : find_prime_lst를 10000에 대해 만들어 놓고 쓰는 방법\n",
    "basic_lst = find_prime_lst(10000)"
   ]
  },
  {
   "cell_type": "code",
   "execution_count": 229,
   "id": "2d13a006-3e6d-4164-9f84-105e862998ac",
   "metadata": {},
   "outputs": [],
   "source": [
    "n_lst = []\n",
    "n = 10000\n",
    "for i in basic_lst:\n",
    "    if i <= n:\n",
    "        n_lst.append(i)"
   ]
  },
  {
   "cell_type": "code",
   "execution_count": 237,
   "id": "27208bcc-a899-411b-be4f-abbab60618b2",
   "metadata": {},
   "outputs": [
    {
     "name": "stdout",
     "output_type": "stream",
     "text": [
      "4919 5081\n"
     ]
    }
   ],
   "source": [
    "if n / 2 in n_lst:\n",
    "    print(f\"{n // 2} {n // 2}\")\n",
    "else:\n",
    "    # 여기서 길이를 이용한 방법은 유용하지 않음 - 숫자 크기와 리스트 길이가 비례하는 모양은 아니기 때문임\n",
    "    for i in range(len(n_lst)):\n",
    "        if n_lst[i] <= n / 2 and n_lst[i+1] > n / 2:\n",
    "            lower = i\n",
    "            higher = i+1 \n",
    "            break\n",
    "\n",
    "\n",
    "    find_sol = False\n",
    "\n",
    "    for i in range(lower + 1, lower // 2, -1):\n",
    "        for j in range(higher, int(1.2*higher)):\n",
    "            # 두 값의 합이 n보다 이미 크다면 더 반복할 필요 없음 - 이 때는 lower를 낮춰주는 방식으로 진행함\n",
    "            # 이건 안쪽 반복문이 higher이니까 >인 거고 아니라면 <로 해도 됨\n",
    "            # 계산량 줄입시다!\n",
    "            \n",
    "            if n_lst[i] + n_lst[j] > n:\n",
    "                break\n",
    "            \n",
    "            elif n_lst[i] + n_lst[j] == n:\n",
    "                find_sol = True\n",
    "                print(f\"{n_lst[i]} {n_lst[j]}\")\n",
    "                break\n",
    "        if find_sol == True:\n",
    "            break"
   ]
  },
  {
   "cell_type": "markdown",
   "id": "b6176078-affd-4972-8d9e-26b8a4625833",
   "metadata": {},
   "source": [
    "### 위 방법으로 풀긴 했지만 더 쉽고 빠른 방법을 찾아본다\n",
    "1. 절반으로 나눈 값이 소수라면 그냥 그 두 개\n",
    "2. 소수가 아니라면 두 값을 설정, 반복 1번당 1씩 증가 / 감소, 그 증가 / 감소한 값이 둘 다 소수면 그게 정답임"
   ]
  },
  {
   "cell_type": "code",
   "execution_count": 241,
   "id": "34782455-40c9-47b1-b91b-a513e3a05248",
   "metadata": {},
   "outputs": [
    {
     "name": "stdout",
     "output_type": "stream",
     "text": [
      "2 2\n",
      "3 3\n",
      "3 5\n",
      "5 5\n",
      "5 7\n"
     ]
    }
   ],
   "source": [
    "def IsPrime(n):\n",
    "    if n == 1:\n",
    "        return False\n",
    "    for j in range(2, int(n**0.5) + 1):\n",
    "        if n % j == 0:\n",
    "            return False\n",
    "    return True\n",
    "\n",
    "lst = [4, 6, 8, 10, 12]\n",
    "\n",
    "for i in lst:\n",
    "    num = i\n",
    "\n",
    "    a, b = num//2, num//2\n",
    "    while a > 0:\n",
    "        if IsPrime(a) and IsPrime(b):\n",
    "            print(a, b)\n",
    "            break\n",
    "        else:\n",
    "            a -= 1\n",
    "            b += 1"
   ]
  },
  {
   "cell_type": "markdown",
   "id": "702a6a79-1066-4838-9944-78c8f624dc66",
   "metadata": {},
   "source": [
    "# 10872번 : 팩토리얼\n",
    "- 반복문 말고 재귀함수로 구현하세요"
   ]
  },
  {
   "cell_type": "code",
   "execution_count": 11,
   "id": "2375983b-d542-4215-b5b5-7a2e549a3438",
   "metadata": {},
   "outputs": [],
   "source": [
    "def factorial(n):\n",
    "    if n == 0 :\n",
    "        n = 1\n",
    "    else:\n",
    "        n = n * factorial(n-1)\n",
    "    return n"
   ]
  },
  {
   "cell_type": "code",
   "execution_count": 12,
   "id": "edf4aa92-c3f8-4317-bb2c-1821849bce04",
   "metadata": {},
   "outputs": [
    {
     "data": {
      "text/plain": [
       "120"
      ]
     },
     "execution_count": 12,
     "metadata": {},
     "output_type": "execute_result"
    }
   ],
   "source": [
    "factorial(5)"
   ]
  },
  {
   "cell_type": "markdown",
   "id": "a13505e8-85ca-4eab-b685-4885b95050fd",
   "metadata": {},
   "source": [
    "# 10870번 : 피보나치 수열\n",
    "- 역시 재귀함수로 구현하시오"
   ]
  },
  {
   "cell_type": "code",
   "execution_count": 15,
   "id": "46450683-eae2-494a-b6da-285ed11892cc",
   "metadata": {},
   "outputs": [
    {
     "name": "stdout",
     "output_type": "stream",
     "text": [
      "0\n",
      "1\n",
      "1\n",
      "2\n",
      "3\n",
      "5\n",
      "8\n",
      "13\n",
      "21\n",
      "34\n"
     ]
    }
   ],
   "source": [
    "def fibonacci(n):\n",
    "    if n == 0:\n",
    "        n = 0\n",
    "    elif n == 1:\n",
    "        n = 1\n",
    "    else:\n",
    "        n = fibonacci(n-1) + fibonacci(n-2)\n",
    "    return n\n",
    "\n",
    "print(fibonacci(n))"
   ]
  },
  {
   "cell_type": "markdown",
   "id": "58a9f72e-9910-4243-a825-121bd5390d0d",
   "metadata": {},
   "source": [
    "## 17478번"
   ]
  },
  {
   "cell_type": "code",
   "execution_count": 75,
   "id": "ac09c799-64c0-46bb-a5aa-345bc70feacb",
   "metadata": {},
   "outputs": [],
   "source": [
    "N = 4\n",
    "def Jagui(n):\n",
    "    if n == N:\n",
    "        print(\"어느 한 컴퓨터공학과 학생이 유명한 교수님을 찾아가 물었다.\")\n",
    "    print(f'{\"_\" * 4 * (N - n)}\"재귀함수가 뭔가요?\"')\n",
    "    if n > 0:\n",
    "        print(f'{\"_\" * 4 * (N - n)}\"잘 들어보게. 옛날옛날 한 산 꼭대기에 이세상 모든 지식을 통달한 선인이 있었어.')\n",
    "        print(f'{\"_\" * 4 * (N - n)}마을 사람들은 모두 그 선인에게 수많은 질문을 했고, 모두 지혜롭게 대답해 주었지.')\n",
    "        print(f'{\"_\" * 4 * (N - n)}그의 답은 대부분 옳았다고 하네. 그런데 어느 날, 그 선인에게 한 선비가 찾아와서 물었어.\"')\n",
    "        Jagui(n-1)\n",
    "    elif n == 0 :\n",
    "        print(f'{\"_\" * 4 * (N - n)}\"재귀함수는 자기 자신을 호출하는 함수라네\"')\n",
    "    print(f'{\"_\" * 4 * (N - n)}라고 답변하였지.')\n"
   ]
  },
  {
   "cell_type": "code",
   "execution_count": 74,
   "id": "5878d394-d848-4af3-96e4-78f5f178a9c8",
   "metadata": {},
   "outputs": [
    {
     "name": "stdout",
     "output_type": "stream",
     "text": [
      "어느 한 컴퓨터공학과 학생이 유명한 교수님을 찾아가 물었다.\n",
      "\"재귀함수가 뭔가요?\"\n",
      "\"잘 들어보게. 옛날옛날 한 산 꼭대기에 이세상 모든 지식을 통달한 선인이 있었어.\n",
      "마을 사람들은 모두 그 선인에게 수많은 질문을 했고, 모두 지혜롭게 대답해 주었지.\n",
      "그의 답은 대부분 옳았다고 하네. 그런데 어느 날, 그 선인에게 한 선비가 찾아와서 물었어.\"\n",
      "____\"재귀함수가 뭔가요?\"\n",
      "____\"잘 들어보게. 옛날옛날 한 산 꼭대기에 이세상 모든 지식을 통달한 선인이 있었어.\n",
      "____마을 사람들은 모두 그 선인에게 수많은 질문을 했고, 모두 지혜롭게 대답해 주었지.\n",
      "____그의 답은 대부분 옳았다고 하네. 그런데 어느 날, 그 선인에게 한 선비가 찾아와서 물었어.\"\n",
      "________\"재귀함수가 뭔가요?\"\n",
      "________\"재귀함수는 자기 자신을 호출하는 함수라네\"\n",
      "________라고 답변하였지.\n",
      "____라고 답변하였지.\n",
      "라고 답변하였지.\n"
     ]
    }
   ],
   "source": [
    "Jagui(N)"
   ]
  },
  {
   "cell_type": "code",
   "execution_count": 55,
   "id": "3b8e9eae-f479-4e8f-9f40-a49a79fa1234",
   "metadata": {},
   "outputs": [
    {
     "name": "stdout",
     "output_type": "stream",
     "text": [
      "a c\n"
     ]
    }
   ],
   "source": [
    "# 포인트는 이 지점임\n",
    "# N에서 호출 된건 _ * 4 * (N - N)가 없음\n",
    "# N-1에서 호출된 건 _ * 4(N - (N - 1))개가 앞에 붙음\n",
    "# 0에서 호출된건 _ * 4 * N개가 앞에 붙음\n",
    "# + fstring을 써서 붙여준다. 띄어쓰기 때문에 틀렸었음"
   ]
  },
  {
   "cell_type": "markdown",
   "id": "42f89cee-712f-4fe5-8982-001b46e65047",
   "metadata": {},
   "source": [
    "## 2447번 : 별 찍기\n",
    "- 재귀함수는 return 값을 이용해야 함"
   ]
  },
  {
   "cell_type": "code",
   "execution_count": 99,
   "id": "2014eff6-c021-4b39-8c4b-1d1edb6bf1c4",
   "metadata": {},
   "outputs": [],
   "source": [
    "def star(n):\n",
    "    if n == 3:\n",
    "        return(print('*' * n), print('* *' * (n-2)), print('*' * n))\n",
    "    else:\n",
    "        star(n//3)\n",
    "        \n",
    "    "
   ]
  },
  {
   "cell_type": "code",
   "execution_count": 101,
   "id": "3adbf584-3f33-4983-bd00-ce3063b474ba",
   "metadata": {},
   "outputs": [
    {
     "name": "stdout",
     "output_type": "stream",
     "text": [
      "***\n",
      "* *\n",
      "***\n"
     ]
    }
   ],
   "source": [
    "star(81)"
   ]
  },
  {
   "cell_type": "code",
   "execution_count": null,
   "id": "66109eb3-a35b-4cd5-872f-e88663fb6053",
   "metadata": {},
   "outputs": [],
   "source": []
  }
 ],
 "metadata": {
  "kernelspec": {
   "display_name": "Python 3",
   "language": "python",
   "name": "python3"
  },
  "language_info": {
   "codemirror_mode": {
    "name": "ipython",
    "version": 3
   },
   "file_extension": ".py",
   "mimetype": "text/x-python",
   "name": "python",
   "nbconvert_exporter": "python",
   "pygments_lexer": "ipython3",
   "version": "3.8.8"
  }
 },
 "nbformat": 4,
 "nbformat_minor": 5
}
