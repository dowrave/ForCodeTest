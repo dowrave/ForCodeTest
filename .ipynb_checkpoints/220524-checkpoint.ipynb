{
 "cells": [
  {
   "cell_type": "markdown",
   "id": "66a26695-f727-481e-bc6b-9254cc9b8713",
   "metadata": {},
   "source": [
    "## 백준 10809번 : 알파벳 찾기"
   ]
  },
  {
   "cell_type": "code",
   "execution_count": 1,
   "id": "16e2a08d-bbf2-4a42-8e6f-6fcc2c85cce7",
   "metadata": {},
   "outputs": [],
   "source": [
    "import sys\n",
    "sys.stdin = open(\"test.txt\", 'r')"
   ]
  },
  {
   "cell_type": "code",
   "execution_count": 2,
   "id": "6a00c08c-05c3-46ed-84fb-5c738610f1b0",
   "metadata": {},
   "outputs": [
    {
     "name": "stdout",
     "output_type": "stream",
     "text": [
      "leehyeontae\n"
     ]
    }
   ],
   "source": [
    "txt =sys.stdin.readline()\n",
    "print(txt)"
   ]
  },
  {
   "cell_type": "code",
   "execution_count": 6,
   "id": "734213b4-7dff-4f77-8d50-e7e8f4c34d1d",
   "metadata": {},
   "outputs": [
    {
     "name": "stdout",
     "output_type": "stream",
     "text": [
      "{'a': -1, 'b': -1, 'c': -1, 'd': -1, 'e': -1, 'f': -1, 'g': -1, 'h': -1, 'i': -1, 'j': -1, 'k': -1, 'l': -1, 'm': -1, 'n': -1, 'o': -1, 'p': -1, 'q': -1, 'r': -1, 's': -1, 't': -1, 'u': -1, 'v': -1, 'w': -1, 'x': -1, 'y': -1, 'z': -1}\n"
     ]
    }
   ],
   "source": [
    "# a : 97 ~ z : 122\n",
    "dic = {}\n",
    "for i in range(97, 123):\n",
    "    dic[chr(i)] = -1\n",
    "print(dic)\n",
    "\n",
    "idx_dict = {}\n",
    "for idx, val in enumerate(txt):\n",
    "    if val not in idx_dict.keys():\n",
    "        idx_dict[val] = idx\n",
    "print(idx_dict)\n",
    "\n",
    "for i in dic:\n",
    "    if i in idx_dict:\n",
    "        dic[i] = idx_dict[i]\n",
    "\n",
    "# 출력값 만지기\n",
    "for i in dic.values():\n",
    "    print(i , end =\" \")"
   ]
  },
  {
   "cell_type": "markdown",
   "id": "d6efac41-067c-4e6e-b074-d87fd8006477",
   "metadata": {},
   "source": [
    "## 백준 2675번 : 문자열 반복"
   ]
  },
  {
   "cell_type": "code",
   "execution_count": 43,
   "id": "0dc52aba-d548-4b14-bfd0-4c94e53293c7",
   "metadata": {},
   "outputs": [
    {
     "name": "stdout",
     "output_type": "stream",
     "text": [
      "AAABBBCCC\n",
      "/////HHHHHTTTTTPPPPP\n"
     ]
    }
   ],
   "source": [
    "sys.stdin = open('test.txt', 'r')\n",
    "inputs = sys.stdin.readlines()\n",
    "\n",
    "T = int(inputs[0])\n",
    "\n",
    "for txts in inputs[1:T + 1]:\n",
    "    lst = txts.rstrip(\"\\n\").split(\" \")\n",
    "    R = int(lst[0])\n",
    "    text = lst[1]\n",
    "    for i in lst[1]:\n",
    "        print(i*R, end=\"\")\n",
    "    print()"
   ]
  },
  {
   "cell_type": "markdown",
   "id": "4e7108c6-5d12-46cc-9a58-a32e242bc738",
   "metadata": {},
   "source": [
    "### 백준 1157번"
   ]
  },
  {
   "cell_type": "code",
   "execution_count": 112,
   "id": "3c7d1a55-0694-4b23-ba85-22ac1215c122",
   "metadata": {},
   "outputs": [
    {
     "name": "stdout",
     "output_type": "stream",
     "text": [
      "abcabcabc`````````````sdcasdp';/njmb,hj\n",
      "{'a': 4, 'b': 4, 'c': 4, 's': 2, 'd': 2, 'p': 1, 'n': 1, 'j': 2, 'm': 1, 'h': 1}\n"
     ]
    }
   ],
   "source": [
    "sys.stdin = open('test.txt', 'r')\n",
    "txt = sys.stdin.readline().lower()\n",
    "print(txt)\n",
    "dic = {}\n",
    "for i in txt:\n",
    "    if ord(i) >= ord('a') and ord(i) <= ord('z'): # 아니 야발 이거라고?\n",
    "        # input이 알파벳 대소문자라고 줘놓고 예외를 던져버렸네 야발\n",
    "        # 이럴 거면 100만자 이상도 막 집어넣을 수 있다고 하지 왜?\n",
    "        if i not in dic.keys():\n",
    "            dic[i] = 1\n",
    "        elif i in dic.keys():\n",
    "            dic[i] += 1\n",
    "print(dic)"
   ]
  },
  {
   "cell_type": "code",
   "execution_count": 113,
   "id": "41a677d0-e96a-4ddd-9803-63cc6fb0d1ef",
   "metadata": {},
   "outputs": [
    {
     "name": "stdout",
     "output_type": "stream",
     "text": [
      "['a', 'b', 'c']\n",
      "?\n"
     ]
    }
   ],
   "source": [
    "# 최댓값을 갖는 key 찾기\n",
    "max_keys = []\n",
    "for i in dic:\n",
    "    if dic[i] == max(dic.values()):\n",
    "        max_keys.append(i)\n",
    "\n",
    "print(max_keys)\n",
    "\n",
    "if len(max_keys) == 1:\n",
    "    print(max_keys[0].upper())\n",
    "elif len(max_keys) >= 2:\n",
    "    print(\"?\")"
   ]
  },
  {
   "cell_type": "markdown",
   "id": "d625fda0-91ac-4d19-9926-fbecec3f2a1d",
   "metadata": {},
   "source": [
    "### 에베베베"
   ]
  }
 ],
 "metadata": {
  "kernelspec": {
   "display_name": "Python 3",
   "language": "python",
   "name": "python3"
  },
  "language_info": {
   "codemirror_mode": {
    "name": "ipython",
    "version": 3
   },
   "file_extension": ".py",
   "mimetype": "text/x-python",
   "name": "python",
   "nbconvert_exporter": "python",
   "pygments_lexer": "ipython3",
   "version": "3.8.8"
  }
 },
 "nbformat": 4,
 "nbformat_minor": 5
}
