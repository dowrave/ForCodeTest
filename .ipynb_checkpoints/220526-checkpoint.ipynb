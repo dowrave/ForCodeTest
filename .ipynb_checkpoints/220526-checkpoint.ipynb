{
 "cells": [
  {
   "cell_type": "markdown",
   "id": "414af078-f029-4f06-95eb-4c2208f4958c",
   "metadata": {},
   "source": [
    "# 백준 2775번\n",
    "- ㅈㄴ 어렵네\n",
    "```\n",
    "5  1  7  28 84 210\n",
    "4  1  6  21 56 126\n",
    "3  1  5  15 35 70\n",
    "2  1  4  10 20 35\n",
    "1  1  3  6  10 15\n",
    "0  1  2  3  4  5 \n",
    "```"
   ]
  },
  {
   "cell_type": "code",
   "execution_count": 1,
   "id": "1bf9cb9e-7a31-4430-9093-025d70ed659c",
   "metadata": {},
   "outputs": [],
   "source": [
    "import sys\n",
    "sys.stdin = open('test.txt', 'r')"
   ]
  },
  {
   "cell_type": "code",
   "execution_count": 2,
   "id": "2a25a897-21cf-4f47-8a0f-f0bfc173c17c",
   "metadata": {},
   "outputs": [],
   "source": [
    "# 모르겠으면 가장 심플하게 접근하자\n",
    "# 어차피 k, n 범위가 14라서 크지 않음\n",
    "# k >= 1 층 n호에 대한 식은\n",
    "# 그냥 n까지의 합을 구하고 그 값들을 다시 반복문에 넣는 방식임"
   ]
  },
  {
   "cell_type": "code",
   "execution_count": 69,
   "id": "fef81228-cbda-40b7-b50f-d3581bfdeb40",
   "metadata": {},
   "outputs": [
    {
     "name": "stdout",
     "output_type": "stream",
     "text": [
      "[1, 2, 3, 4, 5]\n",
      "[0, 0, 0, 0]\n",
      "[]\n"
     ]
    }
   ],
   "source": [
    "# 그냥 리스트 쓰자 ㅡㅡ\n",
    "lst = [i for i in range(1, n + 1)]\n",
    "sum_lst = []\n",
    "n = 5\n",
    "k = 3\n",
    "\n",
    "print(lst)\n",
    "\n",
    "for i in range(k):\n",
    "    \n",
    "    sum_lst = lst\n",
    "    \n",
    "    for j in range(1, n):\n",
    "        lst.append(sum(lst[:j+1]))\n",
    "        \n",
    "    \n",
    "    lst = []\n",
    "\n",
    "print(sum_lst)\n",
    "print(lst)"
   ]
  },
  {
   "cell_type": "code",
   "execution_count": 94,
   "id": "878ae164-8d19-4d0e-adba-ad2640b839c3",
   "metadata": {},
   "outputs": [],
   "source": [
    "# n번째 인덱스까지의 합을 바꾸는 함수를 만들 수 있나?\n",
    "def value_to_sum(lst):\n",
    "    new_lst = []\n",
    "    \n",
    "    for i in range(len(lst)):\n",
    "        new_lst.append(sum(lst[:i + 1]))\n",
    "        \n",
    "    return new_lst"
   ]
  },
  {
   "cell_type": "code",
   "execution_count": 96,
   "id": "ed5dd652-1ddb-42c2-a490-5da53219e28d",
   "metadata": {},
   "outputs": [
    {
     "name": "stdout",
     "output_type": "stream",
     "text": [
      "[1, 2, 3]\n",
      "[1, 4, 10] 10\n"
     ]
    }
   ],
   "source": [
    "n = 3\n",
    "k = 2\n",
    "lst = [i for i in range(1, n + 1)]\n",
    "print(lst)\n",
    "for _ in range(k):\n",
    "    lst = value_to_sum(lst)\n",
    "print(lst, lst[-1])"
   ]
  },
  {
   "cell_type": "markdown",
   "id": "bf968b8d-d219-4c90-84c8-aca4b101a672",
   "metadata": {},
   "source": [
    "- 풀긴 풀었는데 현타 오지네 ㅋㅋㅋㅋ 아 자료구조 있으면 그거 쓰라고~\n",
    "- 거의 2시간 넘게 잡은듯"
   ]
  },
  {
   "cell_type": "markdown",
   "id": "fcaf7301-def7-4775-bfd8-d541a3e1520a",
   "metadata": {},
   "source": [
    "## 2839번\n",
    "- N kg, 3 kg, 5 kg 봉지가 있다\n",
    "- 가능한 적은 수의 봉지를 쓰련다\n",
    "- 정확히 N kg가 되지 못한다면 -1"
   ]
  },
  {
   "cell_type": "markdown",
   "id": "8dc8283b-c7c8-4e3f-9433-d0c311995063",
   "metadata": {},
   "source": [
    "- 5를 쓰고 3을 써야 한다는 식으로 생각되므로 몫 연산이 유효할 거 같지만 11, 22 같은 예시에서는 그게 안먹힘.\n",
    "- 11 = 5 + 3 * 2 "
   ]
  },
  {
   "cell_type": "markdown",
   "id": "f6be5026-0e05-42d4-b3b6-f6d359c9e5f5",
   "metadata": {},
   "source": [
    "- +3, +6, +9, +12 까지는 체크해야 함"
   ]
  },
  {
   "cell_type": "code",
   "execution_count": 170,
   "id": "8c50d817-995a-456c-b85a-32e6128a1294",
   "metadata": {},
   "outputs": [
    {
     "name": "stdout",
     "output_type": "stream",
     "text": [
      "4\n"
     ]
    }
   ],
   "source": [
    "N = 14\n",
    "\n",
    "if N >= 3 and N <= 5000:\n",
    "    if N % 5 == 0 and N % 3 == 0: # 공배수\n",
    "        count = N // 5\n",
    "    elif N % 5 == 0 and N % 3 != 0: # 5의 배수(공배수 제외)\n",
    "        count = N // 5\n",
    "    elif N >= 3 and (N - 3) % 5 == 0:\n",
    "        count = (N - 3) // 5 + 1\n",
    "    elif N >= 6 and (N - 6) % 5 == 0:\n",
    "        count = (N - 6) // 5 + 2\n",
    "    elif N >= 9 and (N - 9) % 5 == 0:\n",
    "        count = (N - 9) // 5 + 3\n",
    "    elif N >= 12 and (N - 12) % 5 == 0:\n",
    "        count = (N - 12) // 5 + 4\n",
    "    elif N % 5 != 0 and N % 3 == 0:\n",
    "        count = N // 3\n",
    "    else:\n",
    "        count = -1\n",
    "\n",
    "print(count)"
   ]
  },
  {
   "cell_type": "markdown",
   "id": "53ad7d41-4d2a-4d38-984c-8162ffb1f457",
   "metadata": {},
   "source": [
    "### 백준 1978번 : 소수 찾기\n",
    "- 소수의 정의 : 1과 자기 자신 빼고 나눠 떨어지는 수가 없음"
   ]
  },
  {
   "cell_type": "code",
   "execution_count": 200,
   "id": "17419aab-ec76-4f57-84e1-1eba059b2921",
   "metadata": {},
   "outputs": [],
   "source": [
    "a = \"2 3 5 7 9 11\"\n",
    "n = list(map(int, a.split(\" \")))"
   ]
  },
  {
   "cell_type": "code",
   "execution_count": 201,
   "id": "f255be84-e7a0-4a4e-9f83-8fd7da0ce5b8",
   "metadata": {},
   "outputs": [
    {
     "name": "stdout",
     "output_type": "stream",
     "text": [
      "5\n"
     ]
    }
   ],
   "source": [
    "count = 0\n",
    "for i in n:\n",
    "    if i == 1:\n",
    "        continue\n",
    "    elif i == 2:\n",
    "        count += 1\n",
    "    else:\n",
    "        for j in range(2, i + 1):\n",
    "            if i % j == 0:\n",
    "                break\n",
    "            if j > i/2 :\n",
    "                count += 1\n",
    "                break\n",
    "print(count)"
   ]
  },
  {
   "cell_type": "markdown",
   "id": "baf36f11-293c-43bf-984f-8e510638a4bd",
   "metadata": {},
   "source": [
    "1. 풀면서 든 생각은 그 수보다 작은 모든 수에 대해 돌리지 않고 절반 정도 까지만 돌리면 될 것 같았음. 끽해야 2로 나뉘는 정도니까\n",
    "2. 소수 찾는 알고리즘을 `에라토스체네스의 체`라고 한다는 듯 함\n",
    "    - `에라토스체네스의 체` : 1부터 n까지의 수 중 소수를 찾고 싶다면, 모든 수를 나열한 뒤 2부터 하나 씩 올라가면서 배수를 제거함. 이는 n**1/2보다 큰 값에서 멈춤\n",
    "    - `수의 절반`이 아니라, `수의 제곱근` 정도까지만 돌려도 위 알고리즘은 먹힌다고 함\n",
    "    - 그럴 경우 시간복잡도는 `O(n/2)` -> `O(n^1/2)`이 되겠죠?\n",
    "    - 제곱근은 `**`연산으로 씌울 수 있음\n",
    "#### 왜 제곱근이 먹힐까?\n",
    "- 결국 `n = a * b`라고 생각하면 둘 중 하나는 반드시 제곱근보다 작거나 같은 수가 오게 되어 있음\n",
    "    - 약수가 있다면 어떤 두 수를 곱해서 그 수를 만들 수 있다는 의미이므로, 소수를 찾는 케이스에 유용하게 쓰임\n"
   ]
  },
  {
   "cell_type": "code",
   "execution_count": 205,
   "id": "45698507-0485-485e-abb1-d2b5d21cf305",
   "metadata": {},
   "outputs": [
    {
     "name": "stdout",
     "output_type": "stream",
     "text": [
      "5\n"
     ]
    }
   ],
   "source": [
    "count = 0\n",
    "for i in n:\n",
    "    if i == 1:\n",
    "        continue\n",
    "    elif i == 2:\n",
    "        count += 1\n",
    "    else:\n",
    "        for j in range(2, i + 1):\n",
    "            if i % j == 0:\n",
    "                break\n",
    "            if j > i ** 1/2:\n",
    "                count += 1\n",
    "                break\n",
    "print(count)"
   ]
  },
  {
   "cell_type": "markdown",
   "id": "8101acc2-12d1-49aa-a296-dbb13449bb64",
   "metadata": {},
   "source": [
    "## 백준 2581번\n",
    "- M이상 N이하의 소수를 찾음\n",
    "- 첫째 줄에 그 합을, 둘째 줄에 최소값을 출력함\n",
    "- 소수가 없다면 -1\n",
    "- <b>주어진 조건을 의심하진 말자</b>\n",
    "    - 즉 입력이 10000 이하의 자연수면 그런 값만 들어온다고 생각해야 함\n",
    "        - 10001이 들어오면 어떡하지? 이러는 게 의미가 없다는 뜻\n",
    "    - 조건 안에서 되지 않는 케이스를 찾는게 맞음"
   ]
  },
  {
   "cell_type": "code",
   "execution_count": 249,
   "id": "47ad035f-3728-4111-960a-19190917f1b6",
   "metadata": {},
   "outputs": [
    {
     "name": "stdout",
     "output_type": "stream",
     "text": [
      "60 100\n"
     ]
    }
   ],
   "source": [
    "sys.stdin = open('test.txt', 'r')\n",
    "M, N = list(map(int, sys.stdin.readlines()))\n",
    "print(M, N)"
   ]
  },
  {
   "cell_type": "code",
   "execution_count": 252,
   "id": "b4797638-4e70-4394-ba63-2be47fa924ae",
   "metadata": {},
   "outputs": [
    {
     "name": "stdout",
     "output_type": "stream",
     "text": [
      "620\n",
      "61\n"
     ]
    }
   ],
   "source": [
    "# 알고리즘 자체는 다르지 않을 듯?\n",
    "lst = []\n",
    "\n",
    "for i in range(M, N + 1):\n",
    "    if i == 1:\n",
    "        continue\n",
    "    else:\n",
    "        for j in range(2, i + 1):\n",
    "            # 순서 중요함\n",
    "            # 2, 3 등에 대해선 이미 처리 들어가야 함\n",
    "            # 4 같은 경우도 2부터 시작하니까 elif문 타게 됨\n",
    "            if j > i**(1/2):\n",
    "                lst.append(i)\n",
    "                break\n",
    "            elif i % j == 0:\n",
    "                break\n",
    "            \n",
    "if lst == []:\n",
    "    print(-1)\n",
    "else:\n",
    "    print(sum(lst))\n",
    "    print(min(lst))"
   ]
  },
  {
   "cell_type": "markdown",
   "id": "7f069103-88da-4d84-b419-c0dd2c8004b9",
   "metadata": {},
   "source": [
    "## 백준 11653번 : 소인수분해\n",
    "- 출력 : 소인수분해 결과를 오름차순으로 하나씩 출력"
   ]
  },
  {
   "cell_type": "code",
   "execution_count": 349,
   "id": "81759f80-1def-4f3b-89d2-320c91f7a071",
   "metadata": {
    "collapsed": true,
    "jupyter": {
     "outputs_hidden": true,
     "source_hidden": true
    },
    "tags": []
   },
   "outputs": [
    {
     "name": "stdout",
     "output_type": "stream",
     "text": [
      "[2, 4, 5, 8, 10, 16, 20, 25, 32, 40, 50, 80, 100, 125, 160, 200, 250, 400, 500, 625, 800, 1000, 1250, 2000, 2500, 3125, 4000, 5000, 6250, 10000, 12500, 20000, 25000, 50000, 100000]\n"
     ]
    }
   ],
   "source": [
    "import sys\n",
    "sys.stdin = open('test.txt', 'r')\n",
    "\n",
    "N = int(sys.stdin.readline())\n",
    "lst = []\n",
    "# 소인수분해를 하려면 소수를 알아야겠죠?\n",
    "# 근데 이 경우는 N/2까지 돌려야 할 거 같음\n",
    "# 왜냐하면 구성하는 소수를 알아야 하기 때문임\n",
    "\n",
    "# 소수를 넣으면 자기 자신이 튀어나와야 함 : 그냥 마지막에 넣으면 되잖?\n",
    "for i in range(2, int(N / 2 + 1)):\n",
    "    if N % i == 0 :\n",
    "        lst.append(i)\n",
    "\n",
    "if N > 1:\n",
    "    lst.append(N)\n",
    "        "
   ]
  },
  {
   "cell_type": "code",
   "execution_count": 350,
   "id": "34d011fb-1812-4906-84de-9e004db3f025",
   "metadata": {
    "collapsed": true,
    "jupyter": {
     "outputs_hidden": true,
     "source_hidden": true
    },
    "tags": []
   },
   "outputs": [
    {
     "name": "stdout",
     "output_type": "stream",
     "text": [
      "2\n",
      "2\n",
      "2\n",
      "2\n",
      "2\n",
      "5\n",
      "5\n",
      "5\n",
      "5\n",
      "5\n"
     ]
    }
   ],
   "source": [
    "# 기본 알고리즘부터 세팅\n",
    "cnt_dict = {}\n",
    "for i in range(int(len(lst) / 2) + 1) :\n",
    "    cnt = 0\n",
    "    while N % lst[i] == 0 :\n",
    "        N = N / lst[i] \n",
    "        cnt += 1\n",
    "    cnt_dict[lst[i]] = cnt\n",
    "    \n",
    "    # 여기서 바로 print해도 될 듯\n",
    "    for _ in range(cnt):\n",
    "        print(lst[i])\n",
    "\n",
    "# for key in cnt_dict.keys():\n",
    "#     if cnt_dict[key] != 0:\n",
    "#         for _ in range(cnt_dict[key]):\n",
    "#             print(key)"
   ]
  },
  {
   "cell_type": "code",
   "execution_count": 357,
   "id": "4b4a4fe1-9523-45b4-8a62-432678b43b3d",
   "metadata": {},
   "outputs": [
    {
     "name": "stdout",
     "output_type": "stream",
     "text": [
      "[]\n"
     ]
    },
    {
     "ename": "IndexError",
     "evalue": "list index out of range",
     "output_type": "error",
     "traceback": [
      "\u001b[1;31m---------------------------------------------------------------------------\u001b[0m",
      "\u001b[1;31mIndexError\u001b[0m                                Traceback (most recent call last)",
      "\u001b[1;32m<ipython-input-357-1d0794c8da30>\u001b[0m in \u001b[0;36m<module>\u001b[1;34m\u001b[0m\n\u001b[0;32m     23\u001b[0m \u001b[1;32mfor\u001b[0m \u001b[0mi\u001b[0m \u001b[1;32min\u001b[0m \u001b[0mrange\u001b[0m\u001b[1;33m(\u001b[0m\u001b[0mint\u001b[0m\u001b[1;33m(\u001b[0m\u001b[0mlen\u001b[0m\u001b[1;33m(\u001b[0m\u001b[0mlst\u001b[0m\u001b[1;33m)\u001b[0m \u001b[1;33m/\u001b[0m \u001b[1;36m2\u001b[0m\u001b[1;33m)\u001b[0m \u001b[1;33m+\u001b[0m \u001b[1;36m1\u001b[0m\u001b[1;33m)\u001b[0m \u001b[1;33m:\u001b[0m\u001b[1;33m\u001b[0m\u001b[1;33m\u001b[0m\u001b[0m\n\u001b[0;32m     24\u001b[0m     \u001b[0mcnt\u001b[0m \u001b[1;33m=\u001b[0m \u001b[1;36m0\u001b[0m\u001b[1;33m\u001b[0m\u001b[1;33m\u001b[0m\u001b[0m\n\u001b[1;32m---> 25\u001b[1;33m     \u001b[1;32mwhile\u001b[0m \u001b[0mN\u001b[0m \u001b[1;33m%\u001b[0m \u001b[0mlst\u001b[0m\u001b[1;33m[\u001b[0m\u001b[0mi\u001b[0m\u001b[1;33m]\u001b[0m \u001b[1;33m==\u001b[0m \u001b[1;36m0\u001b[0m \u001b[1;33m:\u001b[0m\u001b[1;33m\u001b[0m\u001b[1;33m\u001b[0m\u001b[0m\n\u001b[0m\u001b[0;32m     26\u001b[0m         \u001b[0mN\u001b[0m \u001b[1;33m=\u001b[0m \u001b[0mN\u001b[0m \u001b[1;33m/\u001b[0m \u001b[0mlst\u001b[0m\u001b[1;33m[\u001b[0m\u001b[0mi\u001b[0m\u001b[1;33m]\u001b[0m\u001b[1;33m\u001b[0m\u001b[1;33m\u001b[0m\u001b[0m\n\u001b[0;32m     27\u001b[0m         \u001b[0mcnt\u001b[0m \u001b[1;33m+=\u001b[0m \u001b[1;36m1\u001b[0m\u001b[1;33m\u001b[0m\u001b[1;33m\u001b[0m\u001b[0m\n",
      "\u001b[1;31mIndexError\u001b[0m: list index out of range"
     ]
    }
   ],
   "source": [
    "import sys\n",
    "# sys.stdin = open('test.txt', 'r')\n",
    "\n",
    "# N = int(sys.stdin.readline())\n",
    "\n",
    "N = 1\n",
    "if N > 1:\n",
    "    lst = []\n",
    "    # 소인수분해를 하려면 소수를 알아야겠죠?\n",
    "    # 근데 이 경우는 N/2까지 돌려야 할 거 같음\n",
    "    # 왜냐하면 구성하는 소수를 알아야 하기 때문임\n",
    "    # 소수를 넣으면 자기 자신이 튀어나와야 함 : 그냥 마지막에 넣으면 되잖?\n",
    "\n",
    "    for i in range(2, int(N / 2 + 1)):\n",
    "        if N % i == 0 :\n",
    "            lst.append(i)\n",
    "\n",
    "    if N > 1:\n",
    "        lst.append(N)\n",
    "\n",
    "    # 기본 알고리즘부터 세팅\n",
    "    # cnt_dict = {}\n",
    "    for i in range(int(len(lst) / 2) + 1) :\n",
    "        cnt = 0\n",
    "        while N % lst[i] == 0 :\n",
    "            N = N / lst[i] \n",
    "            cnt += 1\n",
    "        cnt_dict[lst[i]] = cnt\n",
    "\n",
    "        # 여기서 바로 print해도 될 듯\n",
    "        for _ in range(cnt):\n",
    "            print(lst[i])"
   ]
  },
  {
   "cell_type": "code",
   "execution_count": null,
   "id": "a6992165-4ba9-46a2-b2d0-4a0a0cda4326",
   "metadata": {},
   "outputs": [],
   "source": []
  }
 ],
 "metadata": {
  "kernelspec": {
   "display_name": "Python 3",
   "language": "python",
   "name": "python3"
  },
  "language_info": {
   "codemirror_mode": {
    "name": "ipython",
    "version": 3
   },
   "file_extension": ".py",
   "mimetype": "text/x-python",
   "name": "python",
   "nbconvert_exporter": "python",
   "pygments_lexer": "ipython3",
   "version": "3.8.8"
  }
 },
 "nbformat": 4,
 "nbformat_minor": 5
}
