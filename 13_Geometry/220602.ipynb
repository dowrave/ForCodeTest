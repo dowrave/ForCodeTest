{
 "cells": [
  {
   "cell_type": "markdown",
   "id": "83dc2c21-7e2c-4c14-824b-dcc7dec35874",
   "metadata": {},
   "source": [
    "# 1085번\n",
    "- x, y는 직사각형 내부에 있음\n",
    "- 직사각형은 왼쪽 아래가 (0, 0)\n",
    "- 오른쪽 위가 (w, h)임\n",
    "- 오 성장한게 느껴집니다?"
   ]
  },
  {
   "cell_type": "code",
   "execution_count": 5,
   "id": "a160896a-e46b-4361-bc2f-3dcfd95a856e",
   "metadata": {},
   "outputs": [
    {
     "data": {
      "text/plain": [
       "1"
      ]
     },
     "execution_count": 5,
     "metadata": {},
     "output_type": "execute_result"
    }
   ],
   "source": [
    "import sys\n",
    "sys.stdin = open('test.txt', 'r')\n",
    "\n",
    "x, y, w, h = map(int, sys.stdin.readline().rstrip('\\n').split())\n",
    "\n",
    "# 결국 x, y가 어떤 변에 가장 가깝냐고 묻는 거고\n",
    "# 이거는 어떤 점과 각 변까지의 거리 중 최솟값을 구하라는 것과 같음\n",
    "min(x, y, w-x, h-y)"
   ]
  },
  {
   "cell_type": "markdown",
   "id": "75f043f5-b288-4d26-9939-fcea6ac88dbb",
   "metadata": {},
   "source": [
    "# 3009번\n",
    "- 4번째 점 정하기\n",
    "- `축에 평행한 직사각형` 이라는게 설마 x축 y축에 평행한 직사각형이라는 말인가\n",
    "- ㅋㅋㅋㅋㅋㅋㅋㅋㅋㅋㅋㅋㅋㅋㅋㅋㅋㅋㅋㅋㅋㅋㅋㅋㅋㅋㅋㅋ\n",
    "- 않이 비뚤어진 직사각형도 생각하고 있었는데"
   ]
  },
  {
   "cell_type": "code",
   "execution_count": 47,
   "id": "81ede66d-ac80-425a-99e0-cc88e43aab9c",
   "metadata": {},
   "outputs": [
    {
     "name": "stdout",
     "output_type": "stream",
     "text": [
      "30 10\n"
     ]
    }
   ],
   "source": [
    "import sys\n",
    "sys.stdin = open('test.txt', 'r')\n",
    "\n",
    "dict_X = {}\n",
    "dict_Y = {}\n",
    "for _ in range(3):\n",
    "    inputs = list(map(int, sys.stdin.readline().rstrip('\\n').split()))\n",
    "    \n",
    "    if inputs[0] not in dict_X:\n",
    "        dict_X[inputs[0]] = 0 \n",
    "    if inputs[1] not in dict_Y:\n",
    "        dict_Y[inputs[1]] = 0 \n",
    "        \n",
    "    dict_X[inputs[0]] += 1\n",
    "    dict_Y[inputs[1]] += 1\n",
    "    \n",
    "fourth = []\n",
    "# 근데 최소 / 최대값 접근할 때는 다 이런 방식을 쓰네\n",
    "for i in dict_X.keys():\n",
    "    if dict_X[i] == min(dict_X.values()):\n",
    "        fourth.append(str(i))\n",
    "for i in dict_Y.keys():\n",
    "    if dict_Y[i] == min(dict_Y.values()):\n",
    "        fourth.append(str(i))\n",
    "\n",
    "print(\" \".join(fourth))"
   ]
  },
  {
   "cell_type": "markdown",
   "id": "9c14f3e2-b6fd-4e18-b27e-7f7929ae881f",
   "metadata": {},
   "source": [
    "- 최소, 최대 빈도를 갖는 값에 접근하는 더 좋은 방법이 없을까 찾아봤지만 다 비슷하게 사용함\n",
    "- 즉 빈도수 dict를 만든다 -> dict의 value 중 최솟값을 갖는 key를 반복문으로 구한다 -> 그 값을 이용한다"
   ]
  },
  {
   "cell_type": "markdown",
   "id": "0440e873-156a-47b9-b7e4-da05c47f0f99",
   "metadata": {},
   "source": [
    "## 4153번"
   ]
  },
  {
   "cell_type": "code",
   "execution_count": 53,
   "id": "ab10d38e-ad57-4e08-8e7c-19c7a7d07363",
   "metadata": {},
   "outputs": [
    {
     "name": "stdout",
     "output_type": "stream",
     "text": [
      "['6 8 10\\n', '25 52 60\\n', '5 12 13\\n', '0 0 0']\n",
      "right\n",
      "wrong\n",
      "right\n"
     ]
    }
   ],
   "source": [
    "import sys\n",
    "sys.stdin = open('test.txt', 'r')\n",
    "inputs = sys.stdin.readlines()\n",
    "\n",
    "print(inputs)\n",
    "for i in range(len(inputs) - 1):\n",
    "    lst = list(map(int, inputs[i].rstrip('\\n').split()))\n",
    "    lst.sort()\n",
    "    if lst[0] ** 2 + lst[1] ** 2 == lst[2] ** 2:\n",
    "        print('right')\n",
    "    else:\n",
    "        print('wrong')"
   ]
  },
  {
   "cell_type": "markdown",
   "id": "e1d3237d-8bb8-484d-b1bf-e36e651e902f",
   "metadata": {},
   "source": [
    "## 3034번"
   ]
  },
  {
   "cell_type": "code",
   "execution_count": 59,
   "id": "623298dc-c1c7-4f8d-9816-b488df4ff669",
   "metadata": {},
   "outputs": [
    {
     "name": "stdout",
     "output_type": "stream",
     "text": [
      "NE\n",
      "DA\n"
     ]
    }
   ],
   "source": [
    "import sys\n",
    "sys.stdin = open('test.txt', 'r')\n",
    "\n",
    "N, W, H = map(int, sys.stdin.readline().rstrip('\\n').split(' '))\n",
    "\n",
    "for i in range(N):\n",
    "    length = int(sys.stdin.readline().rstrip('\\n'))\n",
    "    if length ** 2 <= W**2 + H**2:\n",
    "        print(\"DA\")\n",
    "    else:\n",
    "        print(\"NE\")"
   ]
  },
  {
   "cell_type": "markdown",
   "id": "ee8e34f9-de32-4fae-b16b-cb8ca765f89e",
   "metadata": {},
   "source": [
    "## 2477번\n",
    "- 2개의 방향은 반드시 2번 나옴\n",
    "- 전체 넓이 - 제외되는 넓이 계산\n",
    "- 이를 위해 방향 숫자를 세는 count_dict 생성\n",
    "- count_dict에 1번만 나왔다면 전체 넓이를 구성하는 녀석이므로 곱해줌\n",
    "- 뺄셈에 들어가는 녀석의 특징은 이전 인덱스와 다음 인덱스의 방향이 동일하다는 점임. \n",
    "    - 조심해야 할 점은 던져지는 순서에 따라 연산이 달라질 수 있음\n",
    "    - 예를 들어 421313이면 1313 내부의 31 길이로 넓이를 구하면 됨\n",
    "    - 근데 134213이면 앞의 1과 가장 뒤의 3으로 계산해야 함 - 이 차이를 어떻게 가해줄까가 문제인데\n",
    "    - 앞과 뒤에 나오는 방향이 다른 애들을 골라내면 됨"
   ]
  },
  {
   "cell_type": "code",
   "execution_count": 75,
   "id": "f4b66f1f-d329-49a3-b2ee-dac09cf5fcac",
   "metadata": {},
   "outputs": [],
   "source": [
    "import sys\n",
    "sys.stdin = open('test.txt', 'r')\n",
    "\n",
    "N = int(sys.stdin.readline().rstrip('\\n'))\n",
    "\n",
    "lst = []\n",
    "count_dict = {}\n",
    "\n",
    "# 방향 숫자 세는 dict 만들기\n",
    "for _ in range(6):\n",
    "    direction, distance = map(int, sys.stdin.readline().rstrip('\\n').split(' '))\n",
    "    lst.append([direction, distance])\n",
    "    \n",
    "    if direction not in count_dict:\n",
    "        count_dict[direction] = 0\n",
    "    \n",
    "    count_dict[direction] += 1\n",
    "\n",
    "total_area = 1\n",
    "for i in lst:\n",
    "    if count_dict[i[0]] == 1:\n",
    "        total_area *= i[1]\n",
    "\n",
    "sub_area = 1\n",
    "# max(len(lst))를 넘어가면 모듈로 연산하면 될 거 같긴 한데.. 리스트를 앞뒤로 늘리는 방법도 있을 듯\n",
    "for i in range(len(lst)):\n",
    "    if i == 0 :\n",
    "        if lst[1][0] == lst[5][0] and lst[0][0] == lst[2][0]:\n",
    "            sub_area = sub_area * lst[0][1] * lst[1][1]\n",
    "            break\n",
    "        else:\n",
    "            continue\n",
    "    elif i == 4:\n",
    "        if lst[5][0] == lst[3][0] and lst[4][0] == lst[0][0]:\n",
    "            sub_area = sub_area * lst[4][1] * lst[5][1]\n",
    "            break\n",
    "        else:\n",
    "            continue\n",
    "    elif i == 5:\n",
    "        if lst[0][0] == lst[4][0] and lst[5][0] == lst[1][0]:\n",
    "            sub_area = sub_area * lst[5][1] * lst[0][1]\n",
    "            break\n",
    "        else:\n",
    "            continue\n",
    "    elif lst[i+1][0] == lst[i-1][0] and lst[i][0] == lst[i+2][0]:\n",
    "        sub_area = sub_area * lst[i][1] * lst[i+1][1]\n",
    "        break\n",
    "    else:\n",
    "        continue"
   ]
  },
  {
   "cell_type": "code",
   "execution_count": 77,
   "id": "b57776b8-2a66-48fa-aa0c-488ca19b8f35",
   "metadata": {},
   "outputs": [
    {
     "name": "stdout",
     "output_type": "stream",
     "text": [
      "47600\n"
     ]
    }
   ],
   "source": [
    "print(N * (total_area - sub_area))"
   ]
  },
  {
   "cell_type": "markdown",
   "id": "beb44f51-10e1-498c-92c7-8748101aa7c8",
   "metadata": {},
   "source": [
    "### 위의 조건문을 늘리지 않고 반복문을 사용해보자\n",
    "- 조건문을 늘어놨던 이유는 i에 가하는 인덱스가 리스트의 범위를 벗어나면 오류가 발생하기 때문이었음\n",
    "    - 즉 (i-1)이나 (i+1), (i+2) 가 0~5 사이를 벗어나면 오류가 발생하기 떄문\n",
    "- 저 값들을 처리할 수 잇다면 더 간단하게 늘어놓을 수 있을 것임\n",
    "- 그냥 `%` 연산 하면 되는 거 아니냐? ㅏㅏ 그렇다"
   ]
  },
  {
   "cell_type": "code",
   "execution_count": 80,
   "id": "47931559-634f-4d07-b01c-01f10bf46311",
   "metadata": {},
   "outputs": [],
   "source": [
    "sub_area = 1\n",
    "for i in range(len(lst)):\n",
    "\n",
    "    if lst[(i+1) % len(lst)][0] == lst[(i-1) % len(lst)][0] and lst[i % len(lst)][0] == lst[(i+2) % len(lst)][0]:\n",
    "        sub_area = sub_area * lst[i % len(lst)][1] * lst[(i+1) % len(lst)][1]\n",
    "        break\n",
    "    else:\n",
    "        continue"
   ]
  },
  {
   "cell_type": "code",
   "execution_count": 81,
   "id": "82a4d041-b6fe-4766-ae1d-8f37cf35dc77",
   "metadata": {},
   "outputs": [
    {
     "name": "stdout",
     "output_type": "stream",
     "text": [
      "1200\n"
     ]
    }
   ],
   "source": [
    "print(sub_area)"
   ]
  },
  {
   "cell_type": "markdown",
   "id": "a282e522-ae9e-4828-887a-16a5f4321211",
   "metadata": {},
   "source": [
    "## 3053번 : 택시 기하학\n",
    "- L1 norm 개념 아니냐 이거\n",
    "- 거리의 정의가 다르기 때문에 원의 정의가 같더라도 나타나는 도형은 달라짐\n",
    "- 택시 기하학에서는 마름모가 나올 것임"
   ]
  },
  {
   "cell_type": "code",
   "execution_count": 98,
   "id": "47c7256b-3652-4c8c-93ee-04d2e28f8664",
   "metadata": {},
   "outputs": [
    {
     "name": "stdout",
     "output_type": "stream",
     "text": [
      "5541.769441\n",
      "3528.000000\n"
     ]
    }
   ],
   "source": [
    "from math import pi\n",
    "import sys\n",
    "\n",
    "sys.stdin = open('test.txt', 'r')\n",
    "# 원의 넓이\n",
    "r = int(sys.stdin.readline().rstrip('\\n'))\n",
    "\n",
    "euclid_area = r * r * pi\n",
    "# 택시 기하학에서 나오는 원은\n",
    "# 정사각형이며 한 변이 루트2 * r임\n",
    "taxi_r = 2 ** (1/2) * r\n",
    "taxi_area = taxi_r * taxi_r\n",
    "\n",
    "print(\"{:.6f}\".format(euclid_area))\n",
    "print(\"{:.6f}\".format(taxi_area))"
   ]
  },
  {
   "cell_type": "markdown",
   "id": "4fb3e2ff-8d28-4d97-86eb-2eaf619ef0f4",
   "metadata": {},
   "source": [
    "## 1002번 : 터렛"
   ]
  },
  {
   "cell_type": "code",
   "execution_count": 121,
   "id": "a92b0528-eba8-4ce7-991a-833a35995623",
   "metadata": {},
   "outputs": [
    {
     "name": "stdout",
     "output_type": "stream",
     "text": [
      "2\n",
      "1\n",
      "0\n"
     ]
    }
   ],
   "source": [
    "import sys\n",
    "import math\n",
    "sys.stdin = open('test.txt', 'r')\n",
    "\n",
    "T = int(sys.stdin.readline().rstrip('\\n'))\n",
    "for _ in range(T):\n",
    "    x1, y1, r1, x2, y2, r2 = map(int, sys.stdin.readline().rstrip('\\n').split(\" \"))\n",
    "    \n",
    "    # 케이스가 좀 다양함\n",
    "    # 기존에 푼 건 중심 사이의 거리와 반지름 길이의 합을 이용해 풀었음\n",
    "#     if x1 == x2 and y1 == y2:\n",
    "#         if r1 == r2:\n",
    "#             print(-1)\n",
    "#         else:\n",
    "#             print(0)\n",
    "    \n",
    "#     # 교점 1개 - 이걸 기준으로 생각하면 쉬움\n",
    "#     elif math.sqrt((x2-x1)**2 + (y2-y1)**2) == (r1 + r2):\n",
    "#         print(1)\n",
    "    \n",
    "#     elif math.sqrt((x2-x1)**2 + (y2-y1)**2) > (r1 + r2):\n",
    "#         print(0)\n",
    "        \n",
    "#     elif math.sqrt((x2-x1)**2 + (y2-y1)**2) < (r1 + r2):\n",
    "#         print(2)\n",
    "\n",
    "    # 중심 사이의 거리를 distance로 놓고, 조건을 2가지로 나눠야 함 \n",
    "    # d 값이 r1, r2보다 모두 크거나 같으면 원 밖에 있는 걸로 ㄱㄱ\n",
    "    # 빼고는 다 원 안에 있는 거임 - 물론 교점이 2개인 경우는 조금 애매함\n",
    "    d = math.sqrt((x2-x1)**2 + (y2-y1)**2)\n",
    "    \n",
    "    # 원 밖에 다른 원의 중심이 있는 경우\n",
    "    if d >= r1 and d >= r2:\n",
    "        if r1 + r2 == d:\n",
    "            print(1)\n",
    "        elif r1 + r2 < d:\n",
    "            print(0)\n",
    "        else:\n",
    "            print(2)\n",
    "    else:\n",
    "        # 무한대 조건부터 체크. 가장 좁은 범위니까 if 절에선 제일 위에 와야 한다.\n",
    "        if x1 == x2 and y1 == y2 and r1 == r2:\n",
    "            print(-1)\n",
    "        elif abs(r1 - r2) == d:\n",
    "            print(1)\n",
    "        elif abs(r1 - r2) > d:\n",
    "            print(0)\n",
    "        else:\n",
    "            print(2)"
   ]
  },
  {
   "cell_type": "code",
   "execution_count": 115,
   "id": "8c9a5a09-8e7d-40a2-9c12-d0a51144ea63",
   "metadata": {},
   "outputs": [
    {
     "data": {
      "text/plain": [
       "5.0"
      ]
     },
     "execution_count": 115,
     "metadata": {},
     "output_type": "execute_result"
    }
   ],
   "source": [
    "math.sqrt((3)**2 + (4)**2) "
   ]
  },
  {
   "cell_type": "markdown",
   "id": "a189b228-f495-490a-8e34-264402b32dde",
   "metadata": {},
   "source": [
    "## 1004번"
   ]
  },
  {
   "cell_type": "code",
   "execution_count": null,
   "id": "400ebb28-afcf-4a75-904d-19b33d1c62e0",
   "metadata": {},
   "outputs": [],
   "source": [
    "import sys\n",
    "sys.stdin = open('test.txt', 'r')\n",
    "T = int(sys.stdin.readline().rstrip('\\n'))\n",
    "x1, y1, x2, y2 = map(int, sys.stdin.readline().rstrip('\\n').split(' '))\n",
    "n = int(sys.stdin.readline().rstrip('\\n'))\n"
   ]
  }
 ],
 "metadata": {
  "kernelspec": {
   "display_name": "Python 3",
   "language": "python",
   "name": "python3"
  },
  "language_info": {
   "codemirror_mode": {
    "name": "ipython",
    "version": 3
   },
   "file_extension": ".py",
   "mimetype": "text/x-python",
   "name": "python",
   "nbconvert_exporter": "python",
   "pygments_lexer": "ipython3",
   "version": "3.8.8"
  }
 },
 "nbformat": 4,
 "nbformat_minor": 5
}
