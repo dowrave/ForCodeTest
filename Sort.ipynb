{
  "nbformat": 4,
  "nbformat_minor": 0,
  "metadata": {
    "colab": {
      "name": "Sort.ipynb",
      "private_outputs": true,
      "provenance": [],
      "authorship_tag": "ABX9TyMYmGLZ4UDsicRz1rm9JPms",
      "include_colab_link": true
    },
    "kernelspec": {
      "name": "python3",
      "display_name": "Python 3"
    },
    "language_info": {
      "name": "python"
    }
  },
  "cells": [
    {
      "cell_type": "markdown",
      "metadata": {
        "id": "view-in-github",
        "colab_type": "text"
      },
      "source": [
        "<a href=\"https://colab.research.google.com/github/dowrave/ForCodeTest/blob/main/Sort.ipynb\" target=\"_parent\"><img src=\"https://colab.research.google.com/assets/colab-badge.svg\" alt=\"Open In Colab\"/></a>"
      ]
    },
    {
      "cell_type": "markdown",
      "source": [
        "# 정렬 공부하자~"
      ],
      "metadata": {
        "id": "MmcQCiatJPmK"
      }
    },
    {
      "cell_type": "markdown",
      "source": [
        "## 1. 버블 정렬\n",
        "- <b>인접한 두 수를 비교</b>, O(n^2)\n",
        "- 큰 수를 뒤로 보내든지 작은 수를 앞으로 보내든지 둘 중 하나 선택해서 구현함\n"
      ],
      "metadata": {
        "id": "SHZDyk5OJS37"
      }
    },
    {
      "cell_type": "code",
      "execution_count": null,
      "metadata": {
        "id": "9rOUwBbPJIEz"
      },
      "outputs": [],
      "source": [
        "array = [8,4,6,2,9,1,3,7,5]\n",
        "\n",
        "def bubble_sort(array):\n",
        "  n = len(array)\n",
        "  for i in range(n-1):\n",
        "    for j in range(n-i-1):\n",
        "      if array[j] > array[j + 1]:\n",
        "        array[j], array[j+1] = array[j+1], array[j]\n",
        "    print(array)\n",
        "\n",
        "  return array\n",
        "\n",
        "bubble_sort(array)"
      ]
    },
    {
      "cell_type": "markdown",
      "source": [
        "## 2. 선택 정렬\n",
        "- 한 바퀴 돌 때마다 가장 작은 값을 찾아 맨 앞 값과 교환\n",
        "- 버블 정렬과 마찬가지로 성능은 안좋음"
      ],
      "metadata": {
        "id": "WbbdGTnKJ3HN"
      }
    },
    {
      "cell_type": "code",
      "source": [
        "array = [8,4,6,2,9,1,3,7,5]\n",
        "\n",
        "def selection_sort(array):\n",
        "  n = len(array)\n",
        "  for i in range(n):\n",
        "    min_idx = i\n",
        "    for j in range(i + 1 , n):\n",
        "      if array[j] < array[min_idx]:\n",
        "        min_idx = j\n",
        "    array[i], array[min_idx] = array[min_idx], array[i]\n",
        "    print(array[:i+1])\n",
        "\n",
        "selection_sort(array)"
      ],
      "metadata": {
        "id": "6o7M0q7uJPNo"
      },
      "execution_count": null,
      "outputs": []
    },
    {
      "cell_type": "markdown",
      "source": [
        "## 3. 삽입 정렬\n",
        "- 정렬된 데이터 그룹을 늘려가며 추가되는 데이터를 알맞는 자리에 삽입함\n",
        "- 버블, 선택과 마찬가지로 성능 안좋음"
      ],
      "metadata": {
        "id": "ELdI10Z3KZSj"
      }
    },
    {
      "cell_type": "code",
      "source": [
        "array = [8,4,6,2,9,1,3,7,5]\n",
        "\n",
        "def insertion_sort(array):\n",
        "  n = len(array)\n",
        "  for i in range(1, n):\n",
        "    for j in range(i, 0, -1): # i를 인덱스 1부터, j는 (정렬된) 배열의 역순으로 돌리며 크기 비교해서 큰 걸 뒤로 보냄\n",
        "      if array[j-1] > array[j]:\n",
        "        array[j-1], array[j] = array[j], array[j-1]\n",
        "    print(array[:i+1])\n",
        "\n",
        "print(insertion_sort(array))"
      ],
      "metadata": {
        "id": "T3BMog8LKPtv"
      },
      "execution_count": null,
      "outputs": []
    },
    {
      "cell_type": "markdown",
      "source": [
        "---------------------------------\n",
        "## 4. 병합 정렬\n",
        "- O(n * log n) : `분할 정복` + `재귀` 를 따름\n",
        "- 반으로 쪼개고 합치는 과정에서 그룹을 만들어 정렬하며, 공간은 `2N`이 필요함"
      ],
      "metadata": {
        "id": "OrT-Jl_1LCJt"
      }
    },
    {
      "cell_type": "code",
      "source": [
        "array = [8,4,6,2,9,1,3,7,5]\n",
        "\n",
        "def merge_sort(array):\n",
        "  if len(array) < 2:\n",
        "    return array\n",
        "  mid = len(array) // 2\n",
        "  # 중간 - 1까지 를 낮은 배열, 중간부터 높은 배열로 나눠서 재귀식을 씀\n",
        "  low_arr = merge_sort(array[:mid])\n",
        "  high_arr = merge_sort(array[mid:])\n",
        "\n",
        "  merged_arr = []\n",
        "  l = h = 0\n",
        "  # 나눠진 2개의 arr에 대해서 0번째 인덱스부터 대소 비교, 작은 값부터 합쳐진 배열에 들어감\n",
        "  while l < len(low_arr) and h < len(high_arr):\n",
        "    if low_arr[l] < high_arr[h]:\n",
        "      merged_arr.append(low_arr[l])\n",
        "      l += 1\n",
        "    else:\n",
        "      merged_arr.append(high_arr[h])\n",
        "      h += 1\n",
        "\n",
        "  merged_arr += low_arr[l:]\n",
        "  merged_arr += high_arr[h:]\n",
        "  print(merged_arr)\n",
        "  return merged_arr\n",
        "\n",
        "array = merge_sort(array)"
      ],
      "metadata": {
        "id": "f1wkCUWlKwJF"
      },
      "execution_count": null,
      "outputs": []
    },
    {
      "cell_type": "markdown",
      "source": [
        "## 5. 퀵 정렬\n",
        "- 병합과 마찬가지로 분할 정복 알고리즘\n",
        "- 추가적인 공간이 필요 없음\n",
        "- `Pivot`을 설정, 그 기준으로 정렬함. 많은 언어의 정렬 내장 함수."
      ],
      "metadata": {
        "id": "i4K5NzYZMDJ7"
      }
    },
    {
      "cell_type": "code",
      "source": [
        "array = [8,4,6,2,9,1,3,7,5]\n",
        "\n",
        "def quick_sort(array):\n",
        "  if len(array) <= 1:\n",
        "    return array\n",
        "  pivot = len(array) // 2 # 길이의 중간 인덱스를 피벗으로 설정. 이건 솔직히 아무 값이나 해도 됨\n",
        "  front_arr, pivot_arr, back_arr = [], [], []\n",
        "  for value in array:\n",
        "    if value < array[pivot]:\n",
        "      front_arr.append(value)\n",
        "    elif value > array[pivot]:\n",
        "      back_arr.append(value)\n",
        "    else:\n",
        "      pivot_arr.append(value)\n",
        "\n",
        "  print(front_arr, back_arr, pivot_arr)\n",
        "  return quick_sort(front_arr) + quick_sort(pivot_arr) + quick_sort(back_arr)\n",
        "\n",
        "array = quick_sort(array)\n",
        "array"
      ],
      "metadata": {
        "id": "rKDFGiYpL73i"
      },
      "execution_count": null,
      "outputs": []
    },
    {
      "cell_type": "markdown",
      "source": [
        "## 6. 팀 정렬\n",
        "- 삽입 정렬 & 병합 정렬을 합침\n",
        "- 아이디어 : 데이터들은 어느정도 정렬되어 있을 것 \n",
        "  - 전체 배열을 작은 덩어리로 자른 뒤, 각 덩어리를 삽입 정렬 후 병합 정렬로 병합하자\n",
        "  "
      ],
      "metadata": {
        "id": "jdAHQZ6wM9zo"
      }
    },
    {
      "cell_type": "code",
      "source": [
        ""
      ],
      "metadata": {
        "id": "pCJrZA_xMmKJ"
      },
      "execution_count": null,
      "outputs": []
    }
  ]
}