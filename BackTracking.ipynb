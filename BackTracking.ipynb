{
  "nbformat": 4,
  "nbformat_minor": 0,
  "metadata": {
    "colab": {
      "name": "BackTracking.ipynb",
      "provenance": [],
      "collapsed_sections": [],
      "authorship_tag": "ABX9TyOkfbzJ+gOKPOLCw42n6rmI",
      "include_colab_link": true
    },
    "kernelspec": {
      "name": "python3",
      "display_name": "Python 3"
    },
    "language_info": {
      "name": "python"
    },
    "gpuClass": "standard"
  },
  "cells": [
    {
      "cell_type": "markdown",
      "metadata": {
        "id": "view-in-github",
        "colab_type": "text"
      },
      "source": [
        "<a href=\"https://colab.research.google.com/github/dowrave/ForCodeTest/blob/main/BackTracking.ipynb\" target=\"_parent\"><img src=\"https://colab.research.google.com/assets/colab-badge.svg\" alt=\"Open In Colab\"/></a>"
      ]
    },
    {
      "cell_type": "markdown",
      "source": [
        "## 1. DFS\n",
        "- 깊이 우선 탐색. 대충 들어갔다가 나왔다가 하는 거임\n",
        "\n",
        "## 1-1. 백트래킹\n",
        "- 깊이 우선 탐색에서 정말 필요 없는 조건은 미리 쳐내버리는 거임\n",
        "- 1차원 리스트를 만듦 -> 그 리스트의 각 인덱스에 대해 반복문을 포함한 재귀함수를 돌림 -> 어떤 조건을 만족했다면 그 인덱스에 값을 집어넣고, 재귀함수를 호출해 다음 인덱스로 넘어감 -> ... 을 반복하다가 함수의 종결조건에 도달하면 어떤 연산을 하고 함수 반환 -> 반복문 속이므로 값에 +1을 해서 다시 재귀함수를 돌리는 방식\n",
        "- 재귀함수에는 어떤 조건이 대충 있겟죠?"
      ],
      "metadata": {
        "id": "w_Y0tAGWforV"
      }
    },
    {
      "cell_type": "code",
      "execution_count": 1,
      "metadata": {
        "colab": {
          "base_uri": "https://localhost:8080/"
        },
        "id": "BecUU0jlffHD",
        "outputId": "6578d5bd-fca9-4a35-fd16-5e1ae3cdb1c6"
      },
      "outputs": [
        {
          "output_type": "stream",
          "name": "stdout",
          "text": [
            "1 2 3 4 5\n",
            "1 2 3 5 4\n",
            "1 2 4 3 5\n",
            "1 2 4 5 3\n",
            "1 2 5 3 4\n",
            "1 2 5 4 3\n",
            "1 3 2 4 5\n",
            "1 3 2 5 4\n",
            "1 3 4 2 5\n",
            "1 3 4 5 2\n",
            "1 3 5 2 4\n",
            "1 3 5 4 2\n",
            "1 4 2 3 5\n",
            "1 4 2 5 3\n",
            "1 4 3 2 5\n",
            "1 4 3 5 2\n",
            "1 4 5 2 3\n",
            "1 4 5 3 2\n",
            "1 5 2 3 4\n",
            "1 5 2 4 3\n",
            "1 5 3 2 4\n",
            "1 5 3 4 2\n",
            "1 5 4 2 3\n",
            "1 5 4 3 2\n",
            "2 1 3 4 5\n",
            "2 1 3 5 4\n",
            "2 1 4 3 5\n",
            "2 1 4 5 3\n",
            "2 1 5 3 4\n",
            "2 1 5 4 3\n",
            "2 3 1 4 5\n",
            "2 3 1 5 4\n",
            "2 3 4 1 5\n",
            "2 3 4 5 1\n",
            "2 3 5 1 4\n",
            "2 3 5 4 1\n",
            "2 4 1 3 5\n",
            "2 4 1 5 3\n",
            "2 4 3 1 5\n",
            "2 4 3 5 1\n",
            "2 4 5 1 3\n",
            "2 4 5 3 1\n",
            "2 5 1 3 4\n",
            "2 5 1 4 3\n",
            "2 5 3 1 4\n",
            "2 5 3 4 1\n",
            "2 5 4 1 3\n",
            "2 5 4 3 1\n",
            "3 1 2 4 5\n",
            "3 1 2 5 4\n",
            "3 1 4 2 5\n",
            "3 1 4 5 2\n",
            "3 1 5 2 4\n",
            "3 1 5 4 2\n",
            "3 2 1 4 5\n",
            "3 2 1 5 4\n",
            "3 2 4 1 5\n",
            "3 2 4 5 1\n",
            "3 2 5 1 4\n",
            "3 2 5 4 1\n",
            "3 4 1 2 5\n",
            "3 4 1 5 2\n",
            "3 4 2 1 5\n",
            "3 4 2 5 1\n",
            "3 4 5 1 2\n",
            "3 4 5 2 1\n",
            "3 5 1 2 4\n",
            "3 5 1 4 2\n",
            "3 5 2 1 4\n",
            "3 5 2 4 1\n",
            "3 5 4 1 2\n",
            "3 5 4 2 1\n",
            "4 1 2 3 5\n",
            "4 1 2 5 3\n",
            "4 1 3 2 5\n",
            "4 1 3 5 2\n",
            "4 1 5 2 3\n",
            "4 1 5 3 2\n",
            "4 2 1 3 5\n",
            "4 2 1 5 3\n",
            "4 2 3 1 5\n",
            "4 2 3 5 1\n",
            "4 2 5 1 3\n",
            "4 2 5 3 1\n",
            "4 3 1 2 5\n",
            "4 3 1 5 2\n",
            "4 3 2 1 5\n",
            "4 3 2 5 1\n",
            "4 3 5 1 2\n",
            "4 3 5 2 1\n",
            "4 5 1 2 3\n",
            "4 5 1 3 2\n",
            "4 5 2 1 3\n",
            "4 5 2 3 1\n",
            "4 5 3 1 2\n",
            "4 5 3 2 1\n",
            "5 1 2 3 4\n",
            "5 1 2 4 3\n",
            "5 1 3 2 4\n",
            "5 1 3 4 2\n",
            "5 1 4 2 3\n",
            "5 1 4 3 2\n",
            "5 2 1 3 4\n",
            "5 2 1 4 3\n",
            "5 2 3 1 4\n",
            "5 2 3 4 1\n",
            "5 2 4 1 3\n",
            "5 2 4 3 1\n",
            "5 3 1 2 4\n",
            "5 3 1 4 2\n",
            "5 3 2 1 4\n",
            "5 3 2 4 1\n",
            "5 3 4 1 2\n",
            "5 3 4 2 1\n",
            "5 4 1 2 3\n",
            "5 4 1 3 2\n",
            "5 4 2 1 3\n",
            "5 4 2 3 1\n",
            "5 4 3 1 2\n",
            "5 4 3 2 1\n"
          ]
        }
      ],
      "source": [
        "N = 5\n",
        "s = []\n",
        "\n",
        "\n",
        "def dfs(lst):\n",
        "    \n",
        "    if len(lst) == N:\n",
        "        print(\" \".join(map(str, lst)))\n",
        "        return \n",
        "        \n",
        "    else:\n",
        "      # 여기 반복문의 시작 / 종결 인덱스는 재귀함수에 따로 파라미터를 할당해서 쓰는 경우도 많음\n",
        "        for i in range(1, N+1):\n",
        "            if i in lst:\n",
        "                continue\n",
        "            else:\n",
        "                lst.append(i)\n",
        "                dfs(lst)\n",
        "                lst.pop()\n"
      ]
    },
    {
      "cell_type": "markdown",
      "source": [
        "## 2. n-Queens\n",
        "- n*n 체스판이 주어졌을 때, n개의 퀸을 서로 잡히지 않게 배열할 수 있는 경우의 수\n",
        "- 체스판을 1차원 배열로 나타낼 수 있다는게 포인트임\n",
        "  - 1차원 배열의 인덱스는 가로줄0, 가로줄1, ...\n",
        "  - 1차원 배열의 값은 세로줄0, 세로줄1, ... 을 의미함\n",
        "- 가로줄을 인덱스로 놓음으로써 가로줄이 같다는 케이스는 고려하지 않아도 되며\n",
        "  - 같은 값이 나오면 그냥 지나가고\n",
        "  - 대각선 조건이 나와도 그냥 지나가게 하면 됨\n",
        "- 이렇게 8개의 가로줄 인덱스에 모든 값이 겹치지 않게 들어가면 카운트에 +1"
      ],
      "metadata": {
        "id": "mZzXppOeghSF"
      }
    },
    {
      "cell_type": "code",
      "source": [
        "N = 8\n",
        "rows = [0] * N\n",
        "visited_cols = [False] * N\n",
        "count = 0\n",
        "\n",
        "def Possible(x): # 대각선 퀸에 대한 검사만 진행함\n",
        "    for i in range(x):\n",
        "        if abs(rows[i] - rows[x]) == abs(i - x):\n",
        "            return False\n",
        "    return True\n",
        "\n",
        "def n_queens(x):\n",
        "    \n",
        "    global count\n",
        "    \n",
        "    if x == N:\n",
        "        count += 1\n",
        "        return\n",
        "    \n",
        "    else:\n",
        "        # 매 가로줄의 각 칸에 대한 반복문임 (0,0), (0,1), (0,2) ..\n",
        "        for i in range(N):\n",
        "            \n",
        "            # 이미 방문한 세로줄이라면 바로 다음 i로 넘어감\n",
        "            if visited_cols[i] == True:\n",
        "                continue\n",
        "                \n",
        "            rows[x] = i\n",
        "            \n",
        "            if Possible(x):\n",
        "                visited_cols[i] = True # 이거를 까먹었다 ㅎㅎ\n",
        "                n_queens(x+1)\n",
        "                visited_cols[i] = False"
      ],
      "metadata": {
        "id": "tmem5nDBggLP"
      },
      "execution_count": null,
      "outputs": []
    },
    {
      "cell_type": "code",
      "source": [
        "# 나머지 문제들도 여기서 조금 더 나간 수준이라 설명은 안함\n",
        "# 파라미터 혹은 인자가 필요하다면 그냥 적극적으로 사용할 것"
      ],
      "metadata": {
        "id": "4h5Yi_5zgXNk"
      },
      "execution_count": 2,
      "outputs": []
    },
    {
      "cell_type": "code",
      "source": [
        ""
      ],
      "metadata": {
        "id": "FNzI105ahRwY"
      },
      "execution_count": null,
      "outputs": []
    }
  ]
}