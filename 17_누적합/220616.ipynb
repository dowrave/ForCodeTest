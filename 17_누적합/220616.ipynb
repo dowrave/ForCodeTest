{
 "cells": [
  {
   "cell_type": "markdown",
   "id": "bc7952e2-e0fd-440b-a225-d9123b8d5397",
   "metadata": {},
   "source": [
    "## 16139 : 인간 - 컴퓨터 상호 작용\n",
    "- 26자 알파벳 각각에 대해서 미리 부분합 리스트를 만들어야 하나?\n",
    "- 아니면 그때그때 만드나?"
   ]
  },
  {
   "cell_type": "code",
   "execution_count": 45,
   "id": "1ee586c4-553e-4232-a9af-0b7805560690",
   "metadata": {},
   "outputs": [
    {
     "name": "stdout",
     "output_type": "stream",
     "text": [
      "0\n",
      "1\n",
      "2\n",
      "1\n"
     ]
    }
   ],
   "source": [
    "import sys\n",
    "sys.stdin = open('test.txt', 'r')\n",
    "input = sys.stdin.readline\n",
    "\n",
    "s = input().rstrip()\n",
    "q = int(input().rstrip())\n",
    "lst = [0] * (len(s) + 1)\n",
    "\n",
    "\n",
    "# 주어지는 알파벳이 다 동일하다면 작동해야 할 것 같은데 안 함\n",
    "# 반례 찾는 게 더 중요하게 보이는데 ㅅㅂ 생각나는 반례가 없는데요\n",
    "# 아무튼 틀렸습니다가 떴음\n",
    "for i in range(q):\n",
    "    alpha, l, r = input().rstrip().split()\n",
    "    l = int(l)\n",
    "    r = int(r)\n",
    "    \n",
    "    if i == 0:\n",
    "        if alpha == s[0]:\n",
    "            lst[0] += 1\n",
    "        \n",
    "        for j in range(1, len(s)):\n",
    "            if s[j] == alpha:\n",
    "                lst[j] = lst[j-1] + 1\n",
    "            else:\n",
    "                lst[j] = lst[j-1]\n",
    "\n",
    "    print(lst[r] - lst[l - 1])\n",
    "    \n",
    "            "
   ]
  },
  {
   "cell_type": "markdown",
   "id": "334e176a-c65c-4230-ad43-8c066607da6c",
   "metadata": {},
   "source": [
    "## 부분합 리스트를 미리 만드는 게 맞는 것 같음(모든 알파벳에 대해)\n",
    "- 이는 2차원 행렬로 만들 수 있음"
   ]
  },
  {
   "cell_type": "code",
   "execution_count": 83,
   "id": "88b9254b-aa0d-4f78-8f91-0747cc30cf55",
   "metadata": {},
   "outputs": [
    {
     "name": "stdout",
     "output_type": "stream",
     "text": [
      "0\n",
      "1\n",
      "2\n",
      "1\n"
     ]
    }
   ],
   "source": [
    "import sys\n",
    "sys.stdin = open('test.txt', 'r')\n",
    "input = sys.stdin.readline\n",
    "\n",
    "s = input().rstrip()\n",
    "q = int(input().rstrip())\n",
    "\n",
    "# 알파벳은 26개임\n",
    "matrix = [[0] * 26 for i in range(len(s))]\n",
    "\n",
    "# ord('a')가 97이므로 알파벳의 모든 인덱스는 0 = 'a' 부터 25 = 'z' 에 대응할 수 있음\n",
    "# 그냥 빼면 됨\n",
    "matrix[0][ord(s[0])-97] = 1\n",
    "for i in range(1, len(s)):\n",
    "    for j in range(26):\n",
    "        matrix[i][j] = matrix[i-1][j]\n",
    "        if j == ord(s[i]) - 97:\n",
    "            matrix[i][j] = matrix[i-1][j] + 1\n",
    "\n",
    "for i in range(q):\n",
    "    alpha, l, r = input().rstrip().split()\n",
    "    l = int(l)\n",
    "    r = int(r)\n",
    "    target = ord(alpha) - 97\n",
    "    \n",
    "    # print를 sys.stdout.write(str(answer)+'\\n') 로 바꾸니까 답이 나왔다는 얘기가 있음\n",
    "\n",
    "    if l > 0:\n",
    "        ans = str(matrix[r][target] - matrix[l-1][target])\n",
    "    else:\n",
    "        ans = str(matrix[r][target])\n",
    "#     sys.stdout.write(str(ans) + '\\n')\n",
    "    print(ans)"
   ]
  },
  {
   "cell_type": "markdown",
   "id": "e989e2a0-dbe2-4bc6-9185-75ab9e98cb77",
   "metadata": {},
   "source": [
    "- 제출을 print로 하냐 sys.stdout.write로 하느냐\n",
    "- 제출을 python3로 하냐 pypy3로 하냐로 50점 100점이 갈리면\n",
    "- 이게 알고리즘을 보자고 묻는 문제가 맞는 거임? (뒤쪽에서 채점되는 건 인풋 데이터가 겁나 큰 건 알겠다)"
   ]
  },
  {
   "cell_type": "markdown",
   "id": "e75cb167-d558-4bd5-84b1-f8f289b00175",
   "metadata": {},
   "source": [
    "## 10986 - 나머지합\n",
    "- 중요 : ` (a - b) % r = 0 ` 이라면 a와 b의 나머지는 같다(증명도 ez함)\n",
    "    - 즉 누적합에 대한 나머지 연산 및 이를 저장할 리스트가 필요함"
   ]
  },
  {
   "cell_type": "code",
   "execution_count": 111,
   "id": "8959053b-13ea-43c5-9683-086abbd078aa",
   "metadata": {},
   "outputs": [
    {
     "name": "stdout",
     "output_type": "stream",
     "text": [
      "[1, 3, 6, 7, 9]\n",
      "[3, 2, 0]\n",
      "3\n",
      "7\n"
     ]
    }
   ],
   "source": [
    "import sys\n",
    "# sys.stdin = open('test.txt', 'r')\n",
    "input = sys.stdin.readline\n",
    "\n",
    "n, m = map(int, input().rstrip().split())\n",
    "nums = list(map(int, input().split()))\n",
    "\n",
    "sum_lst = [0] * n # 빈 리스트니까 i-1이 마지막 인덱스를 참조해도 큰 상관은 없음\n",
    "\n",
    "mod_lst = [0] * m # 나머지 리스트를 추가해줌 : 어떤 두 값의 차의 나머지 연산값이 0이라면, 두 값을 m으로 나눈 나머지는 같은 값임\n",
    "count = 0\n",
    "\n",
    "for i in range(n):\n",
    "    sum_lst[i] = sum_lst[i-1] + nums[i] \n",
    "    mod = sum_lst[i] % m\n",
    "    if mod == 0:\n",
    "        count += 1 # 우선 0번째 인덱스부터 i번째 인덱스까지의 누적합\n",
    "    mod_lst[mod] += 1 # 0부터 m-1까지의 나머지 리스트에 값을 추가함\n",
    "    \n",
    "# print(sum_lst)\n",
    "# print(mod_lst)\n",
    "# print(count)\n",
    "\n",
    "# 누적합은 순서가 정해져 있음 \n",
    "# 예제에서 나머지가 0인 인덱스들은 1, 2, 4임\n",
    "# 이들로 만들 수 있는 경우의 수가 1 2 / 1 4 / 2 1 / 2 4 / 4 1 / 4 2\n",
    "# 근데 1 2 나 2 1 은 같은 경우의 수라고 봐야 함 : 누적합이므로 순서는 상관이 없음\n",
    "# 이 때 쓰는게 조합(이항계수라고 하는 듯 : 즉 그 갯수가 갖는 수 중 2개를 선택하되, 순서는 상관 없음 : nC2)\n",
    "\n",
    "for i in range(m):\n",
    "    count += mod_lst[i] * (mod_lst[i] - 1) // 2\n",
    "\n",
    "print(count)"
   ]
  },
  {
   "cell_type": "markdown",
   "id": "330e9754-5b47-427f-b307-e11eebf41782",
   "metadata": {},
   "source": [
    "## 11660 : 구간 합 구하기 5"
   ]
  },
  {
   "cell_type": "code",
   "execution_count": 163,
   "id": "7a1f9442-55f4-45b1-ac50-25d87b9e04b1",
   "metadata": {},
   "outputs": [],
   "source": [
    "import sys\n",
    "sys.stdin = open('test.txt', 'r')\n",
    "input = sys.stdin.readline\n",
    "\n",
    "n, m = map(int, input().rstrip().split())\n",
    "lst = []\n",
    "for i in range(n):\n",
    "    lst.append(list(map(int, input().rstrip().split())))\n",
    "\n",
    "# 일단 가로줄에 대해서만 구현해 보자\n",
    "sum_lst = [[0]*n for i in range(n)]\n",
    "sum_lst[0][0] = lst[0][0]\n",
    "for i in range(n):\n",
    "    for j in range(n):\n",
    "        sum_lst[i][j] = sum_lst[i][j-1] + lst[i][j]\n",
    "        \n",
    "        \n",
    "        \n",
    "total_sum_lst = [[0]*n for i in range(n)]\n",
    "total_sum_lst[0][0] = sum_lst[0][0]\n",
    "for i in range(n):\n",
    "    for j in range(n):\n",
    "        total_sum_lst[i][j] = total_sum_lst[i-1][j] + sum_lst[i][j]\n",
    "\n",
    "for i in range(m):\n",
    "    x1, y1, x2, y2 = map(int, input().rstrip().split())\n",
    "    "
   ]
  },
  {
   "cell_type": "code",
   "execution_count": 164,
   "id": "69a35cf4-3fb0-46ee-89fb-e392d786d57e",
   "metadata": {},
   "outputs": [
    {
     "name": "stdout",
     "output_type": "stream",
     "text": [
      "[1, 2, 3, 4]\n",
      "[2, 3, 4, 5]\n",
      "[3, 4, 5, 6]\n",
      "[4, 5, 6, 7]\n",
      "[1, 3, 6, 10]\n",
      "[2, 5, 9, 14]\n",
      "[3, 7, 12, 18]\n",
      "[4, 9, 15, 22]\n"
     ]
    }
   ],
   "source": [
    "for line in lst:\n",
    "    print(line)\n",
    "    \n",
    "for line in sum_lst:\n",
    "    print(line)\n"
   ]
  },
  {
   "cell_type": "code",
   "execution_count": 185,
   "id": "c2787c83-2491-486b-a0fd-558b9630ec86",
   "metadata": {},
   "outputs": [
    {
     "name": "stdout",
     "output_type": "stream",
     "text": [
      "27\n",
      "6\n",
      "64\n"
     ]
    }
   ],
   "source": [
    "import sys\n",
    "sys.stdin = open('test.txt', 'r')\n",
    "input = sys.stdin.readline\n",
    "\n",
    "n, m = map(int, input().rstrip().split())\n",
    "lst = []\n",
    "for i in range(n):\n",
    "    lst.append(list(map(int, input().rstrip().split())))\n",
    "\n",
    "# 한꺼번에 구할 수 있지 않을까? - 외부 패딩을 위해 +1씩 해줌\n",
    "sum_lst = [[0]*(n+1) for i in range(n+1)]\n",
    "# sum_lst[1][1] = lst[0][0]\n",
    "\n",
    "# 기억 : i, j는 원본 리스트에서 돌아감 / 새로 만든 누적합 리스트는 N+1 씩 해줬음\n",
    "for i in range(n):\n",
    "    for j in range(n):\n",
    "        sum_lst[i+1][j+1] = sum_lst[i+1][j] + sum_lst[i][j+1] + lst[i][j] - sum_lst[i][j] \n",
    "\n",
    "# +1씩 해줬기 때문에 주어진 x1, y1, x2, y2 값은 그대로 쓰면 된다\n",
    "for i in range(m):\n",
    "    x1, y1, x2, y2 = map(int, input().rstrip().split())\n",
    "    # 2차원에서 구간합을 구하는 법은\n",
    "    # x2, y2(최댓값) 까지의 누적합에서 어떤 구간을 제거하면 됨\n",
    "    # 제거할 구간 1. (x1-1, y2)까지의 누적합\n",
    "    # 제거할 구간 2. (x2, y1-1)까지의 누적합\n",
    "    # 보충할 구간 : (x1 - 1, y1 - 1)은 2번 제거되므로, 이 값을 다시 보충해준다\n",
    "    ans = sum_lst[x2][y2] - sum_lst[x1 - 1][y2] - sum_lst[x2][y1 - 1] + sum_lst[x1 - 1][y1 - 1] \n",
    "    \n",
    "    print(ans)"
   ]
  },
  {
   "cell_type": "markdown",
   "id": "d3eb6145-3f4b-44ce-abbb-e31c1f70e396",
   "metadata": {},
   "source": [
    "### 2차원에서 누적합 만드는 거랑 구간합을 따질 때 어떻게 처리해야 하는 지 배울 수 있었읍니다 ^_^"
   ]
  },
  {
   "cell_type": "code",
   "execution_count": null,
   "id": "61686f05-05bb-410b-a0b0-dac1f8c19c41",
   "metadata": {},
   "outputs": [],
   "source": []
  }
 ],
 "metadata": {
  "kernelspec": {
   "display_name": "Python 3",
   "language": "python",
   "name": "python3"
  },
  "language_info": {
   "codemirror_mode": {
    "name": "ipython",
    "version": 3
   },
   "file_extension": ".py",
   "mimetype": "text/x-python",
   "name": "python",
   "nbconvert_exporter": "python",
   "pygments_lexer": "ipython3",
   "version": "3.8.8"
  }
 },
 "nbformat": 4,
 "nbformat_minor": 5
}
