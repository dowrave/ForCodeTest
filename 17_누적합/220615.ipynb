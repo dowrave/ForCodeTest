{
 "cells": [
  {
   "cell_type": "markdown",
   "id": "348cb3ad-4045-4333-aa22-94ca883f9f2b",
   "metadata": {},
   "source": [
    "## 11659 : 구간 합 구하기 4\n",
    "- 기본 아이디어는 누적합을 구한 리스트가 있고\n",
    "- 그 리스트에서 이전까지 빼면 되겠지?임"
   ]
  },
  {
   "cell_type": "code",
   "execution_count": 6,
   "id": "363efb4d-bf90-4b01-b20e-cefe1e0eb952",
   "metadata": {},
   "outputs": [
    {
     "name": "stdout",
     "output_type": "stream",
     "text": [
      "[0, 5, 9, 12, 14, 15]\n",
      "[0, 5, 4, 3, 2, 1]\n"
     ]
    }
   ],
   "source": [
    "import sys\n",
    "sys.stdin = open('test.txt', 'r')\n",
    "input = sys.stdin.readline\n",
    "\n",
    "N, M = map(int, input().rstrip().split())\n",
    "num_lst = [0] + list(map(int, input().rstrip().split()))\n",
    "\n",
    "sum_lst = [0] * (N+1)\n",
    "sum_lst[1] = num_lst[1]\n",
    "for i in range(2, N+1):\n",
    "    sum_lst[i] = num_lst[i] + sum_lst[i-1]\n",
    "\n",
    "    # i부터 j까지의 합을 구하시오\n",
    "for area in range(M):\n",
    "    i, j = map(int, input().rstrip().split())\n",
    "    print(sum_lst[j] - sum_lst[i-1])\n",
    "    "
   ]
  },
  {
   "cell_type": "markdown",
   "id": "9da7f2f4-da77-41d6-802f-8b9f7b0a7283",
   "metadata": {},
   "source": [
    "- 이 방법이 유용한 이유는 O(N+M)이 보장되기 때문임"
   ]
  },
  {
   "cell_type": "markdown",
   "id": "3e8aac14-0787-41fe-a440-f5e6ead50b05",
   "metadata": {},
   "source": [
    "## 2559번 : 수열\n",
    "- 연속적인 며칠 동안의 온도의 합이 가장 큰 값\n",
    "- sum을 여러 번 호출하게 하면 <b>시간 초과</b>가 뜬다. \n",
    "- 역시 `동적프로그래밍`을 이용하면 비교적 쉽게 풀 수 있음\n",
    "    - 즉, 이전에 구했던 값을 바탕으로 새로운 값을 간단한 연산을 통해 구현하게끔 하는 것이다\n",
    "    - 이게 `슬라이싱 + sum`을 여러번 하는 것보다 빠름. "
   ]
  },
  {
   "cell_type": "code",
   "execution_count": 17,
   "id": "c5496a9d-68d4-4608-8c0e-9f6b19cd1e37",
   "metadata": {},
   "outputs": [
    {
     "name": "stdout",
     "output_type": "stream",
     "text": [
      "[3, -2, -4, -9, 0, 3, 7, 13, 8, -3]\n",
      "[1, -6, -13, -9, 3, 10, 20, 21]\n",
      "21\n"
     ]
    }
   ],
   "source": [
    "import sys\n",
    "sys.stdin = open('test.txt', 'r')\n",
    "input = sys.stdin.readline\n",
    "\n",
    "n, k = map(int, input().rstrip().split())\n",
    "lst = list(map(int, input().rstrip().split()))\n",
    "\n",
    "temp_lst = [0] * (n-k)\n",
    "\n",
    "for i in range(n-k):\n",
    "    temp_lst[i] = sum(lst[i : i+k])\n",
    "\n",
    "print(max(temp_lst))"
   ]
  },
  {
   "cell_type": "code",
   "execution_count": 18,
   "id": "adcb79ef-1fa7-414d-9a4b-1e08f5f12615",
   "metadata": {},
   "outputs": [],
   "source": [
    "# 위 방법은 시간 초과가 뜬다\n",
    "# 반복문을 한번 돌렸는데 시간초과네 미친놈들"
   ]
  },
  {
   "cell_type": "code",
   "execution_count": 19,
   "id": "86106977-6c79-4c5c-a577-2f3fb0797e2a",
   "metadata": {},
   "outputs": [],
   "source": [
    "# 이전 문제가 미리 합을 구해놓는 방식이었던 걸 기억할 거임\n",
    "# 그렇다는 말은 여기서도 그 방식을 쓸 수 있음 - 여기선 슬라이싱 - sum을 (n-k)번 반복하기 떄문에 느리다"
   ]
  },
  {
   "cell_type": "code",
   "execution_count": 34,
   "id": "5541ecb2-8c5a-4ff6-b717-30bc73cfc13e",
   "metadata": {},
   "outputs": [
    {
     "data": {
      "text/plain": [
       "21"
      ]
     },
     "execution_count": 34,
     "metadata": {},
     "output_type": "execute_result"
    }
   ],
   "source": [
    "import sys\n",
    "sys.stdin = open('test.txt', 'r')\n",
    "input = sys.stdin.readline\n",
    "\n",
    "n, k = map(int, input().rstrip().split())\n",
    "lst = list(map(int, input().rstrip().split()))\n",
    "\n",
    "# 연산의 수를 줄이기 위해 이런 방법을 쓸 수 있음\n",
    "# 1. 가장 앞까지의 부분합을 구함\n",
    "# sum_lst = []\n",
    "# initial = sum(lst[0:k])\n",
    "# sum_lst.append(initial)\n",
    "# 2. 다음 부분합은 이러하다 - (이전 값 - 이전 구성 요소 중 가장 앞의 값 + 다음 구성 요소 중 가장 앞의 값)\n",
    "# value = sum_lst[0] - lst[0] + lst[k]\n",
    "# sum_lst.append(value)\n",
    "# 이게 반복되겠죠?\n",
    "\n",
    "# 위를 요약하면 이렇게 됨\n",
    "sum_lst = [sum(lst[:k])]\n",
    "for i in range(1, n-k+1):\n",
    "    value = sum_lst[i-1] - lst[i-1] + lst[i+k-1]\n",
    "    sum_lst.append(value)\n",
    "\n",
    "max(sum_lst)"
   ]
  },
  {
   "cell_type": "code",
   "execution_count": 31,
   "id": "03a79cd5-7204-4c69-8131-fc16aff699b0",
   "metadata": {},
   "outputs": [],
   "source": [
    "import sys\n",
    "sys.stdin = open('test.txt', 'r')\n",
    "input = sys.stdin.readline\n",
    "\n",
    "n, k = map(int, input().rstrip().split())\n",
    "lst = list(map(int, input().rstrip().split()))\n",
    "\n",
    "sum_lst = [sum(lst[:k])]\n",
    "\n",
    "for i in range(1, n-k+1):\n",
    "    value = sum_lst[i-1] - lst[i-1] + lst[i+k-1]\n",
    "    sum_lst.append(value)\n",
    "\n",
    "max(sum_lst)"
   ]
  },
  {
   "cell_type": "code",
   "execution_count": 32,
   "id": "d5bd3866-1695-4a31-989a-544ba47ff869",
   "metadata": {},
   "outputs": [
    {
     "name": "stdout",
     "output_type": "stream",
     "text": [
      "[3]\n"
     ]
    }
   ],
   "source": [
    "print(sum_lst)"
   ]
  },
  {
   "cell_type": "code",
   "execution_count": null,
   "id": "910c0e3e-79de-45a8-bf79-99b33fbd135b",
   "metadata": {},
   "outputs": [],
   "source": []
  }
 ],
 "metadata": {
  "kernelspec": {
   "display_name": "Python 3",
   "language": "python",
   "name": "python3"
  },
  "language_info": {
   "codemirror_mode": {
    "name": "ipython",
    "version": 3
   },
   "file_extension": ".py",
   "mimetype": "text/x-python",
   "name": "python",
   "nbconvert_exporter": "python",
   "pygments_lexer": "ipython3",
   "version": "3.8.8"
  }
 },
 "nbformat": 4,
 "nbformat_minor": 5
}
