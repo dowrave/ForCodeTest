{
 "cells": [
  {
   "cell_type": "markdown",
   "id": "7e558554-f1ac-44f3-b01f-34d681ce0b5b",
   "metadata": {},
   "source": [
    "## 15649\n",
    "- N, M이 주어졌을 때 aPb를 모두 출력하시오"
   ]
  },
  {
   "cell_type": "code",
   "execution_count": 24,
   "id": "fd842099-f274-4fab-add6-489adc8c6d81",
   "metadata": {},
   "outputs": [],
   "source": [
    "import sys\n",
    "sys.stdin = open('test.txt', 'r')\n",
    "input = sys.stdin.readline\n",
    "\n",
    "N, M = map(int, input().rstrip().split())"
   ]
  },
  {
   "cell_type": "code",
   "execution_count": 25,
   "id": "fc57412d-cea8-4914-bb9e-9f5eb8e5d16e",
   "metadata": {},
   "outputs": [
    {
     "name": "stdout",
     "output_type": "stream",
     "text": [
      "1 2 3 4\n",
      "1 2 4 3\n",
      "1 3 2 4\n",
      "1 3 4 2\n",
      "1 4 2 3\n",
      "1 4 3 2\n",
      "2 1 3 4\n",
      "2 1 4 3\n",
      "2 3 1 4\n",
      "2 3 4 1\n",
      "2 4 1 3\n",
      "2 4 3 1\n",
      "3 1 2 4\n",
      "3 1 4 2\n",
      "3 2 1 4\n",
      "3 2 4 1\n",
      "3 4 1 2\n",
      "3 4 2 1\n",
      "4 1 2 3\n",
      "4 1 3 2\n",
      "4 2 1 3\n",
      "4 2 3 1\n",
      "4 3 1 2\n",
      "4 3 2 1\n"
     ]
    }
   ],
   "source": [
    "def find_all_permutation(x):\n",
    "    if x == M:\n",
    "        print(\" \".join(map(str, lst)))\n",
    "        return\n",
    "    \n",
    "    for i in range(N + 1):\n",
    "        if i in lst:\n",
    "            continue\n",
    "        \n",
    "        lst[x] = i\n",
    "        find_all_permutation(x+1)\n",
    "        lst[x] = 0\n",
    "\n",
    "lst = [0] * M\n",
    "find_all_permutation(0)"
   ]
  },
  {
   "cell_type": "markdown",
   "id": "f6f41f65-de48-4f4c-bb63-b4290cab6810",
   "metadata": {},
   "source": [
    "## 15650\n",
    "- 오름차순만 나오게 하시오"
   ]
  },
  {
   "cell_type": "code",
   "execution_count": 30,
   "id": "ea82760c-5c64-4cf6-8946-8731f0ec7181",
   "metadata": {},
   "outputs": [
    {
     "name": "stdout",
     "output_type": "stream",
     "text": [
      "1 2 3 4\n"
     ]
    }
   ],
   "source": [
    "import sys\n",
    "sys.stdin = open('test.txt', 'r')\n",
    "input = sys.stdin.readline\n",
    "N, M = map(int, input().rstrip().split())\n",
    "\n",
    "def find_permutations2(x, start_value): \n",
    "    \"\"\"\n",
    "    x는 값이 들어가는 리스트의 인덱스\n",
    "    startidx는 반복문이 시작하는 값\n",
    "    \"\"\"\n",
    "    if x == M:\n",
    "        print(\" \".join(map(str, lst)))\n",
    "        return # return 안 넣어주니까 IndexError 발생!\n",
    "    \n",
    "    for i in range(start_value, N + 1):\n",
    "\n",
    "        lst[x] = i\n",
    "        find_permutations2(x + 1, i + 1) \n",
    "        lst[x] = 0\n",
    "        \n",
    "lst = [0] * M\n",
    "find_permutations2(0, 1)"
   ]
  },
  {
   "cell_type": "markdown",
   "id": "37fec207-8059-4e7f-9695-be8a5d560ad9",
   "metadata": {},
   "source": [
    "## 15651\n",
    "- 같은 수 반복 가능"
   ]
  },
  {
   "cell_type": "code",
   "execution_count": 32,
   "id": "079418ee-5abf-4a88-adf8-4599311bc506",
   "metadata": {},
   "outputs": [
    {
     "name": "stdout",
     "output_type": "stream",
     "text": [
      "1 1 1\n",
      "1 1 2\n",
      "1 1 3\n",
      "1 2 1\n",
      "1 2 2\n",
      "1 2 3\n",
      "1 3 1\n",
      "1 3 2\n",
      "1 3 3\n",
      "2 1 1\n",
      "2 1 2\n",
      "2 1 3\n",
      "2 2 1\n",
      "2 2 2\n",
      "2 2 3\n",
      "2 3 1\n",
      "2 3 2\n",
      "2 3 3\n",
      "3 1 1\n",
      "3 1 2\n",
      "3 1 3\n",
      "3 2 1\n",
      "3 2 2\n",
      "3 2 3\n",
      "3 3 1\n",
      "3 3 2\n",
      "3 3 3\n"
     ]
    }
   ],
   "source": [
    "import sys\n",
    "sys.stdin = open('test.txt', 'r')\n",
    "input = sys.stdin.readline\n",
    "N, M = map(int, input().rstrip().split())\n",
    "\n",
    "def find_permutations3(x):\n",
    "    if x == M:\n",
    "        print(\" \".join(map(str, lst)))\n",
    "        return\n",
    "    \n",
    "    for i in range(1, N + 1):\n",
    "        lst[x] = i\n",
    "        find_permutations3(x + 1)\n",
    "        lst[x] = 0\n",
    "    \n",
    "lst = [0] * M\n",
    "find_permutations3(0)"
   ]
  },
  {
   "cell_type": "markdown",
   "id": "d35a9c2a-344d-4fe3-969d-283aa767e1f9",
   "metadata": {},
   "source": [
    "# 15652\n",
    "- 여러 번 고를 수 있는데, 뒷 수는 앞 수보다 크거나 같음"
   ]
  },
  {
   "cell_type": "code",
   "execution_count": 35,
   "id": "4f6a2ccb-3c97-47e9-be96-17248866a8fa",
   "metadata": {},
   "outputs": [
    {
     "name": "stdout",
     "output_type": "stream",
     "text": [
      "1 1 1\n",
      "1 1 2\n",
      "1 1 3\n",
      "1 2 2\n",
      "1 2 3\n",
      "1 3 3\n",
      "2 2 2\n",
      "2 2 3\n",
      "2 3 3\n",
      "3 3 3\n"
     ]
    }
   ],
   "source": [
    "import sys\n",
    "sys.stdin = open('test.txt', 'r')\n",
    "input = sys.stdin.readline\n",
    "N, M = map(int, input().rstrip().split())\n",
    "\n",
    "def find_permutations4(x, start_value):\n",
    "    if x == M:\n",
    "        print(\" \".join(map(str, lst)))\n",
    "        return\n",
    "        \n",
    "    for i in range(start_value, N + 1):\n",
    "        lst[x] = i\n",
    "        find_permutations4(x + 1, i)\n",
    "        lst[x] = 0\n",
    "\n",
    "lst = [0] * M\n",
    "find_permutations4(0, 1)\n"
   ]
  },
  {
   "cell_type": "markdown",
   "id": "377604ed-9860-46d1-aca8-ba0ae4a9d596",
   "metadata": {},
   "source": [
    "## 9663번 - N Queens\n",
    "- 크기 N * N 인 체스판에 N개의 퀸을 서로 공격할 수 없게 배치하는 경우의 수"
   ]
  },
  {
   "cell_type": "code",
   "execution_count": 1,
   "id": "f60faafb-348a-4d52-a005-54535a290bf3",
   "metadata": {},
   "outputs": [],
   "source": [
    "import sys\n",
    "sys.stdin = open('test.txt', 'r')\n",
    "input = sys.stdin.readline\n",
    "N = int(input())"
   ]
  },
  {
   "cell_type": "markdown",
   "id": "08937c89-4a58-48b7-9250-c12e145dda4e",
   "metadata": {},
   "source": [
    "### 퀸을 놓는 경우의 수\n",
    "- 가로, 세로, 대각선\n",
    "- 지금까지 백트래킹 구현을 재귀식의 인덱스를 1씩 늘리고, 반복문의 파라미터를 다르게 넣는 식으로 구현했음\n",
    "- 똑같이 매 가로줄의 0 ~ 7번째 칸에 퀸을 놓은 뒤 이 퀸을 놓을 수 있는지 체크해야함\n",
    "    - 가로줄에 대해 재귀식이 돌아가므로 가로줄이 같으냐?는 체크할 필요가 없음.\n",
    "    - 하나의 가로줄에 하나의 퀸을 넣고 다음 줄로 넘어가는 방식이기 때문임"
   ]
  },
  {
   "cell_type": "code",
   "execution_count": 2,
   "id": "bb1ea8d2-cbd8-4b57-91cb-2e91f849e584",
   "metadata": {},
   "outputs": [
    {
     "name": "stdout",
     "output_type": "stream",
     "text": [
      "92\n"
     ]
    }
   ],
   "source": [
    "# 기본 dfs\n",
    "def n_queens(x):\n",
    "    global answer\n",
    "    \n",
    "    if x == N:\n",
    "        answer += 1\n",
    "        return\n",
    "    \n",
    "    for i in range(N):\n",
    "        # 기본적으로 위에서 구현한 DFS와 동일함\n",
    "        \n",
    "        lst[x] = i # (x, i)에 체스말이 들어감\n",
    "        \n",
    "        # 근데 조건식이 들어감 : 이 퀸이 들어갈 수 있는지를 체크해야 함\n",
    "        if check_queens(x):\n",
    "            n_queens(x+1)\n",
    "        \n",
    "        lst[x] = 0 \n",
    "        \n",
    "\"\"\"    \n",
    "check_queens()에 관해:\n",
    "x값과 lst[x]값으로 넣은 퀸의 위치를 특정할 수 있음 : 그래서 파라미터는 x로 받음\n",
    "x번째 줄까지 데이터가 들어간 상황에서 체크하므로, 체크할 범위는 체스판 전체 N이 아니라\n",
    "x임!\n",
    "\"\"\" \n",
    "def check_queens(x):\n",
    "    for i in range(x):\n",
    "        # 세로줄\n",
    "        if lst[x] == lst[i]:\n",
    "            return False\n",
    "        # 대각선 체크 : 체스판의 대각선의 기울기는 1임\n",
    "        # 즉 같은 대각선에 있는 두 점의 y 변화량 = x 변화량 이라는 의미임\n",
    "        elif abs(lst[x] - lst[i]) == abs(x - i):\n",
    "            return False\n",
    "    return True\n",
    "\n",
    "lst = [0] * N\n",
    "answer = 0\n",
    "n_queens(0)\n",
    "\n",
    "print(answer)\n",
    "\n",
    "# Python 3 - 시간초과 / Pypy 3 - 30140ms\n"
   ]
  },
  {
   "cell_type": "code",
   "execution_count": 5,
   "id": "4bf68e3f-78c9-4ee6-b843-fd68f23d52bf",
   "metadata": {},
   "outputs": [
    {
     "name": "stdout",
     "output_type": "stream",
     "text": [
      "92\n"
     ]
    }
   ],
   "source": [
    "# 세로줄 조건은 함수로 빼지 않고 반복문 자체에서 걸러줄 수 있음\n",
    "# 기본 dfs\n",
    "def n_queens(x):\n",
    "    global answer\n",
    "    \n",
    "    if x == N:\n",
    "        answer += 1\n",
    "        return\n",
    "    \n",
    "    for i in range(N):\n",
    "        \n",
    "        # 이미 방문한 적 있는 세로줄이라면 바로 다음 반복문으로 넘어감\n",
    "        if visited[i] == True:\n",
    "            continue\n",
    "            \n",
    "        lst[x] = i \n",
    "\n",
    "        if check_queens(x):\n",
    "            visited[i] = True\n",
    "            n_queens(x+1)\n",
    "            visited[i] = False\n",
    "        \n",
    "        lst[x] = 0 \n",
    "        \n",
    "\n",
    "def check_queens(x):\n",
    "    for i in range(x):\n",
    "        if abs(lst[x] - lst[i]) == abs(x - i):\n",
    "            return False\n",
    "    return True\n",
    "\n",
    "lst = [0] * N\n",
    "answer = 0\n",
    "# n번째 세로줄을 방문한 적이 있다면 True로 바뀜\n",
    "visited = [False] * N\n",
    "\n",
    "\n",
    "n_queens(0)\n",
    "\n",
    "print(answer)\n",
    "\n",
    "# python 3 - 시간초과 \n",
    "# pypy 3 - 13830ms"
   ]
  },
  {
   "cell_type": "markdown",
   "id": "3d2fe217-020d-458f-9ddd-4c613eb40675",
   "metadata": {},
   "source": [
    "- 파이썬으로 통과하고 싶은데요?\n",
    "- 최적화를 ㅈㄴ 잘해야 파이썬으로 통과할 수 있다고 한다. pypy3으로 통과가 되었다면 로직이 맞으니 걱정하지 말라고 함"
   ]
  },
  {
   "cell_type": "markdown",
   "id": "50de3f76-e117-43c8-b09b-db6e32b043b7",
   "metadata": {},
   "source": [
    "### 2580 - 스도쿠"
   ]
  },
  {
   "cell_type": "code",
   "execution_count": 2,
   "id": "5885b8ce-7704-473d-b0f5-c39415a0be57",
   "metadata": {},
   "outputs": [],
   "source": [
    "import sys\n",
    "sys.stdin = open('test.txt', 'r')\n",
    "input = sys.stdin.readline\n",
    "map_lst = []\n",
    "for i in range(9):\n",
    "    map_lst.append(list(map(int, input().rstrip().split())))"
   ]
  },
  {
   "cell_type": "code",
   "execution_count": 43,
   "id": "0e5dd699-05d3-442f-bf4d-3c5d94d970a7",
   "metadata": {},
   "outputs": [
    {
     "data": {
      "text/plain": [
       "[[0, 3, 5, 4, 6, 9, 2, 7, 8],\n",
       " [7, 8, 2, 1, 0, 5, 6, 0, 9],\n",
       " [0, 6, 0, 2, 7, 8, 1, 3, 5],\n",
       " [3, 2, 1, 0, 4, 6, 8, 9, 7],\n",
       " [8, 0, 4, 9, 1, 3, 5, 0, 6],\n",
       " [5, 9, 6, 8, 2, 0, 4, 1, 3],\n",
       " [9, 1, 7, 6, 5, 2, 0, 8, 0],\n",
       " [6, 0, 3, 7, 0, 1, 9, 5, 2],\n",
       " [2, 5, 8, 3, 9, 4, 7, 6, 0]]"
      ]
     },
     "execution_count": 43,
     "metadata": {},
     "output_type": "execute_result"
    }
   ],
   "source": [
    "map_lst"
   ]
  },
  {
   "cell_type": "markdown",
   "id": "a56ea784-1090-4705-b03e-ec82ff4199c8",
   "metadata": {
    "tags": []
   },
   "source": [
    "### 접근 방식은 이랬다 : \n",
    "1. 0이 들어간 곳들 좌표 정하기\n",
    "2. 각 0에 어떤 값을 넣고 다음 0으로 넘어가는 데 그걸 재귀식으로 넘어감\n",
    "    - 왜 재귀식을 쓰냐면 여러 개의 답이 존재할 수도 있기 때문임\n",
    "- 위에서부터 내려오면서 풀 때 0이 2개 이상 존재하는 경우는 없음!\n",
    "- <b> 그리고 검사를 할 때, 인덱스에 대해 반복문을 돌리다가 어떤 값을 만나면 함수를 빠져나오는 식으로 구성하는 게 훨씬 편함 </b> (아직까지는)\n",
    "    - 나는 보통 `in`을 많이 썼는데 막히는 지점이 생기는 것 같음"
   ]
  },
  {
   "cell_type": "code",
   "execution_count": 33,
   "id": "b9242d6f-9ca2-4c17-8a7f-edd91b22708a",
   "metadata": {},
   "outputs": [
    {
     "name": "stdout",
     "output_type": "stream",
     "text": [
      "1 3 5 4 6 9 2 7 8\n",
      "7 8 2 1 3 5 6 4 9\n",
      "4 6 9 2 7 8 1 3 5\n",
      "3 2 1 5 4 6 8 9 7\n",
      "8 7 4 9 1 3 5 2 6\n",
      "5 9 6 8 2 7 4 1 3\n",
      "9 1 7 6 5 2 3 8 4\n",
      "6 4 3 7 8 1 9 5 2\n",
      "2 5 8 3 9 4 7 6 1\n"
     ]
    }
   ],
   "source": [
    "import sys\n",
    "\n",
    "# -----------------------------------------------------------------------------------------------\n",
    "def sudoku(idx):\n",
    "    \n",
    "    global finished\n",
    "    \n",
    "    if idx == len(blank_lst):\n",
    "        for line in map_lst:\n",
    "            print(\" \".join(map(str, line)))\n",
    "#             print(*line)\n",
    "            finished = True\n",
    "            \n",
    "    else:\n",
    "        x = blank_lst[idx][0]\n",
    "        y = blank_lst[idx][1]\n",
    "\n",
    "        for value in range(1, 10):\n",
    "            if cond_row(x, value) and cond_col(y, value) and cond_square(x, y, value):\n",
    "                map_lst[x][y] = value\n",
    "                sudoku(idx + 1)\n",
    "                map_lst[x][y] = 0 # 이거 없다고 틀렸습니다가 뜨네..?\n",
    "                if finished == True:\n",
    "                    break\n",
    "                    \n",
    "# 조건 3개\n",
    "def cond_row(x, val):\n",
    "    for i in range(9):\n",
    "        if val == map_lst[x][i]:\n",
    "            return False\n",
    "    return True\n",
    "\n",
    "def cond_col(y, val):\n",
    "    for i in range(9):\n",
    "        if val == map_lst[i][y]:\n",
    "            return False\n",
    "    return True\n",
    "\n",
    "def cond_square(x, y, val):\n",
    "    nx = x // 3 * 3\n",
    "    ny = y // 3 * 3\n",
    "    \n",
    "    for i in range(0, 3):\n",
    "        for j in range(0, 3):\n",
    "            if val == map_lst[nx+i][ny+j]:\n",
    "                return False\n",
    "    return True\n",
    "# ----------------------------------------------------------------------------------\n",
    "sys.stdin = open('test.txt', 'r')\n",
    "input = sys.stdin.readline\n",
    "\n",
    "map_lst = []\n",
    "for i in range(9):\n",
    "    map_lst.append(list(map(int, input().rstrip().split())))\n",
    "\n",
    "# blank 찾기\n",
    "blank_lst = []\n",
    "for i in range(9):\n",
    "    for j in range(9):\n",
    "        if map_lst[i][j] == 0:\n",
    "            blank_lst.append((i, j))\n",
    "\n",
    "finished = False\n",
    "sudoku(0)\n",
    "# python3 - 시간 초과 / pypy3 - 3256ms"
   ]
  },
  {
   "cell_type": "markdown",
   "id": "f1ce6b5e-c637-4688-a0a7-11e3af1a4f71",
   "metadata": {},
   "source": [
    "## 14888번 - 연산자 끼워넣기\n",
    "- 삼성 SW 역량 테스트 기출문제"
   ]
  },
  {
   "cell_type": "code",
   "execution_count": 55,
   "id": "90db19dd-063f-452c-9671-06f41938a612",
   "metadata": {},
   "outputs": [
    {
     "name": "stdout",
     "output_type": "stream",
     "text": [
      "54\n",
      "-24\n"
     ]
    }
   ],
   "source": [
    "# 인덱스는 부호의 리스트를 따라감 (두 숫자 사이에 들어가는 갯수니까 숫자 - 1개가 총 갯수)\n",
    "def function(idx, val, plus, minus, multiply, divide):\n",
    "    \n",
    "    global max_val, min_val\n",
    "    \n",
    "    if idx == N - 1:\n",
    "        max_val = max(max_val, val)\n",
    "        min_val = min(min_val, val)\n",
    "        return\n",
    "        \n",
    "    else:\n",
    "        # idx 기준 0 1 사이에 오는 부호를 0이라고 놓기로 했다면, \n",
    "        if plus:\n",
    "            function(idx + 1, val + num_lst[idx + 1], plus - 1, minus, multiply, divide)\n",
    "        if minus:\n",
    "            function(idx + 1, val - num_lst[idx + 1], plus, minus - 1, multiply, divide)\n",
    "        if multiply:\n",
    "            function(idx + 1 , val * num_lst[idx + 1], plus, minus, multiply - 1, divide)\n",
    "        if divide:\n",
    "            if val < 0:\n",
    "                new_value = -(abs(val) // num_lst[idx + 1])\n",
    "                function(idx + 1, new_value, plus, minus, multiply, divide - 1)\n",
    "            else:\n",
    "                function(idx + 1, val // num_lst[idx + 1], plus, minus, multiply, divide - 1)\n",
    "            # 이 조건문을 타지 않고 int를 이용해 똑같이 구현할 수 있다\n",
    "            # 정수 + 소수라고 한다면\n",
    "            # //는 해당 정수(ex : -2 + 0.xxx = -1.xxx) -> //은 -2를 나타냄\n",
    "            # 한편 int(a/b)는 (-1.xxx)라면 소수점을 버리기 때문에 -1이 됨\n",
    "            # 이걸 c++14 기준이라고 하는건가봐\n",
    "#             function(idx + 1, int(val / num_lst[idx + 1]), plus, minus, multiply, divide - 1)\n",
    "\n",
    "import sys\n",
    "sys.stdin = open('test.txt', 'r')\n",
    "input = sys.stdin.readline\n",
    "\n",
    "N = int(input())\n",
    "num_lst = list(map(int, input().rstrip('\\n').split()))\n",
    "pl, mi, mul, div = list(map(int, input().rstrip('\\n').split()))\n",
    "\n",
    "max_val = -1e9\n",
    "min_val = 1e9\n",
    "\n",
    "function(0, num_lst[0], pl, mi, mul, div)\n",
    "print(max_val)\n",
    "print(min_val)"
   ]
  },
  {
   "cell_type": "code",
   "execution_count": 57,
   "id": "b43bf47b-b12d-40af-a287-04689613df84",
   "metadata": {},
   "outputs": [
    {
     "name": "stdout",
     "output_type": "stream",
     "text": [
      "1 -1 -2\n"
     ]
    },
    {
     "data": {
      "text/plain": [
       "-1"
      ]
     },
     "execution_count": 57,
     "metadata": {},
     "output_type": "execute_result"
    }
   ],
   "source": [
    "# 나눗셈 정의 - 몫만 취하되, 음수 // 양수는 음수를 양수로 바꿔 몫을 취한 뒤 다시 음수로 바꾸는 방식을 택함\n",
    "print(8 // 7, -3 // 7, -8 // 7)\n",
    "int(-8 / 7)"
   ]
  },
  {
   "cell_type": "markdown",
   "id": "ceb72bfb-d65a-432b-b309-164d0f432365",
   "metadata": {},
   "source": [
    "## 14889 - 스타트와 링크"
   ]
  },
  {
   "cell_type": "code",
   "execution_count": 105,
   "id": "f04858d7-7457-4781-a040-404ee26c1ec4",
   "metadata": {},
   "outputs": [
    {
     "name": "stdout",
     "output_type": "stream",
     "text": [
      "[0, 1, 2, 3, 4, 5]\n",
      "[1, 0, 2, 3, 4, 5]\n",
      "[1, 2, 0, 3, 4, 5]\n",
      "[1, 2, 3, 0, 4, 5]\n",
      "[1, 2, 3, 4, 0, 5]\n",
      "[1, 2, 3, 4, 5, 0]\n"
     ]
    }
   ],
   "source": [
    "import sys\n",
    "sys.stdin = open('test.txt', 'r')\n",
    "input = sys.stdin.readline\n",
    "\n",
    "N = int(input())\n",
    "score_map = []\n",
    "for i in range(N):\n",
    "    score_map.append(list(map(int, input().rstrip().split())))\n",
    "\n",
    "for i in score_map:\n",
    "    print(i)"
   ]
  },
  {
   "cell_type": "markdown",
   "id": "45a4177e-a39e-4c06-a593-922593fa30ac",
   "metadata": {},
   "source": [
    "### 포인트는 dfs 자체보다 그 다음임\n",
    "- 두 조합이 정해진 다음 어떻게 할 것인지가 포인트임 \n",
    "- 즉 dfs로 구한 건 인덱스들이 구성되는 케이스들이고, 그 안에서 점수를 어떻게 구할래?가 포인트인데\n",
    "- 조합을 구하는 방법은 재귀식도 있지만 이중 for문도 있다.\n",
    "- 따라서 어떤 조합이 정해졌다면 그 상태에서 score 변수를 만들어주고,\n",
    "- 이중 for문을 통해 인덱스를 원래 N * N 식에 넣어 점수를 구하는 방식으로 이용하면 됨"
   ]
  },
  {
   "cell_type": "code",
   "execution_count": 107,
   "id": "d0190d47-cac0-4d49-8fd0-762c4264efce",
   "metadata": {},
   "outputs": [
    {
     "name": "stdout",
     "output_type": "stream",
     "text": [
      "2\n"
     ]
    }
   ],
   "source": [
    "import sys\n",
    "sys.stdin = open('test.txt', 'r')\n",
    "input = sys.stdin.readline\n",
    "\n",
    "N = int(input())\n",
    "score_map = []\n",
    "for i in range(N):\n",
    "    score_map.append(list(map(int, input().rstrip().split())))\n",
    "    \n",
    "def function(x, startidx):\n",
    "    \n",
    "    global min_value\n",
    "    \n",
    "    if x == N // 2:\n",
    "        start_score = 0\n",
    "        link_score = 0\n",
    "        # 상대 팀 정하기\n",
    "        for i in range(N):\n",
    "            if i not in team_start:\n",
    "                team_link.append(i)\n",
    "                \n",
    "        # 팀을 정했음 : 그 두 팀의 리스트의 길이가 동일함 \n",
    "        # 별도의 재귀함수를 구현하는 것보다, 이중 for문을 돌려서 동시에 점수를 구하는 방식을 택할 수 있음\n",
    "        # 사실 또 dfs를 쓴다 그러면 너무 더러워짐 - 반복문이 직관적인 장점이 있는 듯\n",
    "        for i in range(N // 2):\n",
    "            for j in range(i, N // 2):\n",
    "                a, b = team_start[i], team_start[j]\n",
    "                c, d = team_link[i], team_link[j]\n",
    "                start_score += score_map[a][b] + score_map[b][a]\n",
    "                link_score += score_map[c][d] + score_map[d][c]\n",
    "        \n",
    "        min_value = min(min_value, abs(start_score - link_score))\n",
    "        \n",
    "        # 링크 리스트는 초기화해준다\n",
    "        team_link.clear()\n",
    "        return\n",
    "    \n",
    "    else:\n",
    "        for i in range(startidx, N):\n",
    "            \n",
    "            # 한쪽 리스트가 0인 케이스들이 모두 고려되었다면, 더 이상 반복문을 돌릴 필요가 없다\n",
    "            # start에 더 이상 0이 들어가지 않는다면, link에 0이 들어간다는 뜻인데\n",
    "            # 이는 이미 start가 0일 때 고려된 케이스이기 때문이다\n",
    "            if i != 0 and startidx == 0:\n",
    "                break\n",
    "            \n",
    "            team_start.append(i)\n",
    "            function(x+1, i+1)\n",
    "            team_start.pop()\n",
    "            \n",
    "team_start = []\n",
    "team_link = []\n",
    "min_value = 1e9\n",
    "\n",
    "function(0, 0)\n",
    "print(min_value)\n",
    "\n",
    "# pypy 3 - 396ms / Python 3 - 2388ms"
   ]
  },
  {
   "cell_type": "code",
   "execution_count": 87,
   "id": "90b3f3d7-6ca5-458a-8991-5af0f906ff85",
   "metadata": {},
   "outputs": [
    {
     "name": "stdout",
     "output_type": "stream",
     "text": [
      "[1, 2]\n",
      "6\n",
      "0\n"
     ]
    }
   ],
   "source": []
  },
  {
   "cell_type": "code",
   "execution_count": 97,
   "id": "f3facd1d-5c3d-4b62-84c8-c223dba274b0",
   "metadata": {},
   "outputs": [],
   "source": []
  },
  {
   "cell_type": "code",
   "execution_count": 98,
   "id": "e7a305f7-484c-40ac-900f-42a8d73cecc7",
   "metadata": {},
   "outputs": [
    {
     "data": {
      "text/plain": [
       "2"
      ]
     },
     "execution_count": 98,
     "metadata": {},
     "output_type": "execute_result"
    }
   ],
   "source": [
    "f(abc)"
   ]
  },
  {
   "cell_type": "code",
   "execution_count": null,
   "id": "9125fc64-3f9a-44fd-8c32-3717d45b8b1b",
   "metadata": {},
   "outputs": [],
   "source": []
  },
  {
   "cell_type": "code",
   "execution_count": null,
   "id": "4994a0d3-6a2e-4d68-9cc1-8da3fbb7dec7",
   "metadata": {},
   "outputs": [],
   "source": []
  },
  {
   "cell_type": "code",
   "execution_count": null,
   "id": "7b47be41-f2ae-4a43-9d24-a8a1fda5878a",
   "metadata": {},
   "outputs": [],
   "source": []
  }
 ],
 "metadata": {
  "kernelspec": {
   "display_name": "Python 3",
   "language": "python",
   "name": "python3"
  },
  "language_info": {
   "codemirror_mode": {
    "name": "ipython",
    "version": 3
   },
   "file_extension": ".py",
   "mimetype": "text/x-python",
   "name": "python",
   "nbconvert_exporter": "python",
   "pygments_lexer": "ipython3",
   "version": "3.8.8"
  }
 },
 "nbformat": 4,
 "nbformat_minor": 5
}
