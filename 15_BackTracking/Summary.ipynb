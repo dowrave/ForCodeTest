{
 "cells": [
  {
   "cell_type": "markdown",
   "id": "b9289798-949c-4f26-ae61-c8811a696c23",
   "metadata": {},
   "source": [
    "# 1. DFS"
   ]
  },
  {
   "cell_type": "code",
   "execution_count": 54,
   "id": "70a671bb-edec-44d0-ac32-d0d979371e99",
   "metadata": {
    "collapsed": true,
    "jupyter": {
     "outputs_hidden": true
    },
    "tags": []
   },
   "outputs": [
    {
     "name": "stdout",
     "output_type": "stream",
     "text": [
      "1 2 3 4 5\n",
      "1 2 3 5 4\n",
      "1 2 4 3 5\n",
      "1 2 4 5 3\n",
      "1 2 5 3 4\n",
      "1 2 5 4 3\n",
      "1 3 2 4 5\n",
      "1 3 2 5 4\n",
      "1 3 4 2 5\n",
      "1 3 4 5 2\n",
      "1 3 5 2 4\n",
      "1 3 5 4 2\n",
      "1 4 2 3 5\n",
      "1 4 2 5 3\n",
      "1 4 3 2 5\n",
      "1 4 3 5 2\n",
      "1 4 5 2 3\n",
      "1 4 5 3 2\n",
      "1 5 2 3 4\n",
      "1 5 2 4 3\n",
      "1 5 3 2 4\n",
      "1 5 3 4 2\n",
      "1 5 4 2 3\n",
      "1 5 4 3 2\n",
      "2 1 3 4 5\n",
      "2 1 3 5 4\n",
      "2 1 4 3 5\n",
      "2 1 4 5 3\n",
      "2 1 5 3 4\n",
      "2 1 5 4 3\n",
      "2 3 1 4 5\n",
      "2 3 1 5 4\n",
      "2 3 4 1 5\n",
      "2 3 4 5 1\n",
      "2 3 5 1 4\n",
      "2 3 5 4 1\n",
      "2 4 1 3 5\n",
      "2 4 1 5 3\n",
      "2 4 3 1 5\n",
      "2 4 3 5 1\n",
      "2 4 5 1 3\n",
      "2 4 5 3 1\n",
      "2 5 1 3 4\n",
      "2 5 1 4 3\n",
      "2 5 3 1 4\n",
      "2 5 3 4 1\n",
      "2 5 4 1 3\n",
      "2 5 4 3 1\n",
      "3 1 2 4 5\n",
      "3 1 2 5 4\n",
      "3 1 4 2 5\n",
      "3 1 4 5 2\n",
      "3 1 5 2 4\n",
      "3 1 5 4 2\n",
      "3 2 1 4 5\n",
      "3 2 1 5 4\n",
      "3 2 4 1 5\n",
      "3 2 4 5 1\n",
      "3 2 5 1 4\n",
      "3 2 5 4 1\n",
      "3 4 1 2 5\n",
      "3 4 1 5 2\n",
      "3 4 2 1 5\n",
      "3 4 2 5 1\n",
      "3 4 5 1 2\n",
      "3 4 5 2 1\n",
      "3 5 1 2 4\n",
      "3 5 1 4 2\n",
      "3 5 2 1 4\n",
      "3 5 2 4 1\n",
      "3 5 4 1 2\n",
      "3 5 4 2 1\n",
      "4 1 2 3 5\n",
      "4 1 2 5 3\n",
      "4 1 3 2 5\n",
      "4 1 3 5 2\n",
      "4 1 5 2 3\n",
      "4 1 5 3 2\n",
      "4 2 1 3 5\n",
      "4 2 1 5 3\n",
      "4 2 3 1 5\n",
      "4 2 3 5 1\n",
      "4 2 5 1 3\n",
      "4 2 5 3 1\n",
      "4 3 1 2 5\n",
      "4 3 1 5 2\n",
      "4 3 2 1 5\n",
      "4 3 2 5 1\n",
      "4 3 5 1 2\n",
      "4 3 5 2 1\n",
      "4 5 1 2 3\n",
      "4 5 1 3 2\n",
      "4 5 2 1 3\n",
      "4 5 2 3 1\n",
      "4 5 3 1 2\n",
      "4 5 3 2 1\n",
      "5 1 2 3 4\n",
      "5 1 2 4 3\n",
      "5 1 3 2 4\n",
      "5 1 3 4 2\n",
      "5 1 4 2 3\n",
      "5 1 4 3 2\n",
      "5 2 1 3 4\n",
      "5 2 1 4 3\n",
      "5 2 3 1 4\n",
      "5 2 3 4 1\n",
      "5 2 4 1 3\n",
      "5 2 4 3 1\n",
      "5 3 1 2 4\n",
      "5 3 1 4 2\n",
      "5 3 2 1 4\n",
      "5 3 2 4 1\n",
      "5 3 4 1 2\n",
      "5 3 4 2 1\n",
      "5 4 1 2 3\n",
      "5 4 1 3 2\n",
      "5 4 2 1 3\n",
      "5 4 2 3 1\n",
      "5 4 3 1 2\n",
      "5 4 3 2 1\n"
     ]
    }
   ],
   "source": [
    "N = 5\n",
    "s = []\n",
    "\n",
    "# 리스트 넣는 경우 : 모든 경우 탐색\n",
    "def dfs(lst):\n",
    "    \n",
    "    if len(lst) == N:\n",
    "        print(\" \".join(map(str, lst)))\n",
    "        return \n",
    "        \n",
    "    else:\n",
    "        for i in range(1, N+1):\n",
    "            if i in lst:\n",
    "                continue\n",
    "            else:\n",
    "                lst.append(i)\n",
    "                dfs(lst)\n",
    "                lst.pop()\n",
    "\n",
    "dfs(s)"
   ]
  },
  {
   "cell_type": "code",
   "execution_count": 56,
   "id": "a01f19a3-e385-4419-9d7e-d2e8f29d15e7",
   "metadata": {
    "tags": []
   },
   "outputs": [
    {
     "name": "stdout",
     "output_type": "stream",
     "text": [
      "1 2 3 4 5\n"
     ]
    }
   ],
   "source": [
    "# 인수를 int로 받는 경우 - \n",
    "lst = []\n",
    "\n",
    "def f(start):\n",
    "    if len(lst) == N:\n",
    "        print(\" \".join(map(str, lst)))\n",
    "        return\n",
    "     \n",
    "    # 이 조건을 어떻게 다르게 줄까\n",
    "    for i in range(start, N+1):\n",
    "        if i not in lst:\n",
    "            lst.append(i)\n",
    "            f(i + 1)\n",
    "            lst.pop()\n",
    "            \n",
    "f(1)"
   ]
  },
  {
   "cell_type": "markdown",
   "id": "11583a42-8a73-4838-95c7-d239a18e0231",
   "metadata": {},
   "source": [
    "# 2. N-Queens\n",
    "- 특이 사항 : `pypy3` 에서는 정답이 나오나, `python 3`에서는 시간 초과가 뜸"
   ]
  },
  {
   "cell_type": "code",
   "execution_count": 71,
   "id": "030a58c2-c1dc-43e0-8a08-9055934f3eb1",
   "metadata": {},
   "outputs": [],
   "source": [
    "N = 8\n",
    "rows = [0] * N\n",
    "visited_cols = [False] * N\n",
    "count = 0\n",
    "\n",
    "def Possible(x): # 대각선 퀸에 대한 검사\n",
    "    for i in range(x):\n",
    "        if abs(rows[i] - rows[x]) == abs(i - x):\n",
    "            return False\n",
    "    return True\n",
    "\n",
    "def n_queens(x):\n",
    "    \n",
    "    global count\n",
    "    \n",
    "    if x == N:\n",
    "        count += 1\n",
    "        return\n",
    "    \n",
    "    else:\n",
    "        # 매 가로줄의 각 칸에 대한 반복문임 (0,0), (0,1), (0,2) ..\n",
    "        for i in range(N):\n",
    "            \n",
    "            # 이미 방문한 세로줄이라면 바로 다음 i로 넘어감\n",
    "            if visited_cols[i] == True:\n",
    "                continue\n",
    "                \n",
    "            rows[x] = i\n",
    "            \n",
    "            if Possible(x):\n",
    "                visited_cols[i] = True # 이거를 까먹었다 ㅎㅎ\n",
    "                n_queens(x+1)\n",
    "                visited_cols[i] = False"
   ]
  },
  {
   "cell_type": "code",
   "execution_count": 72,
   "id": "34f87d9b-d669-49d3-9cc9-4cbba62dc94d",
   "metadata": {},
   "outputs": [
    {
     "name": "stdout",
     "output_type": "stream",
     "text": [
      "92\n"
     ]
    }
   ],
   "source": [
    "n_queens(0)\n",
    "print(count)"
   ]
  },
  {
   "cell_type": "code",
   "execution_count": null,
   "id": "fd9b2e9b-ef88-4b5d-b7a2-407b217dd3d2",
   "metadata": {},
   "outputs": [],
   "source": []
  }
 ],
 "metadata": {
  "kernelspec": {
   "display_name": "Python 3",
   "language": "python",
   "name": "python3"
  },
  "language_info": {
   "codemirror_mode": {
    "name": "ipython",
    "version": 3
   },
   "file_extension": ".py",
   "mimetype": "text/x-python",
   "name": "python",
   "nbconvert_exporter": "python",
   "pygments_lexer": "ipython3",
   "version": "3.8.8"
  }
 },
 "nbformat": 4,
 "nbformat_minor": 5
}
