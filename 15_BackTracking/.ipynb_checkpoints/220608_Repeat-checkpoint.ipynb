{
 "cells": [
  {
   "cell_type": "markdown",
   "id": "7e558554-f1ac-44f3-b01f-34d681ce0b5b",
   "metadata": {},
   "source": [
    "## 15649\n",
    "- N, M이 주어졌을 때 aPb를 모두 출력하시오"
   ]
  },
  {
   "cell_type": "code",
   "execution_count": 24,
   "id": "fd842099-f274-4fab-add6-489adc8c6d81",
   "metadata": {},
   "outputs": [],
   "source": [
    "import sys\n",
    "sys.stdin = open('test.txt', 'r')\n",
    "input = sys.stdin.readline\n",
    "\n",
    "N, M = map(int, input().rstrip().split())"
   ]
  },
  {
   "cell_type": "code",
   "execution_count": 25,
   "id": "fc57412d-cea8-4914-bb9e-9f5eb8e5d16e",
   "metadata": {},
   "outputs": [
    {
     "name": "stdout",
     "output_type": "stream",
     "text": [
      "1 2 3 4\n",
      "1 2 4 3\n",
      "1 3 2 4\n",
      "1 3 4 2\n",
      "1 4 2 3\n",
      "1 4 3 2\n",
      "2 1 3 4\n",
      "2 1 4 3\n",
      "2 3 1 4\n",
      "2 3 4 1\n",
      "2 4 1 3\n",
      "2 4 3 1\n",
      "3 1 2 4\n",
      "3 1 4 2\n",
      "3 2 1 4\n",
      "3 2 4 1\n",
      "3 4 1 2\n",
      "3 4 2 1\n",
      "4 1 2 3\n",
      "4 1 3 2\n",
      "4 2 1 3\n",
      "4 2 3 1\n",
      "4 3 1 2\n",
      "4 3 2 1\n"
     ]
    }
   ],
   "source": [
    "def find_all_permutation(x):\n",
    "    if x == M:\n",
    "        print(\" \".join(map(str, lst)))\n",
    "        return\n",
    "    \n",
    "    for i in range(N + 1):\n",
    "        if i in lst:\n",
    "            continue\n",
    "        \n",
    "        lst[x] = i\n",
    "        find_all_permutation(x+1)\n",
    "        lst[x] = 0\n",
    "\n",
    "lst = [0] * M\n",
    "find_all_permutation(0)"
   ]
  },
  {
   "cell_type": "markdown",
   "id": "f6f41f65-de48-4f4c-bb63-b4290cab6810",
   "metadata": {},
   "source": [
    "## 15650\n",
    "- 오름차순만 나오게 하시오"
   ]
  },
  {
   "cell_type": "code",
   "execution_count": 30,
   "id": "ea82760c-5c64-4cf6-8946-8731f0ec7181",
   "metadata": {},
   "outputs": [
    {
     "name": "stdout",
     "output_type": "stream",
     "text": [
      "1 2 3 4\n"
     ]
    }
   ],
   "source": [
    "import sys\n",
    "sys.stdin = open('test.txt', 'r')\n",
    "input = sys.stdin.readline\n",
    "N, M = map(int, input().rstrip().split())\n",
    "\n",
    "def find_permutations2(x, start_value): \n",
    "    \"\"\"\n",
    "    x는 값이 들어가는 리스트의 인덱스\n",
    "    startidx는 반복문이 시작하는 값\n",
    "    \"\"\"\n",
    "    if x == M:\n",
    "        print(\" \".join(map(str, lst)))\n",
    "        return # return 안 넣어주니까 IndexError 발생!\n",
    "    \n",
    "    for i in range(start_value, N + 1):\n",
    "\n",
    "        lst[x] = i\n",
    "        find_permutations2(x + 1, i + 1) \n",
    "        lst[x] = 0\n",
    "        \n",
    "lst = [0] * M\n",
    "find_permutations2(0, 1)"
   ]
  },
  {
   "cell_type": "markdown",
   "id": "37fec207-8059-4e7f-9695-be8a5d560ad9",
   "metadata": {},
   "source": [
    "## 15651\n",
    "- 같은 수 반복 가능"
   ]
  },
  {
   "cell_type": "code",
   "execution_count": 32,
   "id": "079418ee-5abf-4a88-adf8-4599311bc506",
   "metadata": {},
   "outputs": [
    {
     "name": "stdout",
     "output_type": "stream",
     "text": [
      "1 1 1\n",
      "1 1 2\n",
      "1 1 3\n",
      "1 2 1\n",
      "1 2 2\n",
      "1 2 3\n",
      "1 3 1\n",
      "1 3 2\n",
      "1 3 3\n",
      "2 1 1\n",
      "2 1 2\n",
      "2 1 3\n",
      "2 2 1\n",
      "2 2 2\n",
      "2 2 3\n",
      "2 3 1\n",
      "2 3 2\n",
      "2 3 3\n",
      "3 1 1\n",
      "3 1 2\n",
      "3 1 3\n",
      "3 2 1\n",
      "3 2 2\n",
      "3 2 3\n",
      "3 3 1\n",
      "3 3 2\n",
      "3 3 3\n"
     ]
    }
   ],
   "source": [
    "import sys\n",
    "sys.stdin = open('test.txt', 'r')\n",
    "input = sys.stdin.readline\n",
    "N, M = map(int, input().rstrip().split())\n",
    "\n",
    "def find_permutations3(x):\n",
    "    if x == M:\n",
    "        print(\" \".join(map(str, lst)))\n",
    "        return\n",
    "    \n",
    "    for i in range(1, N + 1):\n",
    "        lst[x] = i\n",
    "        find_permutations3(x + 1)\n",
    "        lst[x] = 0\n",
    "    \n",
    "lst = [0] * M\n",
    "find_permutations3(0)"
   ]
  },
  {
   "cell_type": "markdown",
   "id": "d35a9c2a-344d-4fe3-969d-283aa767e1f9",
   "metadata": {},
   "source": [
    "# 15652\n",
    "- 여러 번 고를 수 있는데, 뒷 수는 앞 수보다 크거나 같음"
   ]
  },
  {
   "cell_type": "code",
   "execution_count": 35,
   "id": "4f6a2ccb-3c97-47e9-be96-17248866a8fa",
   "metadata": {},
   "outputs": [
    {
     "name": "stdout",
     "output_type": "stream",
     "text": [
      "1 1 1\n",
      "1 1 2\n",
      "1 1 3\n",
      "1 2 2\n",
      "1 2 3\n",
      "1 3 3\n",
      "2 2 2\n",
      "2 2 3\n",
      "2 3 3\n",
      "3 3 3\n"
     ]
    }
   ],
   "source": [
    "import sys\n",
    "sys.stdin = open('test.txt', 'r')\n",
    "input = sys.stdin.readline\n",
    "N, M = map(int, input().rstrip().split())\n",
    "\n",
    "def find_permutations4(x, start_value):\n",
    "    if x == M:\n",
    "        print(\" \".join(map(str, lst)))\n",
    "        return\n",
    "        \n",
    "    for i in range(start_value, N + 1):\n",
    "        lst[x] = i\n",
    "        find_permutations4(x + 1, i)\n",
    "        lst[x] = 0\n",
    "\n",
    "lst = [0] * M\n",
    "find_permutations4(0, 1)\n"
   ]
  },
  {
   "cell_type": "markdown",
   "id": "377604ed-9860-46d1-aca8-ba0ae4a9d596",
   "metadata": {},
   "source": [
    "## 9663번 - N Queens\n",
    "- 크기 N * N 인 체스판에 N개의 퀸을 서로 공격할 수 없게 배치하는 경우의 수"
   ]
  },
  {
   "cell_type": "code",
   "execution_count": 36,
   "id": "f60faafb-348a-4d52-a005-54535a290bf3",
   "metadata": {},
   "outputs": [],
   "source": [
    "import sys\n",
    "sys.stdin = open('test.txt', 'r')\n",
    "input = sys.stdin.readline\n",
    "N = int(input())"
   ]
  },
  {
   "cell_type": "markdown",
   "id": "08937c89-4a58-48b7-9250-c12e145dda4e",
   "metadata": {},
   "source": [
    "### 퀸을 놓는 경우의 수\n",
    "- 가로, 세로, 대각선\n",
    "- 지금까지 백트래킹 구현을 재귀식의 인덱스를 1씩 늘리고, 반복문의 파라미터를 다르게 넣는 식으로 구현했음\n",
    "- 똑같이 매 가로줄의 0 ~ 7번째 칸에 퀸을 놓은 뒤 이 퀸을 놓을 수 있는지 체크해야함\n",
    "    - 가로줄에 대해 재귀식이 돌아가므로 가로줄이 같으냐?는 체크할 필요가 없음.\n",
    "    - 하나의 가로줄에 하나의 퀸을 넣고 다음 줄로 넘어가는 방식이기 때문임"
   ]
  },
  {
   "cell_type": "code",
   "execution_count": 39,
   "id": "bb1ea8d2-cbd8-4b57-91cb-2e91f849e584",
   "metadata": {},
   "outputs": [
    {
     "name": "stdout",
     "output_type": "stream",
     "text": [
      "92\n"
     ]
    }
   ],
   "source": [
    "# 기본 dfs\n",
    "def n_queens(x):\n",
    "    global answer\n",
    "    \n",
    "    if x == N:\n",
    "        answer += 1\n",
    "        return\n",
    "    \n",
    "    for i in range(N):\n",
    "        # 기본적으로 위에서 구현한 DFS와 동일함\n",
    "        \n",
    "        lst[x] = i # (x, i)에 체스말이 들어감\n",
    "        \n",
    "        # 근데 조건식이 들어감 : 이 퀸이 들어갈 수 있는지를 체크해야 함\n",
    "        if check_queens(x):\n",
    "            n_queens(x+1)\n",
    "        \n",
    "        lst[x] = 0 \n",
    "        \n",
    "\"\"\"    \n",
    "check_queens()에 관해:\n",
    "x값과 lst[x]값으로 넣은 퀸의 위치를 특정할 수 있음 : 그래서 파라미터는 x로 받음\n",
    "x번째 줄까지 데이터가 들어간 상황에서 체크하므로, 체크할 범위는 체스판 전체 N이 아니라\n",
    "x임!\n",
    "\"\"\" \n",
    "def check_queens(x):\n",
    "    for i in range(x):\n",
    "        # 세로줄\n",
    "        if lst[x] == lst[i]:\n",
    "            return False\n",
    "        # 대각선 체크 : 체스판의 대각선의 기울기는 1임\n",
    "        # 즉 같은 대각선에 있는 두 점의 y 변화량 = x 변화량 이라는 의미임\n",
    "        elif abs(lst[x] - lst[i]) == abs(x - i):\n",
    "            return False\n",
    "    return True\n",
    "\n",
    "lst = [0] * N\n",
    "answer = 0\n",
    "n_queens(0)\n",
    "\n",
    "print(answer)\n"
   ]
  },
  {
   "cell_type": "code",
   "execution_count": null,
   "id": "4bf68e3f-78c9-4ee6-b843-fd68f23d52bf",
   "metadata": {},
   "outputs": [],
   "source": []
  }
 ],
 "metadata": {
  "kernelspec": {
   "display_name": "Python 3",
   "language": "python",
   "name": "python3"
  },
  "language_info": {
   "codemirror_mode": {
    "name": "ipython",
    "version": 3
   },
   "file_extension": ".py",
   "mimetype": "text/x-python",
   "name": "python",
   "nbconvert_exporter": "python",
   "pygments_lexer": "ipython3",
   "version": "3.8.8"
  }
 },
 "nbformat": 4,
 "nbformat_minor": 5
}
