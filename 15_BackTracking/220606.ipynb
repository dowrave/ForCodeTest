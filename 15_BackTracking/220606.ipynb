{
 "cells": [
  {
   "cell_type": "markdown",
   "id": "553ce722-50bb-444a-ae5b-354da83b6592",
   "metadata": {},
   "source": [
    "## 15649번"
   ]
  },
  {
   "cell_type": "code",
   "execution_count": 22,
   "id": "b480da08-3f07-481e-8695-14a036f5d809",
   "metadata": {},
   "outputs": [],
   "source": [
    "import sys\n",
    "sys.stdin = open('test.txt', 'r')\n",
    "N, M = map(int, sys.stdin.readline().split(' '))"
   ]
  },
  {
   "cell_type": "markdown",
   "id": "5c979c36-e18b-4f41-b26d-e708496b682f",
   "metadata": {},
   "source": [
    "### 파이썬에서 DFS 구현하기\n",
    "- 리스트의 `append`와 `pop` 메소드를 이용하면 리스트를 스택처럼 쓸 수 있음\n",
    "- 일단 이 문제는 배우는 개념으로 보고 가겠읍니다"
   ]
  },
  {
   "cell_type": "code",
   "execution_count": 52,
   "id": "9034898d-284d-4550-a7c8-1f658378b0d5",
   "metadata": {},
   "outputs": [
    {
     "name": "stdout",
     "output_type": "stream",
     "text": [
      "1 2 3 4\n",
      "1 2 4 3\n",
      "1 3 2 4\n",
      "1 3 4 2\n",
      "1 4 2 3\n",
      "1 4 3 2\n",
      "2 1 3 4\n",
      "2 1 4 3\n",
      "2 3 1 4\n",
      "2 3 4 1\n",
      "2 4 1 3\n",
      "2 4 3 1\n",
      "3 1 2 4\n",
      "3 1 4 2\n",
      "3 2 1 4\n",
      "3 2 4 1\n",
      "3 4 1 2\n",
      "3 4 2 1\n",
      "4 1 2 3\n",
      "4 1 3 2\n",
      "4 2 1 3\n",
      "4 2 3 1\n",
      "4 3 1 2\n",
      "4 3 2 1\n"
     ]
    }
   ],
   "source": [
    "# 재귀함수를 이렇게 씁니다\n",
    "def f(s):\n",
    "    # 종료 조건 : \n",
    "    if len(s) == M:\n",
    "        print(' '.join(map(str, s)))\n",
    "        return\n",
    "    \n",
    "    # 반복문 안에 재귀함수를 넣어줌\n",
    "    for i in range(1, N+1):\n",
    "        if i in s:\n",
    "            continue\n",
    "        f(s + [i])\n",
    "        \n",
    "f([]) # input은 빈 리스트"
   ]
  },
  {
   "cell_type": "markdown",
   "id": "069f416b-c24d-463a-8dc6-715c27c2ae98",
   "metadata": {},
   "source": [
    "## 15650번\n",
    "- 쉽게 말하면 조합 뽑으라는 뜻"
   ]
  },
  {
   "cell_type": "code",
   "execution_count": 53,
   "id": "b3b2d44b-f5b1-433a-a5de-f1daac163ffd",
   "metadata": {},
   "outputs": [
    {
     "name": "stdout",
     "output_type": "stream",
     "text": [
      "1 2 3 4\n"
     ]
    }
   ],
   "source": [
    "import sys\n",
    "sys.stdin = open('test.txt', 'r')\n",
    "N, M = map(int, sys.stdin.readline().split(' '))\n",
    "\n",
    "def f(start):\n",
    "    if len(lst) == M:\n",
    "        print(\" \".join(map(str, lst)))\n",
    "        return\n",
    "     \n",
    "    # 이 조건을 어떻게 다르게 줄까\n",
    "    for i in range(start, N+1):\n",
    "        if i not in lst:\n",
    "            lst.append(i)\n",
    "            f(i + 1)\n",
    "            lst.pop()\n",
    "            \n",
    "f(1)"
   ]
  },
  {
   "cell_type": "markdown",
   "id": "409cec13-4c06-4970-8253-0b30622c7d2e",
   "metadata": {},
   "source": [
    "## 15651번"
   ]
  },
  {
   "cell_type": "code",
   "execution_count": 82,
   "id": "3613cd6f-8c70-4a0c-9a33-2e3c26a3be5f",
   "metadata": {},
   "outputs": [],
   "source": [
    "import sys\n",
    "sys.stdin = open('test.txt')\n",
    "N, M = map(int, sys.stdin.readline().split(\" \"))\n",
    "\n",
    "def dfs(lst):\n",
    "    if len(lst) == M:\n",
    "        print(\" \".join(map(str, lst)))\n",
    "        return\n",
    "    \n",
    "    for i in range(1, N+1):\n",
    "        dfs(lst + [i])"
   ]
  },
  {
   "cell_type": "code",
   "execution_count": 61,
   "id": "fd863895-7f45-4489-80e9-3d49d17b5139",
   "metadata": {},
   "outputs": [
    {
     "name": "stdout",
     "output_type": "stream",
     "text": [
      "1 1 1\n",
      "1 1 2\n",
      "1 1 3\n",
      "1 2 1\n",
      "1 2 2\n",
      "1 2 3\n",
      "1 3 1\n",
      "1 3 2\n",
      "1 3 3\n",
      "2 1 1\n",
      "2 1 2\n",
      "2 1 3\n",
      "2 2 1\n",
      "2 2 2\n",
      "2 2 3\n",
      "2 3 1\n",
      "2 3 2\n",
      "2 3 3\n",
      "3 1 1\n",
      "3 1 2\n",
      "3 1 3\n",
      "3 2 1\n",
      "3 2 2\n",
      "3 2 3\n",
      "3 3 1\n",
      "3 3 2\n",
      "3 3 3\n"
     ]
    }
   ],
   "source": [
    "dfs([])"
   ]
  },
  {
   "cell_type": "markdown",
   "id": "ff123aaa-96cb-4cf7-a13b-8c10976a7862",
   "metadata": {},
   "source": [
    "## 15652번"
   ]
  },
  {
   "cell_type": "code",
   "execution_count": 84,
   "id": "051f5345-cac4-4eb9-bbe8-5540d0b48f82",
   "metadata": {},
   "outputs": [
    {
     "name": "stdout",
     "output_type": "stream",
     "text": [
      "1 1 1\n",
      "1 1 2\n",
      "1 1 3\n",
      "1 2 2\n",
      "1 2 3\n",
      "1 3 3\n",
      "2 2 2\n",
      "2 2 3\n",
      "2 3 3\n",
      "3 3 3\n"
     ]
    }
   ],
   "source": [
    "import sys\n",
    "sys.stdin = open('test.txt')\n",
    "N, M = map(int, sys.stdin.readline().split(\" \"))\n",
    "lst = []\n",
    "\n",
    "def dfs(start):\n",
    "    if len(lst) == M:\n",
    "        print(\" \".join(map(str, lst)))\n",
    "        return\n",
    "    \n",
    "    for i in range(start, N+1):\n",
    "        lst.append(i)\n",
    "        dfs(i)\n",
    "        lst.pop()\n",
    "    \n",
    "dfs(1)"
   ]
  },
  {
   "cell_type": "markdown",
   "id": "b96730c0-48ba-42f5-a1bf-6085fad853c8",
   "metadata": {},
   "source": [
    "## 9663번 - N-Queen\n",
    "- 크기 N * N 체스판 위의 퀸 N개를 서로 공격할 수 없게 두는 문제"
   ]
  },
  {
   "cell_type": "code",
   "execution_count": 92,
   "id": "57d626bd-58ab-42cc-ade8-9d30267fda00",
   "metadata": {},
   "outputs": [],
   "source": [
    "import sys\n",
    "sys.stdin = open('test.txt', 'r')\n",
    "N = int(sys.stdin.readline())"
   ]
  },
  {
   "cell_type": "markdown",
   "id": "bdcdc81b-c25c-4af2-8fac-f227ee6124b3",
   "metadata": {},
   "source": [
    "### 어떤 자리에 놓일 수 있는 조건\n",
    "- 가로는 따질 필요 없음(x를 어차피 다르게 가져갈 거니까)\n",
    "- 그러면 x에 따른 y값이 같냐는 것과 대각선에 위치했느냐를 따질 수 있음 \n",
    "- 전자는 `y[i]값이 같은가?` / 후자는 `y = x` 내지는 `y = -x + N` 일 거 아님? 얘네가 같은가를 물어보면 됨"
   ]
  },
  {
   "cell_type": "code",
   "execution_count": 108,
   "id": "f80c0411-7610-42db-a9da-92a3fcf10f81",
   "metadata": {},
   "outputs": [
    {
     "name": "stdout",
     "output_type": "stream",
     "text": [
      "0\n"
     ]
    }
   ],
   "source": [
    "# 1. 어떻게 풀어나가지?\n",
    "rows = [0] * N  # rows[i] = j : i번쨰 row의 퀸의 위치는 j이다\n",
    "ans = 0\n",
    "visited = [False] * N\n",
    "# 2. 탐색  - 아이디어만\n",
    "# (x, i)에 퀸을 놓을 건데 어떤 조건을 만족하면 다음으로 넘어갈게\n",
    "# 여기서 어떤 조건을 만족하면... 이 재귀함수로 처리할 부분임 \n",
    "\n",
    "# def queens(N):\n",
    "\n",
    "# for x in range(N):\n",
    "#     for i in range(N):\n",
    "#         rows[x] =  i\n",
    "#         if Possible(x) == True:\n",
    "#             # x - > x + 1\n",
    "            \n",
    "# 3. 조건문\n",
    "def Possible(x):\n",
    "    for i in range(x):\n",
    "        if rows[x] == rows[i]: # 다른 x값, 같은 y값이 있다면 False\n",
    "            return False\n",
    "        elif abs(rows[x] - rows[i]) == abs(x - i): # 대각선 조건 - 대각선의 성분끼리의 차이는 항상 같은 값임\n",
    "            return False\n",
    "    return True\n",
    "\n",
    "\n",
    "# 4. 조건문을 포함한 전체 반복문\n",
    "def n_queens(x): # 재귀문을 이용할 거라서 각 함수는 매 순간의 input을 받게끔 처리한다\n",
    "    \n",
    "    global ans\n",
    "    \n",
    "    if x == N: # x == N이라는 말은 앞 과정에서 모든 row에 queen을 놓았다는 뜻임(즉 하나의 케이스가 나온 것)\n",
    "        ans += 1 \n",
    "        return # 다시 돌려야 하므로 return해줌 : 여기가 재귀함수의 끝 지점\n",
    "\n",
    "    else:\n",
    "        for i in range(N): # 퀸이 놓일 위치는 줄 0에서 총 N개임! (x1 ~ xN)\n",
    "            if visited[i]:\n",
    "                continue\n",
    "            \n",
    "            rows[x] = i # (x, i)에 퀸을 놓음 \n",
    "            if Possible(x): \n",
    "                visited[x] = True\n",
    "                n_queens(x+1)\n",
    "                visited[x] = False\n",
    "n_queens(0)\n",
    "print(ans)"
   ]
  },
  {
   "cell_type": "markdown",
   "id": "bde556ca-b12b-497f-a073-26233d8ef77f",
   "metadata": {},
   "source": [
    "- 해설\n",
    "1. `rows` : 각 `인덱스는 x번째 줄`을 의미, 각 `값(i)은 x번째 줄 i번째 자리에 queen을 놓았다`는 의미\n",
    "2. 구성 : 0번째 줄(총 N) / 0번째 자리(i)부터 퀸을 놓는다`rows[x] = i`\n",
    "    - 근데 이 (x, i)에 퀸을 놓을 수 있는가?를 검사해야 함\n",
    "    - 그래서 별도로 만든게 `Possible(x)` 함수임\n",
    "    - 이 함수는 2가지를 검사함 - 두 조건을 모두 만족하지 않을 때만 True를 반환\n",
    "        1. 다른 x값을 갖는데 동일한 y값을 갖는가? `rows(x) == rows(i)`\n",
    "        2. 대각선에 위치하는가?\n",
    "            - 대각선 특징 : 같은 대각선에 위치했다면 x 차이의 절댓값과 y 차이의 절댓값은 동일하다\n",
    "    - 검사 결과 True라면, 다음 줄을 검사함 : x+1번째 줄을 재귀호출함(`n_queens(x+1)`)\n",
    "    - 그렇게 x 값이 올라가서 n번째 줄에 도달하면 바로 경우의 수에 1을 더함\n",
    "        - 왜냐면 N-1개가 정해진 상황이라면 N번째 상황은 바로 나오기 때문임"
   ]
  },
  {
   "cell_type": "code",
   "execution_count": 111,
   "id": "3ce66428-06f1-4c04-b870-61680c1165c8",
   "metadata": {},
   "outputs": [
    {
     "name": "stdout",
     "output_type": "stream",
     "text": [
      "92\n"
     ]
    }
   ],
   "source": [
    "# 시간 초과?? - 방문 \n",
    "import sys\n",
    "sys.stdin = open('test.txt', 'r')\n",
    "N = int(sys.stdin.readline())\n",
    "\n",
    "rows = [0] * N\n",
    "ans = 0\n",
    "visited = [False] * N\n",
    "\n",
    "\n",
    "def Possible(x):\n",
    "    for i in range(x): # 여기서 x는 앞에서 나온 (x, y)를 이용하려고 하는 거잖음?\n",
    "                       # N이 들어갈 수가 없지! \n",
    "#         if rows[x] == rows[i]: \n",
    "#             return False\n",
    "        if abs(rows[x] - rows[i]) == abs(x - i): \n",
    "            return False\n",
    "    return True\n",
    "\n",
    "def n_queens(x): # n_queens는 x번째 줄에 대해 실행됨\n",
    "    \n",
    "    global ans\n",
    "    \n",
    "    if x == N: \n",
    "        ans += 1 \n",
    "        return \n",
    "\n",
    "    else:\n",
    "        for i in range(N): \n",
    "            \n",
    "            # i번째 열에 이미 방문했다면 반복 x\n",
    "            if visited[i]:\n",
    "                continue\n",
    "                \n",
    "            rows[x] = i \n",
    "            \n",
    "            if Possible(x): \n",
    "                visited[i] = True\n",
    "                n_queens(x+1)\n",
    "                visited[i] = False\n",
    "                \n",
    "n_queens(0)\n",
    "print(ans)"
   ]
  },
  {
   "cell_type": "markdown",
   "id": "b79ad457-d655-4189-811c-ae95adcce5ab",
   "metadata": {},
   "source": [
    "### 자신감 개떡락~"
   ]
  },
  {
   "cell_type": "code",
   "execution_count": null,
   "id": "12288634-4d01-4a29-b705-53645a6d9dce",
   "metadata": {},
   "outputs": [],
   "source": []
  }
 ],
 "metadata": {
  "kernelspec": {
   "display_name": "Python 3",
   "language": "python",
   "name": "python3"
  },
  "language_info": {
   "codemirror_mode": {
    "name": "ipython",
    "version": 3
   },
   "file_extension": ".py",
   "mimetype": "text/x-python",
   "name": "python",
   "nbconvert_exporter": "python",
   "pygments_lexer": "ipython3",
   "version": "3.8.8"
  }
 },
 "nbformat": 4,
 "nbformat_minor": 5
}
