{
 "cells": [
  {
   "cell_type": "markdown",
   "id": "69435381-8524-42fe-b950-f49337d875ea",
   "metadata": {},
   "source": [
    "# 11279 : 최대 힙\n",
    "- 직접 구현하려면 수고가 많이 들 듯\n",
    "- `heapq`를 쓰되 어떻게 가공해야 할지 생각해보는 쪽으로 ㄱㄱ"
   ]
  },
  {
   "cell_type": "code",
   "execution_count": 56,
   "id": "b04bbff7-f815-44fc-9c19-4abc69fa8b07",
   "metadata": {},
   "outputs": [
    {
     "name": "stdout",
     "output_type": "stream",
     "text": [
      "[1, 2, 4, 6]\n",
      "1 [2, 6, 4]\n",
      "[1, 2, 4, 6]\n"
     ]
    }
   ],
   "source": [
    "# 일단 heapq부터 어떻게 작동하는지 보자\n",
    "import heapq \n",
    "\n",
    "# 빈 리스트를 만들고 푸시를 할 떄 heapq를 이용하는 방식\n",
    "heap = []\n",
    "heapq.heappush(heap, 2)\n",
    "heapq.heappush(heap, 1)\n",
    "heapq.heappush(heap, 4)\n",
    "heapq.heappush(heap, 6)\n",
    "print(heap)\n",
    "a = heapq.heappop(heap) # 이런 변수 지정은 함수를 실행하고, 그 값만(명령 없이) 변수 a에 저장한다는 의미로 보임\n",
    "print(a, heap)\n",
    "heapq.heappush(heap, a)\n",
    "print(heap)"
   ]
  },
  {
   "cell_type": "code",
   "execution_count": 32,
   "id": "d38e4f1c-68ae-4902-a20a-4e9d4fe5c70f",
   "metadata": {},
   "outputs": [
    {
     "name": "stdout",
     "output_type": "stream",
     "text": [
      "0\n",
      "2\n",
      "1\n",
      "3\n",
      "2\n",
      "1\n",
      "0\n",
      "0\n"
     ]
    }
   ],
   "source": [
    "import sys\n",
    "import heapq\n",
    "sys.stdin = open('test.txt', 'r')\n",
    "input = sys.stdin.readline\n",
    "\n",
    "n = int(input())\n",
    "lst = []\n",
    "\n",
    "for _ in range(n):\n",
    "    command = int(input())\n",
    "    if command == 0 :\n",
    "        \n",
    "        if lst:\n",
    "            print(lst[0][1])\n",
    "            heapq.heappop(lst)\n",
    "        else:\n",
    "            print(0)\n",
    "            \n",
    "            \n",
    "    else:\n",
    "        # 우선순위를 n에서 command를 빼는 방법이 있는데 인풋 최댓값이 2^31임;\n",
    "        # 그래도 일단 구현이나 해보자\n",
    "        command = (n - command, command) # 그냥 -command로 구현하면 된다.\n",
    "        heapq.heappush(lst, command)\n",
    "# 되네?"
   ]
  },
  {
   "cell_type": "markdown",
   "id": "4ac3df3a-a165-465e-8f13-6232b80a57e5",
   "metadata": {},
   "source": [
    "# 1927 : 최소 힙"
   ]
  },
  {
   "cell_type": "code",
   "execution_count": 36,
   "id": "22c7ed68-e92e-440c-a411-761cd37a34c1",
   "metadata": {},
   "outputs": [
    {
     "name": "stdout",
     "output_type": "stream",
     "text": [
      "0\n",
      "1\n",
      "2\n",
      "12345678\n",
      "0\n"
     ]
    }
   ],
   "source": [
    "import sys\n",
    "import heapq\n",
    "sys.stdin = open('test.txt', 'r')\n",
    "input = sys.stdin.readline\n",
    "\n",
    "n = int(input())\n",
    "lst = []\n",
    "\n",
    "for _ in range(n):\n",
    "    command = int(input())\n",
    "    if command == 0 :\n",
    "        \n",
    "        if lst:\n",
    "            print(lst[0])\n",
    "            heapq.heappop(lst)\n",
    "        else:\n",
    "            print(0)\n",
    "            \n",
    "            \n",
    "    else:\n",
    "        # 우선순위를 n에서 command를 빼는 방법이 있는데 인풋 최댓값이 2^31임;\n",
    "        # 그래도 일단 구현이나 해보자\n",
    "        heapq.heappush(lst, command)\n",
    "# 되네?"
   ]
  },
  {
   "cell_type": "markdown",
   "id": "e45bdd15-a029-4731-9f1b-23e8740fe91f",
   "metadata": {},
   "source": [
    "# 11286 : 절댓값 힙\n",
    "- 출력되는 값은 절댓값이 가장 작아야 함"
   ]
  },
  {
   "cell_type": "code",
   "execution_count": 44,
   "id": "7ec42551-a086-4dfb-a4f3-b00f0f414644",
   "metadata": {},
   "outputs": [
    {
     "name": "stdout",
     "output_type": "stream",
     "text": [
      "-1\n",
      "1\n",
      "0\n",
      "-1\n",
      "-1\n",
      "1\n",
      "1\n",
      "-2\n",
      "2\n",
      "0\n"
     ]
    }
   ],
   "source": [
    "import sys\n",
    "import heapq\n",
    "sys.stdin = open('test.txt', 'r')\n",
    "input = sys.stdin.readline\n",
    "\n",
    "n = int(input())\n",
    "lst = []\n",
    "\n",
    "for _ in range(n):\n",
    "    command = int(input())\n",
    "    if command == 0 :\n",
    "        \n",
    "        if lst:\n",
    "            print(lst[0][1])\n",
    "            heapq.heappop(lst)\n",
    "        else:\n",
    "            print(0)\n",
    "             \n",
    "    else:\n",
    "        # 최대 큐에서 정렬의 원리를 이용해 0번 인덱스에 \"크기와 반비례하는 새로운 값을 추가\"하는 방식으로 했으니까\n",
    "        # 얘도 절댓값을 튜플로 추가하면 될 것 같은데?\n",
    "        command = (abs(command), command)\n",
    "        heapq.heappush(lst, command)\n"
   ]
  },
  {
   "cell_type": "markdown",
   "id": "09798f2e-af5d-4d52-b039-44838e674243",
   "metadata": {},
   "source": [
    "# 1655번 : 가운데를 말해요\n",
    "- 수가 계속 들어온다고 할 때, 들어올 때마다 중간 값을 출력해야 함\n",
    "- 시간 제한 0.1초 / 메모리 제한 128mb\n",
    "\n",
    "### 검색 결과\n",
    "- 2개의 힙을 만든다 : 최대 힙인 LeftHeap, 최소 힙인 RightHeap\n",
    "- 중간값은 LeftHeap의 중간에 오게 한다\n",
    "    - 2개의 힙에 번갈아가면서 값을 채운다\n",
    "\n",
    "- `1 2 3`을 넣어도 비슷한 경우가 발생함\n",
    "    - 왼쪽은 3 1 오른쪽은 2 인데 중간 값은 2임\n",
    "    - 그렇다면 이런 케이스는 중간 값을 바꿔줘야 할 듯?"
   ]
  },
  {
   "cell_type": "code",
   "execution_count": 71,
   "id": "0d75099c-e809-4d7a-8062-5d0fa66b3d3c",
   "metadata": {},
   "outputs": [
    {
     "name": "stdout",
     "output_type": "stream",
     "text": [
      "1\n",
      "1\n",
      "2\n",
      "2\n",
      "3\n",
      "3\n",
      "3\n"
     ]
    }
   ],
   "source": [
    "import sys\n",
    "import heapq\n",
    "sys.stdin = open('test.txt', 'r')\n",
    "input = sys.stdin.readline\n",
    "\n",
    "n = int(input())\n",
    "left = []\n",
    "right = []\n",
    "\n",
    "for _ in range(n):\n",
    "    number = int(input())\n",
    "    \n",
    "    if len(left) == len(right):\n",
    "        \n",
    "        heapq.heappush(left, (-number, number))\n",
    "        \n",
    "        if right and left[0][1] > right[0]:\n",
    "            \n",
    "            swap_a = heapq.heappop(left)\n",
    "            swap_b = heapq.heappop(right)\n",
    "            \n",
    "            heapq.heappush(left, (-swap_b, swap_b))\n",
    "            heapq.heappush(right, swap_a[1])\n",
    "\n",
    "    else:\n",
    "        heapq.heappush(right, number)\n",
    "        \n",
    "                if right and left[0][1] > right[0]:\n",
    "            \n",
    "            swap_a = heapq.heappop(left)\n",
    "            swap_b = heapq.heappop(right)\n",
    "            \n",
    "            heapq.heappush(left, (-swap_b, swap_b))\n",
    "            heapq.heappush(right, swap_a[1])\n",
    "        \n",
    "    print(left[0][1])\n"
   ]
  },
  {
   "cell_type": "code",
   "execution_count": null,
   "id": "6b493ad6-2aa4-403e-b8d5-3e3eaddb66ea",
   "metadata": {},
   "outputs": [],
   "source": []
  }
 ],
 "metadata": {
  "kernelspec": {
   "display_name": "Python 3",
   "language": "python",
   "name": "python3"
  },
  "language_info": {
   "codemirror_mode": {
    "name": "ipython",
    "version": 3
   },
   "file_extension": ".py",
   "mimetype": "text/x-python",
   "name": "python",
   "nbconvert_exporter": "python",
   "pygments_lexer": "ipython3",
   "version": "3.8.8"
  }
 },
 "nbformat": 4,
 "nbformat_minor": 5
}
