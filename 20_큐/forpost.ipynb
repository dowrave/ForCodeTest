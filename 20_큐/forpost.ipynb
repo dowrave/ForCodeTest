{
 "cells": [
  {
   "cell_type": "code",
   "execution_count": 6,
   "id": "d94fc102-0604-4bab-9e89-32ff9ba9336d",
   "metadata": {},
   "outputs": [
    {
     "name": "stdout",
     "output_type": "stream",
     "text": [
      "deque([0, 1, 2, 3, 4])\n"
     ]
    }
   ],
   "source": [
    "from collections import deque\n",
    "\n",
    "dq = deque([i for i in range(5)])\n",
    "\n",
    "print(dq) # deque([0, 1, 2, 3, 4])"
   ]
  },
  {
   "cell_type": "code",
   "execution_count": 7,
   "id": "0821509b-9d66-4378-9b38-2e6a4a82da07",
   "metadata": {},
   "outputs": [
    {
     "name": "stdout",
     "output_type": "stream",
     "text": [
      "deque([1, 2, 3, 4])\n",
      "deque([1, 2, 3])\n",
      "deque([0, 1, 2, 3])\n",
      "deque([0, 1, 2, 3, 4])\n"
     ]
    }
   ],
   "source": [
    "dq.popleft()\n",
    "print(dq) # deque([1, 2, 3, 4])\n",
    "\n",
    "dq.pop()\n",
    "print(dq) # deque([1, 2, 3])\n",
    "\n",
    "dq.appendleft(0)\n",
    "print(dq) # deque([0, 1, 2, 3])\n",
    "\n",
    "dq.append(4)\n",
    "print(dq) # deque([0, 1, 2, 3, 4])\n"
   ]
  },
  {
   "cell_type": "code",
   "execution_count": 8,
   "id": "5d88649d-dbec-4767-99dd-8aab42f19a68",
   "metadata": {},
   "outputs": [
    {
     "name": "stdout",
     "output_type": "stream",
     "text": [
      "deque([1, 2, 3, 4, 0])\n",
      "deque([4, 0, 1, 2, 3])\n"
     ]
    }
   ],
   "source": [
    "dq.rotate(-1) # 왼쪽으로 1칸씩\n",
    "print(dq) # deque([1, 2, 3, 4, 0])\n",
    "dq.rotate(2) # 오른쪽으로 2칸씩 이동\n",
    "print(dq) # deque([4, 0, 1, 2, 3])"
   ]
  },
  {
   "cell_type": "code",
   "execution_count": null,
   "id": "b29c4d0f-5967-4058-9c73-283379a83258",
   "metadata": {},
   "outputs": [],
   "source": []
  }
 ],
 "metadata": {
  "kernelspec": {
   "display_name": "Python 3",
   "language": "python",
   "name": "python3"
  },
  "language_info": {
   "codemirror_mode": {
    "name": "ipython",
    "version": 3
   },
   "file_extension": ".py",
   "mimetype": "text/x-python",
   "name": "python",
   "nbconvert_exporter": "python",
   "pygments_lexer": "ipython3",
   "version": "3.8.8"
  }
 },
 "nbformat": 4,
 "nbformat_minor": 5
}
