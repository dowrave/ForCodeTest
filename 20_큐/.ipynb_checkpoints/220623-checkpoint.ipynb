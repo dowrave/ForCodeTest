{
 "cells": [
  {
   "cell_type": "markdown",
   "id": "7e784196-4cae-45fc-98d3-1e3d72d12a33",
   "metadata": {},
   "source": [
    "# 복습 한 번 하고 가자"
   ]
  },
  {
   "cell_type": "markdown",
   "id": "fde033e3-f7f4-4435-8d86-703354aebbf6",
   "metadata": {},
   "source": [
    "## 18258번 : 큐 2"
   ]
  },
  {
   "cell_type": "code",
   "execution_count": 4,
   "id": "97e0b173-229a-4df1-804b-8580ce36f474",
   "metadata": {},
   "outputs": [
    {
     "name": "stdout",
     "output_type": "stream",
     "text": [
      "1\n",
      "2\n",
      "2\n",
      "0\n",
      "1\n",
      "2\n",
      "-1\n",
      "0\n",
      "1\n",
      "-1\n",
      "0\n",
      "3\n"
     ]
    }
   ],
   "source": [
    "from collections import deque\n",
    "import sys\n",
    "\n",
    "sys.stdin = open('test.txt', 'r')\n",
    "input = sys.stdin.readline\n",
    "\n",
    "n = int(input())\n",
    "\n",
    "dq = deque([])\n",
    "def func(order):\n",
    "    \n",
    "    if \" \" in order:\n",
    "        _, n = order.split(' ')\n",
    "        n = int(n)\n",
    "        dq.append(n)\n",
    "    \n",
    "    elif order == 'front':\n",
    "        if dq:\n",
    "            print(dq[0])\n",
    "        else:\n",
    "            print(-1)\n",
    "    elif order == 'back':\n",
    "        if dq:\n",
    "            print(dq[-1])\n",
    "        else:\n",
    "            print(-1)\n",
    "            \n",
    "    elif order == 'size':\n",
    "        print(len(dq))\n",
    "        \n",
    "    elif order == 'pop':\n",
    "        if dq:\n",
    "            print(dq[0])\n",
    "            dq.popleft()\n",
    "        else:\n",
    "            print(-1)\n",
    "    \n",
    "    elif order == 'empty':\n",
    "        if dq:\n",
    "            print(0)\n",
    "        else:\n",
    "            print(1)\n",
    "    \n",
    "for _ in range(n):\n",
    "    order = input().rstrip()\n",
    "    func(order)\n",
    "#     print(dq)"
   ]
  },
  {
   "cell_type": "markdown",
   "id": "a91c8999-1b20-4918-89a7-7d9fc71335d7",
   "metadata": {},
   "source": [
    "# 2164번 : 카드 2"
   ]
  },
  {
   "cell_type": "code",
   "execution_count": 12,
   "id": "33166f70-8c17-4eea-bf0a-1e563be4123d",
   "metadata": {},
   "outputs": [
    {
     "name": "stdout",
     "output_type": "stream",
     "text": [
      "4\n"
     ]
    }
   ],
   "source": [
    "from collections import deque\n",
    "import sys\n",
    "\n",
    "sys.stdin = open('test.txt', 'r')\n",
    "input = sys.stdin.readline\n",
    "\n",
    "n = int(input())\n",
    "dq = deque([i for i in range(1, n + 1)])\n",
    "\n",
    "while len(dq) > 1:\n",
    "    dq.popleft()\n",
    "    dq.append(dq.popleft())\n",
    "    \n",
    "print(dq[0])"
   ]
  },
  {
   "cell_type": "markdown",
   "id": "6db603ed-c2b8-4423-936e-8021c78b6bcb",
   "metadata": {},
   "source": [
    "# 11866번 : 요세푸스 문제 0"
   ]
  },
  {
   "cell_type": "code",
   "execution_count": 47,
   "id": "0cc35b5f-c5a0-463d-b261-ea0199f4b826",
   "metadata": {},
   "outputs": [
    {
     "name": "stdout",
     "output_type": "stream",
     "text": [
      "<3, 6, 2, 7, 5, 1, 4>\n"
     ]
    }
   ],
   "source": [
    "from collections import deque\n",
    "import sys\n",
    "\n",
    "sys.stdin = open('test.txt', 'r')\n",
    "input = sys.stdin.readline\n",
    "\n",
    "n, k = map(int, input().rstrip().split())\n",
    "\n",
    "ans = []\n",
    "dq = deque([i for i in range(1, n+1)])\n",
    "\n",
    "while dq:\n",
    "    dq.rotate(-(k-1))\n",
    "    ans.append(dq[0])\n",
    "    dq.popleft()\n",
    "\n",
    "print(\"<\", end = \"\")\n",
    "for i in ans:\n",
    "    if i == ans[-1]:\n",
    "        print(i, end=\"\")\n",
    "    else:\n",
    "        print(i, end=\", \")\n",
    "print(\">\")"
   ]
  },
  {
   "cell_type": "markdown",
   "id": "38ab39b3-3ed9-42ec-9eb7-c34ec5aaaeda",
   "metadata": {},
   "source": [
    "# 1966번 : 프린터 큐"
   ]
  },
  {
   "cell_type": "code",
   "execution_count": 70,
   "id": "71a78915-255d-4d7b-bc0f-1a624b548bf0",
   "metadata": {},
   "outputs": [
    {
     "name": "stdout",
     "output_type": "stream",
     "text": [
      "1\n",
      "2\n",
      "5\n"
     ]
    }
   ],
   "source": [
    "from collections import deque\n",
    "import sys\n",
    "\n",
    "sys.stdin = open('test.txt', 'r')\n",
    "input = sys.stdin.readline\n",
    "\n",
    "t = int(input())\n",
    "\n",
    "# m은 몇 번쨰로 출력되었는지 궁금한 문서의 인덱스\n",
    "\n",
    "for _ in range(t):\n",
    "    n, m = map(int, input().rstrip().split())\n",
    "    dq = deque(list(map(int, input().rstrip().split())))\n",
    "    count = 0\n",
    "    target = dq[m]\n",
    "    idx_target = m\n",
    "    \n",
    "    while True:\n",
    "        if dq[0] == max(dq):\n",
    "            dq.popleft()\n",
    "            n -= 1\n",
    "            count += 1\n",
    "            if idx_target == 0:\n",
    "                break\n",
    "            else:\n",
    "                idx_target -= 1\n",
    "                if idx_target < 0:\n",
    "                    idx_target = n - 1\n",
    "\n",
    "        else:\n",
    "            dq.rotate(-1)\n",
    "            idx_target -= 1\n",
    "            if idx_target < 0:\n",
    "                idx_target = n - 1\n",
    "        \n",
    "        # 중복일 때 타겟 인덱스를 어떻게 추적할 것인가가 문제다\n",
    "        \n",
    "    print(count)"
   ]
  },
  {
   "cell_type": "markdown",
   "id": "e15e201c-2213-4083-aedd-ea38d1377099",
   "metadata": {},
   "source": [
    "# 10866번 : 덱(Deque)\n",
    "- 난 디큐라고 읽었는데 덱이엇음?\n"
   ]
  },
  {
   "cell_type": "code",
   "execution_count": 77,
   "id": "73c0427f-a9bf-4389-8c43-42e4fa893580",
   "metadata": {},
   "outputs": [
    {
     "name": "stdout",
     "output_type": "stream",
     "text": [
      "2\n",
      "1\n",
      "2\n",
      "0\n",
      "2\n",
      "1\n",
      "-1\n",
      "0\n",
      "1\n",
      "-1\n",
      "0\n",
      "3\n"
     ]
    }
   ],
   "source": [
    "from collections import deque\n",
    "import sys\n",
    "\n",
    "sys.stdin = open('test.txt', 'r')\n",
    "input = sys.stdin.readline\n",
    "\n",
    "n = int(input())\n",
    "dq = deque([])\n",
    "def func(order):\n",
    "    if order[0] == 'push_back':\n",
    "        dq.append(order[1])\n",
    "    \n",
    "    elif order[0] == 'push_front':\n",
    "        dq.appendleft(order[1])\n",
    "    \n",
    "    elif order[0] == 'pop_front':\n",
    "        if dq:\n",
    "            print(dq[0])\n",
    "            dq.popleft()\n",
    "        else:\n",
    "            print(-1)\n",
    "    \n",
    "    elif order[0] == 'pop_back':\n",
    "        if dq:\n",
    "            print(dq[-1])\n",
    "            dq.pop()\n",
    "        else:\n",
    "            print(-1)\n",
    "    \n",
    "    elif order[0] == 'front':\n",
    "        if dq:\n",
    "            print(dq[0])\n",
    "        else:\n",
    "            print(-1)\n",
    "    \n",
    "    elif order[0] == 'back':\n",
    "        if dq:\n",
    "            print(dq[-1])\n",
    "        else:\n",
    "            print(-1)\n",
    "    \n",
    "    elif order[0] == 'empty':\n",
    "        if dq:\n",
    "            print(0)\n",
    "        else:\n",
    "            print(1)\n",
    "    \n",
    "    elif order[0] == 'size':\n",
    "        print(len(dq))\n",
    "        \n",
    "for _ in range(n):\n",
    "    order = input().rstrip().split()\n",
    "    func(order)"
   ]
  },
  {
   "cell_type": "markdown",
   "id": "4e68630a-aa95-45b7-ae2e-61304dc79d05",
   "metadata": {},
   "source": [
    "## 1021번 : 회전하는 큐\n",
    "- 3가지 연산 수행 가능\n",
    "1. `popleft()`\n",
    "2. `rotate(-1)`\n",
    "3. `rotate(1)`\n",
    "\n",
    "- 뽑아내려 하는 원소의 위치를 순서대로 뽑아내는데 드는 2, 3번 연산의 최솟값을 출력하는 프로그램\n",
    "#### 리스트 : 값의 인덱스를 찾는 메소드는 `.index()`\n",
    "- 조건문도 생각보다 쉽.."
   ]
  },
  {
   "cell_type": "code",
   "execution_count": 113,
   "id": "bee64f3b-cb64-41d3-b58b-5f1555eb39fc",
   "metadata": {},
   "outputs": [
    {
     "name": "stdout",
     "output_type": "stream",
     "text": [
      "59\n"
     ]
    }
   ],
   "source": [
    "from collections import deque\n",
    "import sys\n",
    "\n",
    "sys.stdin = open('test.txt', 'r')\n",
    "input = sys.stdin.readline\n",
    "\n",
    "n, m = map(int, input().rstrip().split())\n",
    "idx_lst = list(map(int, input().rstrip().split()))\n",
    "i = 0\n",
    "count = 0\n",
    "dq = deque([i for i in range(1, n + 1)])\n",
    "\n",
    "for idx in idx_lst:\n",
    "    while True:\n",
    "        if dq[0] == idx:\n",
    "            dq.popleft()\n",
    "            break\n",
    "        else:\n",
    "            if dq.index(idx) <= len(dq) // 2:\n",
    "                dq.rotate(-1)\n",
    "                count += 1\n",
    "            else:\n",
    "                dq.rotate(1)\n",
    "                count += 1\n",
    "    \n",
    "print(count)\n",
    "        "
   ]
  },
  {
   "cell_type": "code",
   "execution_count": 93,
   "id": "09b22a2d-708c-4970-a011-6aac9fe8df9b",
   "metadata": {},
   "outputs": [
    {
     "data": {
      "text/plain": [
       "[1, 2, 3, 4, 5, 6, 7, 8, 9, 10]"
      ]
     },
     "execution_count": 93,
     "metadata": {},
     "output_type": "execute_result"
    }
   ],
   "source": []
  },
  {
   "cell_type": "code",
   "execution_count": 110,
   "id": "3540ab77-e810-411c-b270-859d2db95f55",
   "metadata": {},
   "outputs": [
    {
     "data": {
      "text/plain": [
       "[1, 2, 3, 4, 5, 6, 7, 8, 9, 10, 11]"
      ]
     },
     "execution_count": 110,
     "metadata": {},
     "output_type": "execute_result"
    }
   ],
   "source": [
    "a = [i for i in range(1, 12)]\n",
    "a"
   ]
  },
  {
   "cell_type": "code",
   "execution_count": 111,
   "id": "e99eceaf-64b2-47d4-a376-4ae1dd0f239b",
   "metadata": {},
   "outputs": [
    {
     "data": {
      "text/plain": [
       "2"
      ]
     },
     "execution_count": 111,
     "metadata": {},
     "output_type": "execute_result"
    }
   ],
   "source": [
    "a.index(3)"
   ]
  },
  {
   "cell_type": "markdown",
   "id": "770af459-5156-4365-8070-7891809b0976",
   "metadata": {},
   "source": [
    "## 5430번 : AC\n",
    "- R : 배열의 순서 뒤집는 함수\n",
    "- D : 첫번째 인덱스의 값 버림\n"
   ]
  },
  {
   "cell_type": "code",
   "execution_count": 210,
   "id": "b5079aca-f59d-4f40-a9b5-347bb92fdf2a",
   "metadata": {},
   "outputs": [
    {
     "name": "stdout",
     "output_type": "stream",
     "text": [
      "error\n",
      "error\n",
      "error\n",
      "error\n"
     ]
    }
   ],
   "source": [
    "from collections import deque\n",
    "import sys\n",
    "\n",
    "sys.stdin = open('test.txt', 'r')\n",
    "input = sys.stdin.readline\n",
    "\n",
    "def func(order):\n",
    "    global dq\n",
    "    try:\n",
    "        if order == \"R\":\n",
    "            dq.reverse()\n",
    "\n",
    "        elif order == \"D\":\n",
    "            dq.popleft()\n",
    "\n",
    "    except:\n",
    "        print(\"error\")\n",
    "\n",
    "t = int(input())\n",
    "for _ in range(t):\n",
    "\n",
    "    try:\n",
    "        p = list(input().rstrip())\n",
    "        n = int(input())\n",
    "        lst = input()\n",
    "        dq = deque(list(map(int, lst.rstrip().lstrip('[').rstrip(']').split(\",\"))))\n",
    "\n",
    "        for order in p:\n",
    "            func(order)\n",
    "        \n",
    "        if dq:\n",
    "            print(\"[\", end=\"\")\n",
    "            for i in range(len(dq)):\n",
    "                if i == len(dq) - 1:\n",
    "                    print(dq[i], end = \"]\")\n",
    "                else:\n",
    "                    print(dq[i], end = \",\")\n",
    "\n",
    "    except:\n",
    "        print(\"error\")\n",
    "    \n"
   ]
  },
  {
   "cell_type": "markdown",
   "id": "d5ea1fbe-be75-406d-ac02-62fc8abebfee",
   "metadata": {},
   "source": []
  },
  {
   "cell_type": "code",
   "execution_count": 200,
   "id": "384a42ac-d9be-487a-80a5-9eadf59a7391",
   "metadata": {},
   "outputs": [
    {
     "name": "stdout",
     "output_type": "stream",
     "text": [
      "deque([1, 1, 2, 3, 4])\n",
      "deque([1, 2, 3, 4, 5, 5])\n"
     ]
    }
   ],
   "source": [
    "# input이 \"[1,2,3,4]\" 이럴 때 가공하는 방법\n",
    "string = \"[1,1,2,3,4]\"\n",
    "string = string.lstrip('[').rstrip(']').split(\",\")\n",
    "string = deque(list(map(int, string)))\n",
    "print(string)\n",
    "\n",
    "# 이렇게 안하고 슬라이싱으로 처리할 수 있음\n",
    "string2 = \"[1,2,3,4,5,5]\"\n",
    "string2 = string2[1:-1]\n",
    "print(deque(map(int, string2.split(\",\"))))"
   ]
  },
  {
   "cell_type": "code",
   "execution_count": 192,
   "id": "1304a785-aa08-4eae-a581-15d3df38a322",
   "metadata": {},
   "outputs": [
    {
     "name": "stdout",
     "output_type": "stream",
     "text": [
      "[1,1,2,3,4]"
     ]
    }
   ],
   "source": [
    "print(\"[\", end = \"\")\n",
    "for i in range(len(string)):\n",
    "    if i == len(string) - 1:\n",
    "        print(i, end=\"]\")\n",
    "    else:\n",
    "        print(i, end=\",\")\n"
   ]
  },
  {
   "cell_type": "markdown",
   "id": "b1a9613c-ec74-464c-ac69-35bbc3bf13e6",
   "metadata": {},
   "source": [
    "### 위 코드 결과 : 시간 초과\n",
    "- 검색해보니 뒤집는 과정이 잦으면 시간이 더 증가하는 것 같다\n",
    "1. 어떤 명령 앞까지 R이 홀수 번 나왔으면 `pop`, 짝수 번 나왔으면 `popleft`를 함\n",
    "2. R 값을 끝까지 저장했다가, 총 홀수 번 등장했으면 마지막에 한 번 뒤집어줌\n",
    "3. 원래는 try-except 문으로 구성했는데, except 상황이 다양할 수 있으므로 그냥 일일이 케이스를 넣는 게 낫다\n",
    "4. print는 아래처럼 간단하게 구성할 수 있다."
   ]
  },
  {
   "cell_type": "code",
   "execution_count": 238,
   "id": "81034bfe-a351-410f-8a02-e38194bf12c4",
   "metadata": {},
   "outputs": [
    {
     "name": "stdout",
     "output_type": "stream",
     "text": [
      "[2,1]\n",
      "error\n",
      "[1,2,3,5,8]\n",
      "error\n"
     ]
    }
   ],
   "source": [
    "from collections import deque\n",
    "import sys\n",
    "\n",
    "sys.stdin = open('test.txt', 'r')\n",
    "input = sys.stdin.readline\n",
    "\n",
    "t = int(input())\n",
    "for _ in range(t):\n",
    "\n",
    "    p = input().rstrip()\n",
    "    n = int(input())\n",
    "    flag = 0\n",
    "    if n == 0:\n",
    "        flag = 1\n",
    "        dq = []\n",
    "    else:\n",
    "#         dq = deque(list(map(int, lst.rstrip().lstrip('[').rstrip(']').split(\",\"))))\n",
    "#         dq = deque(map(int, input().rstrip()[1:-1].split(\",\")))\n",
    "        dq = deque(input().rstrip()[1:-1].split(\",\"))\n",
    "    reverse = 0\n",
    "\n",
    "    for order in p:\n",
    "        if order == 'R':\n",
    "            reverse += 1\n",
    "        # 어떤 위치에서 D가 나온 경우를 생각해보자\n",
    "        # 그 앞에서 R이 짝수번 나왔으면 굳이 뒤집을 필요 없음 : popleft\n",
    "        # R이 홀수번 나왔으면 뒤집는 게 아니라 pop을 해주면 됨\n",
    "        elif order == 'D':\n",
    "            if len(dq) < 1:\n",
    "                flag = 1\n",
    "                print(\"error\")\n",
    "                break\n",
    "            else:\n",
    "                if reverse % 2 == 0:\n",
    "                    dq.popleft()\n",
    "                else:\n",
    "                    dq.pop()\n",
    "\n",
    "    # 프린트는 이렇게 뽑을 수 있음\n",
    "    if flag == 0:\n",
    "        if reverse % 2 == 0:\n",
    "            print(\"[\" + \",\".join(dq) + \"]\")\n",
    "        else:\n",
    "            dq.reverse()\n",
    "            print(\"[\" + \",\".join(dq) + \"]\")\n"
   ]
  },
  {
   "cell_type": "code",
   "execution_count": null,
   "id": "098c2fef-8125-4268-8913-1a6f7c2d8f64",
   "metadata": {},
   "outputs": [],
   "source": []
  }
 ],
 "metadata": {
  "kernelspec": {
   "display_name": "Python 3",
   "language": "python",
   "name": "python3"
  },
  "language_info": {
   "codemirror_mode": {
    "name": "ipython",
    "version": 3
   },
   "file_extension": ".py",
   "mimetype": "text/x-python",
   "name": "python",
   "nbconvert_exporter": "python",
   "pygments_lexer": "ipython3",
   "version": "3.8.8"
  }
 },
 "nbformat": 4,
 "nbformat_minor": 5
}
