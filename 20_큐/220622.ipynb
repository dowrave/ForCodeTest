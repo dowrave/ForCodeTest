{
 "cells": [
  {
   "cell_type": "markdown",
   "id": "de4f8a28-a45d-441a-889c-38e05a95b15b",
   "metadata": {},
   "source": [
    "## 11866번 : 요세푸스 문제 0\n",
    "- N명의 사람이 원을 이루며 앉아 있음\n",
    "- 양의 정수 K (<= N)\n",
    "- K번째 사람을 순서대로 제거\n",
    "    - 제거 후 다시 남은 사람들에 대해 진행\n",
    "- 제거되는 순서가 요세푸스 순열임\n",
    "- N, K가 주어졌을 때 N, K 요세푸스 순열을 구하는 프로그램을 작성하시오\n"
   ]
  },
  {
   "cell_type": "code",
   "execution_count": 32,
   "id": "42052e97-ee2d-49ea-8ded-86600324d068",
   "metadata": {},
   "outputs": [
    {
     "name": "stdout",
     "output_type": "stream",
     "text": [
      "< 3, 6, 2, 7, 5, 1, 4 >\n"
     ]
    }
   ],
   "source": [
    "import sys\n",
    "from collections import deque\n",
    "\n",
    "sys.stdin = open('test.txt', 'r')\n",
    "input = sys.stdin.readline\n",
    "\n",
    "N, K = map(int, input().rstrip().split())\n",
    "\n",
    "dq = deque([i for i in range(1, N+1)])\n",
    "ans = []\n",
    "while dq:\n",
    "    for i in range(K-1):\n",
    "        dq.append(dq.popleft())\n",
    "    ans.append(dq.popleft())\n",
    "    \n",
    "print(\"<\", \", \".join(map(str, (ans))), \">\")"
   ]
  },
  {
   "cell_type": "code",
   "execution_count": 16,
   "id": "abf5c14f-c0a2-4425-871b-0d0336db81e3",
   "metadata": {},
   "outputs": [
    {
     "data": {
      "text/plain": [
       "True"
      ]
     },
     "execution_count": 16,
     "metadata": {},
     "output_type": "execute_result"
    }
   ],
   "source": []
  },
  {
   "cell_type": "code",
   "execution_count": null,
   "id": "b7aa7bb1-0c6d-430a-990b-96a06905fa46",
   "metadata": {},
   "outputs": [],
   "source": []
  }
 ],
 "metadata": {
  "kernelspec": {
   "display_name": "Python 3",
   "language": "python",
   "name": "python3"
  },
  "language_info": {
   "codemirror_mode": {
    "name": "ipython",
    "version": 3
   },
   "file_extension": ".py",
   "mimetype": "text/x-python",
   "name": "python",
   "nbconvert_exporter": "python",
   "pygments_lexer": "ipython3",
   "version": "3.8.8"
  }
 },
 "nbformat": 4,
 "nbformat_minor": 5
}
