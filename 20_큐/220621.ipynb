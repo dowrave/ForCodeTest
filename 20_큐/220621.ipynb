{
 "cells": [
  {
   "cell_type": "markdown",
   "id": "f60bac86-7fab-4a56-84ce-0b3dd85ee21b",
   "metadata": {},
   "source": [
    "## 18258 : 큐 2\n",
    "- 시간 초과가 뜨는 이유 : 파이썬의 리스트는 가장 앞의 인덱스값을 빼면 나머지 값들이 앞으로 한칸씩 옮겨야 함\n",
    "    - 그래서 `collections`의 `deque()` 함수와 `popleft()` 함수를 이용한다\n",
    "    - 근데 그럼 deque() 함수나 popleft()함수를 모르면 문제를 풀 수 없다는 얘기가 됨\n",
    "- 그래서 저걸 쓰지 않고 생각해보면\n",
    "- 값이 있는 가장 앞쪽의 인덱스를 저장하는 변수를 하나 설정하면 됨\n",
    "    - 이 변수는 최초엔 -1, 값이 하나 추가되면 0이 되며, 이후에는 pop될 때마다 +1씩 해주면 된다"
   ]
  },
  {
   "cell_type": "code",
   "execution_count": 16,
   "id": "c9f8b4ef-4d47-4312-af45-de18617314cc",
   "metadata": {},
   "outputs": [
    {
     "name": "stdout",
     "output_type": "stream",
     "text": [
      "2\n",
      "2\n",
      "3\n",
      "0\n",
      "2\n",
      "1\n",
      "2\n",
      "0\n",
      "1\n",
      "-1\n",
      "0\n",
      "3\n"
     ]
    }
   ],
   "source": [
    "from sys import stdin\n",
    "input()\n",
    "s, com= [], stdin.readlines()\n",
    "cnt = 0\n",
    "for x in com:\n",
    "    c = x.split()\n",
    "    if c[0] == \"push\":\n",
    "        s.append(c[1])\n",
    "    elif c[0] == 'pop':\n",
    "        if len(s) > cnt:\n",
    "            print(s[cnt])\n",
    "            cnt += 1\n",
    "        else: print(-1)\n",
    "    elif c[0] == 'size':\n",
    "        print(len(s)-cnt)\n",
    "    elif c[0] == 'empty':\n",
    "        if len(s) == cnt :\n",
    "            print(1)\n",
    "            cnt = 0\n",
    "            s = []\n",
    "        else: print(0)\n",
    "    elif c[0] == 'front':\n",
    "        if len(s) > cnt: print(s[cnt])\n",
    "        else: print(-1)\n",
    "    elif c[0] == 'back':\n",
    "        if len(s) > cnt: print(s[-1])\n",
    "        else: print(-1)"
   ]
  },
  {
   "cell_type": "code",
   "execution_count": 4,
   "id": "6daa30b0-4a4e-40e2-a118-762d48fecbd1",
   "metadata": {},
   "outputs": [
    {
     "name": "stdout",
     "output_type": "stream",
     "text": [
      "[2, 3]\n"
     ]
    }
   ],
   "source": [
    "lst = [1, 2, 3]\n",
    "lst.remove(lst[0])\n",
    "print(lst)"
   ]
  },
  {
   "cell_type": "markdown",
   "id": "469c4d48-9b99-4612-924d-4de855a7c8c6",
   "metadata": {},
   "source": [
    "## 2164번 : 카드 2"
   ]
  },
  {
   "cell_type": "code",
   "execution_count": 104,
   "id": "168195a3-1692-4b93-bace-f4e8d43aaf01",
   "metadata": {},
   "outputs": [],
   "source": [
    "import sys\n",
    "sys.stdin = open('test.txt', 'r')\n",
    "input = sys.stdin.readline\n",
    "\n",
    "n = int(input())\n",
    "lst = [i for i in range(1, n+1)]\n",
    "start_idx = 0"
   ]
  },
  {
   "cell_type": "code",
   "execution_count": 105,
   "id": "2b24671f-41b0-43ab-8be6-170c05a5681a",
   "metadata": {},
   "outputs": [],
   "source": [
    "# 또간 초과임\n",
    "\n",
    "# 그래서 인덱스를 이용하는 걸로 바꿈\n",
    "\n",
    "# 이거도 시간 초과임\n",
    "while True:\n",
    "    # 1. 하나는 제거됨\n",
    "    start_idx += 1\n",
    "    if len(lst[start_idx:]) == 1:\n",
    "        break\n",
    "    # 2. 다른 하나는 가장 뒤로 감\n",
    "    lst.append(lst[start_idx])\n",
    "    start_idx += 1\n",
    "    n += 1\n",
    "    \n"
   ]
  },
  {
   "cell_type": "code",
   "execution_count": 106,
   "id": "585ff9bb-72fe-4987-89ab-d986e5ff7fd3",
   "metadata": {},
   "outputs": [
    {
     "name": "stdout",
     "output_type": "stream",
     "text": [
      "4\n"
     ]
    }
   ],
   "source": [
    "print(lst[start_idx])"
   ]
  },
  {
   "cell_type": "code",
   "execution_count": 107,
   "id": "19a12aad-3684-45fa-b71f-7a8bb0d6fdd4",
   "metadata": {},
   "outputs": [
    {
     "ename": "ValueError",
     "evalue": "invalid literal for int() with base 10: ''",
     "output_type": "error",
     "traceback": [
      "\u001b[1;31m---------------------------------------------------------------------------\u001b[0m",
      "\u001b[1;31mValueError\u001b[0m                                Traceback (most recent call last)",
      "\u001b[1;32m<ipython-input-107-a9a8b220742e>\u001b[0m in \u001b[0;36m<module>\u001b[1;34m\u001b[0m\n\u001b[0;32m      1\u001b[0m \u001b[1;32mimport\u001b[0m \u001b[0mcollections\u001b[0m\u001b[1;33m\u001b[0m\u001b[1;33m\u001b[0m\u001b[0m\n\u001b[1;32m----> 2\u001b[1;33m \u001b[0ma\u001b[0m \u001b[1;33m=\u001b[0m \u001b[0mint\u001b[0m\u001b[1;33m(\u001b[0m\u001b[0minput\u001b[0m\u001b[1;33m(\u001b[0m\u001b[1;33m)\u001b[0m\u001b[1;33m)\u001b[0m\u001b[1;33m\u001b[0m\u001b[1;33m\u001b[0m\u001b[0m\n\u001b[0m\u001b[0;32m      3\u001b[0m \u001b[0mn\u001b[0m \u001b[1;33m=\u001b[0m \u001b[0mcollections\u001b[0m\u001b[1;33m.\u001b[0m\u001b[0mdeque\u001b[0m\u001b[1;33m(\u001b[0m\u001b[1;33m[\u001b[0m\u001b[0mi\u001b[0m \u001b[1;32mfor\u001b[0m \u001b[0mi\u001b[0m \u001b[1;32min\u001b[0m \u001b[0mrange\u001b[0m\u001b[1;33m(\u001b[0m\u001b[1;36m1\u001b[0m\u001b[1;33m,\u001b[0m \u001b[0ma\u001b[0m\u001b[1;33m+\u001b[0m\u001b[1;36m1\u001b[0m\u001b[1;33m)\u001b[0m\u001b[1;33m]\u001b[0m\u001b[1;33m)\u001b[0m\u001b[1;33m\u001b[0m\u001b[1;33m\u001b[0m\u001b[0m\n\u001b[0;32m      4\u001b[0m \u001b[1;33m\u001b[0m\u001b[0m\n\u001b[0;32m      5\u001b[0m \u001b[1;32mwhile\u001b[0m \u001b[0mlen\u001b[0m\u001b[1;33m(\u001b[0m\u001b[0mn\u001b[0m\u001b[1;33m)\u001b[0m \u001b[1;33m>\u001b[0m \u001b[1;36m1\u001b[0m\u001b[1;33m:\u001b[0m\u001b[1;33m\u001b[0m\u001b[1;33m\u001b[0m\u001b[0m\n",
      "\u001b[1;31mValueError\u001b[0m: invalid literal for int() with base 10: ''"
     ]
    }
   ],
   "source": [
    "import collections\n",
    "a = int(input())\n",
    "n = collections.deque([i for i in range(1, a+1)])\n",
    "\n",
    "while len(n) > 1:\n",
    "    n.popleft()  # 왼쪽 요소를 제거해라\n",
    "    n.rotate(-1) # 왼쪽으로 한바퀴 돌려라\n",
    "\n",
    "print(n[0])\n",
    "\n",
    "# 근데 import해서 풀 수 있습니다 하면 코테가 왜 필요하겠음ㅋㅋ 직접 구현해봐야 함\n"
   ]
  },
  {
   "cell_type": "code",
   "execution_count": null,
   "id": "58d79221-0417-4bff-a0e0-63e86ca370c2",
   "metadata": {},
   "outputs": [],
   "source": []
  }
 ],
 "metadata": {
  "kernelspec": {
   "display_name": "Python 3",
   "language": "python",
   "name": "python3"
  },
  "language_info": {
   "codemirror_mode": {
    "name": "ipython",
    "version": 3
   },
   "file_extension": ".py",
   "mimetype": "text/x-python",
   "name": "python",
   "nbconvert_exporter": "python",
   "pygments_lexer": "ipython3",
   "version": "3.8.8"
  }
 },
 "nbformat": 4,
 "nbformat_minor": 5
}
