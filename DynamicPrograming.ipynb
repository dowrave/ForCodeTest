{
  "nbformat": 4,
  "nbformat_minor": 0,
  "metadata": {
    "colab": {
      "name": "DynamicPrograming.ipynb",
      "private_outputs": true,
      "provenance": [],
      "authorship_tag": "ABX9TyNpWmGvMd2KOnsLSzDK1SOn",
      "include_colab_link": true
    },
    "kernelspec": {
      "name": "python3",
      "display_name": "Python 3"
    },
    "language_info": {
      "name": "python"
    }
  },
  "cells": [
    {
      "cell_type": "markdown",
      "metadata": {
        "id": "view-in-github",
        "colab_type": "text"
      },
      "source": [
        "<a href=\"https://colab.research.google.com/github/dowrave/ForCodeTest/blob/main/DynamicPrograming.ipynb\" target=\"_parent\"><img src=\"https://colab.research.google.com/assets/colab-badge.svg\" alt=\"Open In Colab\"/></a>"
      ]
    },
    {
      "cell_type": "markdown",
      "source": [
        "## 1. Memoization\n",
        "- 재귀 호출을 하면 `Recursion Error`가 발생하는 경우가 잦음\n",
        "- 더 작은 인자에서 나온 값은 `Array` 나 `Dict` 등을 활용해 저장해둔 뒤, 필요하다면 바로 사용하는 방식으로 이용할 수 있음\n",
        "- 여기서 핵심은 값을 따로 저장해두는 점에 있다는 것이고\n",
        "  - 필요하다면 재귀함수나 반복문을 사용해서 구현할 수 있음"
      ],
      "metadata": {
        "id": "u9ADhWy0hepm"
      }
    },
    {
      "cell_type": "code",
      "execution_count": null,
      "metadata": {
        "id": "ndbr6JU1hbqm"
      },
      "outputs": [],
      "source": [
        "# 재귀\n",
        "def Recursive_Fibonacci(N):\n",
        "    global count1\n",
        "    \n",
        "    if N == 1 or N == 2:\n",
        "        count1 += 1\n",
        "        return 1\n",
        "    else:\n",
        "        Recursive_Fibonacci(N-1) + Recursive_Fibonacci(N-2)\n",
        "        return count1\n",
        "\n",
        "# 동적 프로그래밍\n",
        "def Dynamic_Fibonacci(N):\n",
        "    global count2\n",
        "\n",
        "    # 어떤 Array를 만드는게 포인트\n",
        "    lst = [0] * (N + 1)\n",
        "\n",
        "    lst[1] = 1\n",
        "    lst[2] = 1\n",
        "    \n",
        "    for i in range(3, N + 1):\n",
        "        lst[i] = lst[i-1] + lst[i-2] #\n",
        "        count2 += 1\n",
        "    return count2"
      ]
    },
    {
      "cell_type": "markdown",
      "source": [
        "## 2. 모든 경우를 따지는 문제들\n",
        "- 일단 풀이 방식은 대부분 이 원리임\n",
        "- `작은 문제들을 해결해서 큰 문제를 해결한다.`\n",
        "- 주로 최댓값, 최솟값을 찾으라는 문제가 나옴\n",
        "- 그 조건식을 잘 세우는게 포인트임. 이전 인덱스와 이번 인덱스를 어떻게 섞어야 최솟값/최댓값이 나올까?에 대한 얘기들.\n",
        "- 가지고 있는 리스트를 갱신해나가는 방식도 있지만\n",
        "- 추가로 누적합 리스트를 따로 만들어야 하는 케이스들도 있음"
      ],
      "metadata": {
        "id": "mU82uKUpiUuq"
      }
    },
    {
      "cell_type": "markdown",
      "source": [
        "## 3. 가장 긴 증가하는 수열(LIS) 만들기\n",
        "- 좁밥이네? 했는데 내가 좁밥이었던 케이스\n",
        "- `1,2,8,4,8` 이 있다면 가장 긴 증가하는 수열은 `1,2,4,8`이다. 이걸 어떻게 찾지?\n",
        "```\n",
        "길이 리스트를 따로 준비함. 모두 길이 = 1로 초기화\n",
        "각 인덱스에 대해 반복문을 돌린다\n",
        "각 인덱스는 이전 인덱스들에 대해 반복문을 돌린다\n",
        "만약 어떤 조건을 만족한다면\n",
        "이번 인덱스의 값은 `이전 인덱스 + 1` or `이번 인덱스` 중 큰 값이다.\n",
        "```\n",
        "- 5번째 줄에 대한 설명\n",
        "  ```\n",
        "  1 2 8 4 8 \n",
        "  예를 들어 3번째 인덱스인 4를 보자\n",
        "  이 때 이전 애들의 길이 리스트는 각각 1 2 3일 것임\n",
        "  (조건문을 만족한다는 의미는 그 수 뒤에 내가 올 수 있다는 뜻임\n",
        "  그래서 이전 인덱스의 길이 값 + 1이라고 할 수 있는 것)\n",
        "  4는 1보다 기니까 조건문을 만족하며, 2 vs 1 이므로 값은 2가 됨\n",
        "  4는 2보다도 기니까 조건문 만족, 2+1 vs 2 이므로 값은 3이 됨\n",
        "  근데 8보단 작음 : 조건 만족 못함\n",
        "  그 뒤에 있는 8은 최종적으로\n",
        "  2 vs 1 / 3 vs 2 / x / 4 vs 3 -> 4가 되는 것\n",
        "  ```\n",
        "- 이렇게 가장 긴 수열을 찾을 수 있어? 가 직관적이지가 않은 건데, 잘 작동하므로 안심하고 쓰자.\n",
        "- 이게 좋은 이유가 뭐냐면 이전 경우의 수들을 다 짚으면서 넘어간다는 거다\n",
        "- 올라갔다 내려갔다 하는 바이토닉 수열이라는 문제도 있는데, 리스트의 순서만 반대로 한 뒤 똑같은 알고리즘을 적용하고, 두 개의 길잇값을 더한뒤 1을 빼면 됨"
      ],
      "metadata": {
        "id": "2Z-nd6GBj2TW"
      }
    },
    {
      "cell_type": "code",
      "source": [
        "N = 6\n",
        "lst = [1, 2, 4, 8, 4, 8]\n",
        "\n",
        "length_lst = [1] * N\n",
        "\n",
        "for i in range(N):\n",
        "    for j in range(i):\n",
        "        if lst[j] < lst[i]:\n",
        "            length_lst[i] = max(length_lst[j] + 1, length_lst[i])\n",
        "            \n",
        "print(max(length_lst))"
      ],
      "metadata": {
        "id": "7xQO3EHEiFlY"
      },
      "execution_count": null,
      "outputs": []
    },
    {
      "cell_type": "markdown",
      "source": [
        "### 4. LCS\n",
        "- 두 개의 문자열을 줬을 때 가장 긴 공통된 문자열을 구하라는 문제임\n",
        "- 단 문자 순서는 유지해야 함\n",
        "- 푸는 방법은 이렇다\n",
        "```\n",
        "2차원 행렬을 만듦. 각 행과 열은 문자열을 구성하는 문자로 되어 있음\n",
        "각 문자열에 대해 이중 for문을 돌림 \n",
        "  - 2차원 행렬의 값은 기본적으로 0임\n",
        "  - 겹치는 문자가 늘어날 때마다 +1됨.\n",
        "    - 근데 이후 변동이 없다면 이전 인덱스(i-1 or j-1) 중 큰 값을 그대로 가져옴\n",
        "```"
      ],
      "metadata": {
        "id": "HJMgzFjDl_tM"
      }
    },
    {
      "cell_type": "code",
      "source": [
        "import sys\n",
        "\n",
        "input = sys.stdin.readline\n",
        "lst = []\n",
        "for i in range(2):\n",
        "    lst.append(input().rstrip())\n",
        "\n",
        "X = lst[0]\n",
        "Y = lst[1]\n",
        "\n",
        "lenX = len(X)\n",
        "lenY = len(Y) \n",
        "\n",
        "# 별도의 [0] 공간을 만들기 위해 +1 해줌 \n",
        "matrix = [[0] * (lenY + 1) for _ in range(lenX + 1)]\n",
        "for i in range(1, lenX + 1):\n",
        "    for j in range(1, lenY + 1):\n",
        "        if X[i - 1] == Y[j - 1]:\n",
        "            matrix[i][j] = matrix[i-1][j-1] + 1\n",
        "        else:\n",
        "            matrix[i][j] = max(matrix[i-1][j], matrix[i][j-1])\n",
        "    \n",
        "print(matrix[-1][-1])"
      ],
      "metadata": {
        "id": "1kDKRaJokZH2"
      },
      "execution_count": null,
      "outputs": []
    },
    {
      "cell_type": "code",
      "source": [
        ""
      ],
      "metadata": {
        "id": "iS1CbDEzm5iP"
      },
      "execution_count": null,
      "outputs": []
    },
    {
      "cell_type": "markdown",
      "source": [
        "## 5. 냅색 알고리즘\n",
        "- 물건의 무게와 가치, 최대 무게가 있을 때 가치를 최대화하는 방법을 구하는 알고리즘\n",
        "```\n",
        "2차원 리스트를 만듦 : 세로로 내려가는 줄은 무게, 가로로 내려가는 줄은 물건 인덱스. [가로][세로]의 값은 [총 가치]임.\n",
        "각 물건 인덱스[i]에 대해 반복문을 돌림 : 물건을 넣었을 때 총 무게[j]가 가방의 총 무게보다 작다면\n",
        "...................\n",
        "(둘 다 들어감)\n",
        "행렬[i][0] = 0 (물건을 넣지 않음)\n",
        "max(행렬[i - 1][j - 이전 무게] + (저 인덱스의 가치), 행렬[i-1][j])\n",
        "...................\n",
        "행렬[i-1][j]는 물건을 넣을 수 있음에도 넣지 않는 케이스임\n",
        "```\n"
      ],
      "metadata": {
        "id": "KUffI5yfm5ud"
      }
    },
    {
      "cell_type": "code",
      "source": [
        ""
      ],
      "metadata": {
        "id": "q_OsGzX8nAAj"
      },
      "execution_count": null,
      "outputs": []
    }
  ]
}